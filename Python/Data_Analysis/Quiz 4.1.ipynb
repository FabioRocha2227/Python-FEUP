{
 "cells": [
  {
   "cell_type": "code",
   "execution_count": 43,
   "id": "12f9820f",
   "metadata": {},
   "outputs": [],
   "source": [
    "import pandas as pd"
   ]
  },
  {
   "cell_type": "markdown",
   "id": "f53612cb",
   "metadata": {},
   "source": [
    "Group by 'class' and print the minimum, maximum and mean of the age.\n"
   ]
  },
  {
   "cell_type": "code",
   "execution_count": 44,
   "id": "dbe20db7",
   "metadata": {},
   "outputs": [],
   "source": [
    "df = pd.read_csv('quizPD06_09/gym2_q1.csv', sep = \";\", index_col = 'id', parse_dates = ['date'])\n"
   ]
  },
  {
   "cell_type": "code",
   "execution_count": 45,
   "id": "f79e539b",
   "metadata": {},
   "outputs": [],
   "source": [
    "def solve():\n",
    "    grouped_date = df.groupby('class')['age'].agg(['min','max','mean']).round(2)\n",
    "    print(grouped_date)\n",
    "    \n",
    "    "
   ]
  },
  {
   "cell_type": "code",
   "execution_count": 46,
   "id": "aacf5c85",
   "metadata": {
    "scrolled": true
   },
   "outputs": [
    {
     "name": "stdout",
     "output_type": "stream",
     "text": [
      "                 min  max   mean\n",
      "class                           \n",
      "ballet            38   57  45.00\n",
      "cycle             26   59  40.20\n",
      "hydrogymnastics   37   47  41.83\n",
      "pilates           24   49  35.73\n",
      "swimming          23   59  39.10\n",
      "yoga              44   55  51.00\n",
      "zumba             29   54  41.67\n"
     ]
    }
   ],
   "source": [
    "solve()"
   ]
  },
  {
   "cell_type": "markdown",
   "id": "971d0386",
   "metadata": {},
   "source": [
    "Create a table with the number of customers by city and sex and by rank classification\n"
   ]
  },
  {
   "cell_type": "code",
   "execution_count": 47,
   "id": "2c3cc2ee",
   "metadata": {},
   "outputs": [],
   "source": [
    "def solve():\n",
    "    customer_table = pd.pivot_table(df, index=['city', 'sex'], columns='rank', values='name', aggfunc='count', fill_value=None)\n",
    "    print(customer_table)"
   ]
  },
  {
   "cell_type": "code",
   "execution_count": 48,
   "id": "297a0c1f",
   "metadata": {
    "scrolled": true
   },
   "outputs": [
    {
     "name": "stdout",
     "output_type": "stream",
     "text": [
      "rank            excellent  fair  good  very_good\n",
      "city       sex                                  \n",
      "Gaia       F          NaN   1.0   NaN        1.0\n",
      "           M          1.0   3.0   3.0        1.0\n",
      "Gondomar   F          1.0   1.0   NaN        NaN\n",
      "           M          2.0   NaN   2.0        1.0\n",
      "Maia       F          2.0   NaN   1.0        3.0\n",
      "           M          NaN   NaN   2.0        NaN\n",
      "Matosinhos F          1.0   2.0   4.0        NaN\n",
      "           M          NaN   1.0   NaN        2.0\n",
      "Porto      F          1.0   1.0   7.0        1.0\n",
      "           M          4.0   4.0   1.0        1.0\n",
      "Valongo    F          2.0   NaN   1.0        NaN\n",
      "           M          1.0   NaN   1.0        NaN\n"
     ]
    }
   ],
   "source": [
    "solve()"
   ]
  },
  {
   "cell_type": "markdown",
   "id": "35cb7056",
   "metadata": {},
   "source": [
    "Count the number of participants by class and gender.\n"
   ]
  },
  {
   "cell_type": "code",
   "execution_count": 49,
   "id": "1e4705d2",
   "metadata": {},
   "outputs": [],
   "source": [
    "def solve():\n",
    "    participant_counts = df.groupby(['class', 'sex']).size()\n",
    "    print(participant_counts)\n",
    "    "
   ]
  },
  {
   "cell_type": "code",
   "execution_count": 50,
   "id": "8dfff274",
   "metadata": {
    "scrolled": false
   },
   "outputs": [
    {
     "name": "stdout",
     "output_type": "stream",
     "text": [
      "class            sex\n",
      "ballet           F       1\n",
      "                 M       2\n",
      "cycle            F       8\n",
      "                 M       2\n",
      "hydrogymnastics  F       5\n",
      "                 M       1\n",
      "pilates          F       4\n",
      "                 M       7\n",
      "swimming         F       9\n",
      "                 M      12\n",
      "yoga             F       1\n",
      "                 M       2\n",
      "zumba            F       2\n",
      "                 M       4\n",
      "dtype: int64\n"
     ]
    }
   ],
   "source": [
    "solve()"
   ]
  },
  {
   "cell_type": "markdown",
   "id": "b5ddd4f9",
   "metadata": {},
   "source": [
    "Given the dataframe df and using the Pandas library create a function 'solve(df, filename)' that should return a new dataframe created by joining to df the columns from the dataframe stored in the file 'filename'. The dataframe in the file has \";\" as delimiter and the column \"id\" should be defined as the index of the dataframe. Only the rows with common \"id\" in both dataframes shoud be considered."
   ]
  },
  {
   "cell_type": "code",
   "execution_count": 51,
   "id": "db767901",
   "metadata": {},
   "outputs": [],
   "source": [
    "def solve(df,filename):\n",
    "    additional_df = pd.read_csv(filename, delimiter=';', index_col='id')\n",
    "    \n",
    "    result_df = df.join(additional_df, how='inner', rsuffix='_additional')\n",
    "    \n",
    "    return result_df\n",
    "\n",
    "    "
   ]
  },
  {
   "cell_type": "code",
   "execution_count": 52,
   "id": "eb1ba551",
   "metadata": {},
   "outputs": [
    {
     "name": "stdout",
     "output_type": "stream",
     "text": [
      "(60, 11)\n",
      "                   name        date  height  weight  age  hours   status  \\\n",
      "id                                                                         \n",
      "1373913  Marisa Martins  02/05/2013     155      48   45      3  married   \n",
      "1109818    Rita Fonseca  28/08/2018     166      54   45      3  married   \n",
      "1158813   Joana Freitas  21/10/2013     150      42   52      3    widow   \n",
      "\n",
      "         children sex            class        city  \n",
      "id                                                  \n",
      "1373913         2   F            cycle       Porto  \n",
      "1109818         3   F  hydrogymnastics  Matosinhos  \n",
      "1158813         1   F            zumba       Porto  \n"
     ]
    }
   ],
   "source": [
    "df = pd.read_csv('quizPD06_09/gym_q1.csv', sep = \";\", index_col = 'id', parse_dates = ['date'])\n",
    "\n",
    "filename = 'quizPD06_09/gym_cols_q1.csv'\n",
    "df = solve(df, filename)\n",
    "print(df.shape)\n",
    "print(df.head(3))"
   ]
  }
 ],
 "metadata": {
  "kernelspec": {
   "display_name": "Python 3 (ipykernel)",
   "language": "python",
   "name": "python3"
  },
  "language_info": {
   "codemirror_mode": {
    "name": "ipython",
    "version": 3
   },
   "file_extension": ".py",
   "mimetype": "text/x-python",
   "name": "python",
   "nbconvert_exporter": "python",
   "pygments_lexer": "ipython3",
   "version": "3.11.5"
  }
 },
 "nbformat": 4,
 "nbformat_minor": 5
}
