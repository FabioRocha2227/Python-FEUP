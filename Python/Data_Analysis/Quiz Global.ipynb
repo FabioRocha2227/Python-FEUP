{
 "cells": [
  {
   "cell_type": "code",
   "execution_count": 1,
   "id": "ee5f89de",
   "metadata": {},
   "outputs": [],
   "source": [
    "import pandas as pd\n",
    "df = pd.read_csv('supermarket1.csv', sep=';')"
   ]
  },
  {
   "cell_type": "markdown",
   "id": "b09368db",
   "metadata": {},
   "source": [
    "## Calculate a summary statistics of the column 'Total'. (rounded to two decimal places)\n"
   ]
  },
  {
   "cell_type": "code",
   "execution_count": 277,
   "id": "251ca6d7",
   "metadata": {},
   "outputs": [],
   "source": [
    "def solve():\n",
    "    total_summary = df['Total'].describe().round(2)\n",
    "    print(total_summary)"
   ]
  },
  {
   "cell_type": "code",
   "execution_count": 278,
   "id": "62296e7b",
   "metadata": {
    "scrolled": true
   },
   "outputs": [
    {
     "name": "stdout",
     "output_type": "stream",
     "text": [
      "count    1000.00\n",
      "mean      322.97\n",
      "std       245.89\n",
      "min        10.68\n",
      "25%       124.42\n",
      "50%       253.85\n",
      "75%       471.35\n",
      "max      1042.65\n",
      "Name: Total, dtype: float64\n"
     ]
    }
   ],
   "source": [
    "solve()"
   ]
  },
  {
   "cell_type": "markdown",
   "id": "a24d38b4",
   "metadata": {},
   "source": [
    "## Calculate the number of lines by 'Product line'.\n"
   ]
  },
  {
   "cell_type": "code",
   "execution_count": 279,
   "id": "64f2190e",
   "metadata": {},
   "outputs": [],
   "source": [
    "def solve():\n",
    "    lines_by_product = df['Product line'].value_counts()\n",
    "    print(lines_by_product)"
   ]
  },
  {
   "cell_type": "code",
   "execution_count": 280,
   "id": "24a14969",
   "metadata": {
    "scrolled": true
   },
   "outputs": [
    {
     "name": "stdout",
     "output_type": "stream",
     "text": [
      "Product line\n",
      "Fashion accessories       178\n",
      "Food and beverages        174\n",
      "Electronic accessories    170\n",
      "Sports and travel         166\n",
      "Home and lifestyle        160\n",
      "Health and beauty         152\n",
      "Name: count, dtype: int64\n"
     ]
    }
   ],
   "source": [
    "solve()"
   ]
  },
  {
   "cell_type": "markdown",
   "id": "9beecbd2",
   "metadata": {},
   "source": [
    "## Calculate the percentage of Female and Male customers.\n"
   ]
  },
  {
   "cell_type": "code",
   "execution_count": 281,
   "id": "4e7499de",
   "metadata": {},
   "outputs": [],
   "source": [
    "def solve():\n",
    "    gender_count = df['Gender'].value_counts()\n",
    "    \n",
    "    n = len(df)\n",
    "    \n",
    "    percentage_f = (gender_count['Female'] / n)*100\n",
    "    percentage_m = (gender_count['Male'] / n)*100\n",
    "    \n",
    "    result_df = pd.DataFrame({\n",
    "        'Gender': ['Female', 'Male'],\n",
    "        'Percentage': [round(percentage_f, 1), round(percentage_m, 1)]\n",
    "    })\n",
    "    \n",
    "    result_df.set_index('Gender', inplace=True)\n",
    "\n",
    "    print(result_df)"
   ]
  },
  {
   "cell_type": "code",
   "execution_count": 282,
   "id": "c0e2e9d3",
   "metadata": {},
   "outputs": [
    {
     "name": "stdout",
     "output_type": "stream",
     "text": [
      "        Percentage\n",
      "Gender            \n",
      "Female        50.1\n",
      "Male          49.9\n"
     ]
    }
   ],
   "source": [
    "solve()"
   ]
  },
  {
   "cell_type": "markdown",
   "id": "6d91a97a",
   "metadata": {},
   "source": [
    "## Calculate the mean of the Invoice 'Total' for Female customers. (rounded to one decimal place)\n"
   ]
  },
  {
   "cell_type": "code",
   "execution_count": 283,
   "id": "7de8fffc",
   "metadata": {},
   "outputs": [],
   "source": [
    "def solve():\n",
    "    mean_total_female = df[df['Gender'] == 'Female']['Total'].mean().round(1)\n",
    "    print(mean_total_female)"
   ]
  },
  {
   "cell_type": "code",
   "execution_count": 284,
   "id": "645c6f4f",
   "metadata": {},
   "outputs": [
    {
     "name": "stdout",
     "output_type": "stream",
     "text": [
      "335.1\n"
     ]
    }
   ],
   "source": [
    "solve()"
   ]
  },
  {
   "cell_type": "markdown",
   "id": "a5507a73",
   "metadata": {},
   "source": [
    "## Delete the column 'Customer type'.\n"
   ]
  },
  {
   "cell_type": "code",
   "execution_count": 285,
   "id": "3e48a046",
   "metadata": {},
   "outputs": [],
   "source": [
    "def solve():\n",
    "    df.drop('Customer type', axis=1, inplace=True)"
   ]
  },
  {
   "cell_type": "code",
   "execution_count": 286,
   "id": "abdb69a5",
   "metadata": {},
   "outputs": [
    {
     "name": "stdout",
     "output_type": "stream",
     "text": [
      "    Invoice ID       City\n",
      "0  750-67-8428     Yangon\n",
      "1  226-31-3081  Naypyitaw\n",
      "2  631-41-3108     Yangon\n"
     ]
    }
   ],
   "source": [
    "solve()\n",
    "print(df.loc[:,'Invoice ID':'City'].head(3))"
   ]
  },
  {
   "cell_type": "markdown",
   "id": "e7050265",
   "metadata": {},
   "source": [
    "## Calculate the number of Invoices in each of the following 'Total' classes:\n",
    "[0, 220[ - low\n",
    "[220, 440[ - fair\n",
    "[440, 660[ - good\n",
    "[660, 880[ - very_good\n",
    "[880, 1100[ - excellent"
   ]
  },
  {
   "cell_type": "code",
   "execution_count": 287,
   "id": "e24a1ded",
   "metadata": {},
   "outputs": [],
   "source": [
    "def solve():\n",
    "    tot_classes = [0,220,440,660,880,1100]\n",
    "    \n",
    "    df['Total'] = pd.cut(df['Total'], bins=tot_classes, labels=['low', 'fair', 'good', 'very_good', 'excellent'], right=False)\n",
    "    class_cnt =df['Total'].value_counts()\n",
    "    \n",
    "    print(class_cnt)"
   ]
  },
  {
   "cell_type": "code",
   "execution_count": 288,
   "id": "365e7aa8",
   "metadata": {},
   "outputs": [
    {
     "name": "stdout",
     "output_type": "stream",
     "text": [
      "Total\n",
      "low          454\n",
      "fair         264\n",
      "good         156\n",
      "very_good     96\n",
      "excellent     30\n",
      "Name: count, dtype: int64\n"
     ]
    }
   ],
   "source": [
    "solve()"
   ]
  },
  {
   "cell_type": "markdown",
   "id": "e7220431",
   "metadata": {},
   "source": [
    "## Calculate the invoices 'Total' by 'City' and type of 'Payment'. (rounded to two decimal places)\n"
   ]
  },
  {
   "cell_type": "code",
   "execution_count": 289,
   "id": "77d21575",
   "metadata": {},
   "outputs": [],
   "source": [
    "df = pd.read_csv('supermarket1.csv', sep=';')"
   ]
  },
  {
   "cell_type": "code",
   "execution_count": 290,
   "id": "202038b7",
   "metadata": {},
   "outputs": [],
   "source": [
    "def solve():\n",
    "\n",
    "    total_by_city_payment = pd.pivot_table(df, values='Total', index='City', columns='Payment', aggfunc='sum').round(2)\n",
    "    \n",
    "    print(total_by_city_payment)"
   ]
  },
  {
   "cell_type": "code",
   "execution_count": 291,
   "id": "c23a3428",
   "metadata": {},
   "outputs": [
    {
     "name": "stdout",
     "output_type": "stream",
     "text": [
      "Payment        Cash  Credit card   Ewallet\n",
      "City                                      \n",
      "Mandalay   35339.46     37344.86  33513.35\n",
      "Naypyitaw  43085.86     30327.46  37155.38\n",
      "Yangon     33781.25     33094.75  39324.37\n"
     ]
    }
   ],
   "source": [
    "solve()"
   ]
  },
  {
   "cell_type": "markdown",
   "id": "2a1a9d08",
   "metadata": {},
   "source": [
    "## Insert a column named 'QxPrice' before column 'Tax 5%' equal to the column 'Unit Price' times the column 'Quantity'.\n"
   ]
  },
  {
   "cell_type": "code",
   "execution_count": 292,
   "id": "fd45ba8f",
   "metadata": {},
   "outputs": [],
   "source": [
    "df = pd.read_csv('supermarket1.csv', sep=';')"
   ]
  },
  {
   "cell_type": "code",
   "execution_count": 293,
   "id": "44193ef5",
   "metadata": {},
   "outputs": [],
   "source": [
    "def solve():\n",
    "    df['QxPrice'] = df['Unit price'] * df['Quantity']\n",
    "    \n",
    "    tax_5 = df.columns.get_loc('Tax 5%')\n",
    "    \n",
    "    df.insert(tax_5,'QxPrice',df.pop('QxPrice'))"
   ]
  },
  {
   "cell_type": "code",
   "execution_count": 294,
   "id": "f635da86",
   "metadata": {},
   "outputs": [
    {
     "name": "stdout",
     "output_type": "stream",
     "text": [
      "   Unit price  Quantity  QxPrice   Tax 5%     Total\n",
      "0       74.69         7   522.83  26.1415  548.9715\n",
      "1       15.28         5    76.40   3.8200   80.2200\n",
      "2       46.33         7   324.31  16.2155  340.5255\n"
     ]
    }
   ],
   "source": [
    "solve()\n",
    "print(df.loc[0:2,'Unit price':'Total'])"
   ]
  },
  {
   "cell_type": "markdown",
   "id": "43539f45",
   "metadata": {},
   "source": [
    "## Print the columns 'customer type' to 'Unit price' of the rows where the 'Customer type' is 'Member' and the 'Gender' is 'Male' and the 'Unit price' is greater than 99 or the 'Customer type' is 'Normal' and the 'Gender' is 'Female' and the 'Unit price' is greater than 99"
   ]
  },
  {
   "cell_type": "code",
   "execution_count": 295,
   "id": "f5f751fd",
   "metadata": {},
   "outputs": [],
   "source": [
    "df = pd.read_csv('supermarket1.csv', sep=';')"
   ]
  },
  {
   "cell_type": "code",
   "execution_count": 296,
   "id": "d147fe2f",
   "metadata": {},
   "outputs": [],
   "source": [
    "def solve():\n",
    "    condition_member_male = (df['Customer type'] == 'Member') & (df['Gender'] == 'Male') & (df['Unit price'] > 99)\n",
    "    condition_normal_female = (df['Customer type'] == 'Normal') & (df['Gender'] == 'Female') & (df['Unit price'] > 99)\n",
    "    \n",
    "    final = condition_member_male | condition_normal_female\n",
    "    \n",
    "    selected_columns = df.loc[final, 'Customer type':'Unit price']\n",
    "    \n",
    "    print(selected_columns)\n",
    "    "
   ]
  },
  {
   "cell_type": "code",
   "execution_count": 297,
   "id": "7efce0e9",
   "metadata": {},
   "outputs": [
    {
     "name": "stdout",
     "output_type": "stream",
     "text": [
      "    Customer type  Gender            Product line  Unit price\n",
      "80         Normal  Female       Health and beauty       99.19\n",
      "120        Normal  Female  Electronic accessories       99.56\n",
      "122        Member    Male       Sports and travel       99.96\n",
      "209        Normal  Female  Electronic accessories       99.73\n",
      "274        Normal  Female       Health and beauty       99.71\n",
      "283        Member    Male       Health and beauty       99.83\n",
      "315        Member    Male      Food and beverages       99.37\n",
      "326        Member    Male      Food and beverages       99.78\n",
      "382        Normal  Female      Food and beverages       99.69\n",
      "656        Normal  Female  Electronic accessories       99.69\n",
      "849        Normal  Female     Fashion accessories       99.10\n",
      "941        Member    Male     Fashion accessories       99.82\n"
     ]
    }
   ],
   "source": [
    "solve()"
   ]
  },
  {
   "cell_type": "markdown",
   "id": "3ec4455b",
   "metadata": {},
   "source": [
    "## Replace the space in column names with an underscore.\n"
   ]
  },
  {
   "cell_type": "code",
   "execution_count": 298,
   "id": "4779112c",
   "metadata": {},
   "outputs": [],
   "source": [
    "df = pd.read_csv('supermarket1.csv', sep=';')"
   ]
  },
  {
   "cell_type": "code",
   "execution_count": 299,
   "id": "2b11046c",
   "metadata": {},
   "outputs": [],
   "source": [
    "def solve():\n",
    "    df.columns = df.columns.str.replace(' ', '_')"
   ]
  },
  {
   "cell_type": "code",
   "execution_count": 300,
   "id": "cc7a6f32",
   "metadata": {},
   "outputs": [
    {
     "name": "stdout",
     "output_type": "stream",
     "text": [
      "    Invoice_ID Customer_type            Product_line  Unit_price   Tax_5%\n",
      "0  750-67-8428        Member       Health and beauty       74.69  26.1415\n",
      "1  226-31-3081        Normal  Electronic accessories       15.28   3.8200\n",
      "2  631-41-3108        Normal      Home and lifestyle       46.33  16.2155\n"
     ]
    }
   ],
   "source": [
    "solve()\n",
    "print(df.loc[:,['Invoice_ID','Customer_type','Product_line','Unit_price','Tax_5%']].head(3))"
   ]
  },
  {
   "cell_type": "markdown",
   "id": "ce42396a",
   "metadata": {},
   "source": [
    "## Print the values from columns 'Invoice ID' and 'Total' from row 0 and 2.\n"
   ]
  },
  {
   "cell_type": "code",
   "execution_count": 301,
   "id": "ad22dc3b",
   "metadata": {},
   "outputs": [],
   "source": [
    "df = pd.read_csv('supermarket1.csv', sep=';')"
   ]
  },
  {
   "cell_type": "code",
   "execution_count": 302,
   "id": "3efce3db",
   "metadata": {},
   "outputs": [],
   "source": [
    "def solve():\n",
    "    select_values = df.loc[[0,2],['Invoice ID', 'Total']]\n",
    "    print(select_values)"
   ]
  },
  {
   "cell_type": "code",
   "execution_count": 303,
   "id": "32d4ceef",
   "metadata": {},
   "outputs": [
    {
     "name": "stdout",
     "output_type": "stream",
     "text": [
      "    Invoice ID     Total\n",
      "0  750-67-8428  548.9715\n",
      "2  631-41-3108  340.5255\n"
     ]
    }
   ],
   "source": [
    "solve()"
   ]
  },
  {
   "cell_type": "markdown",
   "id": "d5825a38",
   "metadata": {},
   "source": [
    "## Create a table with the number of invoices by 'City' and 'Customer type' with totals by row and by column.\n"
   ]
  },
  {
   "cell_type": "code",
   "execution_count": 304,
   "id": "36dd9d11",
   "metadata": {},
   "outputs": [],
   "source": [
    "df = pd.read_csv('supermarket1.csv', sep=';')"
   ]
  },
  {
   "cell_type": "code",
   "execution_count": 305,
   "id": "a67e478e",
   "metadata": {},
   "outputs": [],
   "source": [
    "def solve():\n",
    "    invoices_table =  pd.pivot_table(df, values = 'Invoice ID', index = ['City'],columns = ['Customer type'],aggfunc='count', fill_value=0,margins=True, margins_name='All')\n",
    "    \n",
    "    print(invoices_table)"
   ]
  },
  {
   "cell_type": "code",
   "execution_count": 306,
   "id": "75ef98ee",
   "metadata": {
    "scrolled": true
   },
   "outputs": [
    {
     "name": "stdout",
     "output_type": "stream",
     "text": [
      "Customer type  Member  Normal   All\n",
      "City                               \n",
      "Mandalay          165     167   332\n",
      "Naypyitaw         169     159   328\n",
      "Yangon            167     173   340\n",
      "All               501     499  1000\n"
     ]
    }
   ],
   "source": [
    "solve()"
   ]
  },
  {
   "cell_type": "markdown",
   "id": "631563ef",
   "metadata": {},
   "source": [
    "## Calculate the total number of units ('Quantity') sold by 'Product line' and the grand total of units sold.\n"
   ]
  },
  {
   "cell_type": "code",
   "execution_count": 307,
   "id": "d7af1ac8",
   "metadata": {},
   "outputs": [],
   "source": [
    "df = pd.read_csv('supermarket1.csv', sep=';')"
   ]
  },
  {
   "cell_type": "code",
   "execution_count": 308,
   "id": "1b1141e6",
   "metadata": {},
   "outputs": [],
   "source": [
    "def solve():\n",
    "    units = pd.pivot_table(df,values= 'Quantity',index = 'Product line', aggfunc='sum',margins=True,margins_name='All')\n",
    "    print(units)"
   ]
  },
  {
   "cell_type": "code",
   "execution_count": 309,
   "id": "c9cd4319",
   "metadata": {},
   "outputs": [
    {
     "name": "stdout",
     "output_type": "stream",
     "text": [
      "                        Quantity\n",
      "Product line                    \n",
      "Electronic accessories       971\n",
      "Fashion accessories          902\n",
      "Food and beverages           952\n",
      "Health and beauty            854\n",
      "Home and lifestyle           911\n",
      "Sports and travel            920\n",
      "All                         5510\n"
     ]
    }
   ],
   "source": [
    "solve()"
   ]
  },
  {
   "cell_type": "markdown",
   "id": "2fa1ac92",
   "metadata": {},
   "source": [
    "## Print the rows between labels 0 and 2 and between columns 'Total' and 'Payment'.\n"
   ]
  },
  {
   "cell_type": "code",
   "execution_count": 310,
   "id": "6c491bc0",
   "metadata": {},
   "outputs": [],
   "source": [
    "df = pd.read_csv('supermarket1.csv', sep=';')"
   ]
  },
  {
   "cell_type": "code",
   "execution_count": 311,
   "id": "02b6dd13",
   "metadata": {},
   "outputs": [],
   "source": [
    "def solve():\n",
    "    selected_data = df.loc[0:2, 'Total':'Payment']\n",
    "    \n",
    "    print(selected_data)\n",
    "    "
   ]
  },
  {
   "cell_type": "code",
   "execution_count": 312,
   "id": "6468fe26",
   "metadata": {},
   "outputs": [
    {
     "name": "stdout",
     "output_type": "stream",
     "text": [
      "      Total                 Date      Payment\n",
      "0  548.9715  2019-01-05 13:08:00      Ewallet\n",
      "1   80.2200  2019-03-08 10:29:00         Cash\n",
      "2  340.5255  2019-03-03 13:23:00  Credit card\n"
     ]
    }
   ],
   "source": [
    "solve()"
   ]
  },
  {
   "cell_type": "markdown",
   "id": "a61ea3d4",
   "metadata": {},
   "source": [
    "## Change the 'Customer type' in the third row from 'Normal' to 'Member'.\n"
   ]
  },
  {
   "cell_type": "code",
   "execution_count": 313,
   "id": "63f34338",
   "metadata": {},
   "outputs": [],
   "source": [
    "df = pd.read_csv('supermarket1.csv', sep=';')"
   ]
  },
  {
   "cell_type": "code",
   "execution_count": 314,
   "id": "eeaf5762",
   "metadata": {},
   "outputs": [],
   "source": [
    "def solve():\n",
    "    df.loc[2,'Customer type'] = 'Member'"
   ]
  },
  {
   "cell_type": "code",
   "execution_count": 315,
   "id": "aeb821d6",
   "metadata": {
    "scrolled": true
   },
   "outputs": [
    {
     "name": "stdout",
     "output_type": "stream",
     "text": [
      "    Invoice ID       City Customer type  Gender\n",
      "0  750-67-8428     Yangon        Member  Female\n",
      "1  226-31-3081  Naypyitaw        Normal  Female\n",
      "2  631-41-3108     Yangon        Member    Male\n"
     ]
    }
   ],
   "source": [
    "solve()\n",
    "print(df.loc[:,'Invoice ID':'Gender'].head(3))"
   ]
  },
  {
   "cell_type": "markdown",
   "id": "784dd75b",
   "metadata": {},
   "source": [
    "## Print the columns 'Product line' to 'Total' of the rows where the 'Total' is greater than 1030.\n"
   ]
  },
  {
   "cell_type": "code",
   "execution_count": 2,
   "id": "90c79569",
   "metadata": {},
   "outputs": [],
   "source": [
    "df = pd.read_csv('supermarket1.csv', sep=';')"
   ]
  },
  {
   "cell_type": "code",
   "execution_count": 3,
   "id": "927e2d09",
   "metadata": {},
   "outputs": [],
   "source": [
    "def solve():\n",
    "    selected =  df[df['Total'] > 1030].loc[:,'Product line':'Total']\n",
    "    s = df[df['Total'] > 1030]\n",
    "    print(df.loc[s.index,'Product line':'Total'])\n",
    "    print(selected)"
   ]
  },
  {
   "cell_type": "code",
   "execution_count": 4,
   "id": "f43a5ad5",
   "metadata": {},
   "outputs": [
    {
     "name": "stdout",
     "output_type": "stream",
     "text": [
      "            Product line  Unit price  Quantity  Tax 5%    Total\n",
      "167  Fashion accessories       98.98        10   49.49  1039.29\n",
      "350  Fashion accessories       99.30        10   49.65  1042.65\n",
      "557   Food and beverages       98.52        10   49.26  1034.46\n",
      "            Product line  Unit price  Quantity  Tax 5%    Total\n",
      "167  Fashion accessories       98.98        10   49.49  1039.29\n",
      "350  Fashion accessories       99.30        10   49.65  1042.65\n",
      "557   Food and beverages       98.52        10   49.26  1034.46\n"
     ]
    }
   ],
   "source": [
    "solve()"
   ]
  },
  {
   "cell_type": "markdown",
   "id": "3e076882",
   "metadata": {},
   "source": [
    "## Delete the rows corresponding to 'City' 'Yangon'.\n"
   ]
  },
  {
   "cell_type": "code",
   "execution_count": 319,
   "id": "e1134ae2",
   "metadata": {},
   "outputs": [],
   "source": [
    "df = pd.read_csv('supermarket1.csv', sep=';')"
   ]
  },
  {
   "cell_type": "code",
   "execution_count": 320,
   "id": "1a75ad0a",
   "metadata": {},
   "outputs": [],
   "source": [
    "def solve():\n",
    "    df.drop(df[df['City'] == 'Yangon'].index, inplace=True)\n",
    "    "
   ]
  },
  {
   "cell_type": "code",
   "execution_count": 321,
   "id": "f0c5261c",
   "metadata": {},
   "outputs": [
    {
     "name": "stdout",
     "output_type": "stream",
     "text": [
      "    Invoice ID       City Customer type  Gender            Product line\n",
      "1  226-31-3081  Naypyitaw        Normal  Female  Electronic accessories\n",
      "5  699-14-3026  Naypyitaw        Normal    Male  Electronic accessories\n",
      "7  315-22-5665  Naypyitaw        Normal  Female      Home and lifestyle\n"
     ]
    }
   ],
   "source": [
    "solve()\n",
    "print(df.loc[:,'Invoice ID':'Product line'].head(3))"
   ]
  },
  {
   "cell_type": "markdown",
   "id": "8a395b32",
   "metadata": {},
   "source": [
    "## Print the 'city', the 'Product line' and the value (rounded to two decimal places) corresponding to the maximum sum of the invoices ('Total') by 'Product line' and 'City'\n"
   ]
  },
  {
   "cell_type": "code",
   "execution_count": 322,
   "id": "9a5f0631",
   "metadata": {},
   "outputs": [],
   "source": [
    "df = pd.read_csv('supermarket1.csv', sep=';')"
   ]
  },
  {
   "cell_type": "code",
   "execution_count": 323,
   "id": "d2c2136a",
   "metadata": {},
   "outputs": [],
   "source": [
    "def solve():\n",
    "    idx_max_total = df.groupby(['City', 'Product line'])['Total'].sum().idxmax()\n",
    "\n",
    "    city, product_line = idx_max_total\n",
    "    max_total_value = df.loc[(df['City'] == city) & (df['Product line'] == product_line), 'Total'].sum().round(2)\n",
    "    \n",
    "    print(f\"{city}, {product_line}, {max_total_value}\")\n"
   ]
  },
  {
   "cell_type": "code",
   "execution_count": 324,
   "id": "c084704d",
   "metadata": {
    "scrolled": true
   },
   "outputs": [
    {
     "name": "stdout",
     "output_type": "stream",
     "text": [
      "Naypyitaw, Food and beverages, 23766.85\n"
     ]
    }
   ],
   "source": [
    "solve()"
   ]
  }
 ],
 "metadata": {
  "kernelspec": {
   "display_name": "Python 3 (ipykernel)",
   "language": "python",
   "name": "python3"
  },
  "language_info": {
   "codemirror_mode": {
    "name": "ipython",
    "version": 3
   },
   "file_extension": ".py",
   "mimetype": "text/x-python",
   "name": "python",
   "nbconvert_exporter": "python",
   "pygments_lexer": "ipython3",
   "version": "3.11.5"
  }
 },
 "nbformat": 4,
 "nbformat_minor": 5
}
