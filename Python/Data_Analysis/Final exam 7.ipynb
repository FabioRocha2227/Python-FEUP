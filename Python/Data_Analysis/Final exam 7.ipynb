{
 "cells": [
  {
   "cell_type": "markdown",
   "id": "caa03738",
   "metadata": {},
   "source": [
    "### Print the values from columns 'name' to 'points' from rows 3, 5 and 7."
   ]
  },
  {
   "cell_type": "code",
   "execution_count": 3,
   "id": "74f41260",
   "metadata": {},
   "outputs": [],
   "source": [
    "import pandas as pd\n",
    "df = pd.read_csv('f1_1.csv',encoding='utf-8',parse_dates=['dob','date'])\n"
   ]
  },
  {
   "cell_type": "code",
   "execution_count": 12,
   "id": "c4f229b4",
   "metadata": {},
   "outputs": [],
   "source": [
    "def solve():\n",
    "    filter = df.loc[[3,5,7],'name':'points']\n",
    "    print(filter)"
   ]
  },
  {
   "cell_type": "code",
   "execution_count": 13,
   "id": "28c353a6",
   "metadata": {},
   "outputs": [
    {
     "name": "stdout",
     "output_type": "stream",
     "text": [
      "              name        dob nationality  race_id  position  points\n",
      "3  Fernando Alonso 1981-07-29     Spanish       18       4.0     5.0\n",
      "5  Kazuki Nakajima 1985-01-11    Japanese       18       6.0     3.0\n",
      "7   Kimi Räikkönen 1979-10-17     Finnish       18       8.0     1.0\n"
     ]
    }
   ],
   "source": [
    "solve()"
   ]
  },
  {
   "cell_type": "markdown",
   "id": "9a22860f",
   "metadata": {},
   "source": [
    "### Change in row 2 the 'status' to 'Engine' and the 'points' to 0.\n"
   ]
  },
  {
   "cell_type": "code",
   "execution_count": 14,
   "id": "9cd7c081",
   "metadata": {},
   "outputs": [],
   "source": [
    "def solve():\n",
    "    df.loc[2,'status'] = 'Engine'\n",
    "    df.loc[2,'points'] = 0\n"
   ]
  },
  {
   "cell_type": "code",
   "execution_count": 15,
   "id": "9c4d376c",
   "metadata": {},
   "outputs": [
    {
     "name": "stdout",
     "output_type": "stream",
     "text": [
      "             name        dob nationality  race_id  position  points  \\\n",
      "0  Lewis Hamilton 1985-01-07     British       18       1.0    10.0   \n",
      "1   Nick Heidfeld 1977-05-10      German       18       2.0     8.0   \n",
      "2    Nico Rosberg 1985-06-27      German       18       3.0     0.0   \n",
      "\n",
      "   fastest_lap_speed    status  \n",
      "0            218.300  Finished  \n",
      "1            217.586  Finished  \n",
      "2            216.719    Engine  \n"
     ]
    }
   ],
   "source": [
    "solve()\n",
    "print(df.loc[:,'name':'status'].head(3))"
   ]
  },
  {
   "cell_type": "markdown",
   "id": "105eff5b",
   "metadata": {},
   "source": [
    "### Delete the columns 'code', 'fastest_lap_speed' and 'race'.\n"
   ]
  },
  {
   "cell_type": "code",
   "execution_count": 18,
   "id": "7fd152f3",
   "metadata": {},
   "outputs": [],
   "source": [
    "df = pd.read_csv('f1_1.csv',encoding='utf-8',parse_dates=['dob','date'])\n"
   ]
  },
  {
   "cell_type": "code",
   "execution_count": 19,
   "id": "6f999378",
   "metadata": {},
   "outputs": [],
   "source": [
    "def solve():\n",
    "    df.drop(['code','fastest_lap_speed','race'],axis=1,inplace=True)"
   ]
  },
  {
   "cell_type": "code",
   "execution_count": 21,
   "id": "c7bc9c0d",
   "metadata": {},
   "outputs": [
    {
     "name": "stdout",
     "output_type": "stream",
     "text": [
      "             name        dob nationality  race_id  position  points    status  \\\n",
      "0  Lewis Hamilton 1985-01-07     British       18       1.0    10.0  Finished   \n",
      "1   Nick Heidfeld 1977-05-10      German       18       2.0     8.0  Finished   \n",
      "2    Nico Rosberg 1985-06-27      German       18       3.0     6.0  Finished   \n",
      "\n",
      "     country  year       date  \n",
      "0  Australia  2008 2008-03-16  \n",
      "1  Australia  2008 2008-03-16  \n",
      "2  Australia  2008 2008-03-16  \n"
     ]
    }
   ],
   "source": [
    "solve()\n",
    "print(df.head(3))"
   ]
  },
  {
   "cell_type": "markdown",
   "id": "99d57b3b",
   "metadata": {},
   "source": [
    "### Find the 'name' of the driver and the 'race' corresponding to the maximum 'fastest_lap_speed'. (rounded to one decimal place)."
   ]
  },
  {
   "cell_type": "code",
   "execution_count": 24,
   "id": "d9ee25d7",
   "metadata": {},
   "outputs": [],
   "source": [
    "df = pd.read_csv('f1_1.csv',encoding='utf-8',parse_dates=['dob','date'])\n"
   ]
  },
  {
   "cell_type": "code",
   "execution_count": 37,
   "id": "64b77a79",
   "metadata": {},
   "outputs": [],
   "source": [
    "def solve():\n",
    "    max_speed = df['fastest_lap_speed'].idxmax()\n",
    "    \n",
    "    max_speed_row = df.loc[max_speed,['name','race','fastest_lap_speed']]\n",
    "    print(max_speed)\n",
    "    print(list(max_speed_row))\n",
    "\n"
   ]
  },
  {
   "cell_type": "code",
   "execution_count": 38,
   "id": "91d37209",
   "metadata": {},
   "outputs": [
    {
     "name": "stdout",
     "output_type": "stream",
     "text": [
      "2800\n",
      "['Rubens Barrichello', 'Italian Grand Prix', 257.32]\n"
     ]
    }
   ],
   "source": [
    "solve()"
   ]
  },
  {
   "cell_type": "markdown",
   "id": "4bd0a21c",
   "metadata": {},
   "source": [
    "### What is the percentage of races where 'Lewis Hamilton' has a 'status' of 'Finished' (rounded to one decimal place)"
   ]
  },
  {
   "cell_type": "code",
   "execution_count": 40,
   "id": "7ae5d71d",
   "metadata": {},
   "outputs": [],
   "source": [
    "df = pd.read_csv('f1_1.csv',encoding='utf-8',parse_dates=['dob','date'])\n"
   ]
  },
  {
   "cell_type": "code",
   "execution_count": 47,
   "id": "2c283a1c",
   "metadata": {},
   "outputs": [],
   "source": [
    "def solve():\n",
    "    hamilton = df[(df['name'] == 'Lewis Hamilton') & (df['status'] == 'Finished')]\n",
    "    \n",
    "    total = len(df[df['name'] == 'Lewis Hamilton'])\n",
    "    percentage = (len(hamilton) / total) *100\n",
    "    a  = round(percentage,1)\n",
    "    print(a)"
   ]
  },
  {
   "cell_type": "code",
   "execution_count": 48,
   "id": "5c168b08",
   "metadata": {},
   "outputs": [
    {
     "name": "stdout",
     "output_type": "stream",
     "text": [
      "82.6\n"
     ]
    }
   ],
   "source": [
    "solve()"
   ]
  },
  {
   "cell_type": "markdown",
   "id": "d1fe4ab7",
   "metadata": {},
   "source": [
    "### Delete the rows corresponding to the driver 'Lewis Hamilton'.\n"
   ]
  },
  {
   "cell_type": "code",
   "execution_count": 60,
   "id": "a83b74d6",
   "metadata": {},
   "outputs": [],
   "source": [
    "df = pd.read_csv('f1_1.csv',encoding='utf-8',parse_dates=['dob','date'])\n"
   ]
  },
  {
   "cell_type": "code",
   "execution_count": null,
   "id": "d957c38b",
   "metadata": {},
   "outputs": [],
   "source": [
    "def solve():\n",
    "    selected = df[df['name'] == 'Lewis Hamilton']\n",
    "    df.drop(selected.index,inplace=True)"
   ]
  },
  {
   "cell_type": "code",
   "execution_count": 62,
   "id": "50d0efaa",
   "metadata": {},
   "outputs": [
    {
     "name": "stdout",
     "output_type": "stream",
     "text": [
      "(3448, 13)\n",
      "(3339, 13)\n"
     ]
    }
   ],
   "source": [
    "print(df.shape)\n",
    "solve()\n",
    "print(df.shape)"
   ]
  },
  {
   "cell_type": "markdown",
   "id": "0d6c1c1b",
   "metadata": {},
   "source": [
    "### Insert a column named 'surname' before column 'dob' with the driver's surname.\n",
    "(assume the surname is the last word in the full name)"
   ]
  },
  {
   "cell_type": "code",
   "execution_count": 4,
   "id": "05d44d39",
   "metadata": {},
   "outputs": [],
   "source": [
    "df = pd.read_csv('f1_1.csv',encoding='utf-8',parse_dates=['dob','date'])\n"
   ]
  },
  {
   "cell_type": "code",
   "execution_count": 5,
   "id": "d25c5378",
   "metadata": {},
   "outputs": [],
   "source": [
    "def solve():\n",
    "    surname = df['name'].str.split().str[-1]\n",
    "    get_dob_index = df.columns.get_loc('dob')\n",
    "    df.insert(get_dob_index,'surname',surname)\n"
   ]
  },
  {
   "cell_type": "code",
   "execution_count": 6,
   "id": "0b021faf",
   "metadata": {},
   "outputs": [
    {
     "name": "stdout",
     "output_type": "stream",
     "text": [
      "2\n",
      "  code            name   surname        dob nationality  race_id  position  \\\n",
      "0  HAM  Lewis Hamilton  Hamilton 1985-01-07     British       18       1.0   \n",
      "1  HEI   Nick Heidfeld  Heidfeld 1977-05-10      German       18       2.0   \n",
      "2  ROS    Nico Rosberg   Rosberg 1985-06-27      German       18       3.0   \n",
      "\n",
      "   points  fastest_lap_speed    status    country  year  \\\n",
      "0    10.0            218.300  Finished  Australia  2008   \n",
      "1     8.0            217.586  Finished  Australia  2008   \n",
      "2     6.0            216.719  Finished  Australia  2008   \n",
      "\n",
      "                    race       date  \n",
      "0  Australian Grand Prix 2008-03-16  \n",
      "1  Australian Grand Prix 2008-03-16  \n",
      "2  Australian Grand Prix 2008-03-16  \n"
     ]
    }
   ],
   "source": [
    "solve()\n",
    "print(df.head(3))"
   ]
  },
  {
   "cell_type": "markdown",
   "id": "422e3b0e",
   "metadata": {},
   "source": [
    "### Print the top 5 drivers in number of 'races' (sorted by 'name')."
   ]
  },
  {
   "cell_type": "code",
   "execution_count": 88,
   "id": "d6935643",
   "metadata": {},
   "outputs": [],
   "source": [
    "df = pd.read_csv('f1_1.csv',encoding='utf-8',parse_dates=['dob','date'])\n"
   ]
  },
  {
   "cell_type": "code",
   "execution_count": 93,
   "id": "47f3c7d8",
   "metadata": {},
   "outputs": [],
   "source": [
    "def solve():\n",
    "    races = df.groupby('name')['race'].count()\n",
    "    \n",
    "    top_5_n = races.sort_values(ascending=False).head(5)\n",
    "    \n",
    "    top_5 = top_5_n.sort_index(ascending=True)\n",
    "    top_5 = top_5.rename_axis('name')\n",
    "\n",
    "    print(top_5.to_string(header=False))\n",
    "\n",
    "    \n",
    "    "
   ]
  },
  {
   "cell_type": "code",
   "execution_count": 94,
   "id": "6a8b92e3",
   "metadata": {},
   "outputs": [
    {
     "name": "stdout",
     "output_type": "stream",
     "text": [
      "Felipe Massa       109\n",
      "Fernando Alonso    132\n",
      "Jenson Button      126\n",
      "Kimi Räikkönen     136\n",
      "Lewis Hamilton     109\n"
     ]
    }
   ],
   "source": [
    "solve()"
   ]
  },
  {
   "cell_type": "markdown",
   "id": "40bc6a95",
   "metadata": {},
   "source": [
    "### Calculate the mean of the number of 'points' for 'Lewis Hamilton'. (rounded to one decimal place)\n"
   ]
  },
  {
   "cell_type": "code",
   "execution_count": 95,
   "id": "0301c1ab",
   "metadata": {},
   "outputs": [],
   "source": [
    "def solve():\n",
    "    selected = df[df['name'] == 'Lewis Hamilton']\n",
    "    \n",
    "    mean_points = round(selected['points'].mean(),1)\n",
    "    print(mean_points)\n",
    "\n",
    "    "
   ]
  },
  {
   "cell_type": "code",
   "execution_count": 96,
   "id": "cd19c8e2",
   "metadata": {},
   "outputs": [
    {
     "name": "stdout",
     "output_type": "stream",
     "text": [
      "14.0\n"
     ]
    }
   ],
   "source": [
    "solve()"
   ]
  },
  {
   "cell_type": "markdown",
   "id": "7c2c59ad",
   "metadata": {},
   "source": [
    "### Who is the oldest ('dob') driver ('name') racing in 2021.\n"
   ]
  },
  {
   "cell_type": "code",
   "execution_count": 101,
   "id": "0cb6d811",
   "metadata": {},
   "outputs": [],
   "source": [
    "def solve():\n",
    "    racing_2021 = df[df['year'] == 2021]\n",
    "    \n",
    "    oldest = racing_2021.loc[racing_2021['dob'].idxmin()]['name']\n",
    "    print(oldest)"
   ]
  },
  {
   "cell_type": "code",
   "execution_count": 102,
   "id": "4d2be638",
   "metadata": {},
   "outputs": [
    {
     "name": "stdout",
     "output_type": "stream",
     "text": [
      "Kimi Räikkönen\n"
     ]
    }
   ],
   "source": [
    "solve()"
   ]
  },
  {
   "cell_type": "markdown",
   "id": "773bbe6e",
   "metadata": {},
   "source": [
    "### Print the columns 'name' to 'year' for the rows where the 'year' is 2021  and the 'position' is equal to 1."
   ]
  },
  {
   "cell_type": "code",
   "execution_count": 108,
   "id": "1d2bd3e9",
   "metadata": {},
   "outputs": [],
   "source": [
    "def solve():\n",
    "\n",
    "    result = df.loc[(df['year'] == 2021) & (df['position'] == 1), 'name':'year']\n",
    "    print(result)"
   ]
  },
  {
   "cell_type": "code",
   "execution_count": 109,
   "id": "00e45b6d",
   "metadata": {},
   "outputs": [
    {
     "name": "stdout",
     "output_type": "stream",
     "text": [
      "                  name        dob nationality  race_id  position  points  \\\n",
      "2174    Lewis Hamilton 1985-01-07     British     1052       1.0    25.0   \n",
      "2202    Max Verstappen 1997-09-30       Dutch     1053       1.0    25.0   \n",
      "2220  Daniel Ricciardo 1989-07-01  Australian     1065       1.0    26.0   \n",
      "2234    Lewis Hamilton 1985-01-07     British     1051       1.0    25.0   \n",
      "2262    Max Verstappen 1997-09-30       Dutch     1073       1.0    26.0   \n",
      "\n",
      "      fastest_lap_speed    status  country  year  \n",
      "2174            207.235  Finished  Bahrain  2021  \n",
      "2202            227.960  Finished    Italy  2021  \n",
      "2220            245.894  Finished    Italy  2021  \n",
      "2234            227.633  Finished    Qatar  2021  \n",
      "2262            220.800  Finished      UAE  2021  \n"
     ]
    }
   ],
   "source": [
    "solve()"
   ]
  },
  {
   "cell_type": "markdown",
   "id": "aca2f483",
   "metadata": {},
   "source": [
    "### Find the drivers 'name' and the number of times they finished a race in 1st, 2nd and 3rd positions for the year greater or equal 2018."
   ]
  },
  {
   "cell_type": "code",
   "execution_count": 113,
   "id": "ca95f17a",
   "metadata": {},
   "outputs": [],
   "source": [
    "def solve():\n",
    "    filtered_df = df[df['year'] >= 2018]\n",
    "\n",
    "    result = filtered_df[filtered_df['position'].isin([1, 2, 3])].groupby(['name', 'position']).size().unstack()\n",
    "\n",
    "    print(result)\n",
    "\n"
   ]
  },
  {
   "cell_type": "code",
   "execution_count": 114,
   "id": "ff0b4410",
   "metadata": {},
   "outputs": [
    {
     "name": "stdout",
     "output_type": "stream",
     "text": [
      "position           1.0  2.0  3.0\n",
      "name                            \n",
      "Alexander Albon    NaN  NaN  2.0\n",
      "Carlos Sainz       NaN  2.0  1.0\n",
      "Charles Leclerc    3.0  1.0  3.0\n",
      "Daniel Ricciardo   1.0  NaN  2.0\n",
      "Daniil Kvyat       NaN  NaN  1.0\n",
      "Esteban Ocon       NaN  1.0  NaN\n",
      "Fernando Alonso    NaN  NaN  1.0\n",
      "George Russell     NaN  NaN  1.0\n",
      "Kimi Räikkönen     NaN  1.0  2.0\n",
      "Lance Stroll       NaN  NaN  2.0\n",
      "Lando Norris       NaN  1.0  2.0\n",
      "Lewis Hamilton    13.0  4.0  4.0\n",
      "Max Verstappen     5.0  6.0  4.0\n",
      "Pierre Gasly       1.0  NaN  NaN\n",
      "Sebastian Vettel   4.0  3.0  1.0\n",
      "Sergio Pérez       1.0  2.0  NaN\n",
      "Valtteri Bottas    1.0  8.0  3.0\n"
     ]
    }
   ],
   "source": [
    "solve()"
   ]
  },
  {
   "cell_type": "markdown",
   "id": "18e4ba49",
   "metadata": {},
   "source": [
    "### For the 'year' greater or equal to 2018 find the drivers that obtained the maximum sum of points in each year.\n",
    "(each dataset contains only part of the races from each year)"
   ]
  },
  {
   "cell_type": "code",
   "execution_count": 132,
   "id": "3e8e97cd",
   "metadata": {},
   "outputs": [],
   "source": [
    "def solve():\n",
    "    # Filter rows for the years greater or equal to 2018\n",
    "    filtered_df = df[df['year'] >= 2018]\n",
    "\n",
    "    # Group by 'year' and 'name', then sum the points\n",
    "    points_sum = filtered_df.groupby(['year', 'name'])['points'].sum()\n",
    "\n",
    "    # Find the index of the maximum points for each year\n",
    "    max_points_index = points_sum.groupby('year').idxmax()\n",
    "\n",
    "    # Extract the corresponding drivers and points\n",
    "    max_points_info = points_sum.loc[max_points_index]\n",
    "\n",
    "    # Resetting the index for a cleaner format\n",
    "    max_points_info = max_points_info.reset_index()\n",
    "\n",
    "    # Print the result in the specified format\n",
    "    print(max_points_info[['year', 'points', 'name']].set_index('year').sort_index())\n",
    "\n"
   ]
  },
  {
   "cell_type": "code",
   "execution_count": 133,
   "id": "6fe7c334",
   "metadata": {},
   "outputs": [
    {
     "name": "stdout",
     "output_type": "stream",
     "text": [
      "      points             name\n",
      "year                         \n",
      "2018   143.0   Lewis Hamilton\n",
      "2019   124.0   Lewis Hamilton\n",
      "2020   124.0   Lewis Hamilton\n",
      "2021    88.0   Max Verstappen\n",
      "2022    60.0  Charles Leclerc\n"
     ]
    }
   ],
   "source": [
    "solve()"
   ]
  },
  {
   "cell_type": "markdown",
   "id": "6728b386",
   "metadata": {},
   "source": [
    "### Find the number of drivers in each of the following number of 'races' classes:\n",
    "[0, 40[ - novice\n",
    "[40, 80[ - senior\n",
    "[80, 120[ - expert\n",
    "[120, 160[ - star"
   ]
  },
  {
   "cell_type": "code",
   "execution_count": 153,
   "id": "1963d11a",
   "metadata": {},
   "outputs": [],
   "source": [
    "df = pd.read_csv('f1_1.csv',encoding='utf-8',parse_dates=['dob','date'])\n"
   ]
  },
  {
   "cell_type": "code",
   "execution_count": 11,
   "id": "3d3e4404",
   "metadata": {},
   "outputs": [],
   "source": [
    "def solve():\n",
    "    bins = [0,40,80,120,160]\n",
    "    labels = ['novice','senior','expert','star']\n",
    "    df['race'] = pd.to_numeric(df['race'])\n",
    "\n",
    "    \n",
    "    df['race_classes'] = pd.cut(df['race'],bins=bins,labels=labels,right=False)\n",
    "\n",
    "    count=df['race_classes'].value_counts()\n",
    "\n",
    "\n",
    "    print(count)\n",
    "    "
   ]
  },
  {
   "cell_type": "code",
   "execution_count": 12,
   "id": "4240e0c7",
   "metadata": {},
   "outputs": [
    {
     "name": "stdout",
     "output_type": "stream",
     "text": [
      "race_classes\n",
      "novice    0\n",
      "senior    0\n",
      "expert    0\n",
      "star      0\n",
      "Name: count, dtype: int64\n"
     ]
    }
   ],
   "source": [
    "solve()"
   ]
  },
  {
   "cell_type": "markdown",
   "id": "fe3d76b7",
   "metadata": {},
   "source": [
    "### Create a function 'days(date)' to calculate the number of days since the first day of the year.\n",
    "Use this function within function solve() to create a new column 'days' with the number of days between the race 'date' and the beginning of the year.\n",
    "(1st test file: f1_1.csv)"
   ]
  },
  {
   "cell_type": "code",
   "execution_count": 166,
   "id": "6c899216",
   "metadata": {},
   "outputs": [],
   "source": [
    "import pandas as pd\n",
    "\n",
    "# Assuming your dataframe is named 'df'\n",
    "\n",
    "def days(date):\n",
    "    # Convert the date to a pandas datetime object\n",
    "    date = pd.to_datetime(date)\n",
    "    \n",
    "    # Calculate the number of days since the first day of the year\n",
    "    days_since_start = (date - pd.to_datetime(date.dt.year, format='%Y')) / pd.Timedelta('1D')\n",
    "\n",
    "    return days_since_start.astype(int)\n",
    "\n",
    "def solve():  \n",
    "    # Create a new column 'days' using the 'days' function\n",
    "    df['days'] = days(df['date'])\n",
    "    \n",
    "\n",
    "\n"
   ]
  },
  {
   "cell_type": "code",
   "execution_count": 167,
   "id": "3201db40",
   "metadata": {},
   "outputs": [
    {
     "name": "stdout",
     "output_type": "stream",
     "text": [
      "  code            name        dob nationality  race_id  position  points  \\\n",
      "0  HAM  Lewis Hamilton 1985-01-07     British       18       1.0    10.0   \n",
      "1  HEI   Nick Heidfeld 1977-05-10      German       18       2.0     8.0   \n",
      "2  ROS    Nico Rosberg 1985-06-27      German       18       3.0     6.0   \n",
      "\n",
      "   fastest_lap_speed    status    country  year  race       date race_classes  \\\n",
      "0            218.300  Finished  Australia  2008   NaN 2008-03-16          NaN   \n",
      "1            217.586  Finished  Australia  2008   NaN 2008-03-16          NaN   \n",
      "2            216.719  Finished  Australia  2008   NaN 2008-03-16          NaN   \n",
      "\n",
      "   days  \n",
      "0    75  \n",
      "1    75  \n",
      "2    75  \n"
     ]
    }
   ],
   "source": [
    "solve()\n",
    "print(df.head(3))"
   ]
  },
  {
   "cell_type": "markdown",
   "id": "3f87354f",
   "metadata": {},
   "source": [
    "### Print the columns 'name' to 'year' of the rows where the 'year' is equal to 2018 and the 'position' is equal 1 or the 'year' is equal to 2019 and the 'position' is equal to 2."
   ]
  },
  {
   "cell_type": "code",
   "execution_count": 169,
   "id": "8bf3c1d8",
   "metadata": {},
   "outputs": [],
   "source": [
    "df = pd.read_csv('f1_1.csv',encoding='utf-8',parse_dates=['dob','date'])\n"
   ]
  },
  {
   "cell_type": "code",
   "execution_count": 172,
   "id": "2eb0c637",
   "metadata": {},
   "outputs": [],
   "source": [
    "def solve():\n",
    "    condition_1 = (df['year'] == 2018 ) & (df['position'] == 1)\n",
    "    condition_2 = (df['year'] == 2019) & (df['position'] == 2)\n",
    "    \n",
    "    result = df.loc[(condition_1) | (condition_2),'name':'year']\n",
    "    \n",
    "\n",
    "    \n",
    "    print(result)\n"
   ]
  },
  {
   "cell_type": "code",
   "execution_count": 173,
   "id": "0b78b8fe",
   "metadata": {},
   "outputs": [
    {
     "name": "stdout",
     "output_type": "stream",
     "text": [
      "                  name        dob nationality  race_id  position  points  \\\n",
      "1777  Sebastian Vettel 1987-07-03      German      989       1.0    25.0   \n",
      "1797  Sebastian Vettel 1987-07-03      German      990       1.0    25.0   \n",
      "1817  Sebastian Vettel 1987-07-03      German      995       1.0    25.0   \n",
      "1834    Lewis Hamilton 1985-01-07     British      999       1.0    25.0   \n",
      "1854    Lewis Hamilton 1985-01-07     British     1002       1.0    25.0   \n",
      "1874    Lewis Hamilton 1985-01-07     British     1003       1.0    25.0   \n",
      "1894    Lewis Hamilton 1985-01-07     British     1009       1.0    25.0   \n",
      "1914    Lewis Hamilton 1985-01-07     British     1010       2.0    18.0   \n",
      "1943   Valtteri Bottas 1989-08-28     Finnish     1011       2.0    18.0   \n",
      "1957  Sebastian Vettel 1987-07-03      German     1016       2.0    18.0   \n",
      "1977  Sebastian Vettel 1987-07-03      German     1020       2.0    18.0   \n",
      "2003   Valtteri Bottas 1989-08-28     Finnish     1023       2.0    18.0   \n",
      "2030   Charles Leclerc 1997-10-16  Monegasque     1024       2.0    18.0   \n",
      "2046    Max Verstappen 1997-09-30       Dutch     1030       2.0    18.0   \n",
      "\n",
      "      fastest_lap_speed    status    country  year  \n",
      "1777            220.782  Finished  Australia  2018  \n",
      "1797            206.274  Finished    Bahrain  2018  \n",
      "1817            212.260  Finished     Canada  2018  \n",
      "1834            217.968  Finished    Germany  2018  \n",
      "1854            252.794  Finished      Italy  2018  \n",
      "1874            177.108  Finished  Singapore  2018  \n",
      "1894            197.267  Finished        UAE  2018  \n",
      "1914            221.839  Finished  Australia  2019  \n",
      "1943            206.808  Finished    Bahrain  2019  \n",
      "1957            209.677  Finished     Canada  2019  \n",
      "1977            214.423  Finished    Germany  2019  \n",
      "2003            251.690  Finished      Italy  2019  \n",
      "2030            174.047  Finished  Singapore  2019  \n",
      "2046            197.731  Finished        UAE  2019  \n"
     ]
    }
   ],
   "source": [
    "solve()"
   ]
  },
  {
   "cell_type": "code",
   "execution_count": null,
   "id": "43ea9b93",
   "metadata": {},
   "outputs": [],
   "source": []
  }
 ],
 "metadata": {
  "kernelspec": {
   "display_name": "Python 3 (ipykernel)",
   "language": "python",
   "name": "python3"
  },
  "language_info": {
   "codemirror_mode": {
    "name": "ipython",
    "version": 3
   },
   "file_extension": ".py",
   "mimetype": "text/x-python",
   "name": "python",
   "nbconvert_exporter": "python",
   "pygments_lexer": "ipython3",
   "version": "3.11.5"
  }
 },
 "nbformat": 4,
 "nbformat_minor": 5
}
