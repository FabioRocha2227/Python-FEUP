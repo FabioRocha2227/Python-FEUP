{
 "cells": [
  {
   "cell_type": "code",
   "execution_count": 299,
   "id": "b28775a4",
   "metadata": {},
   "outputs": [],
   "source": [
    "import pandas as pd\n",
    "df = pd.read_csv('gym_q1.csv',sep=';', parse_dates=['date'])\n"
   ]
  },
  {
   "cell_type": "markdown",
   "id": "b4b54570",
   "metadata": {},
   "source": [
    "## How old is the youngest person.\n"
   ]
  },
  {
   "cell_type": "code",
   "execution_count": 300,
   "id": "ae613e6d",
   "metadata": {},
   "outputs": [],
   "source": [
    "def solve():\n",
    "    youngest_age = df['age'].min()\n",
    "    print(youngest_age)\n",
    "\n"
   ]
  },
  {
   "cell_type": "code",
   "execution_count": 301,
   "id": "8ef5329f",
   "metadata": {
    "scrolled": true
   },
   "outputs": [
    {
     "name": "stdout",
     "output_type": "stream",
     "text": [
      "23\n"
     ]
    }
   ],
   "source": [
    "solve()"
   ]
  },
  {
   "cell_type": "markdown",
   "id": "c5f242b0",
   "metadata": {},
   "source": [
    "## What percentage of female customers are on the list (rounded to two decimal places).\n",
    "\n"
   ]
  },
  {
   "cell_type": "code",
   "execution_count": 302,
   "id": "97282417",
   "metadata": {},
   "outputs": [],
   "source": [
    "def solve2():\n",
    "    n_total = df['sex'].count()\n",
    "    n_females = (df['sex'] == 'F').sum()\n",
    "    \n",
    "    female_percentage = (n_females / n_total *100).round(2)\n",
    "    \n",
    "    print(female_percentage)"
   ]
  },
  {
   "cell_type": "code",
   "execution_count": 303,
   "id": "59c3e508",
   "metadata": {},
   "outputs": [
    {
     "name": "stdout",
     "output_type": "stream",
     "text": [
      "50.0\n"
     ]
    }
   ],
   "source": [
    "solve2()"
   ]
  },
  {
   "cell_type": "markdown",
   "id": "a5a9aa76",
   "metadata": {},
   "source": [
    "## What is the standard deviation of customer ages (rounded to two decimal places).\n",
    "\n"
   ]
  },
  {
   "cell_type": "code",
   "execution_count": 304,
   "id": "a6073bff",
   "metadata": {},
   "outputs": [],
   "source": [
    "def solve3():\n",
    "    std = df['age'].std()\n",
    "    rounded = round(std,2)\n",
    "    print(rounded)\n",
    "    "
   ]
  },
  {
   "cell_type": "code",
   "execution_count": 305,
   "id": "cd25459a",
   "metadata": {},
   "outputs": [
    {
     "name": "stdout",
     "output_type": "stream",
     "text": [
      "10.47\n"
     ]
    }
   ],
   "source": [
    "solve3()"
   ]
  },
  {
   "cell_type": "markdown",
   "id": "658dc842",
   "metadata": {},
   "source": [
    "## Knowing that the last two digits of the registration number represent the last two digits of the year of registration, build the list of applicants in 2013 aged 50 years or over. View id, name, weight, height and age."
   ]
  },
  {
   "cell_type": "code",
   "execution_count": 306,
   "id": "f934c9d5",
   "metadata": {},
   "outputs": [],
   "source": [
    "def solve4():\n",
    "    df['registration_year'] = df['id'] % 100\n",
    "    \n",
    "    filter = df[(df['registration_year'] == 13) & (df['age'] >50)]\n",
    "    \n",
    "    print(filter[['id','name','weight','height','age']])"
   ]
  },
  {
   "cell_type": "code",
   "execution_count": 307,
   "id": "b3aeffd7",
   "metadata": {},
   "outputs": [
    {
     "name": "stdout",
     "output_type": "stream",
     "text": [
      "         id              name  weight  height  age\n",
      "2   1158813     Joana Freitas      42     150   52\n",
      "39  1177213  Catarina Pereira      88     175   54\n"
     ]
    }
   ],
   "source": [
    "solve4()"
   ]
  },
  {
   "cell_type": "markdown",
   "id": "40073b9d",
   "metadata": {},
   "source": [
    "## Print the first 3 rows from df.\n"
   ]
  },
  {
   "cell_type": "code",
   "execution_count": 308,
   "id": "522c4eba",
   "metadata": {},
   "outputs": [],
   "source": [
    "def solve5():\n",
    "    print(df.head(3))\n",
    "    "
   ]
  },
  {
   "cell_type": "code",
   "execution_count": 309,
   "id": "de4db7a7",
   "metadata": {
    "scrolled": true
   },
   "outputs": [
    {
     "name": "stdout",
     "output_type": "stream",
     "text": [
      "        id            name        date  height  weight  age  hours   status  \\\n",
      "0  1373913  Marisa Martins  02/05/2013     155      48   45      3  married   \n",
      "1  1109818    Rita Fonseca  28/08/2018     166      54   45      3  married   \n",
      "2  1158813   Joana Freitas  21/10/2013     150      42   52      3    widow   \n",
      "\n",
      "   children sex  registration_year  \n",
      "0         2   F                 13  \n",
      "1         3   F                 18  \n",
      "2         1   F                 13  \n"
     ]
    }
   ],
   "source": [
    "solve5()"
   ]
  },
  {
   "cell_type": "markdown",
   "id": "fba5f6ce",
   "metadata": {},
   "source": [
    "## List of people who are over 175 cm tall and have children. View name, height and children.\n",
    "\n"
   ]
  },
  {
   "cell_type": "code",
   "execution_count": 310,
   "id": "b6478834",
   "metadata": {},
   "outputs": [],
   "source": [
    "def solve6():\n",
    "    filter_df= df[(df['height'] > 175) & (df['children'] > 0)]\n",
    "    \n",
    "    print(filter_df[['name','height','children']])"
   ]
  },
  {
   "cell_type": "code",
   "execution_count": 311,
   "id": "56f76d71",
   "metadata": {
    "scrolled": true
   },
   "outputs": [
    {
     "name": "stdout",
     "output_type": "stream",
     "text": [
      "                name  height  children\n",
      "26     Catarina Cruz     176         1\n",
      "34       Manuel Cruz     178         2\n",
      "49     Sonia Pereira     178         3\n",
      "52  Catarina Marinho     178         2\n",
      "59      Joao Tavares     177         2\n"
     ]
    }
   ],
   "source": [
    "solve6()"
   ]
  },
  {
   "cell_type": "markdown",
   "id": "22c28c6e",
   "metadata": {},
   "source": [
    "## What is the median height of customers.\n",
    "\n"
   ]
  },
  {
   "cell_type": "code",
   "execution_count": 312,
   "id": "ee014af1",
   "metadata": {},
   "outputs": [],
   "source": [
    "def solve7():\n",
    "    mean = df['height'].median()\n",
    "    print(mean)"
   ]
  },
  {
   "cell_type": "code",
   "execution_count": 313,
   "id": "c4a0abca",
   "metadata": {},
   "outputs": [
    {
     "name": "stdout",
     "output_type": "stream",
     "text": [
      "163.5\n"
     ]
    }
   ],
   "source": [
    "solve7()"
   ]
  },
  {
   "cell_type": "markdown",
   "id": "1eb140fa",
   "metadata": {},
   "source": [
    "## List of married women over 50 years old. View name, age, status ans sex.\n",
    "\n"
   ]
  },
  {
   "cell_type": "code",
   "execution_count": 314,
   "id": "61124392",
   "metadata": {},
   "outputs": [],
   "source": [
    "def solve8():\n",
    "    filter = df[(df['status'] == 'married') & (df['sex'] == 'F') & (df['age'] > 50)]\n",
    "    print(filter[['name','age','status','sex']])"
   ]
  },
  {
   "cell_type": "code",
   "execution_count": 315,
   "id": "963de4cc",
   "metadata": {},
   "outputs": [
    {
     "name": "stdout",
     "output_type": "stream",
     "text": [
      "                 name  age   status sex\n",
      "3     Joana Goncalves   59  married   F\n",
      "7           Rita Cruz   56  married   F\n",
      "32      Joana Marinho   57  married   F\n",
      "39   Catarina Pereira   54  married   F\n",
      "43  Catarina Carvalho   59  married   F\n"
     ]
    }
   ],
   "source": [
    "solve8()"
   ]
  }
 ],
 "metadata": {
  "kernelspec": {
   "display_name": "Python 3 (ipykernel)",
   "language": "python",
   "name": "python3"
  },
  "language_info": {
   "codemirror_mode": {
    "name": "ipython",
    "version": 3
   },
   "file_extension": ".py",
   "mimetype": "text/x-python",
   "name": "python",
   "nbconvert_exporter": "python",
   "pygments_lexer": "ipython3",
   "version": "3.11.5"
  }
 },
 "nbformat": 4,
 "nbformat_minor": 5
}
