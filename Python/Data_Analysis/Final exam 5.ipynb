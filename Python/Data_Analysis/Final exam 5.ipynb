{
 "cells": [
  {
   "cell_type": "markdown",
   "id": "0ea6aeef",
   "metadata": {},
   "source": [
    "### Print the values from columns 'price', 'city' and 'house_size from rows 2 to 5."
   ]
  },
  {
   "cell_type": "code",
   "execution_count": 5,
   "id": "76a1b641",
   "metadata": {},
   "outputs": [],
   "source": [
    "import pandas as pd\n",
    "df = pd.read_csv('usa_real_estate1.csv', sep=';',parse_dates=['sold_date'])\n"
   ]
  },
  {
   "cell_type": "code",
   "execution_count": 6,
   "id": "6967d547",
   "metadata": {},
   "outputs": [],
   "source": [
    "def solve():\n",
    "    print(df.loc[2:5,['price','city','house_size']])"
   ]
  },
  {
   "cell_type": "code",
   "execution_count": 7,
   "id": "1b4cd367",
   "metadata": {},
   "outputs": [
    {
     "name": "stdout",
     "output_type": "stream",
     "text": [
      "    price           city  house_size\n",
      "2   67000     Juana Diaz       748.0\n",
      "3  145000          Ponce      1800.0\n",
      "4   65000       Mayaguez         NaN\n",
      "5  179000  San Sebastian      2520.0\n"
     ]
    }
   ],
   "source": [
    "solve()"
   ]
  },
  {
   "cell_type": "markdown",
   "id": "5f0cccfb",
   "metadata": {},
   "source": [
    "### Delete the columns 'bed' to 'acre_lot'."
   ]
  },
  {
   "cell_type": "code",
   "execution_count": 3,
   "id": "b234e01c",
   "metadata": {},
   "outputs": [],
   "source": [
    "import pandas as pd\n",
    "df = pd.read_csv('usa_real_estate1.csv', sep=';',parse_dates=['sold_date'])"
   ]
  },
  {
   "cell_type": "code",
   "execution_count": 4,
   "id": "f61cb1b9",
   "metadata": {},
   "outputs": [],
   "source": [
    "def solve():\n",
    "    df.drop(columns=['bed','bath','acre_lot'],inplace=True)"
   ]
  },
  {
   "cell_type": "code",
   "execution_count": 5,
   "id": "7742d586",
   "metadata": {},
   "outputs": [
    {
     "name": "stdout",
     "output_type": "stream",
     "text": [
      "     status   price        city        state  zip_code  house_size sold_date\n",
      "0  for_sale  105000    Adjuntas  Puerto Rico     601.0       920.0       NaT\n",
      "1  for_sale   80000    Adjuntas  Puerto Rico     601.0      1527.0       NaT\n",
      "2  for_sale   67000  Juana Diaz  Puerto Rico     795.0       748.0       NaT\n"
     ]
    }
   ],
   "source": [
    "solve()\n",
    "print(df.head(3))"
   ]
  },
  {
   "cell_type": "markdown",
   "id": "89990208",
   "metadata": {},
   "source": [
    "### Change in row 2 the 'status' to 'sold' and the 'price' to 60000."
   ]
  },
  {
   "cell_type": "code",
   "execution_count": 6,
   "id": "30dfc291",
   "metadata": {},
   "outputs": [],
   "source": [
    "import pandas as pd\n",
    "df = pd.read_csv('usa_real_estate1.csv', sep=';',parse_dates=['sold_date'])"
   ]
  },
  {
   "cell_type": "code",
   "execution_count": 7,
   "id": "96e7e7e9",
   "metadata": {},
   "outputs": [],
   "source": [
    "def solve():\n",
    "    df.loc[2,'status'] = 'sold'\n",
    "    df.loc[2,'price'] = '60000'"
   ]
  },
  {
   "cell_type": "code",
   "execution_count": 8,
   "id": "462d9324",
   "metadata": {},
   "outputs": [
    {
     "name": "stdout",
     "output_type": "stream",
     "text": [
      "     status   price  bed  bath  acre_lot        city        state  zip_code  \\\n",
      "0  for_sale  105000  3.0   2.0      0.12    Adjuntas  Puerto Rico     601.0   \n",
      "1  for_sale   80000  4.0   2.0      0.08    Adjuntas  Puerto Rico     601.0   \n",
      "2      sold   60000  2.0   1.0      0.15  Juana Diaz  Puerto Rico     795.0   \n",
      "\n",
      "   house_size sold_date  \n",
      "0       920.0       NaT  \n",
      "1      1527.0       NaT  \n",
      "2       748.0       NaT  \n"
     ]
    }
   ],
   "source": [
    "solve()\n",
    "print(df.head(3))"
   ]
  },
  {
   "cell_type": "markdown",
   "id": "46c9d1b2",
   "metadata": {},
   "source": [
    "### What is the percentage of houses with a 'house_size' greater than 2000. (rounded to one decimal place)"
   ]
  },
  {
   "cell_type": "code",
   "execution_count": 9,
   "id": "2b6577e2",
   "metadata": {},
   "outputs": [],
   "source": [
    "import pandas as pd\n",
    "df = pd.read_csv('usa_real_estate1.csv', sep=';',parse_dates=['sold_date'])"
   ]
  },
  {
   "cell_type": "code",
   "execution_count": 10,
   "id": "6d9a2c55",
   "metadata": {},
   "outputs": [],
   "source": [
    "def solve():\n",
    "    filter = df[df['house_size'] > 2000]\n",
    "    percentage = (len(filter) / len(df)) * 100\n",
    "    print(round(percentage,1))"
   ]
  },
  {
   "cell_type": "code",
   "execution_count": 11,
   "id": "3ab7fc2f",
   "metadata": {},
   "outputs": [
    {
     "name": "stdout",
     "output_type": "stream",
     "text": [
      "28.9\n"
     ]
    }
   ],
   "source": [
    "solve()"
   ]
  },
  {
   "cell_type": "markdown",
   "id": "9797c2f7",
   "metadata": {},
   "source": [
    "### Calculate the summary statistics for the column 'house_size'.\n"
   ]
  },
  {
   "cell_type": "code",
   "execution_count": 12,
   "id": "f0784f75",
   "metadata": {},
   "outputs": [],
   "source": [
    "def solve():\n",
    "    filter = df['house_size'].describe()\n",
    "    print(filter)"
   ]
  },
  {
   "cell_type": "code",
   "execution_count": 13,
   "id": "9259700d",
   "metadata": {},
   "outputs": [
    {
     "name": "stdout",
     "output_type": "stream",
     "text": [
      "count    7.487000e+03\n",
      "mean     2.432521e+03\n",
      "std      1.689467e+04\n",
      "min      1.000000e+02\n",
      "25%      1.204500e+03\n",
      "50%      1.720000e+03\n",
      "75%      2.600000e+03\n",
      "max      1.450112e+06\n",
      "Name: house_size, dtype: float64\n"
     ]
    }
   ],
   "source": [
    "solve()"
   ]
  },
  {
   "cell_type": "markdown",
   "id": "3f664b5f",
   "metadata": {},
   "source": [
    "### Delete the rows where the 'price' is greater than 800000.\n"
   ]
  },
  {
   "cell_type": "code",
   "execution_count": 14,
   "id": "e703b34e",
   "metadata": {},
   "outputs": [],
   "source": [
    "import pandas as pd\n",
    "df = pd.read_csv('usa_real_estate1.csv', sep=';',parse_dates=['sold_date'])"
   ]
  },
  {
   "cell_type": "code",
   "execution_count": 15,
   "id": "f63cd70f",
   "metadata": {},
   "outputs": [],
   "source": [
    "def solve():\n",
    "    filter = df[df['price'] > 800000]\n",
    "    df.drop(filter.index,inplace = True)\n",
    "    "
   ]
  },
  {
   "cell_type": "code",
   "execution_count": 16,
   "id": "3c72953f",
   "metadata": {},
   "outputs": [
    {
     "name": "stdout",
     "output_type": "stream",
     "text": [
      "(10315, 10)\n",
      "(9216, 10)\n"
     ]
    }
   ],
   "source": [
    "print(df.shape)\n",
    "solve()\n",
    "print(df.shape)"
   ]
  },
  {
   "cell_type": "markdown",
   "id": "1df11e35",
   "metadata": {},
   "source": [
    "### Insert a column named 'price_euros' before column 'bed' converting the value in dollars from column 'price' to euros (1 Dollar = 0.95 Euro) (rounded to one decimal place)"
   ]
  },
  {
   "cell_type": "code",
   "execution_count": 17,
   "id": "07109d0d",
   "metadata": {},
   "outputs": [],
   "source": [
    "df = pd.read_csv('usa_real_estate1.csv', sep=';',parse_dates=['sold_date'])\n"
   ]
  },
  {
   "cell_type": "code",
   "execution_count": 18,
   "id": "0fcae004",
   "metadata": {},
   "outputs": [],
   "source": [
    "def solve():\n",
    "    conversion = 0.95\n",
    "    df.insert(df.columns.get_loc('bed'),'price_euros',round(df['price'] * conversion, 1))\n",
    "    "
   ]
  },
  {
   "cell_type": "code",
   "execution_count": 19,
   "id": "04c9f17f",
   "metadata": {},
   "outputs": [
    {
     "name": "stdout",
     "output_type": "stream",
     "text": [
      "     status   price  price_euros  bed  bath  acre_lot        city  \\\n",
      "0  for_sale  105000      99750.0  3.0   2.0      0.12    Adjuntas   \n",
      "1  for_sale   80000      76000.0  4.0   2.0      0.08    Adjuntas   \n",
      "2  for_sale   67000      63650.0  2.0   1.0      0.15  Juana Diaz   \n",
      "\n",
      "         state  zip_code  house_size sold_date  \n",
      "0  Puerto Rico     601.0       920.0       NaT  \n",
      "1  Puerto Rico     601.0      1527.0       NaT  \n",
      "2  Puerto Rico     795.0       748.0       NaT  \n"
     ]
    }
   ],
   "source": [
    "solve()\n",
    "print(df.head(3))"
   ]
  },
  {
   "cell_type": "markdown",
   "id": "9056e8fe",
   "metadata": {},
   "source": [
    "### Calculate the number of houses by 'status'.\n"
   ]
  },
  {
   "cell_type": "code",
   "execution_count": 20,
   "id": "10f67ae7",
   "metadata": {},
   "outputs": [],
   "source": [
    "df = pd.read_csv('usa_real_estate1.csv', sep=';',parse_dates=['sold_date'])\n"
   ]
  },
  {
   "cell_type": "code",
   "execution_count": 21,
   "id": "f3b18739",
   "metadata": {},
   "outputs": [],
   "source": [
    "def solve():\n",
    "    house_counts = df['status'].value_counts()\n",
    "    print(house_counts)"
   ]
  },
  {
   "cell_type": "code",
   "execution_count": 22,
   "id": "b3734f72",
   "metadata": {},
   "outputs": [
    {
     "name": "stdout",
     "output_type": "stream",
     "text": [
      "status\n",
      "for_sale    6960\n",
      "sold        3355\n",
      "Name: count, dtype: int64\n"
     ]
    }
   ],
   "source": [
    "solve()"
   ]
  },
  {
   "cell_type": "markdown",
   "id": "ed846cc1",
   "metadata": {},
   "source": [
    "### Print the top 3 houses in 'price'.\n"
   ]
  },
  {
   "cell_type": "code",
   "execution_count": 23,
   "id": "99026199",
   "metadata": {},
   "outputs": [],
   "source": [
    "def solve():\n",
    "    sorted = df.sort_values(by='price', ascending =False)\n",
    "    top_3 = sorted.head(3)\n",
    "    print(top_3)"
   ]
  },
  {
   "cell_type": "code",
   "execution_count": 24,
   "id": "e3e3cc62",
   "metadata": {},
   "outputs": [
    {
     "name": "stdout",
     "output_type": "stream",
     "text": [
      "        status     price  bed  bath  acre_lot           city           state  \\\n",
      "6953      sold  60000000  9.0  10.0    400.00      Woodstock     Connecticut   \n",
      "854   for_sale  25000000  NaN   NaN    100.00        Isabela     Puerto Rico   \n",
      "2714  for_sale  24500000  NaN   NaN    618.36  Christiansted  Virgin Islands   \n",
      "\n",
      "      zip_code  house_size  sold_date  \n",
      "6953    6281.0     18777.0 2003-08-28  \n",
      "854      662.0         NaN        NaT  \n",
      "2714     820.0         NaN        NaT  \n"
     ]
    }
   ],
   "source": [
    "solve()"
   ]
  },
  {
   "cell_type": "markdown",
   "id": "a30c2514",
   "metadata": {},
   "source": [
    "### Print the columns 'city' to 'house_size' of the rows where the 'house_size' is greater than 40000.\n"
   ]
  },
  {
   "cell_type": "code",
   "execution_count": 25,
   "id": "75de249f",
   "metadata": {},
   "outputs": [],
   "source": [
    "def solve():\n",
    "    filter = df[df['house_size'] > 40000]\n",
    "    print(filter.loc[:,'city':'house_size'])"
   ]
  },
  {
   "cell_type": "code",
   "execution_count": 26,
   "id": "ad22251a",
   "metadata": {},
   "outputs": [
    {
     "name": "stdout",
     "output_type": "stream",
     "text": [
      "              city           state  zip_code  house_size\n",
      "42            Moca     Puerto Rico     676.0     43082.0\n",
      "2241       Culebra     Puerto Rico     775.0   1450112.0\n",
      "2898  Frederiksted  Virgin Islands     840.0     49658.0\n",
      "9045    Middletown     Connecticut    6457.0     99999.0\n"
     ]
    }
   ],
   "source": [
    "solve()"
   ]
  },
  {
   "cell_type": "markdown",
   "id": "b62a04b7",
   "metadata": {},
   "source": [
    "### What is the 'city' with the house with the highest 'price' (first occurrence).\n"
   ]
  },
  {
   "cell_type": "code",
   "execution_count": 27,
   "id": "ae24c246",
   "metadata": {},
   "outputs": [],
   "source": [
    "def solve():\n",
    "    sorted = df.sort_values(by='price',ascending=False)\n",
    "    city = sorted.iloc[0]['city']\n",
    "    print(city)\n",
    "    "
   ]
  },
  {
   "cell_type": "code",
   "execution_count": 28,
   "id": "13f04932",
   "metadata": {},
   "outputs": [
    {
     "name": "stdout",
     "output_type": "stream",
     "text": [
      "Woodstock\n"
     ]
    }
   ],
   "source": [
    "solve()"
   ]
  },
  {
   "cell_type": "markdown",
   "id": "f9e965cd",
   "metadata": {},
   "source": [
    "### Print the rows where the 'price' is greater than 2000000 and the 'house_size' is less or equal than 1000."
   ]
  },
  {
   "cell_type": "code",
   "execution_count": 29,
   "id": "f6e236a9",
   "metadata": {},
   "outputs": [],
   "source": [
    "df = pd.read_csv('usa_real_estate1.csv', sep=';',parse_dates=['sold_date'])\n"
   ]
  },
  {
   "cell_type": "code",
   "execution_count": 30,
   "id": "f5e4b830",
   "metadata": {},
   "outputs": [],
   "source": [
    "def solve():\n",
    "\n",
    "    filtered_rows = df[(df['price'] > 2000000) & (df['house_size'] <= 1000)]\n",
    "\n",
    "    print(filtered_rows)\n",
    "\n"
   ]
  },
  {
   "cell_type": "code",
   "execution_count": 31,
   "id": "b854a043",
   "metadata": {},
   "outputs": [
    {
     "name": "stdout",
     "output_type": "stream",
     "text": [
      "        status    price  bed  bath  acre_lot         city          state  \\\n",
      "8176  for_sale  2500000  NaN   NaN      1.34  Stockbridge  Massachusetts   \n",
      "\n",
      "      zip_code  house_size sold_date  \n",
      "8176    1262.0       500.0       NaT  \n"
     ]
    }
   ],
   "source": [
    "solve()"
   ]
  },
  {
   "cell_type": "markdown",
   "id": "d97c1f88",
   "metadata": {},
   "source": [
    "### Find the average 'price' by 'state' and 'status' (rounded to one decimal place).\n"
   ]
  },
  {
   "cell_type": "code",
   "execution_count": 32,
   "id": "5eef468e",
   "metadata": {},
   "outputs": [],
   "source": [
    "def solve():\n",
    "    avg = df.groupby(['state', 'status'])['price'].mean().round(1)\n",
    "    result_df = avg.reset_index().pivot_table(index='state', columns='status', values='price')\n",
    "    print(result_df)\n",
    "\n",
    "\n"
   ]
  },
  {
   "cell_type": "code",
   "execution_count": 33,
   "id": "e284fa1d",
   "metadata": {},
   "outputs": [
    {
     "name": "stdout",
     "output_type": "stream",
     "text": [
      "status          for_sale       sold\n",
      "state                              \n",
      "Connecticut     427973.5   409905.1\n",
      "Massachusetts   345654.1   450403.9\n",
      "New Hampshire   318908.7   154112.9\n",
      "New Jersey      333490.0        NaN\n",
      "New York        556409.1   817443.7\n",
      "Puerto Rico     678351.3   428471.4\n",
      "South Carolina   18950.0        NaN\n",
      "Vermont         321860.0   303546.2\n",
      "Virgin Islands  828440.9  1646800.0\n"
     ]
    }
   ],
   "source": [
    "solve()"
   ]
  },
  {
   "cell_type": "markdown",
   "id": "6a5455b0",
   "metadata": {},
   "source": [
    "### Calculate for each state the 'city' with the highest house 'price'.\n"
   ]
  },
  {
   "cell_type": "code",
   "execution_count": 34,
   "id": "120c017c",
   "metadata": {},
   "outputs": [],
   "source": [
    "df = pd.read_csv('usa_real_estate1.csv', sep=';',parse_dates=['sold_date'])\n"
   ]
  },
  {
   "cell_type": "code",
   "execution_count": 35,
   "id": "cdf8029c",
   "metadata": {},
   "outputs": [],
   "source": [
    "def solve():\n",
    "    sorted = df.sort_values(by='price',ascending=False)\n",
    "    unique_max_price = sorted.drop_duplicates(subset='state',keep='first')\n",
    "    \n",
    "    unique_max_price = unique_max_price.rename(columns={'city':'City'})\n",
    "    result = unique_max_price.set_index('state')[['City', 'price']]\n",
    "    \n",
    "    result['price'] = result['price'].round(1)\n",
    "\n",
    "    \n",
    "    result = result.sort_index()\n",
    "    \n",
    "\n",
    "\n",
    "    print(result)\n",
    "        \n",
    "    "
   ]
  },
  {
   "cell_type": "code",
   "execution_count": 36,
   "id": "48bb6bf6",
   "metadata": {},
   "outputs": [
    {
     "name": "stdout",
     "output_type": "stream",
     "text": [
      "                         City     price\n",
      "state                                  \n",
      "Connecticut         Woodstock  60000000\n",
      "Massachusetts     Sandisfield  18000000\n",
      "New Hampshire      Winchester   1743772\n",
      "New Jersey         Burlington    333490\n",
      "New York              Chatham  15000000\n",
      "Puerto Rico           Isabela  25000000\n",
      "South Carolina      McCormick     18950\n",
      "Vermont               Halifax   3500000\n",
      "Virgin Islands  Christiansted  24500000\n",
      "NaN                       NaN     50000\n"
     ]
    }
   ],
   "source": [
    "solve()"
   ]
  },
  {
   "cell_type": "markdown",
   "id": "3418fb94",
   "metadata": {},
   "source": [
    "### Calculate the number of houses in each of the following 'house_size' classes:\n",
    "[0, 1000[ - very_small\n",
    "[1000, 2000[ - small\n",
    "[2000, 3000[ - medium\n",
    "[3000, 5000[ - large\n",
    "[5000, 10000[ - very_large\n"
   ]
  },
  {
   "cell_type": "code",
   "execution_count": 37,
   "id": "d51c3939",
   "metadata": {},
   "outputs": [],
   "source": [
    "def solve():\n",
    "    bins = [0, 1000, 2000, 3000, 5000, 10000]\n",
    "    labels = ['very_small', 'small', 'medium', 'large', 'very_large']\n",
    "    df['house_size_class'] = pd.cut(df['house_size'],bins=bins,labels=labels, right=False)\n",
    "    cnt = df['house_size_class'].value_counts()\n",
    "    cnt.name='house_size'\n",
    "    print(cnt)\n",
    "    "
   ]
  },
  {
   "cell_type": "code",
   "execution_count": 38,
   "id": "3c90036e",
   "metadata": {},
   "outputs": [
    {
     "name": "stdout",
     "output_type": "stream",
     "text": [
      "house_size_class\n",
      "small         3507\n",
      "medium        1620\n",
      "large         1031\n",
      "very_small     947\n",
      "very_large     316\n",
      "Name: house_size, dtype: int64\n"
     ]
    }
   ],
   "source": [
    "solve()"
   ]
  },
  {
   "cell_type": "markdown",
   "id": "15a818cf",
   "metadata": {},
   "source": [
    "### Create a function 'ndias(date)' to calculate the number of days between the 'date' and today (2022-06-27).\n",
    "Use this function within function solve() to create a new column 'days' with the number of days between the 'sold_date' and today (2022-06-27)."
   ]
  },
  {
   "cell_type": "code",
   "execution_count": 39,
   "id": "e90c91be",
   "metadata": {},
   "outputs": [],
   "source": [
    "df = pd.read_csv('usa_real_estate1.csv', sep=';',parse_dates=['sold_date'])\n"
   ]
  },
  {
   "cell_type": "code",
   "execution_count": 40,
   "id": "8a799cd8",
   "metadata": {},
   "outputs": [],
   "source": [
    "import pandas as pd\n",
    "from datetime import datetime\n",
    "\n",
    "# Assuming your DataFrame is named df\n",
    "\n",
    "def ndias(date):\n",
    "    # Convert the date string to a datetime object\n",
    "    date_obj = datetime.strptime(str(date), '%Y-%m-%d')\n",
    "    \n",
    "    # Get today's date\n",
    "    today = datetime.today()\n",
    "\n",
    "    # Calculate the number of days between the date and today\n",
    "    days_difference = (today - date_obj).days\n",
    "\n",
    "    return days_difference\n",
    "\n",
    "def solve():\n",
    "    # Convert 'sold_date' to string and create a new column 'days' with the number of days between 'sold_date' and today\n",
    "\n",
    "    df['days'] = df['sold_date'].apply(ndias)\n",
    "\n",
    "\n"
   ]
  }
 ],
 "metadata": {
  "kernelspec": {
   "display_name": "Python 3 (ipykernel)",
   "language": "python",
   "name": "python3"
  },
  "language_info": {
   "codemirror_mode": {
    "name": "ipython",
    "version": 3
   },
   "file_extension": ".py",
   "mimetype": "text/x-python",
   "name": "python",
   "nbconvert_exporter": "python",
   "pygments_lexer": "ipython3",
   "version": "3.11.5"
  }
 },
 "nbformat": 4,
 "nbformat_minor": 5
}
