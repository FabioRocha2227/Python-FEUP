{
 "cells": [
  {
   "cell_type": "markdown",
   "id": "d38771c2",
   "metadata": {},
   "source": [
    "Group by class and gender with three columns:\n",
    "max_age    min_weight    mean_height\n",
    "with the maximum age, the minimum weight and the mean of the height"
   ]
  },
  {
   "cell_type": "code",
   "execution_count": 62,
   "id": "ba364d86",
   "metadata": {
    "scrolled": true
   },
   "outputs": [
    {
     "data": {
      "text/html": [
       "<div>\n",
       "<style scoped>\n",
       "    .dataframe tbody tr th:only-of-type {\n",
       "        vertical-align: middle;\n",
       "    }\n",
       "\n",
       "    .dataframe tbody tr th {\n",
       "        vertical-align: top;\n",
       "    }\n",
       "\n",
       "    .dataframe thead th {\n",
       "        text-align: right;\n",
       "    }\n",
       "</style>\n",
       "<table border=\"1\" class=\"dataframe\">\n",
       "  <thead>\n",
       "    <tr style=\"text-align: right;\">\n",
       "      <th></th>\n",
       "      <th>name</th>\n",
       "      <th>date</th>\n",
       "      <th>height</th>\n",
       "      <th>weight</th>\n",
       "      <th>age</th>\n",
       "      <th>hours</th>\n",
       "      <th>status</th>\n",
       "      <th>children</th>\n",
       "      <th>sex</th>\n",
       "      <th>class</th>\n",
       "      <th>city</th>\n",
       "      <th>years</th>\n",
       "      <th>rank</th>\n",
       "    </tr>\n",
       "    <tr>\n",
       "      <th>id</th>\n",
       "      <th></th>\n",
       "      <th></th>\n",
       "      <th></th>\n",
       "      <th></th>\n",
       "      <th></th>\n",
       "      <th></th>\n",
       "      <th></th>\n",
       "      <th></th>\n",
       "      <th></th>\n",
       "      <th></th>\n",
       "      <th></th>\n",
       "      <th></th>\n",
       "      <th></th>\n",
       "    </tr>\n",
       "  </thead>\n",
       "  <tbody>\n",
       "    <tr>\n",
       "      <th>1373913</th>\n",
       "      <td>Marisa Martins</td>\n",
       "      <td>05/02/2013</td>\n",
       "      <td>155</td>\n",
       "      <td>48</td>\n",
       "      <td>45</td>\n",
       "      <td>3</td>\n",
       "      <td>married</td>\n",
       "      <td>2</td>\n",
       "      <td>F</td>\n",
       "      <td>cycle</td>\n",
       "      <td>Porto</td>\n",
       "      <td>9</td>\n",
       "      <td>good</td>\n",
       "    </tr>\n",
       "    <tr>\n",
       "      <th>1109818</th>\n",
       "      <td>Rita Fonseca</td>\n",
       "      <td>28/08/2018</td>\n",
       "      <td>166</td>\n",
       "      <td>54</td>\n",
       "      <td>45</td>\n",
       "      <td>3</td>\n",
       "      <td>married</td>\n",
       "      <td>3</td>\n",
       "      <td>F</td>\n",
       "      <td>hydrogymnastics</td>\n",
       "      <td>Matosinhos</td>\n",
       "      <td>3</td>\n",
       "      <td>fair</td>\n",
       "    </tr>\n",
       "    <tr>\n",
       "      <th>1158813</th>\n",
       "      <td>Joana Freitas</td>\n",
       "      <td>21/10/2013</td>\n",
       "      <td>150</td>\n",
       "      <td>42</td>\n",
       "      <td>52</td>\n",
       "      <td>3</td>\n",
       "      <td>widow</td>\n",
       "      <td>1</td>\n",
       "      <td>F</td>\n",
       "      <td>zumba</td>\n",
       "      <td>Porto</td>\n",
       "      <td>8</td>\n",
       "      <td>good</td>\n",
       "    </tr>\n",
       "  </tbody>\n",
       "</table>\n",
       "</div>"
      ],
      "text/plain": [
       "                   name        date  height  weight  age  hours   status  \\\n",
       "id                                                                         \n",
       "1373913  Marisa Martins  05/02/2013     155      48   45      3  married   \n",
       "1109818    Rita Fonseca  28/08/2018     166      54   45      3  married   \n",
       "1158813   Joana Freitas  21/10/2013     150      42   52      3    widow   \n",
       "\n",
       "         children sex            class        city  years  rank  \n",
       "id                                                               \n",
       "1373913         2   F            cycle       Porto      9  good  \n",
       "1109818         3   F  hydrogymnastics  Matosinhos      3  fair  \n",
       "1158813         1   F            zumba       Porto      8  good  "
      ]
     },
     "execution_count": 62,
     "metadata": {},
     "output_type": "execute_result"
    }
   ],
   "source": [
    "import pandas as pd\n",
    "df5 = pd.read_csv('quizPD06_09/gym2_q1.csv', sep = \";\", index_col = 'id', parse_dates = ['date'])\n",
    "df5.head(3)"
   ]
  },
  {
   "cell_type": "code",
   "execution_count": 63,
   "id": "30213346",
   "metadata": {},
   "outputs": [],
   "source": [
    "def solve5():\n",
    "    result_df = df5.groupby(['class', 'sex']).agg({\n",
    "        'age': 'max',\n",
    "        'weight': 'min',\n",
    "        'height': 'mean'\n",
    "    })\n",
    "    \n",
    "    result_df['height'] = result_df['height'].round(2)\n",
    "    \n",
    "    result_df = result_df.rename(columns={\n",
    "        'age': 'max_age',\n",
    "        'weight': 'min_weight',\n",
    "        'height': 'mean_height'\n",
    "    })\n",
    "\n",
    "    print(result_df)"
   ]
  },
  {
   "cell_type": "code",
   "execution_count": 64,
   "id": "793a3010",
   "metadata": {
    "scrolled": true
   },
   "outputs": [
    {
     "name": "stdout",
     "output_type": "stream",
     "text": [
      "                     max_age  min_weight  mean_height\n",
      "class           sex                                  \n",
      "ballet          F         40          70       166.00\n",
      "                M         57          45       164.00\n",
      "cycle           F         59          48       168.12\n",
      "                M         41          53       152.50\n",
      "hydrogymnastics F         47          46       159.40\n",
      "                M         41          68       155.00\n",
      "pilates         F         46          52       164.00\n",
      "                M         49          46       158.14\n",
      "swimming        F         59          45       163.67\n",
      "                M         51          49       163.58\n",
      "yoga            F         54          88       175.00\n",
      "                M         55          55       166.00\n",
      "zumba           F         52          42       163.50\n",
      "                M         54          50       170.75\n"
     ]
    }
   ],
   "source": [
    "solve5()"
   ]
  },
  {
   "cell_type": "markdown",
   "id": "9edebd88",
   "metadata": {},
   "source": [
    "Name of the customer that has more hours in the class 'pilates'.\n"
   ]
  },
  {
   "cell_type": "code",
   "execution_count": 65,
   "id": "1d81d1c4",
   "metadata": {},
   "outputs": [],
   "source": [
    "df = pd.read_csv('quizPD06_09/gym2_q1.csv', sep = \";\", index_col = 'id', parse_dates = ['date'])\n"
   ]
  },
  {
   "cell_type": "code",
   "execution_count": 79,
   "id": "818bd03f",
   "metadata": {},
   "outputs": [],
   "source": [
    "def solve():\n",
    "    pilates = df[df['class'] == 'pilates']\n",
    "    \n",
    "    sorted = pilates.sort_values(by='hours', ascending=False)\n",
    "    \n",
    "    result = sorted.head(1)\n",
    "    result = result['name'].values[0]                                  \n",
    "    \n",
    "    print(result)\n",
    " "
   ]
  },
  {
   "cell_type": "code",
   "execution_count": 80,
   "id": "74b2cd62",
   "metadata": {},
   "outputs": [
    {
     "name": "stdout",
     "output_type": "stream",
     "text": [
      "Francisco Martins\n"
     ]
    }
   ],
   "source": [
    "solve()"
   ]
  },
  {
   "cell_type": "markdown",
   "id": "813d5fcb",
   "metadata": {},
   "source": [
    "Print the rank and city with the highest number of customers.\n"
   ]
  },
  {
   "cell_type": "code",
   "execution_count": 82,
   "id": "2ec5cb5d",
   "metadata": {},
   "outputs": [],
   "source": [
    "df2 = pd.read_csv('quizPD06_09/gym2_q1.csv', sep = \";\", index_col = 'id', parse_dates = ['date'])\n"
   ]
  },
  {
   "cell_type": "code",
   "execution_count": 97,
   "id": "eaad3cba",
   "metadata": {},
   "outputs": [],
   "source": [
    "def solve2():\n",
    "    city_counts = df2.groupby('city')['name'].count()\n",
    "    \n",
    "    sorted = city_counts.sort_values(ascending=False)\n",
    "    \n",
    "    max_city = sorted.index[0]\n",
    "    rank = max_city['rank'].values[0]    \n",
    "    \n",
    "    print(rank)\n",
    "    \n",
    "    "
   ]
  },
  {
   "cell_type": "code",
   "execution_count": 98,
   "id": "61a03ad8",
   "metadata": {},
   "outputs": [
    {
     "ename": "TypeError",
     "evalue": "string indices must be integers, not 'str'",
     "output_type": "error",
     "traceback": [
      "\u001b[1;31m---------------------------------------------------------------------------\u001b[0m",
      "\u001b[1;31mTypeError\u001b[0m                                 Traceback (most recent call last)",
      "Cell \u001b[1;32mIn[98], line 1\u001b[0m\n\u001b[1;32m----> 1\u001b[0m solve2()\n",
      "Cell \u001b[1;32mIn[97], line 7\u001b[0m, in \u001b[0;36msolve2\u001b[1;34m()\u001b[0m\n\u001b[0;32m      4\u001b[0m \u001b[38;5;28msorted\u001b[39m \u001b[38;5;241m=\u001b[39m city_counts\u001b[38;5;241m.\u001b[39msort_values(ascending\u001b[38;5;241m=\u001b[39m\u001b[38;5;28;01mFalse\u001b[39;00m)\n\u001b[0;32m      6\u001b[0m max_city \u001b[38;5;241m=\u001b[39m \u001b[38;5;28msorted\u001b[39m\u001b[38;5;241m.\u001b[39mindex[\u001b[38;5;241m0\u001b[39m]\n\u001b[1;32m----> 7\u001b[0m rank \u001b[38;5;241m=\u001b[39m max_city[\u001b[38;5;124m'\u001b[39m\u001b[38;5;124mrank\u001b[39m\u001b[38;5;124m'\u001b[39m]\u001b[38;5;241m.\u001b[39mvalues[\u001b[38;5;241m0\u001b[39m]    \n\u001b[0;32m      9\u001b[0m \u001b[38;5;28mprint\u001b[39m(rank)\n",
      "\u001b[1;31mTypeError\u001b[0m: string indices must be integers, not 'str'"
     ]
    }
   ],
   "source": [
    "solve2()"
   ]
  },
  {
   "cell_type": "markdown",
   "id": "ab085dc6",
   "metadata": {},
   "source": [
    "Compute the average age by class (round to two decimal places and name the column 'avg age')"
   ]
  },
  {
   "cell_type": "code",
   "execution_count": 99,
   "id": "7600d706",
   "metadata": {},
   "outputs": [],
   "source": [
    "df3 = pd.read_csv('quizPD06_09/gym2_q1.csv', sep = \";\", index_col = 'id', parse_dates = ['date'])\n"
   ]
  },
  {
   "cell_type": "code",
   "execution_count": 104,
   "id": "93b1532e",
   "metadata": {},
   "outputs": [],
   "source": [
    "def solve3():\n",
    "    result = df3.groupby('class')['age'].mean().round(2).reset_index()\n",
    "    result = result.rename(columns={'age': 'avg age'}).set_index('class')\n",
    "    print(result)\n"
   ]
  },
  {
   "cell_type": "code",
   "execution_count": 105,
   "id": "650f883f",
   "metadata": {},
   "outputs": [
    {
     "name": "stdout",
     "output_type": "stream",
     "text": [
      "                 avg age\n",
      "class                   \n",
      "ballet             45.00\n",
      "cycle              40.20\n",
      "hydrogymnastics    41.83\n",
      "pilates            35.73\n",
      "swimming           39.10\n",
      "yoga               51.00\n",
      "zumba              41.67\n"
     ]
    }
   ],
   "source": [
    "solve3()"
   ]
  },
  {
   "cell_type": "markdown",
   "id": "2364a69d",
   "metadata": {},
   "source": [
    "Create a table with the number of customers by status and sex registered after 2014.\n"
   ]
  },
  {
   "cell_type": "code",
   "execution_count": 112,
   "id": "f42ba973",
   "metadata": {},
   "outputs": [],
   "source": [
    "df = pd.read_csv('quizPD06_09/gym2_q1.csv', sep = \";\", index_col = 'id', parse_dates = ['date'])\n"
   ]
  },
  {
   "cell_type": "code",
   "execution_count": 113,
   "id": "8074e89d",
   "metadata": {},
   "outputs": [],
   "source": [
    "def solve4():\n",
    "    df['date'] = pd.to_datetime(df['date'])\n",
    "\n",
    "    filtered_df = df[df['date'].dt.year > 2014]\n",
    "    result = filtered_df.groupby(['status', 'sex']).size().unstack(fill_value=0)\n",
    "    \n",
    "    print(result) "
   ]
  },
  {
   "cell_type": "code",
   "execution_count": 114,
   "id": "6c8b764e",
   "metadata": {
    "scrolled": true
   },
   "outputs": [
    {
     "ename": "ValueError",
     "evalue": "time data \"28/08/2018\" doesn't match format \"%m/%d/%Y\", at position 1. You might want to try:\n    - passing `format` if your strings have a consistent format;\n    - passing `format='ISO8601'` if your strings are all ISO8601 but not necessarily in exactly the same format;\n    - passing `format='mixed'`, and the format will be inferred for each element individually. You might want to use `dayfirst` alongside this.",
     "output_type": "error",
     "traceback": [
      "\u001b[1;31m---------------------------------------------------------------------------\u001b[0m",
      "\u001b[1;31mValueError\u001b[0m                                Traceback (most recent call last)",
      "Cell \u001b[1;32mIn[114], line 1\u001b[0m\n\u001b[1;32m----> 1\u001b[0m solve4()\n",
      "Cell \u001b[1;32mIn[113], line 2\u001b[0m, in \u001b[0;36msolve4\u001b[1;34m()\u001b[0m\n\u001b[0;32m      1\u001b[0m \u001b[38;5;28;01mdef\u001b[39;00m \u001b[38;5;21msolve4\u001b[39m():\n\u001b[1;32m----> 2\u001b[0m     df[\u001b[38;5;124m'\u001b[39m\u001b[38;5;124mdate\u001b[39m\u001b[38;5;124m'\u001b[39m] \u001b[38;5;241m=\u001b[39m pd\u001b[38;5;241m.\u001b[39mto_datetime(df[\u001b[38;5;124m'\u001b[39m\u001b[38;5;124mdate\u001b[39m\u001b[38;5;124m'\u001b[39m])\n\u001b[0;32m      4\u001b[0m     filtered_df \u001b[38;5;241m=\u001b[39m df[df[\u001b[38;5;124m'\u001b[39m\u001b[38;5;124mdate\u001b[39m\u001b[38;5;124m'\u001b[39m]\u001b[38;5;241m.\u001b[39mdt\u001b[38;5;241m.\u001b[39myear \u001b[38;5;241m>\u001b[39m \u001b[38;5;241m2014\u001b[39m]\n\u001b[0;32m      5\u001b[0m     result \u001b[38;5;241m=\u001b[39m filtered_df\u001b[38;5;241m.\u001b[39mgroupby([\u001b[38;5;124m'\u001b[39m\u001b[38;5;124mstatus\u001b[39m\u001b[38;5;124m'\u001b[39m, \u001b[38;5;124m'\u001b[39m\u001b[38;5;124msex\u001b[39m\u001b[38;5;124m'\u001b[39m])\u001b[38;5;241m.\u001b[39msize()\u001b[38;5;241m.\u001b[39munstack(fill_value\u001b[38;5;241m=\u001b[39m\u001b[38;5;241m0\u001b[39m)\n",
      "File \u001b[1;32m~\\anaconda3\\Lib\\site-packages\\pandas\\core\\tools\\datetimes.py:1050\u001b[0m, in \u001b[0;36mto_datetime\u001b[1;34m(arg, errors, dayfirst, yearfirst, utc, format, exact, unit, infer_datetime_format, origin, cache)\u001b[0m\n\u001b[0;32m   1048\u001b[0m         result \u001b[38;5;241m=\u001b[39m arg\u001b[38;5;241m.\u001b[39mmap(cache_array)\n\u001b[0;32m   1049\u001b[0m     \u001b[38;5;28;01melse\u001b[39;00m:\n\u001b[1;32m-> 1050\u001b[0m         values \u001b[38;5;241m=\u001b[39m convert_listlike(arg\u001b[38;5;241m.\u001b[39m_values, \u001b[38;5;28mformat\u001b[39m)\n\u001b[0;32m   1051\u001b[0m         result \u001b[38;5;241m=\u001b[39m arg\u001b[38;5;241m.\u001b[39m_constructor(values, index\u001b[38;5;241m=\u001b[39marg\u001b[38;5;241m.\u001b[39mindex, name\u001b[38;5;241m=\u001b[39marg\u001b[38;5;241m.\u001b[39mname)\n\u001b[0;32m   1052\u001b[0m \u001b[38;5;28;01melif\u001b[39;00m \u001b[38;5;28misinstance\u001b[39m(arg, (ABCDataFrame, abc\u001b[38;5;241m.\u001b[39mMutableMapping)):\n",
      "File \u001b[1;32m~\\anaconda3\\Lib\\site-packages\\pandas\\core\\tools\\datetimes.py:453\u001b[0m, in \u001b[0;36m_convert_listlike_datetimes\u001b[1;34m(arg, format, name, utc, unit, errors, dayfirst, yearfirst, exact)\u001b[0m\n\u001b[0;32m    451\u001b[0m \u001b[38;5;66;03m# `format` could be inferred, or user didn't ask for mixed-format parsing.\u001b[39;00m\n\u001b[0;32m    452\u001b[0m \u001b[38;5;28;01mif\u001b[39;00m \u001b[38;5;28mformat\u001b[39m \u001b[38;5;129;01mis\u001b[39;00m \u001b[38;5;129;01mnot\u001b[39;00m \u001b[38;5;28;01mNone\u001b[39;00m \u001b[38;5;129;01mand\u001b[39;00m \u001b[38;5;28mformat\u001b[39m \u001b[38;5;241m!=\u001b[39m \u001b[38;5;124m\"\u001b[39m\u001b[38;5;124mmixed\u001b[39m\u001b[38;5;124m\"\u001b[39m:\n\u001b[1;32m--> 453\u001b[0m     \u001b[38;5;28;01mreturn\u001b[39;00m _array_strptime_with_fallback(arg, name, utc, \u001b[38;5;28mformat\u001b[39m, exact, errors)\n\u001b[0;32m    455\u001b[0m result, tz_parsed \u001b[38;5;241m=\u001b[39m objects_to_datetime64ns(\n\u001b[0;32m    456\u001b[0m     arg,\n\u001b[0;32m    457\u001b[0m     dayfirst\u001b[38;5;241m=\u001b[39mdayfirst,\n\u001b[1;32m   (...)\u001b[0m\n\u001b[0;32m    461\u001b[0m     allow_object\u001b[38;5;241m=\u001b[39m\u001b[38;5;28;01mTrue\u001b[39;00m,\n\u001b[0;32m    462\u001b[0m )\n\u001b[0;32m    464\u001b[0m \u001b[38;5;28;01mif\u001b[39;00m tz_parsed \u001b[38;5;129;01mis\u001b[39;00m \u001b[38;5;129;01mnot\u001b[39;00m \u001b[38;5;28;01mNone\u001b[39;00m:\n\u001b[0;32m    465\u001b[0m     \u001b[38;5;66;03m# We can take a shortcut since the datetime64 numpy array\u001b[39;00m\n\u001b[0;32m    466\u001b[0m     \u001b[38;5;66;03m# is in UTC\u001b[39;00m\n",
      "File \u001b[1;32m~\\anaconda3\\Lib\\site-packages\\pandas\\core\\tools\\datetimes.py:484\u001b[0m, in \u001b[0;36m_array_strptime_with_fallback\u001b[1;34m(arg, name, utc, fmt, exact, errors)\u001b[0m\n\u001b[0;32m    473\u001b[0m \u001b[38;5;28;01mdef\u001b[39;00m \u001b[38;5;21m_array_strptime_with_fallback\u001b[39m(\n\u001b[0;32m    474\u001b[0m     arg,\n\u001b[0;32m    475\u001b[0m     name,\n\u001b[1;32m   (...)\u001b[0m\n\u001b[0;32m    479\u001b[0m     errors: \u001b[38;5;28mstr\u001b[39m,\n\u001b[0;32m    480\u001b[0m ) \u001b[38;5;241m-\u001b[39m\u001b[38;5;241m>\u001b[39m Index:\n\u001b[0;32m    481\u001b[0m \u001b[38;5;250m    \u001b[39m\u001b[38;5;124;03m\"\"\"\u001b[39;00m\n\u001b[0;32m    482\u001b[0m \u001b[38;5;124;03m    Call array_strptime, with fallback behavior depending on 'errors'.\u001b[39;00m\n\u001b[0;32m    483\u001b[0m \u001b[38;5;124;03m    \"\"\"\u001b[39;00m\n\u001b[1;32m--> 484\u001b[0m     result, timezones \u001b[38;5;241m=\u001b[39m array_strptime(arg, fmt, exact\u001b[38;5;241m=\u001b[39mexact, errors\u001b[38;5;241m=\u001b[39merrors, utc\u001b[38;5;241m=\u001b[39mutc)\n\u001b[0;32m    485\u001b[0m     \u001b[38;5;28;01mif\u001b[39;00m \u001b[38;5;28many\u001b[39m(tz \u001b[38;5;129;01mis\u001b[39;00m \u001b[38;5;129;01mnot\u001b[39;00m \u001b[38;5;28;01mNone\u001b[39;00m \u001b[38;5;28;01mfor\u001b[39;00m tz \u001b[38;5;129;01min\u001b[39;00m timezones):\n\u001b[0;32m    486\u001b[0m         \u001b[38;5;28;01mreturn\u001b[39;00m _return_parsed_timezone_results(result, timezones, utc, name)\n",
      "File \u001b[1;32m~\\anaconda3\\Lib\\site-packages\\pandas\\_libs\\tslibs\\strptime.pyx:530\u001b[0m, in \u001b[0;36mpandas._libs.tslibs.strptime.array_strptime\u001b[1;34m()\u001b[0m\n",
      "File \u001b[1;32m~\\anaconda3\\Lib\\site-packages\\pandas\\_libs\\tslibs\\strptime.pyx:351\u001b[0m, in \u001b[0;36mpandas._libs.tslibs.strptime.array_strptime\u001b[1;34m()\u001b[0m\n",
      "\u001b[1;31mValueError\u001b[0m: time data \"28/08/2018\" doesn't match format \"%m/%d/%Y\", at position 1. You might want to try:\n    - passing `format` if your strings have a consistent format;\n    - passing `format='ISO8601'` if your strings are all ISO8601 but not necessarily in exactly the same format;\n    - passing `format='mixed'`, and the format will be inferred for each element individually. You might want to use `dayfirst` alongside this."
     ]
    }
   ],
   "source": [
    "solve4()"
   ]
  },
  {
   "cell_type": "code",
   "execution_count": null,
   "id": "a3b48271",
   "metadata": {},
   "outputs": [],
   "source": []
  }
 ],
 "metadata": {
  "kernelspec": {
   "display_name": "Python 3 (ipykernel)",
   "language": "python",
   "name": "python3"
  },
  "language_info": {
   "codemirror_mode": {
    "name": "ipython",
    "version": 3
   },
   "file_extension": ".py",
   "mimetype": "text/x-python",
   "name": "python",
   "nbconvert_exporter": "python",
   "pygments_lexer": "ipython3",
   "version": "3.11.5"
  }
 },
 "nbformat": 4,
 "nbformat_minor": 5
}
