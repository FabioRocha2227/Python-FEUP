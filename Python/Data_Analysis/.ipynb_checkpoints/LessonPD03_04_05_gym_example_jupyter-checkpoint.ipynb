{
 "cells": [
  {
   "cell_type": "markdown",
   "metadata": {},
   "source": [
    "#### Import Pandas module as pd"
   ]
  },
  {
   "cell_type": "code",
   "execution_count": 67,
   "metadata": {},
   "outputs": [],
   "source": [
    "import pandas as pd"
   ]
  },
  {
   "cell_type": "markdown",
   "metadata": {},
   "source": [
    "#### Reads the .csv file 'gym.csv' using ';' as separator"
   ]
  },
  {
   "cell_type": "code",
   "execution_count": 68,
   "metadata": {},
   "outputs": [],
   "source": [
    "df = pd.read_csv('gym.csv', sep = ';', parse_dates=['date'])"
   ]
  },
  {
   "cell_type": "markdown",
   "metadata": {},
   "source": [
    "#### Shows the first n rows from the DataFrame (5 rows if the argument is ommited)"
   ]
  },
  {
   "cell_type": "code",
   "execution_count": 69,
   "metadata": {},
   "outputs": [
    {
     "data": {
      "text/html": [
       "<div>\n",
       "<style scoped>\n",
       "    .dataframe tbody tr th:only-of-type {\n",
       "        vertical-align: middle;\n",
       "    }\n",
       "\n",
       "    .dataframe tbody tr th {\n",
       "        vertical-align: top;\n",
       "    }\n",
       "\n",
       "    .dataframe thead th {\n",
       "        text-align: right;\n",
       "    }\n",
       "</style>\n",
       "<table border=\"1\" class=\"dataframe\">\n",
       "  <thead>\n",
       "    <tr style=\"text-align: right;\">\n",
       "      <th></th>\n",
       "      <th>id</th>\n",
       "      <th>name</th>\n",
       "      <th>date</th>\n",
       "      <th>height</th>\n",
       "      <th>weight</th>\n",
       "      <th>age</th>\n",
       "      <th>hours</th>\n",
       "      <th>status</th>\n",
       "      <th>children</th>\n",
       "      <th>sex</th>\n",
       "    </tr>\n",
       "  </thead>\n",
       "  <tbody>\n",
       "    <tr>\n",
       "      <th>0</th>\n",
       "      <td>1373913</td>\n",
       "      <td>Marisa Martins</td>\n",
       "      <td>02/05/2013</td>\n",
       "      <td>155</td>\n",
       "      <td>48</td>\n",
       "      <td>45</td>\n",
       "      <td>3</td>\n",
       "      <td>married</td>\n",
       "      <td>2</td>\n",
       "      <td>F</td>\n",
       "    </tr>\n",
       "    <tr>\n",
       "      <th>1</th>\n",
       "      <td>1109818</td>\n",
       "      <td>Rita Fonseca</td>\n",
       "      <td>28/08/2018</td>\n",
       "      <td>166</td>\n",
       "      <td>54</td>\n",
       "      <td>45</td>\n",
       "      <td>3</td>\n",
       "      <td>married</td>\n",
       "      <td>3</td>\n",
       "      <td>F</td>\n",
       "    </tr>\n",
       "    <tr>\n",
       "      <th>2</th>\n",
       "      <td>1158813</td>\n",
       "      <td>Joana Freitas</td>\n",
       "      <td>21/10/2013</td>\n",
       "      <td>150</td>\n",
       "      <td>42</td>\n",
       "      <td>52</td>\n",
       "      <td>3</td>\n",
       "      <td>widow</td>\n",
       "      <td>1</td>\n",
       "      <td>F</td>\n",
       "    </tr>\n",
       "  </tbody>\n",
       "</table>\n",
       "</div>"
      ],
      "text/plain": [
       "        id            name        date  height  weight  age  hours   status  \\\n",
       "0  1373913  Marisa Martins  02/05/2013     155      48   45      3  married   \n",
       "1  1109818    Rita Fonseca  28/08/2018     166      54   45      3  married   \n",
       "2  1158813   Joana Freitas  21/10/2013     150      42   52      3    widow   \n",
       "\n",
       "   children sex  \n",
       "0         2   F  \n",
       "1         3   F  \n",
       "2         1   F  "
      ]
     },
     "execution_count": 69,
     "metadata": {},
     "output_type": "execute_result"
    }
   ],
   "source": [
    "df.head(3)"
   ]
  },
  {
   "cell_type": "markdown",
   "metadata": {},
   "source": [
    "#### Shows the last n rows from the DataFrame (5 rows if the argument is ommited)"
   ]
  },
  {
   "cell_type": "code",
   "execution_count": 70,
   "metadata": {},
   "outputs": [
    {
     "data": {
      "text/html": [
       "<div>\n",
       "<style scoped>\n",
       "    .dataframe tbody tr th:only-of-type {\n",
       "        vertical-align: middle;\n",
       "    }\n",
       "\n",
       "    .dataframe tbody tr th {\n",
       "        vertical-align: top;\n",
       "    }\n",
       "\n",
       "    .dataframe thead th {\n",
       "        text-align: right;\n",
       "    }\n",
       "</style>\n",
       "<table border=\"1\" class=\"dataframe\">\n",
       "  <thead>\n",
       "    <tr style=\"text-align: right;\">\n",
       "      <th></th>\n",
       "      <th>id</th>\n",
       "      <th>name</th>\n",
       "      <th>date</th>\n",
       "      <th>height</th>\n",
       "      <th>weight</th>\n",
       "      <th>age</th>\n",
       "      <th>hours</th>\n",
       "      <th>status</th>\n",
       "      <th>children</th>\n",
       "      <th>sex</th>\n",
       "    </tr>\n",
       "  </thead>\n",
       "  <tbody>\n",
       "    <tr>\n",
       "      <th>57</th>\n",
       "      <td>1150114</td>\n",
       "      <td>Antonio Goncalves</td>\n",
       "      <td>22/11/2014</td>\n",
       "      <td>158</td>\n",
       "      <td>49</td>\n",
       "      <td>34</td>\n",
       "      <td>3</td>\n",
       "      <td>single</td>\n",
       "      <td>0</td>\n",
       "      <td>M</td>\n",
       "    </tr>\n",
       "    <tr>\n",
       "      <th>58</th>\n",
       "      <td>1658815</td>\n",
       "      <td>Manuel Freitas</td>\n",
       "      <td>11/06/2015</td>\n",
       "      <td>170</td>\n",
       "      <td>51</td>\n",
       "      <td>57</td>\n",
       "      <td>1</td>\n",
       "      <td>widow</td>\n",
       "      <td>2</td>\n",
       "      <td>M</td>\n",
       "    </tr>\n",
       "    <tr>\n",
       "      <th>59</th>\n",
       "      <td>1769504</td>\n",
       "      <td>Joao Tavares</td>\n",
       "      <td>06/08/2004</td>\n",
       "      <td>177</td>\n",
       "      <td>85</td>\n",
       "      <td>32</td>\n",
       "      <td>3</td>\n",
       "      <td>married</td>\n",
       "      <td>2</td>\n",
       "      <td>M</td>\n",
       "    </tr>\n",
       "  </tbody>\n",
       "</table>\n",
       "</div>"
      ],
      "text/plain": [
       "         id               name        date  height  weight  age  hours  \\\n",
       "57  1150114  Antonio Goncalves  22/11/2014     158      49   34      3   \n",
       "58  1658815     Manuel Freitas  11/06/2015     170      51   57      1   \n",
       "59  1769504       Joao Tavares  06/08/2004     177      85   32      3   \n",
       "\n",
       "     status  children sex  \n",
       "57   single         0   M  \n",
       "58    widow         2   M  \n",
       "59  married         2   M  "
      ]
     },
     "execution_count": 70,
     "metadata": {},
     "output_type": "execute_result"
    }
   ],
   "source": [
    "df.tail(3)"
   ]
  },
  {
   "cell_type": "markdown",
   "metadata": {},
   "source": [
    "#### Get the number of lines and columns of the DataFrame"
   ]
  },
  {
   "cell_type": "code",
   "execution_count": 71,
   "metadata": {},
   "outputs": [
    {
     "data": {
      "text/plain": [
       "(60, 10)"
      ]
     },
     "execution_count": 71,
     "metadata": {},
     "output_type": "execute_result"
    }
   ],
   "source": [
    "df.shape"
   ]
  },
  {
   "cell_type": "markdown",
   "metadata": {},
   "source": [
    "#### General info about the DataFrame"
   ]
  },
  {
   "cell_type": "code",
   "execution_count": 72,
   "metadata": {},
   "outputs": [
    {
     "name": "stdout",
     "output_type": "stream",
     "text": [
      "<class 'pandas.core.frame.DataFrame'>\n",
      "RangeIndex: 60 entries, 0 to 59\n",
      "Data columns (total 10 columns):\n",
      " #   Column    Non-Null Count  Dtype \n",
      "---  ------    --------------  ----- \n",
      " 0   id        60 non-null     int64 \n",
      " 1   name      60 non-null     object\n",
      " 2   date      60 non-null     object\n",
      " 3   height    60 non-null     int64 \n",
      " 4   weight    60 non-null     int64 \n",
      " 5   age       60 non-null     int64 \n",
      " 6   hours     60 non-null     int64 \n",
      " 7   status    60 non-null     object\n",
      " 8   children  60 non-null     int64 \n",
      " 9   sex       60 non-null     object\n",
      "dtypes: int64(6), object(4)\n",
      "memory usage: 4.8+ KB\n"
     ]
    }
   ],
   "source": [
    "df.info()"
   ]
  },
  {
   "cell_type": "markdown",
   "metadata": {},
   "source": [
    "#### Get the type of data in each DataFrame column. Type object is Python string"
   ]
  },
  {
   "cell_type": "code",
   "execution_count": 73,
   "metadata": {
    "scrolled": true
   },
   "outputs": [
    {
     "data": {
      "text/plain": [
       "id           int64\n",
       "name        object\n",
       "date        object\n",
       "height       int64\n",
       "weight       int64\n",
       "age          int64\n",
       "hours        int64\n",
       "status      object\n",
       "children     int64\n",
       "sex         object\n",
       "dtype: object"
      ]
     },
     "execution_count": 73,
     "metadata": {},
     "output_type": "execute_result"
    }
   ],
   "source": [
    "df.dtypes"
   ]
  },
  {
   "cell_type": "markdown",
   "metadata": {},
   "source": [
    "#### Access the row with label 0. Returns a series"
   ]
  },
  {
   "cell_type": "code",
   "execution_count": 74,
   "metadata": {},
   "outputs": [
    {
     "data": {
      "text/plain": [
       "id                 1373913\n",
       "name        Marisa Martins\n",
       "date            02/05/2013\n",
       "height                 155\n",
       "weight                  48\n",
       "age                     45\n",
       "hours                    3\n",
       "status             married\n",
       "children                 2\n",
       "sex                      F\n",
       "Name: 0, dtype: object"
      ]
     },
     "execution_count": 74,
     "metadata": {},
     "output_type": "execute_result"
    }
   ],
   "source": [
    "df.loc[0]"
   ]
  },
  {
   "cell_type": "code",
   "execution_count": 75,
   "metadata": {},
   "outputs": [
    {
     "data": {
      "text/plain": [
       "pandas.core.series.Series"
      ]
     },
     "execution_count": 75,
     "metadata": {},
     "output_type": "execute_result"
    }
   ],
   "source": [
    "type(df.loc[0])"
   ]
  },
  {
   "cell_type": "markdown",
   "metadata": {},
   "source": [
    "#### Access all the rows from column 'age'"
   ]
  },
  {
   "cell_type": "code",
   "execution_count": 76,
   "metadata": {},
   "outputs": [],
   "source": [
    "s = df.loc[:,'age']"
   ]
  },
  {
   "cell_type": "code",
   "execution_count": 77,
   "metadata": {},
   "outputs": [
    {
     "data": {
      "text/plain": [
       "0    45\n",
       "1    45\n",
       "2    52\n",
       "3    59\n",
       "4    43\n",
       "Name: age, dtype: int64"
      ]
     },
     "execution_count": 77,
     "metadata": {},
     "output_type": "execute_result"
    }
   ],
   "source": [
    "s.head()"
   ]
  },
  {
   "cell_type": "code",
   "execution_count": 78,
   "metadata": {},
   "outputs": [
    {
     "data": {
      "text/plain": [
       "pandas.core.series.Series"
      ]
     },
     "execution_count": 78,
     "metadata": {},
     "output_type": "execute_result"
    }
   ],
   "source": [
    "type(s)"
   ]
  },
  {
   "cell_type": "markdown",
   "metadata": {},
   "source": [
    "#### Access value in row with label 0 in column 'age'"
   ]
  },
  {
   "cell_type": "code",
   "execution_count": 79,
   "metadata": {},
   "outputs": [
    {
     "data": {
      "text/plain": [
       "45"
      ]
     },
     "execution_count": 79,
     "metadata": {},
     "output_type": "execute_result"
    }
   ],
   "source": [
    "df.loc[0,'age']"
   ]
  },
  {
   "cell_type": "markdown",
   "metadata": {},
   "source": [
    "#### Access the rows with labels 0, 2 and 4"
   ]
  },
  {
   "cell_type": "code",
   "execution_count": 80,
   "metadata": {
    "scrolled": true
   },
   "outputs": [
    {
     "data": {
      "text/html": [
       "<div>\n",
       "<style scoped>\n",
       "    .dataframe tbody tr th:only-of-type {\n",
       "        vertical-align: middle;\n",
       "    }\n",
       "\n",
       "    .dataframe tbody tr th {\n",
       "        vertical-align: top;\n",
       "    }\n",
       "\n",
       "    .dataframe thead th {\n",
       "        text-align: right;\n",
       "    }\n",
       "</style>\n",
       "<table border=\"1\" class=\"dataframe\">\n",
       "  <thead>\n",
       "    <tr style=\"text-align: right;\">\n",
       "      <th></th>\n",
       "      <th>id</th>\n",
       "      <th>name</th>\n",
       "      <th>date</th>\n",
       "      <th>height</th>\n",
       "      <th>weight</th>\n",
       "      <th>age</th>\n",
       "      <th>hours</th>\n",
       "      <th>status</th>\n",
       "      <th>children</th>\n",
       "      <th>sex</th>\n",
       "    </tr>\n",
       "  </thead>\n",
       "  <tbody>\n",
       "    <tr>\n",
       "      <th>0</th>\n",
       "      <td>1373913</td>\n",
       "      <td>Marisa Martins</td>\n",
       "      <td>02/05/2013</td>\n",
       "      <td>155</td>\n",
       "      <td>48</td>\n",
       "      <td>45</td>\n",
       "      <td>3</td>\n",
       "      <td>married</td>\n",
       "      <td>2</td>\n",
       "      <td>F</td>\n",
       "    </tr>\n",
       "    <tr>\n",
       "      <th>2</th>\n",
       "      <td>1158813</td>\n",
       "      <td>Joana Freitas</td>\n",
       "      <td>21/10/2013</td>\n",
       "      <td>150</td>\n",
       "      <td>42</td>\n",
       "      <td>52</td>\n",
       "      <td>3</td>\n",
       "      <td>widow</td>\n",
       "      <td>1</td>\n",
       "      <td>F</td>\n",
       "    </tr>\n",
       "    <tr>\n",
       "      <th>4</th>\n",
       "      <td>1974509</td>\n",
       "      <td>Francisco Fonseca</td>\n",
       "      <td>22/08/2009</td>\n",
       "      <td>162</td>\n",
       "      <td>52</td>\n",
       "      <td>43</td>\n",
       "      <td>2</td>\n",
       "      <td>married</td>\n",
       "      <td>1</td>\n",
       "      <td>M</td>\n",
       "    </tr>\n",
       "  </tbody>\n",
       "</table>\n",
       "</div>"
      ],
      "text/plain": [
       "        id               name        date  height  weight  age  hours  \\\n",
       "0  1373913     Marisa Martins  02/05/2013     155      48   45      3   \n",
       "2  1158813      Joana Freitas  21/10/2013     150      42   52      3   \n",
       "4  1974509  Francisco Fonseca  22/08/2009     162      52   43      2   \n",
       "\n",
       "    status  children sex  \n",
       "0  married         2   F  \n",
       "2    widow         1   F  \n",
       "4  married         1   M  "
      ]
     },
     "execution_count": 80,
     "metadata": {},
     "output_type": "execute_result"
    }
   ],
   "source": [
    "df.loc[[0,2,4]]"
   ]
  },
  {
   "cell_type": "markdown",
   "metadata": {},
   "source": [
    "#### Access values in rows with labels 0 and 2 and columns 'name' and 'age'"
   ]
  },
  {
   "cell_type": "code",
   "execution_count": 81,
   "metadata": {
    "scrolled": true
   },
   "outputs": [
    {
     "data": {
      "text/html": [
       "<div>\n",
       "<style scoped>\n",
       "    .dataframe tbody tr th:only-of-type {\n",
       "        vertical-align: middle;\n",
       "    }\n",
       "\n",
       "    .dataframe tbody tr th {\n",
       "        vertical-align: top;\n",
       "    }\n",
       "\n",
       "    .dataframe thead th {\n",
       "        text-align: right;\n",
       "    }\n",
       "</style>\n",
       "<table border=\"1\" class=\"dataframe\">\n",
       "  <thead>\n",
       "    <tr style=\"text-align: right;\">\n",
       "      <th></th>\n",
       "      <th>name</th>\n",
       "      <th>age</th>\n",
       "    </tr>\n",
       "  </thead>\n",
       "  <tbody>\n",
       "    <tr>\n",
       "      <th>0</th>\n",
       "      <td>Marisa Martins</td>\n",
       "      <td>45</td>\n",
       "    </tr>\n",
       "    <tr>\n",
       "      <th>2</th>\n",
       "      <td>Joana Freitas</td>\n",
       "      <td>52</td>\n",
       "    </tr>\n",
       "  </tbody>\n",
       "</table>\n",
       "</div>"
      ],
      "text/plain": [
       "             name  age\n",
       "0  Marisa Martins   45\n",
       "2   Joana Freitas   52"
      ]
     },
     "execution_count": 81,
     "metadata": {},
     "output_type": "execute_result"
    }
   ],
   "source": [
    "df.loc[[0,2],['name', 'age']]"
   ]
  },
  {
   "cell_type": "markdown",
   "metadata": {},
   "source": [
    "#### Access the values between rows with labels 0 and 2 and between columns 'name' and 'age'"
   ]
  },
  {
   "cell_type": "code",
   "execution_count": 82,
   "metadata": {
    "scrolled": true
   },
   "outputs": [
    {
     "data": {
      "text/html": [
       "<div>\n",
       "<style scoped>\n",
       "    .dataframe tbody tr th:only-of-type {\n",
       "        vertical-align: middle;\n",
       "    }\n",
       "\n",
       "    .dataframe tbody tr th {\n",
       "        vertical-align: top;\n",
       "    }\n",
       "\n",
       "    .dataframe thead th {\n",
       "        text-align: right;\n",
       "    }\n",
       "</style>\n",
       "<table border=\"1\" class=\"dataframe\">\n",
       "  <thead>\n",
       "    <tr style=\"text-align: right;\">\n",
       "      <th></th>\n",
       "      <th>name</th>\n",
       "      <th>date</th>\n",
       "      <th>height</th>\n",
       "      <th>weight</th>\n",
       "      <th>age</th>\n",
       "    </tr>\n",
       "  </thead>\n",
       "  <tbody>\n",
       "    <tr>\n",
       "      <th>0</th>\n",
       "      <td>Marisa Martins</td>\n",
       "      <td>02/05/2013</td>\n",
       "      <td>155</td>\n",
       "      <td>48</td>\n",
       "      <td>45</td>\n",
       "    </tr>\n",
       "    <tr>\n",
       "      <th>1</th>\n",
       "      <td>Rita Fonseca</td>\n",
       "      <td>28/08/2018</td>\n",
       "      <td>166</td>\n",
       "      <td>54</td>\n",
       "      <td>45</td>\n",
       "    </tr>\n",
       "    <tr>\n",
       "      <th>2</th>\n",
       "      <td>Joana Freitas</td>\n",
       "      <td>21/10/2013</td>\n",
       "      <td>150</td>\n",
       "      <td>42</td>\n",
       "      <td>52</td>\n",
       "    </tr>\n",
       "  </tbody>\n",
       "</table>\n",
       "</div>"
      ],
      "text/plain": [
       "             name        date  height  weight  age\n",
       "0  Marisa Martins  02/05/2013     155      48   45\n",
       "1    Rita Fonseca  28/08/2018     166      54   45\n",
       "2   Joana Freitas  21/10/2013     150      42   52"
      ]
     },
     "execution_count": 82,
     "metadata": {},
     "output_type": "execute_result"
    }
   ],
   "source": [
    "df.loc[0:2,'name':'age']"
   ]
  },
  {
   "cell_type": "markdown",
   "metadata": {},
   "source": [
    "#### Access the value in row 1 and column 1"
   ]
  },
  {
   "cell_type": "code",
   "execution_count": 83,
   "metadata": {},
   "outputs": [
    {
     "data": {
      "text/plain": [
       "'Rita Fonseca'"
      ]
     },
     "execution_count": 83,
     "metadata": {},
     "output_type": "execute_result"
    }
   ],
   "source": [
    "df.iloc[1,1]"
   ]
  },
  {
   "cell_type": "markdown",
   "metadata": {},
   "source": [
    "#### Access to all the values in row 1 "
   ]
  },
  {
   "cell_type": "code",
   "execution_count": 84,
   "metadata": {},
   "outputs": [
    {
     "data": {
      "text/plain": [
       "id               1109818\n",
       "name        Rita Fonseca\n",
       "date          28/08/2018\n",
       "height               166\n",
       "weight                54\n",
       "age                   45\n",
       "hours                  3\n",
       "status           married\n",
       "children               3\n",
       "sex                    F\n",
       "Name: 1, dtype: object"
      ]
     },
     "execution_count": 84,
     "metadata": {},
     "output_type": "execute_result"
    }
   ],
   "source": [
    "df.iloc[1,:]"
   ]
  },
  {
   "cell_type": "markdown",
   "metadata": {},
   "source": [
    "#### Access rows between 0 and 2 and columns between 2 and 4"
   ]
  },
  {
   "cell_type": "code",
   "execution_count": 85,
   "metadata": {
    "scrolled": true
   },
   "outputs": [
    {
     "data": {
      "text/html": [
       "<div>\n",
       "<style scoped>\n",
       "    .dataframe tbody tr th:only-of-type {\n",
       "        vertical-align: middle;\n",
       "    }\n",
       "\n",
       "    .dataframe tbody tr th {\n",
       "        vertical-align: top;\n",
       "    }\n",
       "\n",
       "    .dataframe thead th {\n",
       "        text-align: right;\n",
       "    }\n",
       "</style>\n",
       "<table border=\"1\" class=\"dataframe\">\n",
       "  <thead>\n",
       "    <tr style=\"text-align: right;\">\n",
       "      <th></th>\n",
       "      <th>date</th>\n",
       "      <th>height</th>\n",
       "    </tr>\n",
       "  </thead>\n",
       "  <tbody>\n",
       "    <tr>\n",
       "      <th>0</th>\n",
       "      <td>02/05/2013</td>\n",
       "      <td>155</td>\n",
       "    </tr>\n",
       "    <tr>\n",
       "      <th>1</th>\n",
       "      <td>28/08/2018</td>\n",
       "      <td>166</td>\n",
       "    </tr>\n",
       "  </tbody>\n",
       "</table>\n",
       "</div>"
      ],
      "text/plain": [
       "         date  height\n",
       "0  02/05/2013     155\n",
       "1  28/08/2018     166"
      ]
     },
     "execution_count": 85,
     "metadata": {},
     "output_type": "execute_result"
    }
   ],
   "source": [
    "df.iloc[0:2,2:4]"
   ]
  },
  {
   "cell_type": "markdown",
   "metadata": {},
   "source": [
    "#### Row index, by default an integer row number"
   ]
  },
  {
   "cell_type": "code",
   "execution_count": 86,
   "metadata": {
    "scrolled": true
   },
   "outputs": [
    {
     "data": {
      "text/plain": [
       "RangeIndex(start=0, stop=60, step=1)"
      ]
     },
     "execution_count": 86,
     "metadata": {},
     "output_type": "execute_result"
    }
   ],
   "source": [
    "df.index"
   ]
  },
  {
   "cell_type": "markdown",
   "metadata": {},
   "source": [
    "#### Column index - column names"
   ]
  },
  {
   "cell_type": "code",
   "execution_count": 87,
   "metadata": {},
   "outputs": [
    {
     "data": {
      "text/plain": [
       "Index(['id', 'name', 'date', 'height', 'weight', 'age', 'hours', 'status',\n",
       "       'children', 'sex'],\n",
       "      dtype='object')"
      ]
     },
     "execution_count": 87,
     "metadata": {},
     "output_type": "execute_result"
    }
   ],
   "source": [
    "df.columns"
   ]
  },
  {
   "cell_type": "markdown",
   "metadata": {},
   "source": [
    "#### Set column 'name' as the new index"
   ]
  },
  {
   "cell_type": "code",
   "execution_count": 88,
   "metadata": {},
   "outputs": [],
   "source": [
    "df.set_index('name', inplace=True)"
   ]
  },
  {
   "cell_type": "markdown",
   "metadata": {},
   "source": [
    "#### The values in a row can be accessed using the index of the row"
   ]
  },
  {
   "cell_type": "code",
   "execution_count": 89,
   "metadata": {},
   "outputs": [
    {
     "data": {
      "text/plain": [
       "id             1871004\n",
       "date        17/09/2004\n",
       "height             153\n",
       "weight              67\n",
       "age                 26\n",
       "hours                7\n",
       "status         married\n",
       "children             1\n",
       "sex                  M\n",
       "Name: Jose Carvalho, dtype: object"
      ]
     },
     "execution_count": 89,
     "metadata": {},
     "output_type": "execute_result"
    }
   ],
   "source": [
    "df.loc['Jose Carvalho']"
   ]
  },
  {
   "cell_type": "markdown",
   "metadata": {},
   "source": [
    "#### The DataFrame index can be sorted"
   ]
  },
  {
   "cell_type": "code",
   "execution_count": 90,
   "metadata": {
    "scrolled": true
   },
   "outputs": [
    {
     "data": {
      "text/html": [
       "<div>\n",
       "<style scoped>\n",
       "    .dataframe tbody tr th:only-of-type {\n",
       "        vertical-align: middle;\n",
       "    }\n",
       "\n",
       "    .dataframe tbody tr th {\n",
       "        vertical-align: top;\n",
       "    }\n",
       "\n",
       "    .dataframe thead th {\n",
       "        text-align: right;\n",
       "    }\n",
       "</style>\n",
       "<table border=\"1\" class=\"dataframe\">\n",
       "  <thead>\n",
       "    <tr style=\"text-align: right;\">\n",
       "      <th></th>\n",
       "      <th>id</th>\n",
       "      <th>date</th>\n",
       "      <th>height</th>\n",
       "      <th>weight</th>\n",
       "      <th>age</th>\n",
       "      <th>hours</th>\n",
       "      <th>status</th>\n",
       "      <th>children</th>\n",
       "      <th>sex</th>\n",
       "    </tr>\n",
       "    <tr>\n",
       "      <th>name</th>\n",
       "      <th></th>\n",
       "      <th></th>\n",
       "      <th></th>\n",
       "      <th></th>\n",
       "      <th></th>\n",
       "      <th></th>\n",
       "      <th></th>\n",
       "      <th></th>\n",
       "      <th></th>\n",
       "    </tr>\n",
       "  </thead>\n",
       "  <tbody>\n",
       "    <tr>\n",
       "      <th>Susana Marinho</th>\n",
       "      <td>1521112</td>\n",
       "      <td>18/08/2012</td>\n",
       "      <td>174</td>\n",
       "      <td>60</td>\n",
       "      <td>35</td>\n",
       "      <td>5</td>\n",
       "      <td>single</td>\n",
       "      <td>0</td>\n",
       "      <td>F</td>\n",
       "    </tr>\n",
       "    <tr>\n",
       "      <th>Susana Madeira</th>\n",
       "      <td>1436908</td>\n",
       "      <td>09/05/2008</td>\n",
       "      <td>160</td>\n",
       "      <td>49</td>\n",
       "      <td>56</td>\n",
       "      <td>2</td>\n",
       "      <td>divorced</td>\n",
       "      <td>2</td>\n",
       "      <td>F</td>\n",
       "    </tr>\n",
       "    <tr>\n",
       "      <th>Susana Goncalves</th>\n",
       "      <td>1170413</td>\n",
       "      <td>07/03/2013</td>\n",
       "      <td>157</td>\n",
       "      <td>65</td>\n",
       "      <td>40</td>\n",
       "      <td>2</td>\n",
       "      <td>married</td>\n",
       "      <td>5</td>\n",
       "      <td>F</td>\n",
       "    </tr>\n",
       "    <tr>\n",
       "      <th>Sonia Pinho</th>\n",
       "      <td>1337319</td>\n",
       "      <td>11/02/2019</td>\n",
       "      <td>177</td>\n",
       "      <td>63</td>\n",
       "      <td>34</td>\n",
       "      <td>5</td>\n",
       "      <td>single</td>\n",
       "      <td>0</td>\n",
       "      <td>F</td>\n",
       "    </tr>\n",
       "    <tr>\n",
       "      <th>Sonia Pereira</th>\n",
       "      <td>1374905</td>\n",
       "      <td>17/10/2005</td>\n",
       "      <td>178</td>\n",
       "      <td>94</td>\n",
       "      <td>37</td>\n",
       "      <td>3</td>\n",
       "      <td>married</td>\n",
       "      <td>3</td>\n",
       "      <td>F</td>\n",
       "    </tr>\n",
       "    <tr>\n",
       "      <th>Sonia Marinho</th>\n",
       "      <td>1564109</td>\n",
       "      <td>06/11/2009</td>\n",
       "      <td>156</td>\n",
       "      <td>46</td>\n",
       "      <td>41</td>\n",
       "      <td>2</td>\n",
       "      <td>married</td>\n",
       "      <td>3</td>\n",
       "      <td>F</td>\n",
       "    </tr>\n",
       "    <tr>\n",
       "      <th>Sonia Goncalves</th>\n",
       "      <td>1471416</td>\n",
       "      <td>07/05/2016</td>\n",
       "      <td>170</td>\n",
       "      <td>52</td>\n",
       "      <td>43</td>\n",
       "      <td>3</td>\n",
       "      <td>married</td>\n",
       "      <td>2</td>\n",
       "      <td>F</td>\n",
       "    </tr>\n",
       "    <tr>\n",
       "      <th>Sonia Fonseca</th>\n",
       "      <td>1320306</td>\n",
       "      <td>12/09/2006</td>\n",
       "      <td>152</td>\n",
       "      <td>46</td>\n",
       "      <td>37</td>\n",
       "      <td>4</td>\n",
       "      <td>married</td>\n",
       "      <td>1</td>\n",
       "      <td>F</td>\n",
       "    </tr>\n",
       "    <tr>\n",
       "      <th>Rita Madeira</th>\n",
       "      <td>1204821</td>\n",
       "      <td>11/06/2021</td>\n",
       "      <td>151</td>\n",
       "      <td>45</td>\n",
       "      <td>44</td>\n",
       "      <td>2</td>\n",
       "      <td>married</td>\n",
       "      <td>2</td>\n",
       "      <td>F</td>\n",
       "    </tr>\n",
       "    <tr>\n",
       "      <th>Rita Fonseca</th>\n",
       "      <td>1109818</td>\n",
       "      <td>28/08/2018</td>\n",
       "      <td>166</td>\n",
       "      <td>54</td>\n",
       "      <td>45</td>\n",
       "      <td>3</td>\n",
       "      <td>married</td>\n",
       "      <td>3</td>\n",
       "      <td>F</td>\n",
       "    </tr>\n",
       "    <tr>\n",
       "      <th>Rita Cruz</th>\n",
       "      <td>1930916</td>\n",
       "      <td>10/11/2016</td>\n",
       "      <td>168</td>\n",
       "      <td>52</td>\n",
       "      <td>56</td>\n",
       "      <td>3</td>\n",
       "      <td>married</td>\n",
       "      <td>2</td>\n",
       "      <td>F</td>\n",
       "    </tr>\n",
       "    <tr>\n",
       "      <th>Pedro Madeira</th>\n",
       "      <td>1610119</td>\n",
       "      <td>19/05/2019</td>\n",
       "      <td>163</td>\n",
       "      <td>53</td>\n",
       "      <td>28</td>\n",
       "      <td>5</td>\n",
       "      <td>married</td>\n",
       "      <td>4</td>\n",
       "      <td>M</td>\n",
       "    </tr>\n",
       "    <tr>\n",
       "      <th>Pedro Goncalves</th>\n",
       "      <td>1776804</td>\n",
       "      <td>09/03/2004</td>\n",
       "      <td>156</td>\n",
       "      <td>46</td>\n",
       "      <td>32</td>\n",
       "      <td>5</td>\n",
       "      <td>single</td>\n",
       "      <td>0</td>\n",
       "      <td>M</td>\n",
       "    </tr>\n",
       "    <tr>\n",
       "      <th>Pedro Fonseca</th>\n",
       "      <td>1065208</td>\n",
       "      <td>09/02/2008</td>\n",
       "      <td>153</td>\n",
       "      <td>80</td>\n",
       "      <td>49</td>\n",
       "      <td>1</td>\n",
       "      <td>married</td>\n",
       "      <td>2</td>\n",
       "      <td>M</td>\n",
       "    </tr>\n",
       "    <tr>\n",
       "      <th>Pedro Cruz</th>\n",
       "      <td>1221721</td>\n",
       "      <td>11/08/2021</td>\n",
       "      <td>161</td>\n",
       "      <td>50</td>\n",
       "      <td>43</td>\n",
       "      <td>3</td>\n",
       "      <td>single</td>\n",
       "      <td>1</td>\n",
       "      <td>M</td>\n",
       "    </tr>\n",
       "    <tr>\n",
       "      <th>Marisa Martins</th>\n",
       "      <td>1373913</td>\n",
       "      <td>02/05/2013</td>\n",
       "      <td>155</td>\n",
       "      <td>48</td>\n",
       "      <td>45</td>\n",
       "      <td>3</td>\n",
       "      <td>married</td>\n",
       "      <td>2</td>\n",
       "      <td>F</td>\n",
       "    </tr>\n",
       "    <tr>\n",
       "      <th>Marisa Cruz</th>\n",
       "      <td>1223600</td>\n",
       "      <td>16/10/2000</td>\n",
       "      <td>171</td>\n",
       "      <td>61</td>\n",
       "      <td>42</td>\n",
       "      <td>4</td>\n",
       "      <td>married</td>\n",
       "      <td>2</td>\n",
       "      <td>F</td>\n",
       "    </tr>\n",
       "    <tr>\n",
       "      <th>Manuel Pinho</th>\n",
       "      <td>1315817</td>\n",
       "      <td>23/12/2017</td>\n",
       "      <td>179</td>\n",
       "      <td>58</td>\n",
       "      <td>29</td>\n",
       "      <td>5</td>\n",
       "      <td>single</td>\n",
       "      <td>0</td>\n",
       "      <td>M</td>\n",
       "    </tr>\n",
       "    <tr>\n",
       "      <th>Manuel Martins</th>\n",
       "      <td>1767703</td>\n",
       "      <td>25/01/2003</td>\n",
       "      <td>179</td>\n",
       "      <td>85</td>\n",
       "      <td>24</td>\n",
       "      <td>6</td>\n",
       "      <td>single</td>\n",
       "      <td>0</td>\n",
       "      <td>M</td>\n",
       "    </tr>\n",
       "    <tr>\n",
       "      <th>Manuel Marinho</th>\n",
       "      <td>1417018</td>\n",
       "      <td>20/06/2018</td>\n",
       "      <td>173</td>\n",
       "      <td>57</td>\n",
       "      <td>40</td>\n",
       "      <td>3</td>\n",
       "      <td>divorced</td>\n",
       "      <td>2</td>\n",
       "      <td>M</td>\n",
       "    </tr>\n",
       "    <tr>\n",
       "      <th>Manuel Madeira</th>\n",
       "      <td>1098118</td>\n",
       "      <td>30/06/2018</td>\n",
       "      <td>165</td>\n",
       "      <td>55</td>\n",
       "      <td>34</td>\n",
       "      <td>4</td>\n",
       "      <td>married</td>\n",
       "      <td>1</td>\n",
       "      <td>M</td>\n",
       "    </tr>\n",
       "    <tr>\n",
       "      <th>Manuel Freitas</th>\n",
       "      <td>1658815</td>\n",
       "      <td>11/06/2015</td>\n",
       "      <td>170</td>\n",
       "      <td>51</td>\n",
       "      <td>57</td>\n",
       "      <td>1</td>\n",
       "      <td>widow</td>\n",
       "      <td>2</td>\n",
       "      <td>M</td>\n",
       "    </tr>\n",
       "    <tr>\n",
       "      <th>Manuel Fonseca</th>\n",
       "      <td>1373707</td>\n",
       "      <td>24/09/2007</td>\n",
       "      <td>175</td>\n",
       "      <td>102</td>\n",
       "      <td>40</td>\n",
       "      <td>3</td>\n",
       "      <td>married</td>\n",
       "      <td>1</td>\n",
       "      <td>M</td>\n",
       "    </tr>\n",
       "    <tr>\n",
       "      <th>Manuel Cruz</th>\n",
       "      <td>1710710</td>\n",
       "      <td>27/11/2010</td>\n",
       "      <td>178</td>\n",
       "      <td>55</td>\n",
       "      <td>44</td>\n",
       "      <td>3</td>\n",
       "      <td>married</td>\n",
       "      <td>2</td>\n",
       "      <td>M</td>\n",
       "    </tr>\n",
       "    <tr>\n",
       "      <th>Manuel Carvalho</th>\n",
       "      <td>1235914</td>\n",
       "      <td>27/08/2014</td>\n",
       "      <td>158</td>\n",
       "      <td>45</td>\n",
       "      <td>38</td>\n",
       "      <td>3</td>\n",
       "      <td>married</td>\n",
       "      <td>2</td>\n",
       "      <td>M</td>\n",
       "    </tr>\n",
       "    <tr>\n",
       "      <th>Jose Fonseca</th>\n",
       "      <td>1359417</td>\n",
       "      <td>28/10/2017</td>\n",
       "      <td>155</td>\n",
       "      <td>68</td>\n",
       "      <td>41</td>\n",
       "      <td>3</td>\n",
       "      <td>married</td>\n",
       "      <td>0</td>\n",
       "      <td>M</td>\n",
       "    </tr>\n",
       "    <tr>\n",
       "      <th>Jose Cruz</th>\n",
       "      <td>1068508</td>\n",
       "      <td>12/02/2008</td>\n",
       "      <td>177</td>\n",
       "      <td>90</td>\n",
       "      <td>27</td>\n",
       "      <td>6</td>\n",
       "      <td>married</td>\n",
       "      <td>0</td>\n",
       "      <td>M</td>\n",
       "    </tr>\n",
       "    <tr>\n",
       "      <th>Jose Carvalho</th>\n",
       "      <td>1871004</td>\n",
       "      <td>17/09/2004</td>\n",
       "      <td>153</td>\n",
       "      <td>67</td>\n",
       "      <td>26</td>\n",
       "      <td>7</td>\n",
       "      <td>married</td>\n",
       "      <td>1</td>\n",
       "      <td>M</td>\n",
       "    </tr>\n",
       "    <tr>\n",
       "      <th>Joao Tavares</th>\n",
       "      <td>1769504</td>\n",
       "      <td>06/08/2004</td>\n",
       "      <td>177</td>\n",
       "      <td>85</td>\n",
       "      <td>32</td>\n",
       "      <td>3</td>\n",
       "      <td>married</td>\n",
       "      <td>2</td>\n",
       "      <td>M</td>\n",
       "    </tr>\n",
       "    <tr>\n",
       "      <th>Joao Pinho</th>\n",
       "      <td>1152520</td>\n",
       "      <td>29/11/2020</td>\n",
       "      <td>154</td>\n",
       "      <td>66</td>\n",
       "      <td>55</td>\n",
       "      <td>1</td>\n",
       "      <td>single</td>\n",
       "      <td>0</td>\n",
       "      <td>M</td>\n",
       "    </tr>\n",
       "    <tr>\n",
       "      <th>Joao Madeira</th>\n",
       "      <td>1286112</td>\n",
       "      <td>19/08/2012</td>\n",
       "      <td>152</td>\n",
       "      <td>78</td>\n",
       "      <td>29</td>\n",
       "      <td>6</td>\n",
       "      <td>single</td>\n",
       "      <td>1</td>\n",
       "      <td>M</td>\n",
       "    </tr>\n",
       "    <tr>\n",
       "      <th>Joao Freitas</th>\n",
       "      <td>1642316</td>\n",
       "      <td>23/10/2016</td>\n",
       "      <td>165</td>\n",
       "      <td>50</td>\n",
       "      <td>54</td>\n",
       "      <td>3</td>\n",
       "      <td>married</td>\n",
       "      <td>2</td>\n",
       "      <td>M</td>\n",
       "    </tr>\n",
       "    <tr>\n",
       "      <th>Joana Pereira</th>\n",
       "      <td>1147413</td>\n",
       "      <td>24/03/2013</td>\n",
       "      <td>162</td>\n",
       "      <td>49</td>\n",
       "      <td>34</td>\n",
       "      <td>5</td>\n",
       "      <td>married</td>\n",
       "      <td>2</td>\n",
       "      <td>F</td>\n",
       "    </tr>\n",
       "    <tr>\n",
       "      <th>Joana Marinho</th>\n",
       "      <td>1466415</td>\n",
       "      <td>26/11/2015</td>\n",
       "      <td>164</td>\n",
       "      <td>51</td>\n",
       "      <td>57</td>\n",
       "      <td>1</td>\n",
       "      <td>married</td>\n",
       "      <td>3</td>\n",
       "      <td>F</td>\n",
       "    </tr>\n",
       "    <tr>\n",
       "      <th>Joana Goncalves</th>\n",
       "      <td>1566515</td>\n",
       "      <td>16/11/2015</td>\n",
       "      <td>161</td>\n",
       "      <td>49</td>\n",
       "      <td>59</td>\n",
       "      <td>2</td>\n",
       "      <td>married</td>\n",
       "      <td>2</td>\n",
       "      <td>F</td>\n",
       "    </tr>\n",
       "    <tr>\n",
       "      <th>Joana Freitas</th>\n",
       "      <td>1158813</td>\n",
       "      <td>21/10/2013</td>\n",
       "      <td>150</td>\n",
       "      <td>42</td>\n",
       "      <td>52</td>\n",
       "      <td>3</td>\n",
       "      <td>widow</td>\n",
       "      <td>1</td>\n",
       "      <td>F</td>\n",
       "    </tr>\n",
       "    <tr>\n",
       "      <th>Joana Carvalho</th>\n",
       "      <td>1758412</td>\n",
       "      <td>09/08/2012</td>\n",
       "      <td>174</td>\n",
       "      <td>59</td>\n",
       "      <td>37</td>\n",
       "      <td>3</td>\n",
       "      <td>married</td>\n",
       "      <td>2</td>\n",
       "      <td>F</td>\n",
       "    </tr>\n",
       "    <tr>\n",
       "      <th>Francisco Pinho</th>\n",
       "      <td>1294215</td>\n",
       "      <td>25/08/2015</td>\n",
       "      <td>154</td>\n",
       "      <td>58</td>\n",
       "      <td>23</td>\n",
       "      <td>6</td>\n",
       "      <td>single</td>\n",
       "      <td>3</td>\n",
       "      <td>M</td>\n",
       "    </tr>\n",
       "    <tr>\n",
       "      <th>Francisco Pereira</th>\n",
       "      <td>1953503</td>\n",
       "      <td>03/04/2003</td>\n",
       "      <td>170</td>\n",
       "      <td>79</td>\n",
       "      <td>49</td>\n",
       "      <td>2</td>\n",
       "      <td>married</td>\n",
       "      <td>1</td>\n",
       "      <td>M</td>\n",
       "    </tr>\n",
       "    <tr>\n",
       "      <th>Francisco Martins</th>\n",
       "      <td>1410714</td>\n",
       "      <td>25/11/2014</td>\n",
       "      <td>153</td>\n",
       "      <td>58</td>\n",
       "      <td>24</td>\n",
       "      <td>7</td>\n",
       "      <td>single</td>\n",
       "      <td>0</td>\n",
       "      <td>M</td>\n",
       "    </tr>\n",
       "    <tr>\n",
       "      <th>Francisco Madeira</th>\n",
       "      <td>1692512</td>\n",
       "      <td>24/09/2012</td>\n",
       "      <td>154</td>\n",
       "      <td>49</td>\n",
       "      <td>23</td>\n",
       "      <td>8</td>\n",
       "      <td>single</td>\n",
       "      <td>0</td>\n",
       "      <td>M</td>\n",
       "    </tr>\n",
       "    <tr>\n",
       "      <th>Francisco Freitas</th>\n",
       "      <td>1560118</td>\n",
       "      <td>15/07/2018</td>\n",
       "      <td>152</td>\n",
       "      <td>53</td>\n",
       "      <td>41</td>\n",
       "      <td>3</td>\n",
       "      <td>married</td>\n",
       "      <td>2</td>\n",
       "      <td>M</td>\n",
       "    </tr>\n",
       "    <tr>\n",
       "      <th>Francisco Fonseca</th>\n",
       "      <td>1974509</td>\n",
       "      <td>22/08/2009</td>\n",
       "      <td>162</td>\n",
       "      <td>52</td>\n",
       "      <td>43</td>\n",
       "      <td>2</td>\n",
       "      <td>married</td>\n",
       "      <td>1</td>\n",
       "      <td>M</td>\n",
       "    </tr>\n",
       "    <tr>\n",
       "      <th>Francisco Carvalho</th>\n",
       "      <td>1653302</td>\n",
       "      <td>05/09/2002</td>\n",
       "      <td>150</td>\n",
       "      <td>66</td>\n",
       "      <td>23</td>\n",
       "      <td>7</td>\n",
       "      <td>single</td>\n",
       "      <td>0</td>\n",
       "      <td>M</td>\n",
       "    </tr>\n",
       "    <tr>\n",
       "      <th>Florbela Pereira</th>\n",
       "      <td>1705816</td>\n",
       "      <td>12/08/2016</td>\n",
       "      <td>171</td>\n",
       "      <td>58</td>\n",
       "      <td>32</td>\n",
       "      <td>6</td>\n",
       "      <td>married</td>\n",
       "      <td>0</td>\n",
       "      <td>F</td>\n",
       "    </tr>\n",
       "    <tr>\n",
       "      <th>Florbela Marinho</th>\n",
       "      <td>1305314</td>\n",
       "      <td>24/04/2014</td>\n",
       "      <td>154</td>\n",
       "      <td>62</td>\n",
       "      <td>36</td>\n",
       "      <td>4</td>\n",
       "      <td>married</td>\n",
       "      <td>1</td>\n",
       "      <td>F</td>\n",
       "    </tr>\n",
       "    <tr>\n",
       "      <th>Florbela Goncalves</th>\n",
       "      <td>1998809</td>\n",
       "      <td>07/01/2009</td>\n",
       "      <td>169</td>\n",
       "      <td>50</td>\n",
       "      <td>39</td>\n",
       "      <td>4</td>\n",
       "      <td>single</td>\n",
       "      <td>1</td>\n",
       "      <td>F</td>\n",
       "    </tr>\n",
       "    <tr>\n",
       "      <th>Florbela Freitas</th>\n",
       "      <td>1071208</td>\n",
       "      <td>26/09/2008</td>\n",
       "      <td>166</td>\n",
       "      <td>53</td>\n",
       "      <td>28</td>\n",
       "      <td>5</td>\n",
       "      <td>single</td>\n",
       "      <td>0</td>\n",
       "      <td>F</td>\n",
       "    </tr>\n",
       "    <tr>\n",
       "      <th>Florbela Cruz</th>\n",
       "      <td>1971506</td>\n",
       "      <td>08/10/2006</td>\n",
       "      <td>166</td>\n",
       "      <td>54</td>\n",
       "      <td>47</td>\n",
       "      <td>3</td>\n",
       "      <td>married</td>\n",
       "      <td>3</td>\n",
       "      <td>F</td>\n",
       "    </tr>\n",
       "    <tr>\n",
       "      <th>Catarina Pereira</th>\n",
       "      <td>1177213</td>\n",
       "      <td>13/10/2013</td>\n",
       "      <td>175</td>\n",
       "      <td>88</td>\n",
       "      <td>54</td>\n",
       "      <td>1</td>\n",
       "      <td>married</td>\n",
       "      <td>1</td>\n",
       "      <td>F</td>\n",
       "    </tr>\n",
       "    <tr>\n",
       "      <th>Catarina Marinho</th>\n",
       "      <td>1331601</td>\n",
       "      <td>15/01/2001</td>\n",
       "      <td>178</td>\n",
       "      <td>63</td>\n",
       "      <td>43</td>\n",
       "      <td>3</td>\n",
       "      <td>married</td>\n",
       "      <td>2</td>\n",
       "      <td>F</td>\n",
       "    </tr>\n",
       "    <tr>\n",
       "      <th>Catarina Madeira</th>\n",
       "      <td>1200611</td>\n",
       "      <td>24/10/2011</td>\n",
       "      <td>154</td>\n",
       "      <td>63</td>\n",
       "      <td>46</td>\n",
       "      <td>2</td>\n",
       "      <td>single</td>\n",
       "      <td>2</td>\n",
       "      <td>F</td>\n",
       "    </tr>\n",
       "    <tr>\n",
       "      <th>Catarina Goncalves</th>\n",
       "      <td>1055806</td>\n",
       "      <td>21/09/2006</td>\n",
       "      <td>168</td>\n",
       "      <td>53</td>\n",
       "      <td>59</td>\n",
       "      <td>2</td>\n",
       "      <td>widow</td>\n",
       "      <td>3</td>\n",
       "      <td>F</td>\n",
       "    </tr>\n",
       "    <tr>\n",
       "      <th>Catarina Freitas</th>\n",
       "      <td>1105321</td>\n",
       "      <td>10/07/2021</td>\n",
       "      <td>166</td>\n",
       "      <td>70</td>\n",
       "      <td>40</td>\n",
       "      <td>4</td>\n",
       "      <td>single</td>\n",
       "      <td>0</td>\n",
       "      <td>F</td>\n",
       "    </tr>\n",
       "    <tr>\n",
       "      <th>Catarina Cruz</th>\n",
       "      <td>1967921</td>\n",
       "      <td>13/10/2021</td>\n",
       "      <td>176</td>\n",
       "      <td>61</td>\n",
       "      <td>30</td>\n",
       "      <td>5</td>\n",
       "      <td>single</td>\n",
       "      <td>1</td>\n",
       "      <td>F</td>\n",
       "    </tr>\n",
       "    <tr>\n",
       "      <th>Catarina Carvalho</th>\n",
       "      <td>1058304</td>\n",
       "      <td>25/09/2004</td>\n",
       "      <td>150</td>\n",
       "      <td>45</td>\n",
       "      <td>59</td>\n",
       "      <td>2</td>\n",
       "      <td>married</td>\n",
       "      <td>4</td>\n",
       "      <td>F</td>\n",
       "    </tr>\n",
       "    <tr>\n",
       "      <th>Antonio Pereira</th>\n",
       "      <td>1811504</td>\n",
       "      <td>16/02/2004</td>\n",
       "      <td>154</td>\n",
       "      <td>61</td>\n",
       "      <td>51</td>\n",
       "      <td>2</td>\n",
       "      <td>married</td>\n",
       "      <td>1</td>\n",
       "      <td>M</td>\n",
       "    </tr>\n",
       "    <tr>\n",
       "      <th>Antonio Goncalves</th>\n",
       "      <td>1150114</td>\n",
       "      <td>22/11/2014</td>\n",
       "      <td>158</td>\n",
       "      <td>49</td>\n",
       "      <td>34</td>\n",
       "      <td>3</td>\n",
       "      <td>single</td>\n",
       "      <td>0</td>\n",
       "      <td>M</td>\n",
       "    </tr>\n",
       "    <tr>\n",
       "      <th>Antonio Fonseca</th>\n",
       "      <td>1867513</td>\n",
       "      <td>07/06/2013</td>\n",
       "      <td>164</td>\n",
       "      <td>53</td>\n",
       "      <td>41</td>\n",
       "      <td>3</td>\n",
       "      <td>married</td>\n",
       "      <td>3</td>\n",
       "      <td>M</td>\n",
       "    </tr>\n",
       "    <tr>\n",
       "      <th>Antonio Carvalho</th>\n",
       "      <td>1856501</td>\n",
       "      <td>02/07/2001</td>\n",
       "      <td>159</td>\n",
       "      <td>73</td>\n",
       "      <td>24</td>\n",
       "      <td>6</td>\n",
       "      <td>single</td>\n",
       "      <td>0</td>\n",
       "      <td>M</td>\n",
       "    </tr>\n",
       "  </tbody>\n",
       "</table>\n",
       "</div>"
      ],
      "text/plain": [
       "                         id        date  height  weight  age  hours    status  \\\n",
       "name                                                                            \n",
       "Susana Marinho      1521112  18/08/2012     174      60   35      5    single   \n",
       "Susana Madeira      1436908  09/05/2008     160      49   56      2  divorced   \n",
       "Susana Goncalves    1170413  07/03/2013     157      65   40      2   married   \n",
       "Sonia Pinho         1337319  11/02/2019     177      63   34      5    single   \n",
       "Sonia Pereira       1374905  17/10/2005     178      94   37      3   married   \n",
       "Sonia Marinho       1564109  06/11/2009     156      46   41      2   married   \n",
       "Sonia Goncalves     1471416  07/05/2016     170      52   43      3   married   \n",
       "Sonia Fonseca       1320306  12/09/2006     152      46   37      4   married   \n",
       "Rita Madeira        1204821  11/06/2021     151      45   44      2   married   \n",
       "Rita Fonseca        1109818  28/08/2018     166      54   45      3   married   \n",
       "Rita Cruz           1930916  10/11/2016     168      52   56      3   married   \n",
       "Pedro Madeira       1610119  19/05/2019     163      53   28      5   married   \n",
       "Pedro Goncalves     1776804  09/03/2004     156      46   32      5    single   \n",
       "Pedro Fonseca       1065208  09/02/2008     153      80   49      1   married   \n",
       "Pedro Cruz          1221721  11/08/2021     161      50   43      3    single   \n",
       "Marisa Martins      1373913  02/05/2013     155      48   45      3   married   \n",
       "Marisa Cruz         1223600  16/10/2000     171      61   42      4   married   \n",
       "Manuel Pinho        1315817  23/12/2017     179      58   29      5    single   \n",
       "Manuel Martins      1767703  25/01/2003     179      85   24      6    single   \n",
       "Manuel Marinho      1417018  20/06/2018     173      57   40      3  divorced   \n",
       "Manuel Madeira      1098118  30/06/2018     165      55   34      4   married   \n",
       "Manuel Freitas      1658815  11/06/2015     170      51   57      1     widow   \n",
       "Manuel Fonseca      1373707  24/09/2007     175     102   40      3   married   \n",
       "Manuel Cruz         1710710  27/11/2010     178      55   44      3   married   \n",
       "Manuel Carvalho     1235914  27/08/2014     158      45   38      3   married   \n",
       "Jose Fonseca        1359417  28/10/2017     155      68   41      3   married   \n",
       "Jose Cruz           1068508  12/02/2008     177      90   27      6   married   \n",
       "Jose Carvalho       1871004  17/09/2004     153      67   26      7   married   \n",
       "Joao Tavares        1769504  06/08/2004     177      85   32      3   married   \n",
       "Joao Pinho          1152520  29/11/2020     154      66   55      1    single   \n",
       "Joao Madeira        1286112  19/08/2012     152      78   29      6    single   \n",
       "Joao Freitas        1642316  23/10/2016     165      50   54      3   married   \n",
       "Joana Pereira       1147413  24/03/2013     162      49   34      5   married   \n",
       "Joana Marinho       1466415  26/11/2015     164      51   57      1   married   \n",
       "Joana Goncalves     1566515  16/11/2015     161      49   59      2   married   \n",
       "Joana Freitas       1158813  21/10/2013     150      42   52      3     widow   \n",
       "Joana Carvalho      1758412  09/08/2012     174      59   37      3   married   \n",
       "Francisco Pinho     1294215  25/08/2015     154      58   23      6    single   \n",
       "Francisco Pereira   1953503  03/04/2003     170      79   49      2   married   \n",
       "Francisco Martins   1410714  25/11/2014     153      58   24      7    single   \n",
       "Francisco Madeira   1692512  24/09/2012     154      49   23      8    single   \n",
       "Francisco Freitas   1560118  15/07/2018     152      53   41      3   married   \n",
       "Francisco Fonseca   1974509  22/08/2009     162      52   43      2   married   \n",
       "Francisco Carvalho  1653302  05/09/2002     150      66   23      7    single   \n",
       "Florbela Pereira    1705816  12/08/2016     171      58   32      6   married   \n",
       "Florbela Marinho    1305314  24/04/2014     154      62   36      4   married   \n",
       "Florbela Goncalves  1998809  07/01/2009     169      50   39      4    single   \n",
       "Florbela Freitas    1071208  26/09/2008     166      53   28      5    single   \n",
       "Florbela Cruz       1971506  08/10/2006     166      54   47      3   married   \n",
       "Catarina Pereira    1177213  13/10/2013     175      88   54      1   married   \n",
       "Catarina Marinho    1331601  15/01/2001     178      63   43      3   married   \n",
       "Catarina Madeira    1200611  24/10/2011     154      63   46      2    single   \n",
       "Catarina Goncalves  1055806  21/09/2006     168      53   59      2     widow   \n",
       "Catarina Freitas    1105321  10/07/2021     166      70   40      4    single   \n",
       "Catarina Cruz       1967921  13/10/2021     176      61   30      5    single   \n",
       "Catarina Carvalho   1058304  25/09/2004     150      45   59      2   married   \n",
       "Antonio Pereira     1811504  16/02/2004     154      61   51      2   married   \n",
       "Antonio Goncalves   1150114  22/11/2014     158      49   34      3    single   \n",
       "Antonio Fonseca     1867513  07/06/2013     164      53   41      3   married   \n",
       "Antonio Carvalho    1856501  02/07/2001     159      73   24      6    single   \n",
       "\n",
       "                    children sex  \n",
       "name                              \n",
       "Susana Marinho             0   F  \n",
       "Susana Madeira             2   F  \n",
       "Susana Goncalves           5   F  \n",
       "Sonia Pinho                0   F  \n",
       "Sonia Pereira              3   F  \n",
       "Sonia Marinho              3   F  \n",
       "Sonia Goncalves            2   F  \n",
       "Sonia Fonseca              1   F  \n",
       "Rita Madeira               2   F  \n",
       "Rita Fonseca               3   F  \n",
       "Rita Cruz                  2   F  \n",
       "Pedro Madeira              4   M  \n",
       "Pedro Goncalves            0   M  \n",
       "Pedro Fonseca              2   M  \n",
       "Pedro Cruz                 1   M  \n",
       "Marisa Martins             2   F  \n",
       "Marisa Cruz                2   F  \n",
       "Manuel Pinho               0   M  \n",
       "Manuel Martins             0   M  \n",
       "Manuel Marinho             2   M  \n",
       "Manuel Madeira             1   M  \n",
       "Manuel Freitas             2   M  \n",
       "Manuel Fonseca             1   M  \n",
       "Manuel Cruz                2   M  \n",
       "Manuel Carvalho            2   M  \n",
       "Jose Fonseca               0   M  \n",
       "Jose Cruz                  0   M  \n",
       "Jose Carvalho              1   M  \n",
       "Joao Tavares               2   M  \n",
       "Joao Pinho                 0   M  \n",
       "Joao Madeira               1   M  \n",
       "Joao Freitas               2   M  \n",
       "Joana Pereira              2   F  \n",
       "Joana Marinho              3   F  \n",
       "Joana Goncalves            2   F  \n",
       "Joana Freitas              1   F  \n",
       "Joana Carvalho             2   F  \n",
       "Francisco Pinho            3   M  \n",
       "Francisco Pereira          1   M  \n",
       "Francisco Martins          0   M  \n",
       "Francisco Madeira          0   M  \n",
       "Francisco Freitas          2   M  \n",
       "Francisco Fonseca          1   M  \n",
       "Francisco Carvalho         0   M  \n",
       "Florbela Pereira           0   F  \n",
       "Florbela Marinho           1   F  \n",
       "Florbela Goncalves         1   F  \n",
       "Florbela Freitas           0   F  \n",
       "Florbela Cruz              3   F  \n",
       "Catarina Pereira           1   F  \n",
       "Catarina Marinho           2   F  \n",
       "Catarina Madeira           2   F  \n",
       "Catarina Goncalves         3   F  \n",
       "Catarina Freitas           0   F  \n",
       "Catarina Cruz              1   F  \n",
       "Catarina Carvalho          4   F  \n",
       "Antonio Pereira            1   M  \n",
       "Antonio Goncalves          0   M  \n",
       "Antonio Fonseca            3   M  \n",
       "Antonio Carvalho           0   M  "
      ]
     },
     "execution_count": 90,
     "metadata": {},
     "output_type": "execute_result"
    }
   ],
   "source": [
    "df.sort_index(ascending=False)"
   ]
  },
  {
   "cell_type": "markdown",
   "metadata": {},
   "source": [
    "#### The DataFrame can be sorted by the values in another column"
   ]
  },
  {
   "cell_type": "code",
   "execution_count": 91,
   "metadata": {},
   "outputs": [
    {
     "data": {
      "text/html": [
       "<div>\n",
       "<style scoped>\n",
       "    .dataframe tbody tr th:only-of-type {\n",
       "        vertical-align: middle;\n",
       "    }\n",
       "\n",
       "    .dataframe tbody tr th {\n",
       "        vertical-align: top;\n",
       "    }\n",
       "\n",
       "    .dataframe thead th {\n",
       "        text-align: right;\n",
       "    }\n",
       "</style>\n",
       "<table border=\"1\" class=\"dataframe\">\n",
       "  <thead>\n",
       "    <tr style=\"text-align: right;\">\n",
       "      <th></th>\n",
       "      <th>id</th>\n",
       "      <th>date</th>\n",
       "      <th>height</th>\n",
       "      <th>weight</th>\n",
       "      <th>age</th>\n",
       "      <th>hours</th>\n",
       "      <th>status</th>\n",
       "      <th>children</th>\n",
       "      <th>sex</th>\n",
       "    </tr>\n",
       "    <tr>\n",
       "      <th>name</th>\n",
       "      <th></th>\n",
       "      <th></th>\n",
       "      <th></th>\n",
       "      <th></th>\n",
       "      <th></th>\n",
       "      <th></th>\n",
       "      <th></th>\n",
       "      <th></th>\n",
       "      <th></th>\n",
       "    </tr>\n",
       "  </thead>\n",
       "  <tbody>\n",
       "    <tr>\n",
       "      <th>Francisco Pinho</th>\n",
       "      <td>1294215</td>\n",
       "      <td>25/08/2015</td>\n",
       "      <td>154</td>\n",
       "      <td>58</td>\n",
       "      <td>23</td>\n",
       "      <td>6</td>\n",
       "      <td>single</td>\n",
       "      <td>3</td>\n",
       "      <td>M</td>\n",
       "    </tr>\n",
       "    <tr>\n",
       "      <th>Francisco Carvalho</th>\n",
       "      <td>1653302</td>\n",
       "      <td>05/09/2002</td>\n",
       "      <td>150</td>\n",
       "      <td>66</td>\n",
       "      <td>23</td>\n",
       "      <td>7</td>\n",
       "      <td>single</td>\n",
       "      <td>0</td>\n",
       "      <td>M</td>\n",
       "    </tr>\n",
       "    <tr>\n",
       "      <th>Francisco Madeira</th>\n",
       "      <td>1692512</td>\n",
       "      <td>24/09/2012</td>\n",
       "      <td>154</td>\n",
       "      <td>49</td>\n",
       "      <td>23</td>\n",
       "      <td>8</td>\n",
       "      <td>single</td>\n",
       "      <td>0</td>\n",
       "      <td>M</td>\n",
       "    </tr>\n",
       "    <tr>\n",
       "      <th>Antonio Carvalho</th>\n",
       "      <td>1856501</td>\n",
       "      <td>02/07/2001</td>\n",
       "      <td>159</td>\n",
       "      <td>73</td>\n",
       "      <td>24</td>\n",
       "      <td>6</td>\n",
       "      <td>single</td>\n",
       "      <td>0</td>\n",
       "      <td>M</td>\n",
       "    </tr>\n",
       "    <tr>\n",
       "      <th>Manuel Martins</th>\n",
       "      <td>1767703</td>\n",
       "      <td>25/01/2003</td>\n",
       "      <td>179</td>\n",
       "      <td>85</td>\n",
       "      <td>24</td>\n",
       "      <td>6</td>\n",
       "      <td>single</td>\n",
       "      <td>0</td>\n",
       "      <td>M</td>\n",
       "    </tr>\n",
       "  </tbody>\n",
       "</table>\n",
       "</div>"
      ],
      "text/plain": [
       "                         id        date  height  weight  age  hours  status  \\\n",
       "name                                                                          \n",
       "Francisco Pinho     1294215  25/08/2015     154      58   23      6  single   \n",
       "Francisco Carvalho  1653302  05/09/2002     150      66   23      7  single   \n",
       "Francisco Madeira   1692512  24/09/2012     154      49   23      8  single   \n",
       "Antonio Carvalho    1856501  02/07/2001     159      73   24      6  single   \n",
       "Manuel Martins      1767703  25/01/2003     179      85   24      6  single   \n",
       "\n",
       "                    children sex  \n",
       "name                              \n",
       "Francisco Pinho            3   M  \n",
       "Francisco Carvalho         0   M  \n",
       "Francisco Madeira          0   M  \n",
       "Antonio Carvalho           0   M  \n",
       "Manuel Martins             0   M  "
      ]
     },
     "execution_count": 91,
     "metadata": {},
     "output_type": "execute_result"
    }
   ],
   "source": [
    "df.sort_values('age').head(5)"
   ]
  },
  {
   "cell_type": "markdown",
   "metadata": {},
   "source": [
    "#### Reset the index to the default"
   ]
  },
  {
   "cell_type": "code",
   "execution_count": 92,
   "metadata": {},
   "outputs": [],
   "source": [
    "df.reset_index(inplace=True)"
   ]
  },
  {
   "cell_type": "markdown",
   "metadata": {},
   "source": [
    "#### Statistical functions can be used in DataFrame column series"
   ]
  },
  {
   "cell_type": "code",
   "execution_count": 93,
   "metadata": {
    "scrolled": true
   },
   "outputs": [
    {
     "data": {
      "text/plain": [
       "40.083333333333336"
      ]
     },
     "execution_count": 93,
     "metadata": {},
     "output_type": "execute_result"
    }
   ],
   "source": [
    "df['age'].mean()"
   ]
  },
  {
   "cell_type": "code",
   "execution_count": 94,
   "metadata": {},
   "outputs": [
    {
     "data": {
      "text/plain": [
       "179"
      ]
     },
     "execution_count": 94,
     "metadata": {},
     "output_type": "execute_result"
    }
   ],
   "source": [
    "df['height'].max()"
   ]
  },
  {
   "cell_type": "code",
   "execution_count": 95,
   "metadata": {
    "scrolled": true
   },
   "outputs": [
    {
     "data": {
      "text/plain": [
       "42"
      ]
     },
     "execution_count": 95,
     "metadata": {},
     "output_type": "execute_result"
    }
   ],
   "source": [
    "df['weight'].min()"
   ]
  },
  {
   "cell_type": "code",
   "execution_count": 96,
   "metadata": {},
   "outputs": [
    {
     "data": {
      "text/html": [
       "<div>\n",
       "<style scoped>\n",
       "    .dataframe tbody tr th:only-of-type {\n",
       "        vertical-align: middle;\n",
       "    }\n",
       "\n",
       "    .dataframe tbody tr th {\n",
       "        vertical-align: top;\n",
       "    }\n",
       "\n",
       "    .dataframe thead th {\n",
       "        text-align: right;\n",
       "    }\n",
       "</style>\n",
       "<table border=\"1\" class=\"dataframe\">\n",
       "  <thead>\n",
       "    <tr style=\"text-align: right;\">\n",
       "      <th></th>\n",
       "      <th>id</th>\n",
       "      <th>height</th>\n",
       "      <th>weight</th>\n",
       "      <th>age</th>\n",
       "      <th>hours</th>\n",
       "      <th>children</th>\n",
       "    </tr>\n",
       "  </thead>\n",
       "  <tbody>\n",
       "    <tr>\n",
       "      <th>count</th>\n",
       "      <td>6.000000e+01</td>\n",
       "      <td>60.000000</td>\n",
       "      <td>60.00000</td>\n",
       "      <td>60.000000</td>\n",
       "      <td>60.000000</td>\n",
       "      <td>60.000000</td>\n",
       "    </tr>\n",
       "    <tr>\n",
       "      <th>mean</th>\n",
       "      <td>1.461868e+06</td>\n",
       "      <td>163.533333</td>\n",
       "      <td>59.95000</td>\n",
       "      <td>40.083333</td>\n",
       "      <td>3.600000</td>\n",
       "      <td>1.483333</td>\n",
       "    </tr>\n",
       "    <tr>\n",
       "      <th>std</th>\n",
       "      <td>2.932733e+05</td>\n",
       "      <td>9.307308</td>\n",
       "      <td>13.55144</td>\n",
       "      <td>10.469150</td>\n",
       "      <td>1.719282</td>\n",
       "      <td>1.214205</td>\n",
       "    </tr>\n",
       "    <tr>\n",
       "      <th>min</th>\n",
       "      <td>1.055806e+06</td>\n",
       "      <td>150.000000</td>\n",
       "      <td>42.00000</td>\n",
       "      <td>23.000000</td>\n",
       "      <td>1.000000</td>\n",
       "      <td>0.000000</td>\n",
       "    </tr>\n",
       "    <tr>\n",
       "      <th>25%</th>\n",
       "      <td>1.203768e+06</td>\n",
       "      <td>154.000000</td>\n",
       "      <td>50.00000</td>\n",
       "      <td>32.000000</td>\n",
       "      <td>2.000000</td>\n",
       "      <td>0.000000</td>\n",
       "    </tr>\n",
       "    <tr>\n",
       "      <th>50%</th>\n",
       "      <td>1.392810e+06</td>\n",
       "      <td>163.500000</td>\n",
       "      <td>56.00000</td>\n",
       "      <td>40.000000</td>\n",
       "      <td>3.000000</td>\n",
       "      <td>1.500000</td>\n",
       "    </tr>\n",
       "    <tr>\n",
       "      <th>75%</th>\n",
       "      <td>1.707040e+06</td>\n",
       "      <td>171.000000</td>\n",
       "      <td>65.25000</td>\n",
       "      <td>46.250000</td>\n",
       "      <td>5.000000</td>\n",
       "      <td>2.000000</td>\n",
       "    </tr>\n",
       "    <tr>\n",
       "      <th>max</th>\n",
       "      <td>1.998809e+06</td>\n",
       "      <td>179.000000</td>\n",
       "      <td>102.00000</td>\n",
       "      <td>59.000000</td>\n",
       "      <td>8.000000</td>\n",
       "      <td>5.000000</td>\n",
       "    </tr>\n",
       "  </tbody>\n",
       "</table>\n",
       "</div>"
      ],
      "text/plain": [
       "                 id      height     weight        age      hours   children\n",
       "count  6.000000e+01   60.000000   60.00000  60.000000  60.000000  60.000000\n",
       "mean   1.461868e+06  163.533333   59.95000  40.083333   3.600000   1.483333\n",
       "std    2.932733e+05    9.307308   13.55144  10.469150   1.719282   1.214205\n",
       "min    1.055806e+06  150.000000   42.00000  23.000000   1.000000   0.000000\n",
       "25%    1.203768e+06  154.000000   50.00000  32.000000   2.000000   0.000000\n",
       "50%    1.392810e+06  163.500000   56.00000  40.000000   3.000000   1.500000\n",
       "75%    1.707040e+06  171.000000   65.25000  46.250000   5.000000   2.000000\n",
       "max    1.998809e+06  179.000000  102.00000  59.000000   8.000000   5.000000"
      ]
     },
     "execution_count": 96,
     "metadata": {},
     "output_type": "execute_result"
    }
   ],
   "source": [
    "df.describe()"
   ]
  },
  {
   "cell_type": "markdown",
   "metadata": {},
   "source": [
    "#### The DataFrame elements can be accessed in Python code"
   ]
  },
  {
   "cell_type": "code",
   "execution_count": 97,
   "metadata": {},
   "outputs": [],
   "source": [
    "def avg(col_name):\n",
    "    s = 0\n",
    "    n = len(df[col_name])\n",
    "    for i in df[col_name]:\n",
    "        s = s + i\n",
    "    avg = s / n\n",
    "    return avg"
   ]
  },
  {
   "cell_type": "code",
   "execution_count": 98,
   "metadata": {
    "scrolled": false
   },
   "outputs": [
    {
     "data": {
      "text/plain": [
       "40.083333333333336"
      ]
     },
     "execution_count": 98,
     "metadata": {},
     "output_type": "execute_result"
    }
   ],
   "source": [
    "avg('age')"
   ]
  },
  {
   "cell_type": "markdown",
   "metadata": {},
   "source": [
    "**Create a new column with the number of years at the gym and insert it at position 3**"
   ]
  },
  {
   "cell_type": "code",
   "execution_count": 99,
   "metadata": {},
   "outputs": [
    {
     "ename": "AttributeError",
     "evalue": "Can only use .dt accessor with datetimelike values",
     "output_type": "error",
     "traceback": [
      "\u001b[1;31m---------------------------------------------------------------------------\u001b[0m",
      "\u001b[1;31mAttributeError\u001b[0m                            Traceback (most recent call last)",
      "Cell \u001b[1;32mIn[99], line 1\u001b[0m\n\u001b[1;32m----> 1\u001b[0m df\u001b[38;5;241m.\u001b[39minsert(\u001b[38;5;241m3\u001b[39m, \u001b[38;5;124m'\u001b[39m\u001b[38;5;124myears\u001b[39m\u001b[38;5;124m'\u001b[39m, \u001b[38;5;241m2021\u001b[39m \u001b[38;5;241m-\u001b[39m df[\u001b[38;5;124m'\u001b[39m\u001b[38;5;124mdate\u001b[39m\u001b[38;5;124m'\u001b[39m]\u001b[38;5;241m.\u001b[39mdt\u001b[38;5;241m.\u001b[39myear)\n",
      "File \u001b[1;32m~\\anaconda3\\Lib\\site-packages\\pandas\\core\\generic.py:5989\u001b[0m, in \u001b[0;36mNDFrame.__getattr__\u001b[1;34m(self, name)\u001b[0m\n\u001b[0;32m   5982\u001b[0m \u001b[38;5;28;01mif\u001b[39;00m (\n\u001b[0;32m   5983\u001b[0m     name \u001b[38;5;129;01mnot\u001b[39;00m \u001b[38;5;129;01min\u001b[39;00m \u001b[38;5;28mself\u001b[39m\u001b[38;5;241m.\u001b[39m_internal_names_set\n\u001b[0;32m   5984\u001b[0m     \u001b[38;5;129;01mand\u001b[39;00m name \u001b[38;5;129;01mnot\u001b[39;00m \u001b[38;5;129;01min\u001b[39;00m \u001b[38;5;28mself\u001b[39m\u001b[38;5;241m.\u001b[39m_metadata\n\u001b[0;32m   5985\u001b[0m     \u001b[38;5;129;01mand\u001b[39;00m name \u001b[38;5;129;01mnot\u001b[39;00m \u001b[38;5;129;01min\u001b[39;00m \u001b[38;5;28mself\u001b[39m\u001b[38;5;241m.\u001b[39m_accessors\n\u001b[0;32m   5986\u001b[0m     \u001b[38;5;129;01mand\u001b[39;00m \u001b[38;5;28mself\u001b[39m\u001b[38;5;241m.\u001b[39m_info_axis\u001b[38;5;241m.\u001b[39m_can_hold_identifiers_and_holds_name(name)\n\u001b[0;32m   5987\u001b[0m ):\n\u001b[0;32m   5988\u001b[0m     \u001b[38;5;28;01mreturn\u001b[39;00m \u001b[38;5;28mself\u001b[39m[name]\n\u001b[1;32m-> 5989\u001b[0m \u001b[38;5;28;01mreturn\u001b[39;00m \u001b[38;5;28mobject\u001b[39m\u001b[38;5;241m.\u001b[39m\u001b[38;5;21m__getattribute__\u001b[39m(\u001b[38;5;28mself\u001b[39m, name)\n",
      "File \u001b[1;32m~\\anaconda3\\Lib\\site-packages\\pandas\\core\\accessor.py:224\u001b[0m, in \u001b[0;36mCachedAccessor.__get__\u001b[1;34m(self, obj, cls)\u001b[0m\n\u001b[0;32m    221\u001b[0m \u001b[38;5;28;01mif\u001b[39;00m obj \u001b[38;5;129;01mis\u001b[39;00m \u001b[38;5;28;01mNone\u001b[39;00m:\n\u001b[0;32m    222\u001b[0m     \u001b[38;5;66;03m# we're accessing the attribute of the class, i.e., Dataset.geo\u001b[39;00m\n\u001b[0;32m    223\u001b[0m     \u001b[38;5;28;01mreturn\u001b[39;00m \u001b[38;5;28mself\u001b[39m\u001b[38;5;241m.\u001b[39m_accessor\n\u001b[1;32m--> 224\u001b[0m accessor_obj \u001b[38;5;241m=\u001b[39m \u001b[38;5;28mself\u001b[39m\u001b[38;5;241m.\u001b[39m_accessor(obj)\n\u001b[0;32m    225\u001b[0m \u001b[38;5;66;03m# Replace the property with the accessor object. Inspired by:\u001b[39;00m\n\u001b[0;32m    226\u001b[0m \u001b[38;5;66;03m# https://www.pydanny.com/cached-property.html\u001b[39;00m\n\u001b[0;32m    227\u001b[0m \u001b[38;5;66;03m# We need to use object.__setattr__ because we overwrite __setattr__ on\u001b[39;00m\n\u001b[0;32m    228\u001b[0m \u001b[38;5;66;03m# NDFrame\u001b[39;00m\n\u001b[0;32m    229\u001b[0m \u001b[38;5;28mobject\u001b[39m\u001b[38;5;241m.\u001b[39m\u001b[38;5;21m__setattr__\u001b[39m(obj, \u001b[38;5;28mself\u001b[39m\u001b[38;5;241m.\u001b[39m_name, accessor_obj)\n",
      "File \u001b[1;32m~\\anaconda3\\Lib\\site-packages\\pandas\\core\\indexes\\accessors.py:580\u001b[0m, in \u001b[0;36mCombinedDatetimelikeProperties.__new__\u001b[1;34m(cls, data)\u001b[0m\n\u001b[0;32m    577\u001b[0m \u001b[38;5;28;01melif\u001b[39;00m is_period_dtype(data\u001b[38;5;241m.\u001b[39mdtype):\n\u001b[0;32m    578\u001b[0m     \u001b[38;5;28;01mreturn\u001b[39;00m PeriodProperties(data, orig)\n\u001b[1;32m--> 580\u001b[0m \u001b[38;5;28;01mraise\u001b[39;00m \u001b[38;5;167;01mAttributeError\u001b[39;00m(\u001b[38;5;124m\"\u001b[39m\u001b[38;5;124mCan only use .dt accessor with datetimelike values\u001b[39m\u001b[38;5;124m\"\u001b[39m)\n",
      "\u001b[1;31mAttributeError\u001b[0m: Can only use .dt accessor with datetimelike values"
     ]
    }
   ],
   "source": [
    "df.insert(3, 'years', 2021 - df['date'].dt.year)"
   ]
  },
  {
   "cell_type": "markdown",
   "metadata": {},
   "source": [
    "**Create new columns at last position**"
   ]
  },
  {
   "cell_type": "code",
   "execution_count": null,
   "metadata": {},
   "outputs": [],
   "source": [
    "df['days'] = df['years'] * 365"
   ]
  },
  {
   "cell_type": "code",
   "execution_count": null,
   "metadata": {},
   "outputs": [],
   "source": [
    "df['old_client'] = df['years'] > 7"
   ]
  },
  {
   "cell_type": "code",
   "execution_count": null,
   "metadata": {},
   "outputs": [],
   "source": [
    "df.head(3)"
   ]
  },
  {
   "cell_type": "markdown",
   "metadata": {},
   "source": [
    "**Remove the columns years, days and old_client**"
   ]
  },
  {
   "cell_type": "code",
   "execution_count": null,
   "metadata": {},
   "outputs": [],
   "source": [
    "df.drop('years', axis = 1, inplace = True)"
   ]
  },
  {
   "cell_type": "code",
   "execution_count": null,
   "metadata": {},
   "outputs": [],
   "source": [
    "del df['days']"
   ]
  },
  {
   "cell_type": "code",
   "execution_count": null,
   "metadata": {},
   "outputs": [],
   "source": [
    "old_client = df.pop('old_client')"
   ]
  },
  {
   "cell_type": "code",
   "execution_count": null,
   "metadata": {},
   "outputs": [],
   "source": [
    "df.head(3)"
   ]
  },
  {
   "cell_type": "markdown",
   "metadata": {},
   "source": [
    "**Set the column names**"
   ]
  },
  {
   "cell_type": "code",
   "execution_count": null,
   "metadata": {},
   "outputs": [],
   "source": [
    "df.columns = ['Name', 'Id', 'Date', 'Height', 'Weight', 'Age', 'Hours', 'Status', 'Children', 'Sex']"
   ]
  },
  {
   "cell_type": "code",
   "execution_count": null,
   "metadata": {},
   "outputs": [],
   "source": [
    "df.head(3)"
   ]
  },
  {
   "cell_type": "markdown",
   "metadata": {},
   "source": [
    "**Change the column name using the str replace method**"
   ]
  },
  {
   "cell_type": "code",
   "execution_count": null,
   "metadata": {
    "scrolled": true
   },
   "outputs": [],
   "source": [
    "df.columns = df.columns.str.replace('Age', 'age')"
   ]
  },
  {
   "cell_type": "code",
   "execution_count": null,
   "metadata": {},
   "outputs": [],
   "source": [
    "df.head(3)"
   ]
  },
  {
   "cell_type": "markdown",
   "metadata": {},
   "source": [
    "**Change the column names using the rename method**"
   ]
  },
  {
   "cell_type": "code",
   "execution_count": null,
   "metadata": {},
   "outputs": [],
   "source": [
    "df.rename(columns={'Name':'name', 'Id': 'id'}, inplace=True)"
   ]
  },
  {
   "cell_type": "code",
   "execution_count": null,
   "metadata": {},
   "outputs": [],
   "source": [
    "df.head(3)"
   ]
  },
  {
   "cell_type": "markdown",
   "metadata": {},
   "source": [
    "**Change the column names using list comprehension**"
   ]
  },
  {
   "cell_type": "code",
   "execution_count": null,
   "metadata": {},
   "outputs": [],
   "source": [
    "df.columns = [x.lower() for x in df.columns]"
   ]
  },
  {
   "cell_type": "code",
   "execution_count": null,
   "metadata": {
    "scrolled": true
   },
   "outputs": [],
   "source": [
    "df.head(3)"
   ]
  },
  {
   "cell_type": "markdown",
   "metadata": {},
   "source": [
    "#### Assign a new set of values to a row"
   ]
  },
  {
   "cell_type": "code",
   "execution_count": null,
   "metadata": {},
   "outputs": [],
   "source": [
    "df.loc[0] = ['Antonio Gomes',1354891, '2018-05-20',100, 20, 30, 2, 'widow',1, 'M']\n",
    "df.head(2)"
   ]
  },
  {
   "cell_type": "markdown",
   "metadata": {},
   "source": [
    "**Change some of the values in a row**"
   ]
  },
  {
   "cell_type": "code",
   "execution_count": null,
   "metadata": {},
   "outputs": [],
   "source": [
    "df.loc[0,['id', 'status']] = [1234567, 'single']\n",
    "df.head(2)"
   ]
  },
  {
   "cell_type": "markdown",
   "metadata": {},
   "source": [
    "**Append a row to a DataFrame**"
   ]
  },
  {
   "cell_type": "code",
   "execution_count": null,
   "metadata": {},
   "outputs": [],
   "source": [
    "df = df.append({'name':'Xavier Furtado','id':1111111,'height':150},ignore_index=True)\n",
    "df.tail(2)"
   ]
  },
  {
   "cell_type": "markdown",
   "metadata": {},
   "source": [
    "**Delete a row**"
   ]
  },
  {
   "cell_type": "code",
   "execution_count": null,
   "metadata": {},
   "outputs": [],
   "source": [
    "df.drop(60, inplace=True)\n",
    "df.tail(2)"
   ]
  },
  {
   "cell_type": "markdown",
   "metadata": {},
   "source": [
    "**Select the customers over 55 years old**"
   ]
  },
  {
   "cell_type": "code",
   "execution_count": null,
   "metadata": {
    "scrolled": false
   },
   "outputs": [],
   "source": [
    "df.loc[df['age'] > 55]"
   ]
  },
  {
   "cell_type": "markdown",
   "metadata": {},
   "source": [
    "**Select the customers over 55 years old and weight over 50kg**"
   ]
  },
  {
   "cell_type": "code",
   "execution_count": null,
   "metadata": {
    "scrolled": true
   },
   "outputs": [],
   "source": [
    "df.loc[(df['age'] > 55) & (df['weight'] > 50)]"
   ]
  },
  {
   "cell_type": "markdown",
   "metadata": {},
   "source": [
    "**Select the customers over 55 or under 24 years old. View name and age**"
   ]
  },
  {
   "cell_type": "code",
   "execution_count": null,
   "metadata": {},
   "outputs": [],
   "source": [
    "df.loc[(df['age'] > 57) | (df['age'] < 24), ['name', 'age']]"
   ]
  },
  {
   "cell_type": "markdown",
   "metadata": {},
   "source": [
    "**Select the customers with status: divorced or widow**"
   ]
  },
  {
   "cell_type": "code",
   "execution_count": null,
   "metadata": {
    "scrolled": false
   },
   "outputs": [],
   "source": [
    "df.loc[df['status'].isin(['divorced','widow'])]"
   ]
  },
  {
   "cell_type": "markdown",
   "metadata": {},
   "source": [
    "**Select the customers with name Freitas**"
   ]
  },
  {
   "cell_type": "code",
   "execution_count": null,
   "metadata": {
    "scrolled": true
   },
   "outputs": [],
   "source": [
    "df.loc[df['name'].str.contains('Freitas',na=False)]"
   ]
  },
  {
   "cell_type": "markdown",
   "metadata": {},
   "source": [
    "**Apply a function to all the elements of a Series**"
   ]
  },
  {
   "cell_type": "code",
   "execution_count": null,
   "metadata": {},
   "outputs": [],
   "source": [
    "df['status'] = df['status'].apply(str.upper)\n",
    "df.head(2)"
   ]
  },
  {
   "cell_type": "markdown",
   "metadata": {},
   "source": [
    "**Get the unique elements from a series**"
   ]
  },
  {
   "cell_type": "code",
   "execution_count": null,
   "metadata": {},
   "outputs": [],
   "source": [
    "df['status'].unique()"
   ]
  },
  {
   "cell_type": "markdown",
   "metadata": {},
   "source": [
    "**Return the number of counts of unique values**"
   ]
  },
  {
   "cell_type": "code",
   "execution_count": null,
   "metadata": {
    "scrolled": true
   },
   "outputs": [],
   "source": [
    "df['status'].value_counts()"
   ]
  },
  {
   "cell_type": "code",
   "execution_count": null,
   "metadata": {},
   "outputs": [],
   "source": [
    "df['status'] = df['status'].apply(str.lower)"
   ]
  },
  {
   "cell_type": "markdown",
   "metadata": {},
   "source": [
    "**Groupby can be used to count values by group**"
   ]
  },
  {
   "cell_type": "code",
   "execution_count": null,
   "metadata": {
    "scrolled": true
   },
   "outputs": [],
   "source": [
    "df.groupby('sex')['status'].value_counts()"
   ]
  },
  {
   "cell_type": "markdown",
   "metadata": {},
   "source": [
    "**Write a DataFrame to a .csv and Excel files**"
   ]
  },
  {
   "cell_type": "code",
   "execution_count": null,
   "metadata": {},
   "outputs": [],
   "source": [
    "df.to_csv('gym_new.csv', sep = ';', index=False)"
   ]
  },
  {
   "cell_type": "code",
   "execution_count": null,
   "metadata": {},
   "outputs": [],
   "source": [
    "df.to_excel('gym_new.xlsx', index=False)"
   ]
  }
 ],
 "metadata": {
  "kernelspec": {
   "display_name": "Python 3 (ipykernel)",
   "language": "python",
   "name": "python3"
  },
  "language_info": {
   "codemirror_mode": {
    "name": "ipython",
    "version": 3
   },
   "file_extension": ".py",
   "mimetype": "text/x-python",
   "name": "python",
   "nbconvert_exporter": "python",
   "pygments_lexer": "ipython3",
   "version": "3.11.5"
  }
 },
 "nbformat": 4,
 "nbformat_minor": 4
}
