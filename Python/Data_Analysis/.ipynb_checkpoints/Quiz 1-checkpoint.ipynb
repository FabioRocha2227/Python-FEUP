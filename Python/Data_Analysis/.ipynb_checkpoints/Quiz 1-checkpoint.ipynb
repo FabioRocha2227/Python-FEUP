{
 "cells": [
  {
   "cell_type": "markdown",
   "id": "cb661ead",
   "metadata": {},
   "source": [
    "##Using the Python calendar library and given a year, a month and a day print the weekday name of the corresponding date.\n",
    "\n"
   ]
  },
  {
   "cell_type": "code",
   "execution_count": 5,
   "id": "7d9721ad",
   "metadata": {},
   "outputs": [],
   "source": [
    "import calendar as c\n"
   ]
  },
  {
   "cell_type": "code",
   "execution_count": 9,
   "id": "fba2c843",
   "metadata": {},
   "outputs": [
    {
     "name": "stdout",
     "output_type": "stream",
     "text": [
      "Year:2023\n",
      "Month:12\n",
      "Day:4\n",
      "Monday\n"
     ]
    }
   ],
   "source": [
    "x=int(input(\"Year:\"))\n",
    "y=int(input(\"Month:\"))\n",
    "z=int(input(\"Day:\"))\n",
    "week_num = c.weekday(x,y,z)\n",
    "\n",
    "week_day = c.day_name[week_num]\n",
    "\n",
    "print(week_day)"
   ]
  },
  {
   "cell_type": "markdown",
   "id": "9ca3db62",
   "metadata": {},
   "source": [
    "##Using the Python time library convert a given floating number of seconds since the epoch to a string."
   ]
  },
  {
   "cell_type": "code",
   "execution_count": 10,
   "id": "85570861",
   "metadata": {},
   "outputs": [],
   "source": [
    "import time as t"
   ]
  },
  {
   "cell_type": "code",
   "execution_count": 13,
   "id": "4a2e4f46",
   "metadata": {
    "scrolled": true
   },
   "outputs": [
    {
     "name": "stdout",
     "output_type": "stream",
     "text": [
      "Number of seconds:1644949102\n",
      "Tue Feb 15 18:18:22 2022\n"
     ]
    }
   ],
   "source": [
    "x = int(input(\"Number of seconds:\"))\n",
    "\n",
    "time_string = t.ctime(x)\n",
    "print(time_string)\n"
   ]
  },
  {
   "cell_type": "markdown",
   "id": "7237d13c",
   "metadata": {},
   "source": [
    "##Given two integers representing the number of seconds since the epoch calculate the difference in full years of the two corresponding dates. (using the Python datetime library)"
   ]
  },
  {
   "cell_type": "code",
   "execution_count": 25,
   "id": "e940642f",
   "metadata": {},
   "outputs": [
    {
     "name": "stdout",
     "output_type": "stream",
     "text": [
      "Number of seconds since the epoch of the first date:1579257600  \n",
      "Number of seconds since the epoch of the second date:1645094400  \n",
      "Number of years between 2020-01-17 and 2022-02-17 = 2\n"
     ]
    }
   ],
   "source": [
    "import datetime as dt\n",
    "\n",
    "x = int(input(\"Number of seconds since the epoch of the first date:\"))\n",
    "y = int(input(\"Number of seconds since the epoch of the second date:\"))\n",
    "\n",
    "date1 = dt.datetime.fromtimestamp(x)\n",
    "date2 = dt.datetime.fromtimestamp(y)\n",
    "\n",
    "year_diff = date2.year-date1.year\n",
    "\n",
    "if date2.month < date1.month or (date2.month == date1.month and date2.day < date1.day):\n",
    "    year_diff -= 1\n",
    "    \n",
    "    \n",
    "print(f\"Number of years between {date1.strftime('%Y-%m-%d')} and {date2.strftime('%Y-%m-%d')} = {year_diff}\")\n",
    "\n"
   ]
  }
 ],
 "metadata": {
  "kernelspec": {
   "display_name": "Python 3 (ipykernel)",
   "language": "python",
   "name": "python3"
  },
  "language_info": {
   "codemirror_mode": {
    "name": "ipython",
    "version": 3
   },
   "file_extension": ".py",
   "mimetype": "text/x-python",
   "name": "python",
   "nbconvert_exporter": "python",
   "pygments_lexer": "ipython3",
   "version": "3.11.5"
  }
 },
 "nbformat": 4,
 "nbformat_minor": 5
}
