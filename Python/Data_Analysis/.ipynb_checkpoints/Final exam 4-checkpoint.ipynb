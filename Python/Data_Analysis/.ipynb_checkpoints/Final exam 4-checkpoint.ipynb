{
 "cells": [
  {
   "cell_type": "code",
   "execution_count": 2,
   "id": "e629d1ad",
   "metadata": {},
   "outputs": [],
   "source": [
    "import pandas as pd\n",
    "df = pd.read_csv('adult1.csv', sep=';',parse_dates=['birthday'])"
   ]
  },
  {
   "cell_type": "markdown",
   "id": "e9aed997",
   "metadata": {},
   "source": [
    "### Print the values from columns 'race' to 'salary' from rows 1, 4, and 6."
   ]
  },
  {
   "cell_type": "code",
   "execution_count": 3,
   "id": "18825559",
   "metadata": {},
   "outputs": [],
   "source": [
    "def solve():\n",
    "    selected_data = df.loc[[1,4,6],'race':'salary']\n",
    "    print(selected_data)"
   ]
  },
  {
   "cell_type": "code",
   "execution_count": 4,
   "id": "0f2d1d67",
   "metadata": {},
   "outputs": [
    {
     "name": "stdout",
     "output_type": "stream",
     "text": [
      "    race     sex  weekhours        country  salary\n",
      "1  White    Male         13  United-States   40312\n",
      "4  Black  Female         40           Cuba   31375\n",
      "6  Black  Female         16        Jamaica   27656\n"
     ]
    }
   ],
   "source": [
    "solve()"
   ]
  },
  {
   "cell_type": "markdown",
   "id": "201c6f7c",
   "metadata": {},
   "source": [
    "### Calculate the minimum, maximum and the median of the 'age' for the persons with a 'salary' greater than or equal 150000 (rounded to one decimal place)"
   ]
  },
  {
   "cell_type": "code",
   "execution_count": 11,
   "id": "db992531",
   "metadata": {},
   "outputs": [],
   "source": [
    "def solve():\n",
    "    selected_data = df[df['salary'] >= 150000]\n",
    "    \n",
    "    min_age = selected_data['age'].min()\n",
    "    max_age = selected_data['age'].max()\n",
    "    median_age = selected_data['age'].median()\n",
    "    result_series = pd.Series({'min':round(min_age, 1),\n",
    "                               'max':round(max_age, 1),\n",
    "                               'median': round(median_age, 1)},\n",
    "                              name='age')\n",
    "    print(result_series)"
   ]
  },
  {
   "cell_type": "code",
   "execution_count": 12,
   "id": "e61cc001",
   "metadata": {},
   "outputs": [
    {
     "name": "stdout",
     "output_type": "stream",
     "text": [
      "min       28.0\n",
      "max       88.0\n",
      "median    47.0\n",
      "Name: age, dtype: float64\n"
     ]
    }
   ],
   "source": [
    "solve()"
   ]
  },
  {
   "cell_type": "markdown",
   "id": "1bdf28dd",
   "metadata": {},
   "source": [
    "### Delete the rows from the dataframe where 'sex' is equal to 'Male' and 'age' greater than or equal 45."
   ]
  },
  {
   "cell_type": "code",
   "execution_count": 28,
   "id": "b4eac479",
   "metadata": {},
   "outputs": [],
   "source": [
    "df = pd.read_csv('adult1.csv', sep=';',parse_dates=['birthday'])"
   ]
  },
  {
   "cell_type": "code",
   "execution_count": 29,
   "id": "4e88628f",
   "metadata": {},
   "outputs": [],
   "source": [
    "def solve():\n",
    "    condition = (df['sex'] == 'Male') & (df['age'] >= 45)\n",
    "    indexes_to_delete = df.loc[condition].index\n",
    "    df.drop(indexes_to_delete,inplace=True)"
   ]
  },
  {
   "cell_type": "code",
   "execution_count": 30,
   "id": "0a412943",
   "metadata": {},
   "outputs": [
    {
     "name": "stdout",
     "output_type": "stream",
     "text": [
      "(10853, 12)\n",
      "(8790, 12)\n"
     ]
    }
   ],
   "source": [
    "print(df.shape)\n",
    "solve()\n",
    "print(df.shape)"
   ]
  },
  {
   "cell_type": "markdown",
   "id": "f0337d86",
   "metadata": {},
   "source": [
    "### From the adults having a 'salary' greater than or equal 150000 what is the percentage of married people. Consider as married those who have a 'status' starting with 'Married'. (rounded to one decimal place)"
   ]
  },
  {
   "cell_type": "code",
   "execution_count": 51,
   "id": "7ae32918",
   "metadata": {},
   "outputs": [],
   "source": [
    "df = pd.read_csv('adult1.csv', sep=';',parse_dates=['birthday'])"
   ]
  },
  {
   "cell_type": "code",
   "execution_count": 62,
   "id": "927dbb32",
   "metadata": {},
   "outputs": [],
   "source": [
    "def solve():\n",
    "    selected_data = df[df['salary'] >= 150000]\n",
    "    married_count = selected_data[selected_data['status'].str.startswith('Married')]['status'].count()\n",
    "    \n",
    "    tot_adults = selected_data.shape[0]\n",
    "    \n",
    "    percentage = ((married_count/tot_adults)*100).round(1)\n",
    "    print(f\"{percentage}%\")\n"
   ]
  },
  {
   "cell_type": "code",
   "execution_count": 63,
   "id": "9e652f23",
   "metadata": {},
   "outputs": [
    {
     "name": "stdout",
     "output_type": "stream",
     "text": [
      "83.9%\n"
     ]
    }
   ],
   "source": [
    "solve()"
   ]
  },
  {
   "cell_type": "markdown",
   "id": "2101d2d8",
   "metadata": {},
   "source": [
    "### What is the minimum 'age' and what is the average 'salary' for people with that 'age'. (rounded to one decimal place)"
   ]
  },
  {
   "cell_type": "code",
   "execution_count": 67,
   "id": "50327ff4",
   "metadata": {},
   "outputs": [],
   "source": [
    "def solve():\n",
    "    min_age = df['age'].min()\n",
    "    selected_data = df[df['age'] == min_age]\n",
    "    \n",
    "    avg = selected_data['salary'].mean()\n",
    "    print(f\"Minimum age: {min_age}\")\n",
    "    print(f\"Average salary for people with that age: {round(avg,1)}\")\n",
    "    "
   ]
  },
  {
   "cell_type": "code",
   "execution_count": 68,
   "id": "2ec83fcb",
   "metadata": {},
   "outputs": [
    {
     "name": "stdout",
     "output_type": "stream",
     "text": [
      "Minimum age: 15\n",
      "Average salary for people with that age: 23585.4\n"
     ]
    }
   ],
   "source": [
    "solve()"
   ]
  },
  {
   "cell_type": "markdown",
   "id": "7068ca85",
   "metadata": {},
   "source": [
    "### How many people earn more than 150000. Of those people how many have an 'education' greater than or equal to 13."
   ]
  },
  {
   "cell_type": "code",
   "execution_count": 75,
   "id": "a41d3f2f",
   "metadata": {},
   "outputs": [],
   "source": [
    "def solve():\n",
    "    selected_data = df[df['salary'] > 150000]['salary'].count()\n",
    "    high_edu = df[(df['salary'] > 150000) & (df['education'] >= 13)]['salary'].count()\n",
    "    print(selected_data)\n",
    "    print(high_edu)"
   ]
  },
  {
   "cell_type": "code",
   "execution_count": 76,
   "id": "46fbfb94",
   "metadata": {},
   "outputs": [
    {
     "name": "stdout",
     "output_type": "stream",
     "text": [
      "1358\n",
      "991\n"
     ]
    }
   ],
   "source": [
    "solve()"
   ]
  },
  {
   "cell_type": "markdown",
   "id": "01819ccc",
   "metadata": {},
   "source": [
    "### Create a function 'hif_und(name)' that given a string returns a new string replacing the '-' by '_'. Using the 'hif_und(name)' function update the column 'status' replacing the '-' by '_'"
   ]
  },
  {
   "cell_type": "code",
   "execution_count": 83,
   "id": "ce02f987",
   "metadata": {},
   "outputs": [],
   "source": [
    "df = pd.read_csv('adult1.csv', sep=';',parse_dates=['birthday'])\n"
   ]
  },
  {
   "cell_type": "code",
   "execution_count": 84,
   "id": "f73d4d6d",
   "metadata": {},
   "outputs": [],
   "source": [
    "def hif_und(name):\n",
    "    return name.replace('-','_')\n",
    "\n",
    "def solve():\n",
    "    df['status'] = df['status'].apply(hif_und)"
   ]
  },
  {
   "cell_type": "code",
   "execution_count": 85,
   "id": "c8160519",
   "metadata": {},
   "outputs": [
    {
     "name": "stdout",
     "output_type": "stream",
     "text": [
      "very_high\n",
      "   age         workclass  education              status\n",
      "0   37         State-gov         13       Never_married\n",
      "1   48  Self-emp-not-inc         13  Married_civ_spouse\n",
      "2   36           Private          9            Divorced\n"
     ]
    }
   ],
   "source": [
    "print(hif_und('very-high'))\n",
    "solve()\n",
    "print(df.loc[:,'age':'status'].head(3))"
   ]
  },
  {
   "cell_type": "code",
   "execution_count": 98,
   "id": "1b4d7079",
   "metadata": {},
   "outputs": [],
   "source": [
    "df = pd.read_csv('adult1.csv', sep=';',parse_dates=['birthday'])\n"
   ]
  },
  {
   "cell_type": "markdown",
   "id": "c88c11ba",
   "metadata": {},
   "source": [
    "### Print the bottom three values of the number of birthdays per year.\n"
   ]
  },
  {
   "cell_type": "code",
   "execution_count": 99,
   "id": "9a440998",
   "metadata": {},
   "outputs": [],
   "source": [
    "def solve():\n",
    "    df['birth_year'] = df['birthday'].dt.year\n",
    "    birthday_Series = df['birth_year'].value_counts()\n",
    "    bottom = birthday_Series.nsmallest(3)\n",
    "    \n",
    "    bottom.name = 'birthday'\n",
    "    \n",
    "    print(bottom)"
   ]
  },
  {
   "cell_type": "code",
   "execution_count": 100,
   "id": "d64863b3",
   "metadata": {},
   "outputs": [
    {
     "name": "stdout",
     "output_type": "stream",
     "text": [
      "birth_year\n",
      "1934    1\n",
      "1937    1\n",
      "1940    2\n",
      "Name: birthday, dtype: int64\n"
     ]
    }
   ],
   "source": [
    "solve()"
   ]
  },
  {
   "cell_type": "markdown",
   "id": "e6e0704d",
   "metadata": {},
   "source": [
    "### Insert a column named 'retirementdate' before column 'birthday' equal to the retirement date defined as the day the person turns 66 years old."
   ]
  },
  {
   "cell_type": "code",
   "execution_count": 112,
   "id": "6b0c5f15",
   "metadata": {},
   "outputs": [],
   "source": [
    "df = pd.read_csv('adult1.csv', sep=';',parse_dates=['birthday'])\n"
   ]
  },
  {
   "cell_type": "code",
   "execution_count": 113,
   "id": "ccf97a71",
   "metadata": {},
   "outputs": [],
   "source": [
    "def solve():\n",
    "    retirement_age = 66\n",
    "    ret =  df['birthday'] + pd.DateOffset(years=retirement_age)\n",
    "    df.insert(df.columns.get_loc('birthday'),'retirementdate',ret)"
   ]
  },
  {
   "cell_type": "code",
   "execution_count": 114,
   "id": "73c0fe93",
   "metadata": {},
   "outputs": [
    {
     "name": "stdout",
     "output_type": "stream",
     "text": [
      "   salary retirementdate   birthday\n",
      "0   35843     2049-07-13 1983-07-13\n",
      "1   40312     2038-02-04 1972-02-04\n",
      "2   30687     2050-12-16 1984-12-16\n"
     ]
    }
   ],
   "source": [
    "solve()\n",
    "print(df.loc[:,'salary':'birthday'].head(3))\n"
   ]
  },
  {
   "cell_type": "code",
   "execution_count": 115,
   "id": "078d56c9",
   "metadata": {},
   "outputs": [],
   "source": [
    "df = pd.read_csv('adult1.csv', sep=';',parse_dates=['birthday'])\n"
   ]
  },
  {
   "cell_type": "markdown",
   "id": "c274c9ea",
   "metadata": {},
   "source": [
    "### Calculate the percentage of adults by 'status' (rounded to one decimal place) sorted in descending order."
   ]
  },
  {
   "cell_type": "code",
   "execution_count": 118,
   "id": "a412db27",
   "metadata": {},
   "outputs": [],
   "source": [
    "def solve():\n",
    "    tot_adults = df.shape[0]\n",
    "    \n",
    "    percentage_status = (df['status'].value_counts() / tot_adults) * 100\n",
    "    percentage_status_sorted = percentage_status.sort_values(ascending=False)\n",
    "    percentage_status_sorted.name = 'status'\n",
    "    print(percentage_status_sorted.round(1))"
   ]
  },
  {
   "cell_type": "code",
   "execution_count": 119,
   "id": "24fafa17",
   "metadata": {},
   "outputs": [
    {
     "name": "stdout",
     "output_type": "stream",
     "text": [
      "status\n",
      "Married-civ-spouse       45.7\n",
      "Never-married            33.0\n",
      "Divorced                 13.7\n",
      "Separated                 3.3\n",
      "Widowed                   2.9\n",
      "Married-spouse-absent     1.3\n",
      "Married-AF-spouse         0.1\n",
      "Name: status, dtype: float64\n"
     ]
    }
   ],
   "source": [
    "solve()"
   ]
  },
  {
   "cell_type": "markdown",
   "id": "59f5a351",
   "metadata": {},
   "source": [
    "### Print the columns 'race' to 'salary' for the rows where the 'salary' is greater than 240000 and race is 'Black'."
   ]
  },
  {
   "cell_type": "code",
   "execution_count": null,
   "id": "aa715f7d",
   "metadata": {},
   "outputs": [],
   "source": [
    "def solve():\n",
    "    selected_data = df[(df['salary'] > 240000) & (df['race'] == 'Black')]\n",
    "    selected_rows = selected_data.loc[:,'race':'salary']\n",
    "    print(selected_rows)"
   ]
  },
  {
   "cell_type": "code",
   "execution_count": null,
   "id": "9b844fc1",
   "metadata": {},
   "outputs": [],
   "source": []
  }
 ],
 "metadata": {
  "kernelspec": {
   "display_name": "Python 3 (ipykernel)",
   "language": "python",
   "name": "python3"
  },
  "language_info": {
   "codemirror_mode": {
    "name": "ipython",
    "version": 3
   },
   "file_extension": ".py",
   "mimetype": "text/x-python",
   "name": "python",
   "nbconvert_exporter": "python",
   "pygments_lexer": "ipython3",
   "version": "3.11.5"
  }
 },
 "nbformat": 4,
 "nbformat_minor": 5
}
