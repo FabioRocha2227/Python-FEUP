{
 "cells": [
  {
   "cell_type": "markdown",
   "id": "570b3513",
   "metadata": {},
   "source": [
    "Print the values from columns 'price', 'city' and 'house_size from rows 2 to 5."
   ]
  },
  {
   "cell_type": "code",
   "execution_count": 2,
   "id": "3b015882",
   "metadata": {},
   "outputs": [],
   "source": [
    "import pandas as pd\n",
    "df = pd.read_csv('usa_real_estate1.csv', sep=';',parse_dates=['sold_date'])\n"
   ]
  },
  {
   "cell_type": "code",
   "execution_count": 3,
   "id": "16e37e5a",
   "metadata": {},
   "outputs": [],
   "source": [
    "def solve():\n",
    "\n",
    "    \n",
    "    # Iterating over rows 2 to 5 and printing the specified columns\n",
    "    for row in df[1:5]:  # Rows are zero-indexed, so we start from 1 for row 2\n",
    "        price = row['price']\n",
    "        city = row['city']\n",
    "        house_size = row['house_size']\n",
    "        \n",
    "        # Printing the values\n",
    "        print(f\"${price}\\t{city}\\t{house_size} sq. ft.\")\n"
   ]
  },
  {
   "cell_type": "markdown",
   "id": "9732bac6",
   "metadata": {},
   "source": [
    "### Delete the columns 'bed' to 'acre_lot'."
   ]
  },
  {
   "cell_type": "code",
   "execution_count": 9,
   "id": "66e81959",
   "metadata": {},
   "outputs": [],
   "source": [
    "import pandas as pd\n",
    "df = pd.read_csv('usa_real_estate1.csv', sep=';',parse_dates=['sold_date'])"
   ]
  },
  {
   "cell_type": "code",
   "execution_count": 11,
   "id": "cad7c3c6",
   "metadata": {},
   "outputs": [],
   "source": [
    "def solve():\n",
    "    df.drop(columns=['bed','bath','acre_lot'],inplace=True)"
   ]
  },
  {
   "cell_type": "code",
   "execution_count": 12,
   "id": "07807fe2",
   "metadata": {},
   "outputs": [
    {
     "name": "stdout",
     "output_type": "stream",
     "text": [
      "     status   price        city        state  zip_code  house_size sold_date\n",
      "0  for_sale  105000    Adjuntas  Puerto Rico     601.0       920.0       NaT\n",
      "1  for_sale   80000    Adjuntas  Puerto Rico     601.0      1527.0       NaT\n",
      "2  for_sale   67000  Juana Diaz  Puerto Rico     795.0       748.0       NaT\n"
     ]
    }
   ],
   "source": [
    "solve()\n",
    "print(df.head(3))"
   ]
  },
  {
   "cell_type": "markdown",
   "id": "5e034811",
   "metadata": {},
   "source": [
    "### Change in row 2 the 'status' to 'sold' and the 'price' to 60000."
   ]
  },
  {
   "cell_type": "code",
   "execution_count": 16,
   "id": "93fbe23d",
   "metadata": {},
   "outputs": [],
   "source": [
    "import pandas as pd\n",
    "df = pd.read_csv('usa_real_estate1.csv', sep=';',parse_dates=['sold_date'])"
   ]
  },
  {
   "cell_type": "code",
   "execution_count": 17,
   "id": "56540452",
   "metadata": {},
   "outputs": [],
   "source": [
    "def solve():\n",
    "    df.loc[2,'status'] = 'sold'\n",
    "    df.loc[2,'price'] = '60000'"
   ]
  },
  {
   "cell_type": "code",
   "execution_count": 18,
   "id": "64b56ff2",
   "metadata": {},
   "outputs": [
    {
     "name": "stdout",
     "output_type": "stream",
     "text": [
      "     status   price  bed  bath  acre_lot        city        state  zip_code  \\\n",
      "0  for_sale  105000  3.0   2.0      0.12    Adjuntas  Puerto Rico     601.0   \n",
      "1  for_sale   80000  4.0   2.0      0.08    Adjuntas  Puerto Rico     601.0   \n",
      "2      sold   60000  2.0   1.0      0.15  Juana Diaz  Puerto Rico     795.0   \n",
      "\n",
      "   house_size sold_date  \n",
      "0       920.0       NaT  \n",
      "1      1527.0       NaT  \n",
      "2       748.0       NaT  \n"
     ]
    }
   ],
   "source": [
    "solve()\n",
    "print(df.head(3))"
   ]
  },
  {
   "cell_type": "markdown",
   "id": "d58061b4",
   "metadata": {},
   "source": [
    "### What is the percentage of houses with a 'house_size' greater than 2000. (rounded to one decimal place)"
   ]
  },
  {
   "cell_type": "code",
   "execution_count": 19,
   "id": "d831fc40",
   "metadata": {},
   "outputs": [],
   "source": [
    "import pandas as pd\n",
    "df = pd.read_csv('usa_real_estate1.csv', sep=';',parse_dates=['sold_date'])"
   ]
  },
  {
   "cell_type": "code",
   "execution_count": 26,
   "id": "9560d8e7",
   "metadata": {},
   "outputs": [],
   "source": [
    "def solve():\n",
    "    filter = df[df['house_size'] > 2000]\n",
    "    percentage = (len(filter) / len(df)) * 100\n",
    "    print(round(percentage,1))"
   ]
  },
  {
   "cell_type": "code",
   "execution_count": 27,
   "id": "74b0dc36",
   "metadata": {},
   "outputs": [
    {
     "name": "stdout",
     "output_type": "stream",
     "text": [
      "28.9\n"
     ]
    }
   ],
   "source": [
    "solve()"
   ]
  },
  {
   "cell_type": "markdown",
   "id": "7f219fee",
   "metadata": {},
   "source": [
    "### Calculate the summary statistics for the column 'house_size'.\n"
   ]
  },
  {
   "cell_type": "code",
   "execution_count": 31,
   "id": "5724dfa0",
   "metadata": {},
   "outputs": [],
   "source": [
    "def solve():\n",
    "    filter = df['house_size'].describe()\n",
    "    print(filter)"
   ]
  },
  {
   "cell_type": "code",
   "execution_count": 32,
   "id": "f277f140",
   "metadata": {},
   "outputs": [
    {
     "name": "stdout",
     "output_type": "stream",
     "text": [
      "count    7.487000e+03\n",
      "mean     2.432521e+03\n",
      "std      1.689467e+04\n",
      "min      1.000000e+02\n",
      "25%      1.204500e+03\n",
      "50%      1.720000e+03\n",
      "75%      2.600000e+03\n",
      "max      1.450112e+06\n",
      "Name: house_size, dtype: float64\n"
     ]
    }
   ],
   "source": [
    "solve()"
   ]
  },
  {
   "cell_type": "markdown",
   "id": "74cd77aa",
   "metadata": {},
   "source": [
    "### Delete the rows where the 'price' is greater than 800000.\n"
   ]
  },
  {
   "cell_type": "code",
   "execution_count": 40,
   "id": "58db0084",
   "metadata": {},
   "outputs": [],
   "source": [
    "import pandas as pd\n",
    "df = pd.read_csv('usa_real_estate1.csv', sep=';',parse_dates=['sold_date'])"
   ]
  },
  {
   "cell_type": "code",
   "execution_count": 41,
   "id": "bba3d529",
   "metadata": {},
   "outputs": [],
   "source": [
    "def solve():\n",
    "    filter = df[df['price'] > 800000]\n",
    "    df.drop(filter.index,inplace = True)\n",
    "    "
   ]
  },
  {
   "cell_type": "code",
   "execution_count": 42,
   "id": "54189a5b",
   "metadata": {},
   "outputs": [
    {
     "name": "stdout",
     "output_type": "stream",
     "text": [
      "(10315, 10)\n",
      "(9216, 10)\n"
     ]
    }
   ],
   "source": [
    "print(df.shape)\n",
    "solve()\n",
    "print(df.shape)"
   ]
  },
  {
   "cell_type": "markdown",
   "id": "39872765",
   "metadata": {},
   "source": [
    "### Insert a column named 'price_euros' before column 'bed' converting the value in dollars from column 'price' to euros (1 Dollar = 0.95 Euro) (rounded to one decimal place)"
   ]
  },
  {
   "cell_type": "code",
   "execution_count": 46,
   "id": "3ee0a0b3",
   "metadata": {},
   "outputs": [],
   "source": [
    "df = pd.read_csv('usa_real_estate1.csv', sep=';',parse_dates=['sold_date'])\n"
   ]
  },
  {
   "cell_type": "code",
   "execution_count": 47,
   "id": "8662f60c",
   "metadata": {},
   "outputs": [],
   "source": [
    "def solve():\n",
    "    conversion = 0.95\n",
    "    df.insert(df.columns.get_loc('bed'),'price_euros',round(df['price'] * conversion, 1))\n",
    "    "
   ]
  },
  {
   "cell_type": "code",
   "execution_count": 48,
   "id": "77aecfdc",
   "metadata": {},
   "outputs": [
    {
     "name": "stdout",
     "output_type": "stream",
     "text": [
      "     status   price  price_euro  bed  bath  acre_lot        city        state  \\\n",
      "0  for_sale  105000     99750.0  3.0   2.0      0.12    Adjuntas  Puerto Rico   \n",
      "1  for_sale   80000     76000.0  4.0   2.0      0.08    Adjuntas  Puerto Rico   \n",
      "2  for_sale   67000     63650.0  2.0   1.0      0.15  Juana Diaz  Puerto Rico   \n",
      "\n",
      "   zip_code  house_size sold_date  \n",
      "0     601.0       920.0       NaT  \n",
      "1     601.0      1527.0       NaT  \n",
      "2     795.0       748.0       NaT  \n"
     ]
    }
   ],
   "source": [
    "solve()\n",
    "print(df.head(3))"
   ]
  },
  {
   "cell_type": "markdown",
   "id": "c6cdfe7d",
   "metadata": {},
   "source": [
    "### Calculate the number of houses by 'status'.\n"
   ]
  },
  {
   "cell_type": "code",
   "execution_count": 50,
   "id": "aecc59c3",
   "metadata": {},
   "outputs": [],
   "source": [
    "df = pd.read_csv('usa_real_estate1.csv', sep=';',parse_dates=['sold_date'])\n"
   ]
  },
  {
   "cell_type": "code",
   "execution_count": 51,
   "id": "937852b1",
   "metadata": {},
   "outputs": [],
   "source": [
    "def solve():\n",
    "    house_counts = df['status'].value_counts()\n",
    "    print(house_counts)"
   ]
  },
  {
   "cell_type": "code",
   "execution_count": 52,
   "id": "8fb0c1f6",
   "metadata": {},
   "outputs": [
    {
     "name": "stdout",
     "output_type": "stream",
     "text": [
      "status\n",
      "for_sale    6960\n",
      "sold        3355\n",
      "Name: count, dtype: int64\n"
     ]
    }
   ],
   "source": [
    "solve()"
   ]
  },
  {
   "cell_type": "markdown",
   "id": "bc844acd",
   "metadata": {},
   "source": [
    "### Print the top 3 houses in 'price'.\n"
   ]
  },
  {
   "cell_type": "code",
   "execution_count": 53,
   "id": "700ab041",
   "metadata": {},
   "outputs": [],
   "source": [
    "def solve():\n",
    "    sorted = df.sort_values(by='price', ascending =False)\n",
    "    top_3 = sorted.head(3)\n",
    "    print(top_3)"
   ]
  },
  {
   "cell_type": "code",
   "execution_count": 54,
   "id": "753ed756",
   "metadata": {},
   "outputs": [
    {
     "name": "stdout",
     "output_type": "stream",
     "text": [
      "        status     price  bed  bath  acre_lot           city           state  \\\n",
      "6953      sold  60000000  9.0  10.0    400.00      Woodstock     Connecticut   \n",
      "854   for_sale  25000000  NaN   NaN    100.00        Isabela     Puerto Rico   \n",
      "2714  for_sale  24500000  NaN   NaN    618.36  Christiansted  Virgin Islands   \n",
      "\n",
      "      zip_code  house_size  sold_date  \n",
      "6953    6281.0     18777.0 2003-08-28  \n",
      "854      662.0         NaN        NaT  \n",
      "2714     820.0         NaN        NaT  \n"
     ]
    }
   ],
   "source": [
    "solve()"
   ]
  },
  {
   "cell_type": "markdown",
   "id": "3cdcf76f",
   "metadata": {},
   "source": [
    "### Print the columns 'city' to 'house_size' of the rows where the 'house_size' is greater than 40000.\n"
   ]
  },
  {
   "cell_type": "code",
   "execution_count": 55,
   "id": "2f01814f",
   "metadata": {},
   "outputs": [],
   "source": [
    "def solve():\n",
    "    filter = df[df['house_size'] > 40000]\n",
    "    print(filter.loc[:,'city':'house_size'])"
   ]
  },
  {
   "cell_type": "code",
   "execution_count": 56,
   "id": "61d8738b",
   "metadata": {},
   "outputs": [
    {
     "name": "stdout",
     "output_type": "stream",
     "text": [
      "              city           state  zip_code  house_size\n",
      "42            Moca     Puerto Rico     676.0     43082.0\n",
      "2241       Culebra     Puerto Rico     775.0   1450112.0\n",
      "2898  Frederiksted  Virgin Islands     840.0     49658.0\n",
      "9045    Middletown     Connecticut    6457.0     99999.0\n"
     ]
    }
   ],
   "source": [
    "solve()"
   ]
  },
  {
   "cell_type": "markdown",
   "id": "0dc7b777",
   "metadata": {},
   "source": [
    "### What is the 'city' with the house with the highest 'price' (first occurrence).\n"
   ]
  },
  {
   "cell_type": "code",
   "execution_count": 57,
   "id": "67c83ce6",
   "metadata": {},
   "outputs": [],
   "source": [
    "def solve():\n",
    "    sorted = df.sort_values(by='price',ascending=False)\n",
    "    city = sorted.iloc[0]['city']\n",
    "    print(city)\n",
    "    "
   ]
  },
  {
   "cell_type": "code",
   "execution_count": 58,
   "id": "e0805bf8",
   "metadata": {},
   "outputs": [
    {
     "name": "stdout",
     "output_type": "stream",
     "text": [
      "Woodstock\n"
     ]
    }
   ],
   "source": [
    "solve()"
   ]
  },
  {
   "cell_type": "markdown",
   "id": "2195d2c8",
   "metadata": {},
   "source": [
    "### Print the rows where the 'price' is greater than 2000000 and the 'house_size' is less or equal than 1000."
   ]
  },
  {
   "cell_type": "code",
   "execution_count": 84,
   "id": "0d5a9870",
   "metadata": {},
   "outputs": [],
   "source": [
    "df = pd.read_csv('usa_real_estate1.csv', sep=';',parse_dates=['sold_date'])\n"
   ]
  },
  {
   "cell_type": "code",
   "execution_count": 85,
   "id": "62b76c03",
   "metadata": {},
   "outputs": [],
   "source": [
    "def solve():\n",
    "\n",
    "    filtered_rows = df[(df['price'] > 2000000) & (df['house_size'] <= 1000)]\n",
    "\n",
    "    print(filtered_rows)\n",
    "\n"
   ]
  },
  {
   "cell_type": "code",
   "execution_count": 86,
   "id": "e812fd20",
   "metadata": {},
   "outputs": [
    {
     "name": "stdout",
     "output_type": "stream",
     "text": [
      "        status    price  bed  bath  acre_lot         city          state  \\\n",
      "8176  for_sale  2500000  NaN   NaN      1.34  Stockbridge  Massachusetts   \n",
      "\n",
      "      zip_code  house_size sold_date  \n",
      "8176    1262.0       500.0       NaT  \n"
     ]
    }
   ],
   "source": [
    "solve()"
   ]
  },
  {
   "cell_type": "markdown",
   "id": "0799a017",
   "metadata": {},
   "source": [
    "### Find the average 'price' by 'state' and 'status' (rounded to one decimal place).\n"
   ]
  },
  {
   "cell_type": "code",
   "execution_count": 99,
   "id": "5d1abd60",
   "metadata": {},
   "outputs": [],
   "source": [
    "def solve():\n",
    "    avg = df.groupby(['state', 'status'])['price'].mean().round(1)\n",
    "    result_df = avg.reset_index().pivot_table(index='state', columns='status', values='price')\n",
    "    print(result_df)\n",
    "\n",
    "\n"
   ]
  },
  {
   "cell_type": "code",
   "execution_count": 100,
   "id": "68430d20",
   "metadata": {},
   "outputs": [
    {
     "name": "stdout",
     "output_type": "stream",
     "text": [
      "status          for_sale       sold\n",
      "state                              \n",
      "Connecticut     427973.5   409905.1\n",
      "Massachusetts   345654.1   450403.9\n",
      "New Hampshire   318908.7   154112.9\n",
      "New Jersey      333490.0        NaN\n",
      "New York        556409.1   817443.7\n",
      "Puerto Rico     678351.3   428471.4\n",
      "South Carolina   18950.0        NaN\n",
      "Vermont         321860.0   303546.2\n",
      "Virgin Islands  828440.9  1646800.0\n"
     ]
    }
   ],
   "source": [
    "solve()"
   ]
  },
  {
   "cell_type": "markdown",
   "id": "845d3fa1",
   "metadata": {},
   "source": [
    "### Calculate for each state the 'city' with the highest house 'price'.\n"
   ]
  },
  {
   "cell_type": "code",
   "execution_count": null,
   "id": "fede657d",
   "metadata": {},
   "outputs": [],
   "source": [
    "def solve():\n",
    "    max_price = df.groupby('state')['price'].idmax()\n",
    "    city_max_price = df.loc[max_price. ['state','city','price']]\n",
    "    \n",
    "    print(city_max_price)\n",
    "        \n",
    "    "
   ]
  },
  {
   "cell_type": "code",
   "execution_count": null,
   "id": "352c45f7",
   "metadata": {},
   "outputs": [],
   "source": []
  }
 ],
 "metadata": {
  "kernelspec": {
   "display_name": "Python 3 (ipykernel)",
   "language": "python",
   "name": "python3"
  },
  "language_info": {
   "codemirror_mode": {
    "name": "ipython",
    "version": 3
   },
   "file_extension": ".py",
   "mimetype": "text/x-python",
   "name": "python",
   "nbconvert_exporter": "python",
   "pygments_lexer": "ipython3",
   "version": "3.11.5"
  }
 },
 "nbformat": 4,
 "nbformat_minor": 5
}
