{
 "cells": [
  {
   "cell_type": "code",
   "execution_count": 32,
   "id": "a52e61db",
   "metadata": {},
   "outputs": [],
   "source": [
    "import pandas as pd\n",
    "import numpy as np\n",
    "df = pd.read_csv('quizPD10_13/gym2_q1_nan.csv', sep = \";\", index_col = 'id', parse_dates = ['date'])\n"
   ]
  },
  {
   "cell_type": "code",
   "execution_count": 33,
   "id": "c938590b",
   "metadata": {},
   "outputs": [],
   "source": [
    "def solve():\n",
    "    no_NAN = len(df.dropna())\n",
    "    \n",
    "    NAN = len(df) - no_NAN\n",
    "    \n",
    "    result = np.array([no_NAN,NAN])\n",
    "    \n",
    "    print(result)"
   ]
  },
  {
   "cell_type": "code",
   "execution_count": 34,
   "id": "e57ebd89",
   "metadata": {},
   "outputs": [
    {
     "name": "stdout",
     "output_type": "stream",
     "text": [
      "[59  3]\n"
     ]
    }
   ],
   "source": [
    "solve()"
   ]
  },
  {
   "cell_type": "code",
   "execution_count": 35,
   "id": "096ae89d",
   "metadata": {},
   "outputs": [],
   "source": [
    "def solve(datestr, tmz):\n",
    "    date_utc = pd.to_datetime(datestr, format='%Y-%m-%d %H:%M:%S', utc=True)\n",
    "    \n",
    "    date_converted = date_utc.tz_convert(tmz)\n",
    "\n",
    "    \n",
    "    return(date_converted)\n",
    "    "
   ]
  },
  {
   "cell_type": "code",
   "execution_count": 36,
   "id": "380a08af",
   "metadata": {},
   "outputs": [
    {
     "name": "stdout",
     "output_type": "stream",
     "text": [
      "2022-01-25 08:30:45-08:00\n"
     ]
    }
   ],
   "source": [
    "print(solve('2022-01-25 16:30:45', 'US/Pacific'))\n"
   ]
  },
  {
   "cell_type": "code",
   "execution_count": null,
   "id": "eaa75b4e",
   "metadata": {},
   "outputs": [],
   "source": [
    "def solve():\n",
    "    mean_age_bf = df['age'].mean()\n",
    "    print(mean_age_bf)\n",
    "    \n",
    "    df['age'].fillna(0)\n",
    "    mean_age_af = df['age'].mean()\n",
    "    print(mean_age_af)"
   ]
  },
  {
   "cell_type": "code",
   "execution_count": null,
   "id": "94c1a2a6",
   "metadata": {},
   "outputs": [],
   "source": []
  }
 ],
 "metadata": {
  "kernelspec": {
   "display_name": "Python 3 (ipykernel)",
   "language": "python",
   "name": "python3"
  },
  "language_info": {
   "codemirror_mode": {
    "name": "ipython",
    "version": 3
   },
   "file_extension": ".py",
   "mimetype": "text/x-python",
   "name": "python",
   "nbconvert_exporter": "python",
   "pygments_lexer": "ipython3",
   "version": "3.11.5"
  }
 },
 "nbformat": 4,
 "nbformat_minor": 5
}
