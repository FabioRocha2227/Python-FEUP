{
 "cells": [
  {
   "cell_type": "code",
   "execution_count": 1,
   "id": "f8a0acaf",
   "metadata": {},
   "outputs": [],
   "source": [
    "import pandas as pd\n",
    "df = pd.read_csv('supermarket1.csv', sep=';')"
   ]
  },
  {
   "cell_type": "code",
   "execution_count": 6,
   "id": "084b3522",
   "metadata": {},
   "outputs": [],
   "source": [
    "def solve():\n",
    "    sum = df['Total'].describe().round(2)\n",
    "    print(sum)"
   ]
  },
  {
   "cell_type": "code",
   "execution_count": 7,
   "id": "3761d42c",
   "metadata": {},
   "outputs": [
    {
     "name": "stdout",
     "output_type": "stream",
     "text": [
      "count    1000.00\n",
      "mean      322.97\n",
      "std       245.89\n",
      "min        10.68\n",
      "25%       124.42\n",
      "50%       253.85\n",
      "75%       471.35\n",
      "max      1042.65\n",
      "Name: Total, dtype: float64\n"
     ]
    }
   ],
   "source": [
    "solve()"
   ]
  },
  {
   "cell_type": "code",
   "execution_count": 8,
   "id": "214ff170",
   "metadata": {},
   "outputs": [],
   "source": [
    "def solve():\n",
    "    print(df['Product line'].value_counts())"
   ]
  },
  {
   "cell_type": "code",
   "execution_count": 9,
   "id": "bb6db5ce",
   "metadata": {},
   "outputs": [
    {
     "name": "stdout",
     "output_type": "stream",
     "text": [
      "Product line\n",
      "Fashion accessories       178\n",
      "Food and beverages        174\n",
      "Electronic accessories    170\n",
      "Sports and travel         166\n",
      "Home and lifestyle        160\n",
      "Health and beauty         152\n",
      "Name: count, dtype: int64\n"
     ]
    }
   ],
   "source": [
    "solve()"
   ]
  },
  {
   "cell_type": "code",
   "execution_count": 23,
   "id": "71153b81",
   "metadata": {},
   "outputs": [],
   "source": [
    "df = pd.read_csv('supermarket1.csv', sep=';')"
   ]
  },
  {
   "cell_type": "code",
   "execution_count": 24,
   "id": "d15355bc",
   "metadata": {},
   "outputs": [],
   "source": [
    "def solve():\n",
    "    gender = df['Gender'].value_counts()\n",
    "    n = len(df)\n",
    "    p = (gender / n) *100\n",
    "    \n",
    "    print(p)\n"
   ]
  },
  {
   "cell_type": "code",
   "execution_count": 25,
   "id": "65a62ab7",
   "metadata": {},
   "outputs": [
    {
     "name": "stdout",
     "output_type": "stream",
     "text": [
      "Gender\n",
      "Female    50.1\n",
      "Male      49.9\n",
      "Name: count, dtype: float64\n"
     ]
    }
   ],
   "source": [
    "solve()"
   ]
  },
  {
   "cell_type": "code",
   "execution_count": 34,
   "id": "a84f5a7b",
   "metadata": {},
   "outputs": [],
   "source": [
    "def solve():\n",
    "    selected = df[df['Gender'] == 'Female']\n",
    "    result = selected['Total'].mean().round(1)\n",
    "    print(result)"
   ]
  },
  {
   "cell_type": "code",
   "execution_count": 35,
   "id": "894f564b",
   "metadata": {},
   "outputs": [
    {
     "name": "stdout",
     "output_type": "stream",
     "text": [
      "335.1\n"
     ]
    }
   ],
   "source": [
    "solve()"
   ]
  },
  {
   "cell_type": "code",
   "execution_count": 36,
   "id": "6ec884d4",
   "metadata": {},
   "outputs": [],
   "source": [
    "def solve():\n",
    "    df.drop('Customer type',axis=1,inplace=True)"
   ]
  },
  {
   "cell_type": "code",
   "execution_count": 37,
   "id": "a9ce9cc4",
   "metadata": {},
   "outputs": [
    {
     "name": "stdout",
     "output_type": "stream",
     "text": [
      "    Invoice ID       City\n",
      "0  750-67-8428     Yangon\n",
      "1  226-31-3081  Naypyitaw\n",
      "2  631-41-3108     Yangon\n"
     ]
    }
   ],
   "source": [
    "solve()\n",
    "print(df.loc[:,'Invoice ID':'City'].head(3))"
   ]
  },
  {
   "cell_type": "code",
   "execution_count": 38,
   "id": "a645940a",
   "metadata": {},
   "outputs": [],
   "source": [
    "df = pd.read_csv('supermarket1.csv', sep=';')"
   ]
  },
  {
   "cell_type": "code",
   "execution_count": 44,
   "id": "a8e4f8b5",
   "metadata": {},
   "outputs": [],
   "source": [
    "def solve():\n",
    "    bins = [0,220,440,660,880,1100]\n",
    "    labels = ['low', 'fair', 'good', 'very_good', 'excellent']\n",
    "    \n",
    "    df['classs'] = pd.cut(df['Total'],bins=bins,labels=labels,right=False)\n",
    "    classs_cnt = df['classs'].value_counts()\n",
    "    print(classs_cnt)\n"
   ]
  },
  {
   "cell_type": "code",
   "execution_count": 45,
   "id": "fbc64abe",
   "metadata": {},
   "outputs": [
    {
     "name": "stdout",
     "output_type": "stream",
     "text": [
      "classs\n",
      "low          454\n",
      "fair         264\n",
      "good         156\n",
      "very_good     96\n",
      "excellent     30\n",
      "Name: count, dtype: int64\n"
     ]
    }
   ],
   "source": [
    "solve()"
   ]
  },
  {
   "cell_type": "code",
   "execution_count": 46,
   "id": "99a2f746",
   "metadata": {},
   "outputs": [],
   "source": [
    "def solve():\n",
    "    tot = pd.pivot_table(df,values='Total',index='City',columns='Payment',aggfunc='sum').round(2)\n",
    "    print(tot)"
   ]
  },
  {
   "cell_type": "code",
   "execution_count": 47,
   "id": "7069949a",
   "metadata": {},
   "outputs": [
    {
     "name": "stdout",
     "output_type": "stream",
     "text": [
      "Payment        Cash  Credit card   Ewallet\n",
      "City                                      \n",
      "Mandalay   35339.46     37344.86  33513.35\n",
      "Naypyitaw  43085.86     30327.46  37155.38\n",
      "Yangon     33781.25     33094.75  39324.37\n"
     ]
    }
   ],
   "source": [
    "solve()"
   ]
  },
  {
   "cell_type": "code",
   "execution_count": 56,
   "id": "0d7c6148",
   "metadata": {},
   "outputs": [],
   "source": [
    "df = pd.read_csv('supermarket1.csv', sep=';')"
   ]
  },
  {
   "cell_type": "code",
   "execution_count": 57,
   "id": "3482a275",
   "metadata": {},
   "outputs": [],
   "source": [
    "def solve():\n",
    "    QxPrice = df['Unit price'] * df['Quantity']\n",
    "    df.insert(7,'QxPrice',QxPrice)\n",
    "    "
   ]
  },
  {
   "cell_type": "code",
   "execution_count": 58,
   "id": "0234274d",
   "metadata": {},
   "outputs": [
    {
     "name": "stdout",
     "output_type": "stream",
     "text": [
      "   Unit price  Quantity  QxPrice   Tax 5%     Total\n",
      "0       74.69         7   522.83  26.1415  548.9715\n",
      "1       15.28         5    76.40   3.8200   80.2200\n",
      "2       46.33         7   324.31  16.2155  340.5255\n"
     ]
    }
   ],
   "source": [
    "solve()\n",
    "print(df.loc[0:2,'Unit price':'Total'])"
   ]
  },
  {
   "cell_type": "code",
   "execution_count": 59,
   "id": "d9e0a02d",
   "metadata": {},
   "outputs": [],
   "source": [
    "df = pd.read_csv('supermarket1.csv', sep=';')"
   ]
  },
  {
   "cell_type": "code",
   "execution_count": 60,
   "id": "4a91fdad",
   "metadata": {},
   "outputs": [],
   "source": [
    "def solve():\n",
    "    condition_member_male = (df['Customer type'] == 'Member') & (df['Gender'] == 'Male') & (df['Unit price'] > 99)\n",
    "    condition_normal_female = (df['Customer type'] == 'Normal') & (df['Gender'] == 'Female') & (df['Unit price'] > 99)\n",
    "    \n",
    "    selected = df.loc[(condition_member_male|condition_normal_female),'Customer type':'Unit price']\n",
    "    print(selected)"
   ]
  },
  {
   "cell_type": "code",
   "execution_count": 61,
   "id": "1ad81a6a",
   "metadata": {},
   "outputs": [
    {
     "name": "stdout",
     "output_type": "stream",
     "text": [
      "    Customer type  Gender            Product line  Unit price\n",
      "80         Normal  Female       Health and beauty       99.19\n",
      "120        Normal  Female  Electronic accessories       99.56\n",
      "122        Member    Male       Sports and travel       99.96\n",
      "209        Normal  Female  Electronic accessories       99.73\n",
      "274        Normal  Female       Health and beauty       99.71\n",
      "283        Member    Male       Health and beauty       99.83\n",
      "315        Member    Male      Food and beverages       99.37\n",
      "326        Member    Male      Food and beverages       99.78\n",
      "382        Normal  Female      Food and beverages       99.69\n",
      "656        Normal  Female  Electronic accessories       99.69\n",
      "849        Normal  Female     Fashion accessories       99.10\n",
      "941        Member    Male     Fashion accessories       99.82\n"
     ]
    }
   ],
   "source": [
    "solve()"
   ]
  },
  {
   "cell_type": "code",
   "execution_count": 62,
   "id": "fb4ca2a6",
   "metadata": {},
   "outputs": [],
   "source": [
    "def solve():\n",
    "    df.columns = df.columns.str.replace(' ','_')"
   ]
  },
  {
   "cell_type": "code",
   "execution_count": 63,
   "id": "00e2cd56",
   "metadata": {},
   "outputs": [
    {
     "name": "stdout",
     "output_type": "stream",
     "text": [
      "    Invoice_ID Customer_type            Product_line  Unit_price   Tax_5%\n",
      "0  750-67-8428        Member       Health and beauty       74.69  26.1415\n",
      "1  226-31-3081        Normal  Electronic accessories       15.28   3.8200\n",
      "2  631-41-3108        Normal      Home and lifestyle       46.33  16.2155\n"
     ]
    }
   ],
   "source": [
    "solve()\n",
    "print(df.loc[:,['Invoice_ID','Customer_type','Product_line','Unit_price','Tax_5%']].head(3))"
   ]
  },
  {
   "cell_type": "code",
   "execution_count": 64,
   "id": "7f5de3e9",
   "metadata": {},
   "outputs": [],
   "source": [
    "df = pd.read_csv('supermarket1.csv', sep=';')"
   ]
  },
  {
   "cell_type": "code",
   "execution_count": 67,
   "id": "fbbc3231",
   "metadata": {},
   "outputs": [],
   "source": [
    "def solve():\n",
    "    print(df.loc[[0,2],['Invoice ID','Total']])"
   ]
  },
  {
   "cell_type": "code",
   "execution_count": 68,
   "id": "83e28887",
   "metadata": {},
   "outputs": [
    {
     "name": "stdout",
     "output_type": "stream",
     "text": [
      "    Invoice ID     Total\n",
      "0  750-67-8428  548.9715\n",
      "2  631-41-3108  340.5255\n"
     ]
    }
   ],
   "source": [
    "solve()"
   ]
  },
  {
   "cell_type": "code",
   "execution_count": 73,
   "id": "6e64bcbc",
   "metadata": {},
   "outputs": [],
   "source": [
    "def solve():\n",
    "    i  = pd.pivot_table(df,values = 'Invoice ID',index = ['City'],columns = ['Customer type'],aggfunc='count', fill_value=0,margins=True, margins_name='All')\n",
    "    print(i)"
   ]
  },
  {
   "cell_type": "code",
   "execution_count": 74,
   "id": "6164d7df",
   "metadata": {},
   "outputs": [
    {
     "name": "stdout",
     "output_type": "stream",
     "text": [
      "Customer type  Member  Normal   All\n",
      "City                               \n",
      "Mandalay          165     167   332\n",
      "Naypyitaw         169     159   328\n",
      "Yangon            167     173   340\n",
      "All               501     499  1000\n"
     ]
    }
   ],
   "source": [
    "solve()"
   ]
  },
  {
   "cell_type": "code",
   "execution_count": 77,
   "id": "4ad88d96",
   "metadata": {},
   "outputs": [],
   "source": [
    "def solve():\n",
    "    i = pd.pivot_table(df,values = 'Quantity',index = 'Product line',aggfunc='sum',margins=True,margins_name='All')\n",
    "    print(i)"
   ]
  },
  {
   "cell_type": "code",
   "execution_count": 78,
   "id": "723b063f",
   "metadata": {},
   "outputs": [
    {
     "name": "stdout",
     "output_type": "stream",
     "text": [
      "                        Quantity\n",
      "Product line                    \n",
      "Electronic accessories       971\n",
      "Fashion accessories          902\n",
      "Food and beverages           952\n",
      "Health and beauty            854\n",
      "Home and lifestyle           911\n",
      "Sports and travel            920\n",
      "All                         5510\n"
     ]
    }
   ],
   "source": [
    "solve()"
   ]
  },
  {
   "cell_type": "code",
   "execution_count": 79,
   "id": "1305b391",
   "metadata": {},
   "outputs": [],
   "source": [
    "def solve():\n",
    "    print(df.loc[[0,1,2],'Total':'Payment'])"
   ]
  },
  {
   "cell_type": "code",
   "execution_count": 80,
   "id": "50543dca",
   "metadata": {},
   "outputs": [
    {
     "name": "stdout",
     "output_type": "stream",
     "text": [
      "      Total                 Date      Payment\n",
      "0  548.9715  2019-01-05 13:08:00      Ewallet\n",
      "1   80.2200  2019-03-08 10:29:00         Cash\n",
      "2  340.5255  2019-03-03 13:23:00  Credit card\n"
     ]
    }
   ],
   "source": [
    "solve()"
   ]
  },
  {
   "cell_type": "code",
   "execution_count": 83,
   "id": "33e0f455",
   "metadata": {},
   "outputs": [],
   "source": [
    "def solve():\n",
    "    df.loc[2,'Customer type'] = 'Member'"
   ]
  },
  {
   "cell_type": "code",
   "execution_count": 84,
   "id": "202d5dd8",
   "metadata": {},
   "outputs": [
    {
     "name": "stdout",
     "output_type": "stream",
     "text": [
      "    Invoice ID       City Customer type  Gender\n",
      "0  750-67-8428     Yangon        Member  Female\n",
      "1  226-31-3081  Naypyitaw        Normal  Female\n",
      "2  631-41-3108     Yangon        Member    Male\n"
     ]
    }
   ],
   "source": [
    "solve()\n",
    "print(df.loc[:,'Invoice ID':'Gender'].head(3))"
   ]
  },
  {
   "cell_type": "code",
   "execution_count": 85,
   "id": "220cb590",
   "metadata": {},
   "outputs": [],
   "source": [
    "def solve():\n",
    "    s = df[df['Total'] > 1030]\n",
    "    print(s.loc[:,'Product line':'Total'])"
   ]
  },
  {
   "cell_type": "code",
   "execution_count": 86,
   "id": "6616484e",
   "metadata": {},
   "outputs": [
    {
     "name": "stdout",
     "output_type": "stream",
     "text": [
      "            Product line  Unit price  Quantity  Tax 5%    Total\n",
      "167  Fashion accessories       98.98        10   49.49  1039.29\n",
      "350  Fashion accessories       99.30        10   49.65  1042.65\n",
      "557   Food and beverages       98.52        10   49.26  1034.46\n"
     ]
    }
   ],
   "source": [
    "solve()"
   ]
  },
  {
   "cell_type": "code",
   "execution_count": 88,
   "id": "9e4ce1a0",
   "metadata": {},
   "outputs": [],
   "source": [
    "def solve():\n",
    "    df.drop(df[df['City'] == 'Yangon'].index,inplace=True)"
   ]
  },
  {
   "cell_type": "code",
   "execution_count": 89,
   "id": "878969ee",
   "metadata": {},
   "outputs": [
    {
     "name": "stdout",
     "output_type": "stream",
     "text": [
      "    Invoice ID       City Customer type  Gender            Product line\n",
      "1  226-31-3081  Naypyitaw        Normal  Female  Electronic accessories\n",
      "5  699-14-3026  Naypyitaw        Normal    Male  Electronic accessories\n",
      "7  315-22-5665  Naypyitaw        Normal  Female      Home and lifestyle\n"
     ]
    }
   ],
   "source": [
    "solve()\n",
    "print(df.loc[:,'Invoice ID':'Product line'].head(3))"
   ]
  },
  {
   "cell_type": "code",
   "execution_count": 90,
   "id": "217d34d7",
   "metadata": {},
   "outputs": [],
   "source": [
    "df = pd.read_csv('supermarket1.csv', sep=';')"
   ]
  },
  {
   "cell_type": "code",
   "execution_count": 101,
   "id": "1aa28eeb",
   "metadata": {},
   "outputs": [],
   "source": [
    "def solve():\n",
    "    s = df.groupby(['City','Product line'])['Total'].sum().idxmax()\n",
    "    city,product = s\n",
    "    max = df.loc[(df['City'] == city) & (df['Product line'] == product),'Total'].sum().round(1)\n",
    "    print(max)"
   ]
  },
  {
   "cell_type": "code",
   "execution_count": 102,
   "id": "03e26488",
   "metadata": {},
   "outputs": [
    {
     "name": "stdout",
     "output_type": "stream",
     "text": [
      "23766.9\n"
     ]
    }
   ],
   "source": [
    "solve()"
   ]
  },
  {
   "cell_type": "code",
   "execution_count": 103,
   "id": "bd13a947",
   "metadata": {},
   "outputs": [],
   "source": [
    "import pandas as pd\n",
    "df = pd.read_csv('adult1.csv', sep=';',parse_dates=['birthday'])"
   ]
  },
  {
   "cell_type": "code",
   "execution_count": 107,
   "id": "61c069c1",
   "metadata": {},
   "outputs": [],
   "source": [
    "def solve():\n",
    "    print(df.loc[[1,4,6],'race':'salary'])"
   ]
  },
  {
   "cell_type": "code",
   "execution_count": 108,
   "id": "a69abe8a",
   "metadata": {},
   "outputs": [
    {
     "name": "stdout",
     "output_type": "stream",
     "text": [
      "    race     sex  weekhours        country  salary\n",
      "1  White    Male         13  United-States   40312\n",
      "4  Black  Female         40           Cuba   31375\n",
      "6  Black  Female         16        Jamaica   27656\n"
     ]
    }
   ],
   "source": [
    "solve()"
   ]
  },
  {
   "cell_type": "code",
   "execution_count": 109,
   "id": "9cdd2f22",
   "metadata": {},
   "outputs": [],
   "source": [
    "def solve():\n",
    "    selected =df[df['salary'] >=150000]\n",
    "    min = selected['age'].min()\n",
    "    max = selected['age'].max()\n",
    "    mean = selected['age'].mean()\n",
    "    result = pd.Series({'min':round(min,1),'max':round(max,1),'mean':round(mean,1)},name = 'age')\n",
    "    print(result)"
   ]
  },
  {
   "cell_type": "code",
   "execution_count": 110,
   "id": "416b9bc3",
   "metadata": {},
   "outputs": [
    {
     "name": "stdout",
     "output_type": "stream",
     "text": [
      "min     28.0\n",
      "max     88.0\n",
      "mean    47.5\n",
      "Name: age, dtype: float64\n"
     ]
    }
   ],
   "source": [
    "solve()"
   ]
  },
  {
   "cell_type": "code",
   "execution_count": 116,
   "id": "0e481265",
   "metadata": {},
   "outputs": [],
   "source": [
    "df = pd.read_csv('adult1.csv', sep=';',parse_dates=['birthday'])"
   ]
  },
  {
   "cell_type": "code",
   "execution_count": 117,
   "id": "539f62ca",
   "metadata": {},
   "outputs": [],
   "source": [
    "def solve():\n",
    "    con = (df['sex'] == 'Male') & (df['age'] >=45)\n",
    "    \n",
    "    df.drop(df.loc[con].index,inplace=True)"
   ]
  },
  {
   "cell_type": "code",
   "execution_count": 118,
   "id": "fb90c27c",
   "metadata": {},
   "outputs": [
    {
     "name": "stdout",
     "output_type": "stream",
     "text": [
      "(10853, 12)\n",
      "(8790, 12)\n"
     ]
    }
   ],
   "source": [
    "print(df.shape)\n",
    "solve()\n",
    "print(df.shape)"
   ]
  },
  {
   "cell_type": "code",
   "execution_count": 130,
   "id": "8b88263c",
   "metadata": {},
   "outputs": [],
   "source": [
    "df = pd.read_csv('adult1.csv', sep=';',parse_dates=['birthday'])"
   ]
  },
  {
   "cell_type": "code",
   "execution_count": 141,
   "id": "cdeed8ea",
   "metadata": {},
   "outputs": [],
   "source": [
    "def solve():\n",
    "    selected = df[df['salary'] >= 150000]\n",
    "    \n",
    "    married = selected[selected['status'].str.startswith('Married')].shape[0]\n",
    "    percentage = round((married/len(selected)) *100,1)\n",
    "    print(percentage)"
   ]
  },
  {
   "cell_type": "code",
   "execution_count": 142,
   "id": "c3dc2883",
   "metadata": {},
   "outputs": [
    {
     "name": "stdout",
     "output_type": "stream",
     "text": [
      "83.9\n"
     ]
    }
   ],
   "source": [
    "solve()"
   ]
  },
  {
   "cell_type": "code",
   "execution_count": 152,
   "id": "f3a2dcf8",
   "metadata": {},
   "outputs": [],
   "source": [
    "def solve():\n",
    "    min_age = df['age'].min()\n",
    "    avg = df[df['age'] == min_age]\n",
    "    avvf = round(avg['salary'].mean(),1)\n",
    "    print(min_age)\n",
    "    print(avvf)"
   ]
  },
  {
   "cell_type": "code",
   "execution_count": 153,
   "id": "6c704b9e",
   "metadata": {},
   "outputs": [
    {
     "name": "stdout",
     "output_type": "stream",
     "text": [
      "15\n",
      "23585.4\n"
     ]
    }
   ],
   "source": [
    "solve()"
   ]
  },
  {
   "cell_type": "code",
   "execution_count": 157,
   "id": "de70788b",
   "metadata": {},
   "outputs": [],
   "source": [
    "def solve():\n",
    "    a = df[df['salary'] >150000]\n",
    "    tot = a.shape[0]\n",
    "    b = a[a['education'] >=13].shape[0]\n",
    "    \n",
    "    print(tot)\n",
    "    print(b)\n",
    "    \n",
    "    "
   ]
  },
  {
   "cell_type": "code",
   "execution_count": 158,
   "id": "fc480b5b",
   "metadata": {},
   "outputs": [
    {
     "name": "stdout",
     "output_type": "stream",
     "text": [
      "1358\n",
      "991\n"
     ]
    }
   ],
   "source": [
    "solve()"
   ]
  },
  {
   "cell_type": "code",
   "execution_count": 159,
   "id": "1eded9c2",
   "metadata": {},
   "outputs": [],
   "source": [
    "def hif_und(name):\n",
    "    return name.replace('-','_')\n",
    "\n",
    "def solve():\n",
    "    df['status'] = df['status'].apply(hif_und)"
   ]
  },
  {
   "cell_type": "code",
   "execution_count": 161,
   "id": "e9fd61ce",
   "metadata": {},
   "outputs": [
    {
     "name": "stdout",
     "output_type": "stream",
     "text": [
      "very_high\n",
      "   age         workclass  education              status\n",
      "0   37         State-gov         13       Never_married\n",
      "1   48  Self-emp-not-inc         13  Married_civ_spouse\n",
      "2   36           Private          9            Divorced\n"
     ]
    }
   ],
   "source": [
    "print(hif_und('very-high'))\n",
    "solve()\n",
    "print(df.loc[:,'age':'status'].head(3))"
   ]
  },
  {
   "cell_type": "code",
   "execution_count": 164,
   "id": "9b434755",
   "metadata": {},
   "outputs": [],
   "source": [
    "def solve():\n",
    "    df['year'] = df['birthday'].dt.year\n",
    "    bs = df['year'].value_counts()\n",
    "    bottom = bs.nsmallest(3)\n",
    "    bottom.name = 'birthday'\n",
    "    print(bottom)"
   ]
  },
  {
   "cell_type": "code",
   "execution_count": 165,
   "id": "f0cda940",
   "metadata": {},
   "outputs": [
    {
     "name": "stdout",
     "output_type": "stream",
     "text": [
      "year\n",
      "1934    1\n",
      "1937    1\n",
      "1940    2\n",
      "Name: birthday, dtype: int64\n"
     ]
    }
   ],
   "source": [
    "solve()"
   ]
  },
  {
   "cell_type": "code",
   "execution_count": 171,
   "id": "ec5bd2e9",
   "metadata": {},
   "outputs": [],
   "source": [
    "df = pd.read_csv('adult1.csv', sep=';',parse_dates=['birthday'])\n"
   ]
  },
  {
   "cell_type": "code",
   "execution_count": 172,
   "id": "40274319",
   "metadata": {},
   "outputs": [],
   "source": [
    "def solve():\n",
    "    retirement_age = 66\n",
    "    ret= df['birthday'] + pd.DateOffset(years=retirement_age)\n",
    "    df.insert(11,'retirementdate',ret)\n",
    "\n",
    "    "
   ]
  },
  {
   "cell_type": "code",
   "execution_count": 173,
   "id": "55349f42",
   "metadata": {},
   "outputs": [
    {
     "name": "stdout",
     "output_type": "stream",
     "text": [
      "   salary retirementdate   birthday\n",
      "0   35843     2049-07-13 1983-07-13\n",
      "1   40312     2038-02-04 1972-02-04\n",
      "2   30687     2050-12-16 1984-12-16\n"
     ]
    }
   ],
   "source": [
    "solve()\n",
    "print(df.loc[:,'salary':'birthday'].head(3))\n"
   ]
  },
  {
   "cell_type": "code",
   "execution_count": 174,
   "id": "66f7cfc9",
   "metadata": {},
   "outputs": [],
   "source": [
    "def solve():\n",
    "    tot = df.shape[0]\n",
    "    percentage = (df['status'].value_counts / tot) *100\n",
    "    print(percentage)"
   ]
  },
  {
   "cell_type": "code",
   "execution_count": null,
   "id": "72b8f036",
   "metadata": {},
   "outputs": [],
   "source": []
  }
 ],
 "metadata": {
  "kernelspec": {
   "display_name": "Python 3 (ipykernel)",
   "language": "python",
   "name": "python3"
  },
  "language_info": {
   "codemirror_mode": {
    "name": "ipython",
    "version": 3
   },
   "file_extension": ".py",
   "mimetype": "text/x-python",
   "name": "python",
   "nbconvert_exporter": "python",
   "pygments_lexer": "ipython3",
   "version": "3.11.5"
  }
 },
 "nbformat": 4,
 "nbformat_minor": 5
}
