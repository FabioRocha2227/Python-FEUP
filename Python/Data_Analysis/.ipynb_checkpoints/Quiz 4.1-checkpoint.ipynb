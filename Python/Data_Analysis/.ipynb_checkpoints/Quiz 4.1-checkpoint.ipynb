{
 "cells": [
  {
   "cell_type": "code",
   "execution_count": null,
   "id": "c07b145c",
   "metadata": {},
   "outputs": [],
   "source": [
    "import pandas as pd"
   ]
  },
  {
   "cell_type": "code",
   "execution_count": null,
   "id": "029c8dd2",
   "metadata": {},
   "outputs": [],
   "source": [
    "df = pd.read_csv('quizPD06_09/gym2_q1.csv', sep = \";\", index_col = 'id', parse_dates = ['date'])\n"
   ]
  },
  {
   "cell_type": "code",
   "execution_count": null,
   "id": "7e67fd16",
   "metadata": {},
   "outputs": [],
   "source": [
    "def solve():\n",
    "    grouped_date = df.groupby('class')['age'].agg(['min','max','mean'])\n",
    "    print(grouped_date)\n",
    "    \n",
    "    "
   ]
  },
  {
   "cell_type": "code",
   "execution_count": null,
   "id": "3a20ab0a",
   "metadata": {},
   "outputs": [],
   "source": []
  }
 ],
 "metadata": {
  "kernelspec": {
   "display_name": "Python 3 (ipykernel)",
   "language": "python",
   "name": "python3"
  },
  "language_info": {
   "codemirror_mode": {
    "name": "ipython",
    "version": 3
   },
   "file_extension": ".py",
   "mimetype": "text/x-python",
   "name": "python",
   "nbconvert_exporter": "python",
   "pygments_lexer": "ipython3",
   "version": "3.11.5"
  }
 },
 "nbformat": 4,
 "nbformat_minor": 5
}
