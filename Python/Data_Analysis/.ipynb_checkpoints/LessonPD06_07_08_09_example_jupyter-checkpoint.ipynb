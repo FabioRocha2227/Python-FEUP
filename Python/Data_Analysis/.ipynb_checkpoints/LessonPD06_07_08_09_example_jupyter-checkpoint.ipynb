{
 "cells": [
  {
   "cell_type": "code",
   "execution_count": 1,
   "id": "f10e48bb",
   "metadata": {},
   "outputs": [],
   "source": [
    "import pandas as pd"
   ]
  },
  {
   "cell_type": "code",
   "execution_count": 2,
   "id": "4dcf8667",
   "metadata": {},
   "outputs": [
    {
     "data": {
      "text/html": [
       "<div>\n",
       "<style scoped>\n",
       "    .dataframe tbody tr th:only-of-type {\n",
       "        vertical-align: middle;\n",
       "    }\n",
       "\n",
       "    .dataframe tbody tr th {\n",
       "        vertical-align: top;\n",
       "    }\n",
       "\n",
       "    .dataframe thead th {\n",
       "        text-align: right;\n",
       "    }\n",
       "</style>\n",
       "<table border=\"1\" class=\"dataframe\">\n",
       "  <thead>\n",
       "    <tr style=\"text-align: right;\">\n",
       "      <th></th>\n",
       "      <th>name</th>\n",
       "      <th>date</th>\n",
       "      <th>height</th>\n",
       "      <th>weight</th>\n",
       "      <th>age</th>\n",
       "    </tr>\n",
       "    <tr>\n",
       "      <th>id</th>\n",
       "      <th></th>\n",
       "      <th></th>\n",
       "      <th></th>\n",
       "      <th></th>\n",
       "      <th></th>\n",
       "    </tr>\n",
       "  </thead>\n",
       "  <tbody>\n",
       "    <tr>\n",
       "      <th>1373913</th>\n",
       "      <td>Marisa Martins</td>\n",
       "      <td>02/05/2013</td>\n",
       "      <td>155</td>\n",
       "      <td>48</td>\n",
       "      <td>45</td>\n",
       "    </tr>\n",
       "    <tr>\n",
       "      <th>1109818</th>\n",
       "      <td>Rita Fonseca</td>\n",
       "      <td>28/08/2018</td>\n",
       "      <td>166</td>\n",
       "      <td>54</td>\n",
       "      <td>45</td>\n",
       "    </tr>\n",
       "  </tbody>\n",
       "</table>\n",
       "</div>"
      ],
      "text/plain": [
       "                   name        date  height  weight  age\n",
       "id                                                      \n",
       "1373913  Marisa Martins  02/05/2013     155      48   45\n",
       "1109818    Rita Fonseca  28/08/2018     166      54   45"
      ]
     },
     "execution_count": 2,
     "metadata": {},
     "output_type": "execute_result"
    }
   ],
   "source": [
    "df1 = pd.read_csv('gym_1.csv', sep=';', index_col='id', parse_dates=['date'])\n",
    "df1"
   ]
  },
  {
   "cell_type": "code",
   "execution_count": 3,
   "id": "afb74245",
   "metadata": {},
   "outputs": [
    {
     "name": "stderr",
     "output_type": "stream",
     "text": [
      "C:\\Users\\fabio\\AppData\\Local\\Temp\\ipykernel_5132\\3128552859.py:1: UserWarning: Parsing dates in %d/%m/%Y format when dayfirst=False (the default) was specified. Pass `dayfirst=True` or specify a format to silence this warning.\n",
      "  df2 = pd.read_csv('gym_2.csv', sep=';', index_col='id', parse_dates=['date'])\n"
     ]
    },
    {
     "data": {
      "text/html": [
       "<div>\n",
       "<style scoped>\n",
       "    .dataframe tbody tr th:only-of-type {\n",
       "        vertical-align: middle;\n",
       "    }\n",
       "\n",
       "    .dataframe tbody tr th {\n",
       "        vertical-align: top;\n",
       "    }\n",
       "\n",
       "    .dataframe thead th {\n",
       "        text-align: right;\n",
       "    }\n",
       "</style>\n",
       "<table border=\"1\" class=\"dataframe\">\n",
       "  <thead>\n",
       "    <tr style=\"text-align: right;\">\n",
       "      <th></th>\n",
       "      <th>name</th>\n",
       "      <th>date</th>\n",
       "      <th>height</th>\n",
       "      <th>weight</th>\n",
       "      <th>age</th>\n",
       "    </tr>\n",
       "    <tr>\n",
       "      <th>id</th>\n",
       "      <th></th>\n",
       "      <th></th>\n",
       "      <th></th>\n",
       "      <th></th>\n",
       "      <th></th>\n",
       "    </tr>\n",
       "  </thead>\n",
       "  <tbody>\n",
       "    <tr>\n",
       "      <th>1767703</th>\n",
       "      <td>Manuel Martins</td>\n",
       "      <td>2003-01-25</td>\n",
       "      <td>179</td>\n",
       "      <td>85</td>\n",
       "      <td>24</td>\n",
       "    </tr>\n",
       "    <tr>\n",
       "      <th>1071208</th>\n",
       "      <td>Florbela Freitas</td>\n",
       "      <td>2008-09-26</td>\n",
       "      <td>166</td>\n",
       "      <td>53</td>\n",
       "      <td>28</td>\n",
       "    </tr>\n",
       "  </tbody>\n",
       "</table>\n",
       "</div>"
      ],
      "text/plain": [
       "                     name       date  height  weight  age\n",
       "id                                                       \n",
       "1767703    Manuel Martins 2003-01-25     179      85   24\n",
       "1071208  Florbela Freitas 2008-09-26     166      53   28"
      ]
     },
     "execution_count": 3,
     "metadata": {},
     "output_type": "execute_result"
    }
   ],
   "source": [
    "df2 = pd.read_csv('gym_2.csv', sep=';', index_col='id', parse_dates=['date'])\n",
    "df2"
   ]
  },
  {
   "cell_type": "code",
   "execution_count": 4,
   "id": "adee4e68",
   "metadata": {},
   "outputs": [
    {
     "data": {
      "text/html": [
       "<div>\n",
       "<style scoped>\n",
       "    .dataframe tbody tr th:only-of-type {\n",
       "        vertical-align: middle;\n",
       "    }\n",
       "\n",
       "    .dataframe tbody tr th {\n",
       "        vertical-align: top;\n",
       "    }\n",
       "\n",
       "    .dataframe thead th {\n",
       "        text-align: right;\n",
       "    }\n",
       "</style>\n",
       "<table border=\"1\" class=\"dataframe\">\n",
       "  <thead>\n",
       "    <tr style=\"text-align: right;\">\n",
       "      <th></th>\n",
       "      <th>name</th>\n",
       "      <th>hours</th>\n",
       "      <th>status</th>\n",
       "      <th>children</th>\n",
       "      <th>sex</th>\n",
       "    </tr>\n",
       "    <tr>\n",
       "      <th>id</th>\n",
       "      <th></th>\n",
       "      <th></th>\n",
       "      <th></th>\n",
       "      <th></th>\n",
       "      <th></th>\n",
       "    </tr>\n",
       "  </thead>\n",
       "  <tbody>\n",
       "    <tr>\n",
       "      <th>1767703</th>\n",
       "      <td>Manuel Martins</td>\n",
       "      <td>6</td>\n",
       "      <td>single</td>\n",
       "      <td>0</td>\n",
       "      <td>M</td>\n",
       "    </tr>\n",
       "    <tr>\n",
       "      <th>1373913</th>\n",
       "      <td>Marisa Martins</td>\n",
       "      <td>3</td>\n",
       "      <td>married</td>\n",
       "      <td>2</td>\n",
       "      <td>F</td>\n",
       "    </tr>\n",
       "    <tr>\n",
       "      <th>1158813</th>\n",
       "      <td>Joana Freitas</td>\n",
       "      <td>3</td>\n",
       "      <td>widow</td>\n",
       "      <td>1</td>\n",
       "      <td>F</td>\n",
       "    </tr>\n",
       "  </tbody>\n",
       "</table>\n",
       "</div>"
      ],
      "text/plain": [
       "                   name  hours   status  children sex\n",
       "id                                                   \n",
       "1767703  Manuel Martins      6   single         0   M\n",
       "1373913  Marisa Martins      3  married         2   F\n",
       "1158813   Joana Freitas      3    widow         1   F"
      ]
     },
     "execution_count": 4,
     "metadata": {},
     "output_type": "execute_result"
    }
   ],
   "source": [
    "df3 = pd.read_csv('gym_3.csv', sep=';', index_col='id')\n",
    "df3"
   ]
  },
  {
   "cell_type": "markdown",
   "id": "bf4c3769",
   "metadata": {},
   "source": [
    "**Concat along the axis=0, add rows**"
   ]
  },
  {
   "cell_type": "code",
   "execution_count": 5,
   "id": "93d9ae84",
   "metadata": {},
   "outputs": [
    {
     "data": {
      "text/html": [
       "<div>\n",
       "<style scoped>\n",
       "    .dataframe tbody tr th:only-of-type {\n",
       "        vertical-align: middle;\n",
       "    }\n",
       "\n",
       "    .dataframe tbody tr th {\n",
       "        vertical-align: top;\n",
       "    }\n",
       "\n",
       "    .dataframe thead th {\n",
       "        text-align: right;\n",
       "    }\n",
       "</style>\n",
       "<table border=\"1\" class=\"dataframe\">\n",
       "  <thead>\n",
       "    <tr style=\"text-align: right;\">\n",
       "      <th></th>\n",
       "      <th>name</th>\n",
       "      <th>date</th>\n",
       "      <th>height</th>\n",
       "      <th>weight</th>\n",
       "      <th>age</th>\n",
       "      <th>hours</th>\n",
       "      <th>status</th>\n",
       "      <th>children</th>\n",
       "      <th>sex</th>\n",
       "    </tr>\n",
       "    <tr>\n",
       "      <th>id</th>\n",
       "      <th></th>\n",
       "      <th></th>\n",
       "      <th></th>\n",
       "      <th></th>\n",
       "      <th></th>\n",
       "      <th></th>\n",
       "      <th></th>\n",
       "      <th></th>\n",
       "      <th></th>\n",
       "    </tr>\n",
       "  </thead>\n",
       "  <tbody>\n",
       "    <tr>\n",
       "      <th>1373913</th>\n",
       "      <td>Marisa Martins</td>\n",
       "      <td>02/05/2013</td>\n",
       "      <td>155.0</td>\n",
       "      <td>48.0</td>\n",
       "      <td>45.0</td>\n",
       "      <td>NaN</td>\n",
       "      <td>NaN</td>\n",
       "      <td>NaN</td>\n",
       "      <td>NaN</td>\n",
       "    </tr>\n",
       "    <tr>\n",
       "      <th>1109818</th>\n",
       "      <td>Rita Fonseca</td>\n",
       "      <td>28/08/2018</td>\n",
       "      <td>166.0</td>\n",
       "      <td>54.0</td>\n",
       "      <td>45.0</td>\n",
       "      <td>NaN</td>\n",
       "      <td>NaN</td>\n",
       "      <td>NaN</td>\n",
       "      <td>NaN</td>\n",
       "    </tr>\n",
       "    <tr>\n",
       "      <th>1767703</th>\n",
       "      <td>Manuel Martins</td>\n",
       "      <td>2003-01-25 00:00:00</td>\n",
       "      <td>179.0</td>\n",
       "      <td>85.0</td>\n",
       "      <td>24.0</td>\n",
       "      <td>NaN</td>\n",
       "      <td>NaN</td>\n",
       "      <td>NaN</td>\n",
       "      <td>NaN</td>\n",
       "    </tr>\n",
       "    <tr>\n",
       "      <th>1071208</th>\n",
       "      <td>Florbela Freitas</td>\n",
       "      <td>2008-09-26 00:00:00</td>\n",
       "      <td>166.0</td>\n",
       "      <td>53.0</td>\n",
       "      <td>28.0</td>\n",
       "      <td>NaN</td>\n",
       "      <td>NaN</td>\n",
       "      <td>NaN</td>\n",
       "      <td>NaN</td>\n",
       "    </tr>\n",
       "    <tr>\n",
       "      <th>1767703</th>\n",
       "      <td>Manuel Martins</td>\n",
       "      <td>NaN</td>\n",
       "      <td>NaN</td>\n",
       "      <td>NaN</td>\n",
       "      <td>NaN</td>\n",
       "      <td>6.0</td>\n",
       "      <td>single</td>\n",
       "      <td>0.0</td>\n",
       "      <td>M</td>\n",
       "    </tr>\n",
       "    <tr>\n",
       "      <th>1373913</th>\n",
       "      <td>Marisa Martins</td>\n",
       "      <td>NaN</td>\n",
       "      <td>NaN</td>\n",
       "      <td>NaN</td>\n",
       "      <td>NaN</td>\n",
       "      <td>3.0</td>\n",
       "      <td>married</td>\n",
       "      <td>2.0</td>\n",
       "      <td>F</td>\n",
       "    </tr>\n",
       "    <tr>\n",
       "      <th>1158813</th>\n",
       "      <td>Joana Freitas</td>\n",
       "      <td>NaN</td>\n",
       "      <td>NaN</td>\n",
       "      <td>NaN</td>\n",
       "      <td>NaN</td>\n",
       "      <td>3.0</td>\n",
       "      <td>widow</td>\n",
       "      <td>1.0</td>\n",
       "      <td>F</td>\n",
       "    </tr>\n",
       "  </tbody>\n",
       "</table>\n",
       "</div>"
      ],
      "text/plain": [
       "                     name                 date  height  weight   age  hours  \\\n",
       "id                                                                            \n",
       "1373913    Marisa Martins           02/05/2013   155.0    48.0  45.0    NaN   \n",
       "1109818      Rita Fonseca           28/08/2018   166.0    54.0  45.0    NaN   \n",
       "1767703    Manuel Martins  2003-01-25 00:00:00   179.0    85.0  24.0    NaN   \n",
       "1071208  Florbela Freitas  2008-09-26 00:00:00   166.0    53.0  28.0    NaN   \n",
       "1767703    Manuel Martins                  NaN     NaN     NaN   NaN    6.0   \n",
       "1373913    Marisa Martins                  NaN     NaN     NaN   NaN    3.0   \n",
       "1158813     Joana Freitas                  NaN     NaN     NaN   NaN    3.0   \n",
       "\n",
       "          status  children  sex  \n",
       "id                               \n",
       "1373913      NaN       NaN  NaN  \n",
       "1109818      NaN       NaN  NaN  \n",
       "1767703      NaN       NaN  NaN  \n",
       "1071208      NaN       NaN  NaN  \n",
       "1767703   single       0.0    M  \n",
       "1373913  married       2.0    F  \n",
       "1158813    widow       1.0    F  "
      ]
     },
     "execution_count": 5,
     "metadata": {},
     "output_type": "execute_result"
    }
   ],
   "source": [
    "df_concat=pd.concat([df1,df2,df3])\n",
    "df_concat"
   ]
  },
  {
   "cell_type": "markdown",
   "id": "f04e4b6b",
   "metadata": {},
   "source": [
    "**Concat along the axis=1, add columns**"
   ]
  },
  {
   "cell_type": "code",
   "execution_count": 6,
   "id": "63f0ee5e",
   "metadata": {},
   "outputs": [
    {
     "data": {
      "text/html": [
       "<div>\n",
       "<style scoped>\n",
       "    .dataframe tbody tr th:only-of-type {\n",
       "        vertical-align: middle;\n",
       "    }\n",
       "\n",
       "    .dataframe tbody tr th {\n",
       "        vertical-align: top;\n",
       "    }\n",
       "\n",
       "    .dataframe thead th {\n",
       "        text-align: right;\n",
       "    }\n",
       "</style>\n",
       "<table border=\"1\" class=\"dataframe\">\n",
       "  <thead>\n",
       "    <tr style=\"text-align: right;\">\n",
       "      <th></th>\n",
       "      <th>name</th>\n",
       "      <th>date</th>\n",
       "      <th>height</th>\n",
       "      <th>weight</th>\n",
       "      <th>age</th>\n",
       "      <th>name</th>\n",
       "      <th>hours</th>\n",
       "      <th>status</th>\n",
       "      <th>children</th>\n",
       "      <th>sex</th>\n",
       "    </tr>\n",
       "    <tr>\n",
       "      <th>id</th>\n",
       "      <th></th>\n",
       "      <th></th>\n",
       "      <th></th>\n",
       "      <th></th>\n",
       "      <th></th>\n",
       "      <th></th>\n",
       "      <th></th>\n",
       "      <th></th>\n",
       "      <th></th>\n",
       "      <th></th>\n",
       "    </tr>\n",
       "  </thead>\n",
       "  <tbody>\n",
       "    <tr>\n",
       "      <th>1373913</th>\n",
       "      <td>Marisa Martins</td>\n",
       "      <td>02/05/2013</td>\n",
       "      <td>155.0</td>\n",
       "      <td>48.0</td>\n",
       "      <td>45.0</td>\n",
       "      <td>Marisa Martins</td>\n",
       "      <td>3.0</td>\n",
       "      <td>married</td>\n",
       "      <td>2.0</td>\n",
       "      <td>F</td>\n",
       "    </tr>\n",
       "    <tr>\n",
       "      <th>1109818</th>\n",
       "      <td>Rita Fonseca</td>\n",
       "      <td>28/08/2018</td>\n",
       "      <td>166.0</td>\n",
       "      <td>54.0</td>\n",
       "      <td>45.0</td>\n",
       "      <td>NaN</td>\n",
       "      <td>NaN</td>\n",
       "      <td>NaN</td>\n",
       "      <td>NaN</td>\n",
       "      <td>NaN</td>\n",
       "    </tr>\n",
       "    <tr>\n",
       "      <th>1767703</th>\n",
       "      <td>NaN</td>\n",
       "      <td>NaN</td>\n",
       "      <td>NaN</td>\n",
       "      <td>NaN</td>\n",
       "      <td>NaN</td>\n",
       "      <td>Manuel Martins</td>\n",
       "      <td>6.0</td>\n",
       "      <td>single</td>\n",
       "      <td>0.0</td>\n",
       "      <td>M</td>\n",
       "    </tr>\n",
       "    <tr>\n",
       "      <th>1158813</th>\n",
       "      <td>NaN</td>\n",
       "      <td>NaN</td>\n",
       "      <td>NaN</td>\n",
       "      <td>NaN</td>\n",
       "      <td>NaN</td>\n",
       "      <td>Joana Freitas</td>\n",
       "      <td>3.0</td>\n",
       "      <td>widow</td>\n",
       "      <td>1.0</td>\n",
       "      <td>F</td>\n",
       "    </tr>\n",
       "  </tbody>\n",
       "</table>\n",
       "</div>"
      ],
      "text/plain": [
       "                   name        date  height  weight   age            name  \\\n",
       "id                                                                          \n",
       "1373913  Marisa Martins  02/05/2013   155.0    48.0  45.0  Marisa Martins   \n",
       "1109818    Rita Fonseca  28/08/2018   166.0    54.0  45.0             NaN   \n",
       "1767703             NaN         NaN     NaN     NaN   NaN  Manuel Martins   \n",
       "1158813             NaN         NaN     NaN     NaN   NaN   Joana Freitas   \n",
       "\n",
       "         hours   status  children  sex  \n",
       "id                                      \n",
       "1373913    3.0  married       2.0    F  \n",
       "1109818    NaN      NaN       NaN  NaN  \n",
       "1767703    6.0   single       0.0    M  \n",
       "1158813    3.0    widow       1.0    F  "
      ]
     },
     "execution_count": 6,
     "metadata": {},
     "output_type": "execute_result"
    }
   ],
   "source": [
    "df_concat_cols_outter = pd.concat([df1,df3], axis=1)\n",
    "df_concat_cols_outter"
   ]
  },
  {
   "cell_type": "code",
   "execution_count": 7,
   "id": "22401f82",
   "metadata": {},
   "outputs": [
    {
     "data": {
      "text/html": [
       "<div>\n",
       "<style scoped>\n",
       "    .dataframe tbody tr th:only-of-type {\n",
       "        vertical-align: middle;\n",
       "    }\n",
       "\n",
       "    .dataframe tbody tr th {\n",
       "        vertical-align: top;\n",
       "    }\n",
       "\n",
       "    .dataframe thead th {\n",
       "        text-align: right;\n",
       "    }\n",
       "</style>\n",
       "<table border=\"1\" class=\"dataframe\">\n",
       "  <thead>\n",
       "    <tr style=\"text-align: right;\">\n",
       "      <th></th>\n",
       "      <th>name</th>\n",
       "      <th>date</th>\n",
       "      <th>height</th>\n",
       "      <th>weight</th>\n",
       "      <th>age</th>\n",
       "      <th>name</th>\n",
       "      <th>hours</th>\n",
       "      <th>status</th>\n",
       "      <th>children</th>\n",
       "      <th>sex</th>\n",
       "    </tr>\n",
       "    <tr>\n",
       "      <th>id</th>\n",
       "      <th></th>\n",
       "      <th></th>\n",
       "      <th></th>\n",
       "      <th></th>\n",
       "      <th></th>\n",
       "      <th></th>\n",
       "      <th></th>\n",
       "      <th></th>\n",
       "      <th></th>\n",
       "      <th></th>\n",
       "    </tr>\n",
       "  </thead>\n",
       "  <tbody>\n",
       "    <tr>\n",
       "      <th>1373913</th>\n",
       "      <td>Marisa Martins</td>\n",
       "      <td>02/05/2013</td>\n",
       "      <td>155</td>\n",
       "      <td>48</td>\n",
       "      <td>45</td>\n",
       "      <td>Marisa Martins</td>\n",
       "      <td>3</td>\n",
       "      <td>married</td>\n",
       "      <td>2</td>\n",
       "      <td>F</td>\n",
       "    </tr>\n",
       "  </tbody>\n",
       "</table>\n",
       "</div>"
      ],
      "text/plain": [
       "                   name        date  height  weight  age            name  \\\n",
       "id                                                                         \n",
       "1373913  Marisa Martins  02/05/2013     155      48   45  Marisa Martins   \n",
       "\n",
       "         hours   status  children sex  \n",
       "id                                     \n",
       "1373913      3  married         2   F  "
      ]
     },
     "execution_count": 7,
     "metadata": {},
     "output_type": "execute_result"
    }
   ],
   "source": [
    "df_concat_cols_inner = pd.concat([df1,df3], axis=1, join='inner')\n",
    "df_concat_cols_inner"
   ]
  },
  {
   "cell_type": "markdown",
   "id": "6e46b427",
   "metadata": {},
   "source": [
    "**Append, add rows**"
   ]
  },
  {
   "cell_type": "code",
   "execution_count": 9,
   "id": "31549e61",
   "metadata": {},
   "outputs": [
    {
     "ename": "AttributeError",
     "evalue": "'DataFrame' object has no attribute 'concat'",
     "output_type": "error",
     "traceback": [
      "\u001b[1;31m---------------------------------------------------------------------------\u001b[0m",
      "\u001b[1;31mAttributeError\u001b[0m                            Traceback (most recent call last)",
      "\u001b[1;32m~\\AppData\\Local\\Temp\\ipykernel_5132\\2098245777.py\u001b[0m in \u001b[0;36m?\u001b[1;34m()\u001b[0m\n\u001b[1;32m----> 1\u001b[1;33m \u001b[0mdf_append\u001b[0m \u001b[1;33m=\u001b[0m \u001b[0mdf1\u001b[0m\u001b[1;33m.\u001b[0m\u001b[0mconcat\u001b[0m\u001b[1;33m(\u001b[0m\u001b[1;33m[\u001b[0m\u001b[0mdf2\u001b[0m\u001b[1;33m,\u001b[0m \u001b[0mdf3\u001b[0m\u001b[1;33m]\u001b[0m\u001b[1;33m)\u001b[0m\u001b[1;33m\u001b[0m\u001b[1;33m\u001b[0m\u001b[0m\n\u001b[0m\u001b[0;32m      2\u001b[0m \u001b[0mdf_append\u001b[0m\u001b[1;33m\u001b[0m\u001b[1;33m\u001b[0m\u001b[0m\n",
      "\u001b[1;32m~\\anaconda3\\Lib\\site-packages\\pandas\\core\\generic.py\u001b[0m in \u001b[0;36m?\u001b[1;34m(self, name)\u001b[0m\n\u001b[0;32m   5985\u001b[0m             \u001b[1;32mand\u001b[0m \u001b[0mname\u001b[0m \u001b[1;32mnot\u001b[0m \u001b[1;32min\u001b[0m \u001b[0mself\u001b[0m\u001b[1;33m.\u001b[0m\u001b[0m_accessors\u001b[0m\u001b[1;33m\u001b[0m\u001b[1;33m\u001b[0m\u001b[0m\n\u001b[0;32m   5986\u001b[0m             \u001b[1;32mand\u001b[0m \u001b[0mself\u001b[0m\u001b[1;33m.\u001b[0m\u001b[0m_info_axis\u001b[0m\u001b[1;33m.\u001b[0m\u001b[0m_can_hold_identifiers_and_holds_name\u001b[0m\u001b[1;33m(\u001b[0m\u001b[0mname\u001b[0m\u001b[1;33m)\u001b[0m\u001b[1;33m\u001b[0m\u001b[1;33m\u001b[0m\u001b[0m\n\u001b[0;32m   5987\u001b[0m         ):\n\u001b[0;32m   5988\u001b[0m             \u001b[1;32mreturn\u001b[0m \u001b[0mself\u001b[0m\u001b[1;33m[\u001b[0m\u001b[0mname\u001b[0m\u001b[1;33m]\u001b[0m\u001b[1;33m\u001b[0m\u001b[1;33m\u001b[0m\u001b[0m\n\u001b[1;32m-> 5989\u001b[1;33m         \u001b[1;32mreturn\u001b[0m \u001b[0mobject\u001b[0m\u001b[1;33m.\u001b[0m\u001b[0m__getattribute__\u001b[0m\u001b[1;33m(\u001b[0m\u001b[0mself\u001b[0m\u001b[1;33m,\u001b[0m \u001b[0mname\u001b[0m\u001b[1;33m)\u001b[0m\u001b[1;33m\u001b[0m\u001b[1;33m\u001b[0m\u001b[0m\n\u001b[0m",
      "\u001b[1;31mAttributeError\u001b[0m: 'DataFrame' object has no attribute 'concat'"
     ]
    }
   ],
   "source": [
    "df_append = df1.concat([df2, df3])\n",
    "df_append"
   ]
  },
  {
   "cell_type": "markdown",
   "id": "5e4b24d6",
   "metadata": {},
   "source": [
    "**Merge Dataframes**"
   ]
  },
  {
   "cell_type": "code",
   "execution_count": null,
   "id": "2df7ce7e",
   "metadata": {},
   "outputs": [],
   "source": [
    "df_merge_left=pd.merge(df1,df3, how='left', on='id')\n",
    "df_merge_left"
   ]
  },
  {
   "cell_type": "code",
   "execution_count": null,
   "id": "cb7d59a6",
   "metadata": {},
   "outputs": [],
   "source": [
    "df_merge_right=pd.merge(df1,df3, how='right', on='id')\n",
    "df_merge_right"
   ]
  },
  {
   "cell_type": "code",
   "execution_count": null,
   "id": "7e5e39d1",
   "metadata": {},
   "outputs": [],
   "source": [
    "df_merge_inner=pd.merge(df1,df3, how='inner',on='id')\n",
    "df_merge_inner"
   ]
  },
  {
   "cell_type": "code",
   "execution_count": null,
   "id": "5be7aae2",
   "metadata": {},
   "outputs": [],
   "source": [
    "df_merge_outer=pd.merge(df1,df3, how='outer', on='id')\n",
    "df_merge_outer"
   ]
  },
  {
   "cell_type": "code",
   "execution_count": null,
   "id": "eff7c35c",
   "metadata": {},
   "outputs": [],
   "source": [
    "df_merge_cross = pd.merge(df1, df3, how='cross')\n",
    "df_merge_cross"
   ]
  },
  {
   "cell_type": "markdown",
   "id": "8f587a85",
   "metadata": {},
   "source": [
    "**Join DataFrames**"
   ]
  },
  {
   "cell_type": "code",
   "execution_count": null,
   "id": "9f7e5cfb",
   "metadata": {},
   "outputs": [],
   "source": [
    "df_join_left = df1.join(df3, lsuffix='df1')\n",
    "df_join_left"
   ]
  },
  {
   "cell_type": "code",
   "execution_count": null,
   "id": "02976ad0",
   "metadata": {},
   "outputs": [],
   "source": [
    "df_join_right = df1.join(df3, how = 'right',  lsuffix='df1')\n",
    "df_join_right"
   ]
  },
  {
   "cell_type": "code",
   "execution_count": null,
   "id": "afe551ec",
   "metadata": {},
   "outputs": [],
   "source": [
    "df_join_inner = df1.join(df3, how = 'inner',  lsuffix='df1')\n",
    "df_join_inner"
   ]
  },
  {
   "cell_type": "code",
   "execution_count": null,
   "id": "9772010b",
   "metadata": {
    "scrolled": true
   },
   "outputs": [],
   "source": [
    "df_join_outer = df1.join(df3, how = 'outer',  lsuffix='df1')\n",
    "df_join_outer"
   ]
  },
  {
   "cell_type": "markdown",
   "id": "107d3d9a",
   "metadata": {},
   "source": [
    "**pivot, reshape DataFrame by given index / column / values**"
   ]
  },
  {
   "cell_type": "code",
   "execution_count": null,
   "id": "2bc680a8",
   "metadata": {},
   "outputs": [],
   "source": [
    "df4 = pd.DataFrame({'class':['cycle','cycle','cycle', 'pilates', 'pilates', 'pilates'],\n",
    "                   'day':['0-Mon', '2-Wed', '5-Sat', '0-Mon', '1-Tue', '4-Fri'],\n",
    "                   'hour': [12, 10, 15, 9, 10, 14],})\n",
    "df4"
   ]
  },
  {
   "cell_type": "code",
   "execution_count": null,
   "id": "89b8f97b",
   "metadata": {},
   "outputs": [],
   "source": [
    "df_pivot = df4.pivot(index = 'class', columns = 'day', values = 'hour')\n",
    "df_pivot"
   ]
  },
  {
   "cell_type": "markdown",
   "id": "548562da",
   "metadata": {},
   "source": [
    "**Stack and unstack**"
   ]
  },
  {
   "cell_type": "code",
   "execution_count": null,
   "id": "177c041c",
   "metadata": {},
   "outputs": [],
   "source": [
    "df_stack=df_pivot.stack()\n",
    "df_stack"
   ]
  },
  {
   "cell_type": "code",
   "execution_count": null,
   "id": "1bb30e71",
   "metadata": {},
   "outputs": [],
   "source": [
    "df_unstack=df_stack.unstack()\n",
    "df_unstack"
   ]
  },
  {
   "cell_type": "markdown",
   "id": "1f31f61c",
   "metadata": {},
   "source": [
    "**Melt function**"
   ]
  },
  {
   "cell_type": "code",
   "execution_count": null,
   "id": "e7b2c64e",
   "metadata": {},
   "outputs": [],
   "source": [
    "df_melt = df4.melt(id_vars='class', value_vars='day')\n",
    "df_melt"
   ]
  },
  {
   "cell_type": "markdown",
   "id": "80044d88",
   "metadata": {},
   "source": [
    "**Pivot table**"
   ]
  },
  {
   "cell_type": "code",
   "execution_count": null,
   "id": "74a521d6",
   "metadata": {},
   "outputs": [],
   "source": [
    "df_gym = pd.read_csv('gym2.csv', sep = ';')"
   ]
  },
  {
   "cell_type": "code",
   "execution_count": null,
   "id": "f75380f3",
   "metadata": {},
   "outputs": [],
   "source": [
    "df_gym.head(3)"
   ]
  },
  {
   "cell_type": "code",
   "execution_count": null,
   "id": "b46c04a5",
   "metadata": {},
   "outputs": [],
   "source": [
    "df_gym.pivot_table(index='city', columns='status', values = 'age', aggfunc='mean' ).round(2)"
   ]
  },
  {
   "cell_type": "markdown",
   "id": "46042b49",
   "metadata": {},
   "source": [
    "**Groupby**"
   ]
  },
  {
   "cell_type": "code",
   "execution_count": null,
   "id": "880cbcef",
   "metadata": {},
   "outputs": [],
   "source": [
    "df_gym.groupby('class')['name'].count()"
   ]
  }
 ],
 "metadata": {
  "kernelspec": {
   "display_name": "Python 3 (ipykernel)",
   "language": "python",
   "name": "python3"
  },
  "language_info": {
   "codemirror_mode": {
    "name": "ipython",
    "version": 3
   },
   "file_extension": ".py",
   "mimetype": "text/x-python",
   "name": "python",
   "nbconvert_exporter": "python",
   "pygments_lexer": "ipython3",
   "version": "3.11.5"
  }
 },
 "nbformat": 4,
 "nbformat_minor": 5
}
