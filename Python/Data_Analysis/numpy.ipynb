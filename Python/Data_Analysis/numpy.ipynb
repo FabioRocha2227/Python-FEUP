{
 "cells": [
  {
   "cell_type": "code",
   "execution_count": 1,
   "id": "bbcc4cd3",
   "metadata": {},
   "outputs": [],
   "source": [
    "#%% NumPy  - Python scientific library\n",
    "import numpy as np"
   ]
  },
  {
   "cell_type": "code",
   "execution_count": 2,
   "id": "ab6a9fca",
   "metadata": {},
   "outputs": [
    {
     "data": {
      "text/plain": [
       "array([1, 3, 5, 7])"
      ]
     },
     "execution_count": 2,
     "metadata": {},
     "output_type": "execute_result"
    }
   ],
   "source": [
    "# arange() works similar to range()\n",
    "np.arange(1, 9, 2)"
   ]
  },
  {
   "cell_type": "code",
   "execution_count": 3,
   "id": "993fb82e",
   "metadata": {},
   "outputs": [
    {
     "data": {
      "text/plain": [
       "array([[ 0,  1,  2,  3],\n",
       "       [ 4,  5,  6,  7],\n",
       "       [ 8,  9, 10, 11]])"
      ]
     },
     "execution_count": 3,
     "metadata": {},
     "output_type": "execute_result"
    }
   ],
   "source": [
    "# reshape defines the array dimensions\n",
    "np.arange(12).reshape(3,4)"
   ]
  },
  {
   "cell_type": "code",
   "execution_count": 4,
   "id": "80bca370",
   "metadata": {},
   "outputs": [
    {
     "data": {
      "text/plain": [
       "array([[ 1, -2],\n",
       "       [ 5,  3]])"
      ]
     },
     "execution_count": 4,
     "metadata": {},
     "output_type": "execute_result"
    }
   ],
   "source": [
    "# creates an array from a list\n",
    "np.array([[1,-2],[5,3]])"
   ]
  },
  {
   "cell_type": "code",
   "execution_count": 5,
   "id": "d884fe16",
   "metadata": {},
   "outputs": [
    {
     "data": {
      "text/plain": [
       "array([[0., 0., 0.],\n",
       "       [0., 0., 0.]])"
      ]
     },
     "execution_count": 5,
     "metadata": {},
     "output_type": "execute_result"
    }
   ],
   "source": [
    "# creates an array with zeros\n",
    "np.zeros((2,3))"
   ]
  },
  {
   "cell_type": "code",
   "execution_count": 6,
   "id": "a2dea27d",
   "metadata": {},
   "outputs": [
    {
     "data": {
      "text/plain": [
       "array([[1, 1, 1],\n",
       "       [1, 1, 1]])"
      ]
     },
     "execution_count": 6,
     "metadata": {},
     "output_type": "execute_result"
    }
   ],
   "source": [
    "# creates an array of type int with ones \n",
    "np.ones((2,3), dtype=int)"
   ]
  },
  {
   "cell_type": "code",
   "execution_count": 7,
   "id": "7f278377",
   "metadata": {},
   "outputs": [
    {
     "ename": "FileNotFoundError",
     "evalue": "data.csv not found.",
     "output_type": "error",
     "traceback": [
      "\u001b[1;31m---------------------------------------------------------------------------\u001b[0m",
      "\u001b[1;31mFileNotFoundError\u001b[0m                         Traceback (most recent call last)",
      "Cell \u001b[1;32mIn[7], line 2\u001b[0m\n\u001b[0;32m      1\u001b[0m \u001b[38;5;66;03m# creates an array from a csv file\u001b[39;00m\n\u001b[1;32m----> 2\u001b[0m np\u001b[38;5;241m.\u001b[39mgenfromtxt(\u001b[38;5;124m'\u001b[39m\u001b[38;5;124mdata.csv\u001b[39m\u001b[38;5;124m'\u001b[39m, delimiter\u001b[38;5;241m=\u001b[39m\u001b[38;5;124m\"\u001b[39m\u001b[38;5;124m;\u001b[39m\u001b[38;5;124m\"\u001b[39m)\n",
      "File \u001b[1;32m~\\anaconda3\\Lib\\site-packages\\numpy\\lib\\npyio.py:1977\u001b[0m, in \u001b[0;36mgenfromtxt\u001b[1;34m(fname, dtype, comments, delimiter, skip_header, skip_footer, converters, missing_values, filling_values, usecols, names, excludelist, deletechars, replace_space, autostrip, case_sensitive, defaultfmt, unpack, usemask, loose, invalid_raise, max_rows, encoding, ndmin, like)\u001b[0m\n\u001b[0;32m   1975\u001b[0m     fname \u001b[38;5;241m=\u001b[39m os_fspath(fname)\n\u001b[0;32m   1976\u001b[0m \u001b[38;5;28;01mif\u001b[39;00m \u001b[38;5;28misinstance\u001b[39m(fname, \u001b[38;5;28mstr\u001b[39m):\n\u001b[1;32m-> 1977\u001b[0m     fid \u001b[38;5;241m=\u001b[39m np\u001b[38;5;241m.\u001b[39mlib\u001b[38;5;241m.\u001b[39m_datasource\u001b[38;5;241m.\u001b[39mopen(fname, \u001b[38;5;124m'\u001b[39m\u001b[38;5;124mrt\u001b[39m\u001b[38;5;124m'\u001b[39m, encoding\u001b[38;5;241m=\u001b[39mencoding)\n\u001b[0;32m   1978\u001b[0m     fid_ctx \u001b[38;5;241m=\u001b[39m contextlib\u001b[38;5;241m.\u001b[39mclosing(fid)\n\u001b[0;32m   1979\u001b[0m \u001b[38;5;28;01melse\u001b[39;00m:\n",
      "File \u001b[1;32m~\\anaconda3\\Lib\\site-packages\\numpy\\lib\\_datasource.py:193\u001b[0m, in \u001b[0;36mopen\u001b[1;34m(path, mode, destpath, encoding, newline)\u001b[0m\n\u001b[0;32m    156\u001b[0m \u001b[38;5;250m\u001b[39m\u001b[38;5;124;03m\"\"\"\u001b[39;00m\n\u001b[0;32m    157\u001b[0m \u001b[38;5;124;03mOpen `path` with `mode` and return the file object.\u001b[39;00m\n\u001b[0;32m    158\u001b[0m \n\u001b[1;32m   (...)\u001b[0m\n\u001b[0;32m    189\u001b[0m \n\u001b[0;32m    190\u001b[0m \u001b[38;5;124;03m\"\"\"\u001b[39;00m\n\u001b[0;32m    192\u001b[0m ds \u001b[38;5;241m=\u001b[39m DataSource(destpath)\n\u001b[1;32m--> 193\u001b[0m \u001b[38;5;28;01mreturn\u001b[39;00m ds\u001b[38;5;241m.\u001b[39mopen(path, mode, encoding\u001b[38;5;241m=\u001b[39mencoding, newline\u001b[38;5;241m=\u001b[39mnewline)\n",
      "File \u001b[1;32m~\\anaconda3\\Lib\\site-packages\\numpy\\lib\\_datasource.py:533\u001b[0m, in \u001b[0;36mDataSource.open\u001b[1;34m(self, path, mode, encoding, newline)\u001b[0m\n\u001b[0;32m    530\u001b[0m     \u001b[38;5;28;01mreturn\u001b[39;00m _file_openers[ext](found, mode\u001b[38;5;241m=\u001b[39mmode,\n\u001b[0;32m    531\u001b[0m                               encoding\u001b[38;5;241m=\u001b[39mencoding, newline\u001b[38;5;241m=\u001b[39mnewline)\n\u001b[0;32m    532\u001b[0m \u001b[38;5;28;01melse\u001b[39;00m:\n\u001b[1;32m--> 533\u001b[0m     \u001b[38;5;28;01mraise\u001b[39;00m \u001b[38;5;167;01mFileNotFoundError\u001b[39;00m(\u001b[38;5;124mf\u001b[39m\u001b[38;5;124m\"\u001b[39m\u001b[38;5;132;01m{\u001b[39;00mpath\u001b[38;5;132;01m}\u001b[39;00m\u001b[38;5;124m not found.\u001b[39m\u001b[38;5;124m\"\u001b[39m)\n",
      "\u001b[1;31mFileNotFoundError\u001b[0m: data.csv not found."
     ]
    }
   ],
   "source": [
    "# creates an array from a csv file\n",
    "np.genfromtxt('data.csv', delimiter=\";\")"
   ]
  },
  {
   "cell_type": "code",
   "execution_count": null,
   "id": "9b960e59",
   "metadata": {},
   "outputs": [],
   "source": [
    "# Product of two arrays in Python\n",
    "a = [1,2,3]\n",
    "b = [6,5,4]\n",
    "c = list()\n",
    "for i in range(len(a)):\n",
    "    c.append(a[i] * b[i])\n",
    "print(c)"
   ]
  },
  {
   "cell_type": "code",
   "execution_count": null,
   "id": "a59f00b5",
   "metadata": {},
   "outputs": [],
   "source": [
    "# Product of two arrays unsing NumPy \n",
    "# arrays must be declared\n",
    "a = np.array([1,2,3])\n",
    "b = np.array([6,5,4])\n",
    "c = a * b\n",
    "c"
   ]
  },
  {
   "cell_type": "markdown",
   "id": "8bc116ea",
   "metadata": {},
   "source": [
    "**Basic operations**"
   ]
  },
  {
   "cell_type": "code",
   "execution_count": null,
   "id": "f08555ed",
   "metadata": {},
   "outputs": [],
   "source": [
    "a - b"
   ]
  },
  {
   "cell_type": "code",
   "execution_count": null,
   "id": "71d6fe7d",
   "metadata": {},
   "outputs": [],
   "source": [
    "b**2"
   ]
  },
  {
   "cell_type": "code",
   "execution_count": null,
   "id": "19fab984",
   "metadata": {},
   "outputs": [],
   "source": [
    "5 * np.sqrt(a)"
   ]
  },
  {
   "cell_type": "code",
   "execution_count": null,
   "id": "56a56a15",
   "metadata": {},
   "outputs": [],
   "source": [
    "a > 2"
   ]
  },
  {
   "cell_type": "code",
   "execution_count": null,
   "id": "bb87b9ea",
   "metadata": {},
   "outputs": [],
   "source": [
    "# Inner product\n",
    "c = np.dot(a,b)\n",
    "c = np.inner(a,b)\n",
    "c"
   ]
  },
  {
   "cell_type": "markdown",
   "id": "f6169c95",
   "metadata": {},
   "source": [
    "**Matrix/vector operations**"
   ]
  },
  {
   "cell_type": "code",
   "execution_count": null,
   "id": "04b27f9b",
   "metadata": {},
   "outputs": [],
   "source": [
    "ma = np.array([[1,-2],[5,3]])\n",
    "ma"
   ]
  },
  {
   "cell_type": "code",
   "execution_count": null,
   "id": "5dcb0fe5",
   "metadata": {},
   "outputs": [],
   "source": [
    "mb = np.array([[-1,2],[4,1]])\n",
    "mb"
   ]
  },
  {
   "cell_type": "code",
   "execution_count": null,
   "id": "e1f5279d",
   "metadata": {},
   "outputs": [],
   "source": [
    "# Matrix product (both work)\n",
    "ma @ mb\n",
    "np.dot(ma,mb)"
   ]
  },
  {
   "cell_type": "code",
   "execution_count": null,
   "id": "7e007386",
   "metadata": {},
   "outputs": [],
   "source": [
    "# Matrix transpose\n",
    "np.transpose(ma)"
   ]
  },
  {
   "cell_type": "code",
   "execution_count": null,
   "id": "7f9f2cd4",
   "metadata": {},
   "outputs": [],
   "source": [
    "# Matrix determinant\n",
    "np.linalg.det(ma)"
   ]
  },
  {
   "cell_type": "code",
   "execution_count": null,
   "id": "b4d73892",
   "metadata": {},
   "outputs": [],
   "source": [
    "# Matrix inverse\n",
    "np.linalg.inv(ma)"
   ]
  },
  {
   "cell_type": "code",
   "execution_count": null,
   "id": "f98a99a7",
   "metadata": {},
   "outputs": [],
   "source": [
    "# Matrix flatten\n",
    "ma.flatten()"
   ]
  },
  {
   "cell_type": "code",
   "execution_count": null,
   "id": "4344dce8",
   "metadata": {},
   "outputs": [],
   "source": [
    "#%% Python and numpy time comparison\n",
    "import numpy as np\n",
    "import time\n",
    "a = range(1, 10000001)\n",
    "b = range(1,10000001)\n",
    "c = list()\n",
    "t1 = time.perf_counter()\n",
    "for i in range(len(a)):\n",
    "    c.append(a[i] / b[i])\n",
    "t2 = time.perf_counter()\n",
    "print(f'Python time: {t2 - t1:0.4}')"
   ]
  },
  {
   "cell_type": "code",
   "execution_count": null,
   "id": "1b6c2898",
   "metadata": {},
   "outputs": [],
   "source": [
    "a = np.arange(1,1000001)\n",
    "b = np.arange(1,1000001)\n",
    "t1 = time.perf_counter()\n",
    "c = a / b\n",
    "t2 = time.perf_counter()\n",
    "print(f'NumPy time: {t2 - t1:0.4}')"
   ]
  },
  {
   "cell_type": "code",
   "execution_count": null,
   "id": "9601a3b5",
   "metadata": {},
   "outputs": [],
   "source": []
  }
 ],
 "metadata": {
  "kernelspec": {
   "display_name": "Python 3 (ipykernel)",
   "language": "python",
   "name": "python3"
  },
  "language_info": {
   "codemirror_mode": {
    "name": "ipython",
    "version": 3
   },
   "file_extension": ".py",
   "mimetype": "text/x-python",
   "name": "python",
   "nbconvert_exporter": "python",
   "pygments_lexer": "ipython3",
   "version": "3.11.5"
  }
 },
 "nbformat": 4,
 "nbformat_minor": 5
}
