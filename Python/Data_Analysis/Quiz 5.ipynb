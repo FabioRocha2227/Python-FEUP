{
 "cells": [
  {
   "cell_type": "code",
   "execution_count": 114,
   "id": "707d113c",
   "metadata": {},
   "outputs": [],
   "source": [
    "import pandas as pd\n",
    "import numpy as np\n",
    "df = pd.read_csv('quizPD10_13/gym2_q1_nan.csv', sep = \";\", index_col = 'id', parse_dates = ['date'])\n"
   ]
  },
  {
   "cell_type": "markdown",
   "id": "baa9fcc8",
   "metadata": {},
   "source": [
    "Print a numpy array with the number of rows that have no NaN values and the number of rows that have at least one NaN value.\n"
   ]
  },
  {
   "cell_type": "code",
   "execution_count": 115,
   "id": "f7027a10",
   "metadata": {},
   "outputs": [],
   "source": [
    "def solve():\n",
    "    no_NAN = len(df.dropna())\n",
    "    \n",
    "    NAN = len(df) - no_NAN\n",
    "    \n",
    "    result = np.array([no_NAN,NAN])\n",
    "    \n",
    "    print(result)"
   ]
  },
  {
   "cell_type": "code",
   "execution_count": 116,
   "id": "aa8396b5",
   "metadata": {},
   "outputs": [
    {
     "name": "stdout",
     "output_type": "stream",
     "text": [
      "[59  3]\n"
     ]
    }
   ],
   "source": [
    "solve()"
   ]
  },
  {
   "cell_type": "markdown",
   "id": "5de51167",
   "metadata": {},
   "source": [
    "Given a date string (YYYYY-MM-DD HH:MM:SS) and a timezone, assume the date is in UTC and convert it to the given timezone. Return the new date.\n"
   ]
  },
  {
   "cell_type": "code",
   "execution_count": 117,
   "id": "2ac84f46",
   "metadata": {},
   "outputs": [],
   "source": [
    "def solve(datestr, tmz):\n",
    "    date_utc = pd.to_datetime(datestr, format='%Y-%m-%d %H:%M:%S', utc=True)\n",
    "    \n",
    "    date_converted = date_utc.tz_convert(tmz)\n",
    "\n",
    "    \n",
    "    return(date_converted)\n",
    "    "
   ]
  },
  {
   "cell_type": "code",
   "execution_count": 118,
   "id": "ab6aaf1c",
   "metadata": {},
   "outputs": [
    {
     "name": "stdout",
     "output_type": "stream",
     "text": [
      "2022-01-25 08:30:45-08:00\n"
     ]
    }
   ],
   "source": [
    "print(solve('2022-01-25 16:30:45', 'US/Pacific'))\n"
   ]
  },
  {
   "cell_type": "markdown",
   "id": "dfda4f05",
   "metadata": {},
   "source": [
    "Calculate and print the mean of the 'age' and fill the NaN values with zero and calculate and print the mean again. (rounded to two decimal places)\n"
   ]
  },
  {
   "cell_type": "code",
   "execution_count": 119,
   "id": "d42e9ed9",
   "metadata": {},
   "outputs": [],
   "source": [
    "def solve():\n",
    "    mean_age_bf = df['age'].mean().round(2)\n",
    "    print(mean_age_bf)\n",
    "    \n",
    "    df['age'].fillna(0,inplace=True)\n",
    "    mean_age_af = df['age'].mean().round(2)\n",
    "    print(mean_age_af)"
   ]
  },
  {
   "cell_type": "code",
   "execution_count": 120,
   "id": "152c6d79",
   "metadata": {
    "scrolled": true
   },
   "outputs": [
    {
     "name": "stdout",
     "output_type": "stream",
     "text": [
      "40.08\n",
      "38.79\n"
     ]
    }
   ],
   "source": [
    "solve()"
   ]
  },
  {
   "cell_type": "code",
   "execution_count": 121,
   "id": "f1c8f682",
   "metadata": {},
   "outputs": [],
   "source": [
    "df = pd.read_csv('quizPD10_13/gym2_q1.csv', sep = \";\", index_col = 'id', parse_dates = ['date'])\n"
   ]
  },
  {
   "cell_type": "markdown",
   "id": "65a364cd",
   "metadata": {},
   "source": [
    "Change the 'rank'  name from old_cat to new_cat and convert the column 'rank' to category dtype.\n"
   ]
  },
  {
   "cell_type": "code",
   "execution_count": 122,
   "id": "2aee54b4",
   "metadata": {},
   "outputs": [],
   "source": [
    "def solve(old_cat, new_cat):\n",
    "    \n",
    "    df['rank'].replace({old_cat: new_cat}, inplace=True)\n",
    "    \n",
    "    df['rank'].astype('category')"
   ]
  },
  {
   "cell_type": "code",
   "execution_count": 123,
   "id": "0b529764",
   "metadata": {},
   "outputs": [
    {
     "name": "stdout",
     "output_type": "stream",
     "text": [
      "['good' 'poor' 'very_good' 'excellent']\n"
     ]
    }
   ],
   "source": [
    "solve('fair', 'poor')\n",
    "print(pd.unique(df['rank']))"
   ]
  }
 ],
 "metadata": {
  "kernelspec": {
   "display_name": "Python 3 (ipykernel)",
   "language": "python",
   "name": "python3"
  },
  "language_info": {
   "codemirror_mode": {
    "name": "ipython",
    "version": 3
   },
   "file_extension": ".py",
   "mimetype": "text/x-python",
   "name": "python",
   "nbconvert_exporter": "python",
   "pygments_lexer": "ipython3",
   "version": "3.11.5"
  }
 },
 "nbformat": 4,
 "nbformat_minor": 5
}
