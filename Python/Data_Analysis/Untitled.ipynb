{
 "cells": [
  {
   "cell_type": "code",
   "execution_count": 1,
   "id": "f315e767",
   "metadata": {},
   "outputs": [],
   "source": [
    "import pandas as pd\n",
    "df = pd.read_csv('supermarket1.csv', sep=';')"
   ]
  },
  {
   "cell_type": "code",
   "execution_count": 6,
   "id": "b764d969",
   "metadata": {},
   "outputs": [],
   "source": [
    "def solve():\n",
    "    sum = df['Total'].describe().round(2)\n",
    "    print(sum)"
   ]
  },
  {
   "cell_type": "code",
   "execution_count": 7,
   "id": "1528d61a",
   "metadata": {},
   "outputs": [
    {
     "name": "stdout",
     "output_type": "stream",
     "text": [
      "count    1000.00\n",
      "mean      322.97\n",
      "std       245.89\n",
      "min        10.68\n",
      "25%       124.42\n",
      "50%       253.85\n",
      "75%       471.35\n",
      "max      1042.65\n",
      "Name: Total, dtype: float64\n"
     ]
    }
   ],
   "source": [
    "solve()"
   ]
  },
  {
   "cell_type": "code",
   "execution_count": 8,
   "id": "56acecdf",
   "metadata": {},
   "outputs": [],
   "source": [
    "def solve():\n",
    "    print(df['Product line'].value_counts())"
   ]
  },
  {
   "cell_type": "code",
   "execution_count": 9,
   "id": "c707d800",
   "metadata": {},
   "outputs": [
    {
     "name": "stdout",
     "output_type": "stream",
     "text": [
      "Product line\n",
      "Fashion accessories       178\n",
      "Food and beverages        174\n",
      "Electronic accessories    170\n",
      "Sports and travel         166\n",
      "Home and lifestyle        160\n",
      "Health and beauty         152\n",
      "Name: count, dtype: int64\n"
     ]
    }
   ],
   "source": [
    "solve()"
   ]
  },
  {
   "cell_type": "code",
   "execution_count": 23,
   "id": "928cab2e",
   "metadata": {},
   "outputs": [],
   "source": [
    "df = pd.read_csv('supermarket1.csv', sep=';')"
   ]
  },
  {
   "cell_type": "code",
   "execution_count": 24,
   "id": "653b1a03",
   "metadata": {},
   "outputs": [],
   "source": [
    "def solve():\n",
    "    gender = df['Gender'].value_counts()\n",
    "    n = len(df)\n",
    "    p = (gender / n) *100\n",
    "    \n",
    "    print(p)\n"
   ]
  },
  {
   "cell_type": "code",
   "execution_count": 25,
   "id": "3572f7dd",
   "metadata": {},
   "outputs": [
    {
     "name": "stdout",
     "output_type": "stream",
     "text": [
      "Gender\n",
      "Female    50.1\n",
      "Male      49.9\n",
      "Name: count, dtype: float64\n"
     ]
    }
   ],
   "source": [
    "solve()"
   ]
  },
  {
   "cell_type": "code",
   "execution_count": 34,
   "id": "4c0a1549",
   "metadata": {},
   "outputs": [],
   "source": [
    "def solve():\n",
    "    selected = df[df['Gender'] == 'Female']\n",
    "    result = selected['Total'].mean().round(1)\n",
    "    print(result)"
   ]
  },
  {
   "cell_type": "code",
   "execution_count": 35,
   "id": "68cbed57",
   "metadata": {},
   "outputs": [
    {
     "name": "stdout",
     "output_type": "stream",
     "text": [
      "335.1\n"
     ]
    }
   ],
   "source": [
    "solve()"
   ]
  },
  {
   "cell_type": "code",
   "execution_count": 36,
   "id": "5bafb643",
   "metadata": {},
   "outputs": [],
   "source": [
    "def solve():\n",
    "    df.drop('Customer type',axis=1,inplace=True)"
   ]
  },
  {
   "cell_type": "code",
   "execution_count": 37,
   "id": "afc39ead",
   "metadata": {},
   "outputs": [
    {
     "name": "stdout",
     "output_type": "stream",
     "text": [
      "    Invoice ID       City\n",
      "0  750-67-8428     Yangon\n",
      "1  226-31-3081  Naypyitaw\n",
      "2  631-41-3108     Yangon\n"
     ]
    }
   ],
   "source": [
    "solve()\n",
    "print(df.loc[:,'Invoice ID':'City'].head(3))"
   ]
  },
  {
   "cell_type": "code",
   "execution_count": 38,
   "id": "8df54080",
   "metadata": {},
   "outputs": [],
   "source": [
    "df = pd.read_csv('supermarket1.csv', sep=';')"
   ]
  },
  {
   "cell_type": "code",
   "execution_count": 44,
   "id": "0b102e1f",
   "metadata": {},
   "outputs": [],
   "source": [
    "def solve():\n",
    "    bins = [0,220,440,660,880,1100]\n",
    "    labels = ['low', 'fair', 'good', 'very_good', 'excellent']\n",
    "    \n",
    "    df['classs'] = pd.cut(df['Total'],bins=bins,labels=labels,right=False)\n",
    "    classs_cnt = df['classs'].value_counts()\n",
    "    print(classs_cnt)\n"
   ]
  },
  {
   "cell_type": "code",
   "execution_count": 45,
   "id": "3370b7b0",
   "metadata": {},
   "outputs": [
    {
     "name": "stdout",
     "output_type": "stream",
     "text": [
      "classs\n",
      "low          454\n",
      "fair         264\n",
      "good         156\n",
      "very_good     96\n",
      "excellent     30\n",
      "Name: count, dtype: int64\n"
     ]
    }
   ],
   "source": [
    "solve()"
   ]
  },
  {
   "cell_type": "code",
   "execution_count": 46,
   "id": "bb839147",
   "metadata": {},
   "outputs": [],
   "source": [
    "def solve():\n",
    "    tot = pd.pivot_table(df,values='Total',index='City',columns='Payment',aggfunc='sum').round(2)\n",
    "    print(tot)"
   ]
  },
  {
   "cell_type": "code",
   "execution_count": 47,
   "id": "7ef11081",
   "metadata": {},
   "outputs": [
    {
     "name": "stdout",
     "output_type": "stream",
     "text": [
      "Payment        Cash  Credit card   Ewallet\n",
      "City                                      \n",
      "Mandalay   35339.46     37344.86  33513.35\n",
      "Naypyitaw  43085.86     30327.46  37155.38\n",
      "Yangon     33781.25     33094.75  39324.37\n"
     ]
    }
   ],
   "source": [
    "solve()"
   ]
  },
  {
   "cell_type": "code",
   "execution_count": 56,
   "id": "c1561631",
   "metadata": {},
   "outputs": [],
   "source": [
    "df = pd.read_csv('supermarket1.csv', sep=';')"
   ]
  },
  {
   "cell_type": "code",
   "execution_count": 57,
   "id": "8607b86f",
   "metadata": {},
   "outputs": [],
   "source": [
    "def solve():\n",
    "    QxPrice = df['Unit price'] * df['Quantity']\n",
    "    df.insert(7,'QxPrice',QxPrice)\n",
    "    "
   ]
  },
  {
   "cell_type": "code",
   "execution_count": 58,
   "id": "6947736a",
   "metadata": {},
   "outputs": [
    {
     "name": "stdout",
     "output_type": "stream",
     "text": [
      "   Unit price  Quantity  QxPrice   Tax 5%     Total\n",
      "0       74.69         7   522.83  26.1415  548.9715\n",
      "1       15.28         5    76.40   3.8200   80.2200\n",
      "2       46.33         7   324.31  16.2155  340.5255\n"
     ]
    }
   ],
   "source": [
    "solve()\n",
    "print(df.loc[0:2,'Unit price':'Total'])"
   ]
  },
  {
   "cell_type": "code",
   "execution_count": 59,
   "id": "145a68e1",
   "metadata": {},
   "outputs": [],
   "source": [
    "df = pd.read_csv('supermarket1.csv', sep=';')"
   ]
  },
  {
   "cell_type": "code",
   "execution_count": 60,
   "id": "17c1c920",
   "metadata": {},
   "outputs": [],
   "source": [
    "def solve():\n",
    "    condition_member_male = (df['Customer type'] == 'Member') & (df['Gender'] == 'Male') & (df['Unit price'] > 99)\n",
    "    condition_normal_female = (df['Customer type'] == 'Normal') & (df['Gender'] == 'Female') & (df['Unit price'] > 99)\n",
    "    \n",
    "    selected = df.loc[(condition_member_male|condition_normal_female),'Customer type':'Unit price']\n",
    "    print(selected)"
   ]
  },
  {
   "cell_type": "code",
   "execution_count": 61,
   "id": "486eea23",
   "metadata": {},
   "outputs": [
    {
     "name": "stdout",
     "output_type": "stream",
     "text": [
      "    Customer type  Gender            Product line  Unit price\n",
      "80         Normal  Female       Health and beauty       99.19\n",
      "120        Normal  Female  Electronic accessories       99.56\n",
      "122        Member    Male       Sports and travel       99.96\n",
      "209        Normal  Female  Electronic accessories       99.73\n",
      "274        Normal  Female       Health and beauty       99.71\n",
      "283        Member    Male       Health and beauty       99.83\n",
      "315        Member    Male      Food and beverages       99.37\n",
      "326        Member    Male      Food and beverages       99.78\n",
      "382        Normal  Female      Food and beverages       99.69\n",
      "656        Normal  Female  Electronic accessories       99.69\n",
      "849        Normal  Female     Fashion accessories       99.10\n",
      "941        Member    Male     Fashion accessories       99.82\n"
     ]
    }
   ],
   "source": [
    "solve()"
   ]
  },
  {
   "cell_type": "code",
   "execution_count": 62,
   "id": "fd244533",
   "metadata": {},
   "outputs": [],
   "source": [
    "def solve():\n",
    "    df.columns = df.columns.str.replace(' ','_')"
   ]
  },
  {
   "cell_type": "code",
   "execution_count": 63,
   "id": "af8f3c64",
   "metadata": {},
   "outputs": [
    {
     "name": "stdout",
     "output_type": "stream",
     "text": [
      "    Invoice_ID Customer_type            Product_line  Unit_price   Tax_5%\n",
      "0  750-67-8428        Member       Health and beauty       74.69  26.1415\n",
      "1  226-31-3081        Normal  Electronic accessories       15.28   3.8200\n",
      "2  631-41-3108        Normal      Home and lifestyle       46.33  16.2155\n"
     ]
    }
   ],
   "source": [
    "solve()\n",
    "print(df.loc[:,['Invoice_ID','Customer_type','Product_line','Unit_price','Tax_5%']].head(3))"
   ]
  },
  {
   "cell_type": "code",
   "execution_count": 64,
   "id": "2b5a8af9",
   "metadata": {},
   "outputs": [],
   "source": [
    "df = pd.read_csv('supermarket1.csv', sep=';')"
   ]
  },
  {
   "cell_type": "code",
   "execution_count": 67,
   "id": "da1df95e",
   "metadata": {},
   "outputs": [],
   "source": [
    "def solve():\n",
    "    print(df.loc[[0,2],['Invoice ID','Total']])"
   ]
  },
  {
   "cell_type": "code",
   "execution_count": 68,
   "id": "7a03568e",
   "metadata": {},
   "outputs": [
    {
     "name": "stdout",
     "output_type": "stream",
     "text": [
      "    Invoice ID     Total\n",
      "0  750-67-8428  548.9715\n",
      "2  631-41-3108  340.5255\n"
     ]
    }
   ],
   "source": [
    "solve()"
   ]
  },
  {
   "cell_type": "code",
   "execution_count": 73,
   "id": "9e0f8b09",
   "metadata": {},
   "outputs": [],
   "source": [
    "def solve():\n",
    "    i  = pd.pivot_table(df,values = 'Invoice ID',index = ['City'],columns = ['Customer type'],aggfunc='count', fill_value=0,margins=True, margins_name='All')\n",
    "    print(i)"
   ]
  },
  {
   "cell_type": "code",
   "execution_count": 74,
   "id": "dfd8ca09",
   "metadata": {},
   "outputs": [
    {
     "name": "stdout",
     "output_type": "stream",
     "text": [
      "Customer type  Member  Normal   All\n",
      "City                               \n",
      "Mandalay          165     167   332\n",
      "Naypyitaw         169     159   328\n",
      "Yangon            167     173   340\n",
      "All               501     499  1000\n"
     ]
    }
   ],
   "source": [
    "solve()"
   ]
  },
  {
   "cell_type": "code",
   "execution_count": 77,
   "id": "0a2aa2d4",
   "metadata": {},
   "outputs": [],
   "source": [
    "def solve():\n",
    "    i = pd.pivot_table(df,values = 'Quantity',index = 'Product line',aggfunc='sum',margins=True,margins_name='All')\n",
    "    print(i)"
   ]
  },
  {
   "cell_type": "code",
   "execution_count": 78,
   "id": "4b32ad70",
   "metadata": {},
   "outputs": [
    {
     "name": "stdout",
     "output_type": "stream",
     "text": [
      "                        Quantity\n",
      "Product line                    \n",
      "Electronic accessories       971\n",
      "Fashion accessories          902\n",
      "Food and beverages           952\n",
      "Health and beauty            854\n",
      "Home and lifestyle           911\n",
      "Sports and travel            920\n",
      "All                         5510\n"
     ]
    }
   ],
   "source": [
    "solve()"
   ]
  },
  {
   "cell_type": "code",
   "execution_count": 79,
   "id": "066c7543",
   "metadata": {},
   "outputs": [],
   "source": [
    "def solve():\n",
    "    print(df.loc[[0,1,2],'Total':'Payment'])"
   ]
  },
  {
   "cell_type": "code",
   "execution_count": 80,
   "id": "94461daf",
   "metadata": {},
   "outputs": [
    {
     "name": "stdout",
     "output_type": "stream",
     "text": [
      "      Total                 Date      Payment\n",
      "0  548.9715  2019-01-05 13:08:00      Ewallet\n",
      "1   80.2200  2019-03-08 10:29:00         Cash\n",
      "2  340.5255  2019-03-03 13:23:00  Credit card\n"
     ]
    }
   ],
   "source": [
    "solve()"
   ]
  },
  {
   "cell_type": "code",
   "execution_count": 83,
   "id": "d769dca2",
   "metadata": {},
   "outputs": [],
   "source": [
    "def solve():\n",
    "    df.loc[2,'Customer type'] = 'Member'"
   ]
  },
  {
   "cell_type": "code",
   "execution_count": 84,
   "id": "f83dcb8e",
   "metadata": {},
   "outputs": [
    {
     "name": "stdout",
     "output_type": "stream",
     "text": [
      "    Invoice ID       City Customer type  Gender\n",
      "0  750-67-8428     Yangon        Member  Female\n",
      "1  226-31-3081  Naypyitaw        Normal  Female\n",
      "2  631-41-3108     Yangon        Member    Male\n"
     ]
    }
   ],
   "source": [
    "solve()\n",
    "print(df.loc[:,'Invoice ID':'Gender'].head(3))"
   ]
  },
  {
   "cell_type": "code",
   "execution_count": 85,
   "id": "e9c5ea07",
   "metadata": {},
   "outputs": [],
   "source": [
    "def solve():\n",
    "    s = df[df['Total'] > 1030]\n",
    "    print(s.loc[:,'Product line':'Total'])"
   ]
  },
  {
   "cell_type": "code",
   "execution_count": 86,
   "id": "dcc7e157",
   "metadata": {},
   "outputs": [
    {
     "name": "stdout",
     "output_type": "stream",
     "text": [
      "            Product line  Unit price  Quantity  Tax 5%    Total\n",
      "167  Fashion accessories       98.98        10   49.49  1039.29\n",
      "350  Fashion accessories       99.30        10   49.65  1042.65\n",
      "557   Food and beverages       98.52        10   49.26  1034.46\n"
     ]
    }
   ],
   "source": [
    "solve()"
   ]
  },
  {
   "cell_type": "code",
   "execution_count": 88,
   "id": "e1e82224",
   "metadata": {},
   "outputs": [],
   "source": [
    "def solve():\n",
    "    df.drop(df[df['City'] == 'Yangon'].index,inplace=True)"
   ]
  },
  {
   "cell_type": "code",
   "execution_count": 89,
   "id": "767977b4",
   "metadata": {},
   "outputs": [
    {
     "name": "stdout",
     "output_type": "stream",
     "text": [
      "    Invoice ID       City Customer type  Gender            Product line\n",
      "1  226-31-3081  Naypyitaw        Normal  Female  Electronic accessories\n",
      "5  699-14-3026  Naypyitaw        Normal    Male  Electronic accessories\n",
      "7  315-22-5665  Naypyitaw        Normal  Female      Home and lifestyle\n"
     ]
    }
   ],
   "source": [
    "solve()\n",
    "print(df.loc[:,'Invoice ID':'Product line'].head(3))"
   ]
  },
  {
   "cell_type": "code",
   "execution_count": 90,
   "id": "8becbde6",
   "metadata": {},
   "outputs": [],
   "source": [
    "df = pd.read_csv('supermarket1.csv', sep=';')"
   ]
  },
  {
   "cell_type": "code",
   "execution_count": 101,
   "id": "2e874e8f",
   "metadata": {},
   "outputs": [],
   "source": [
    "def solve():\n",
    "    s = df.groupby(['City','Product line'])['Total'].sum().idxmax()\n",
    "    city,product = s\n",
    "    max = df.loc[(df['City'] == city) & (df['Product line'] == product),'Total'].sum().round(1)\n",
    "    print(max)"
   ]
  },
  {
   "cell_type": "code",
   "execution_count": 102,
   "id": "b6a56591",
   "metadata": {},
   "outputs": [
    {
     "name": "stdout",
     "output_type": "stream",
     "text": [
      "23766.9\n"
     ]
    }
   ],
   "source": [
    "solve()"
   ]
  },
  {
   "cell_type": "code",
   "execution_count": 103,
   "id": "beac27d9",
   "metadata": {},
   "outputs": [],
   "source": [
    "import pandas as pd\n",
    "df = pd.read_csv('adult1.csv', sep=';',parse_dates=['birthday'])"
   ]
  },
  {
   "cell_type": "code",
   "execution_count": 107,
   "id": "c0b81467",
   "metadata": {},
   "outputs": [],
   "source": [
    "def solve():\n",
    "    print(df.loc[[1,4,6],'race':'salary'])"
   ]
  },
  {
   "cell_type": "code",
   "execution_count": 108,
   "id": "5aca40ad",
   "metadata": {},
   "outputs": [
    {
     "name": "stdout",
     "output_type": "stream",
     "text": [
      "    race     sex  weekhours        country  salary\n",
      "1  White    Male         13  United-States   40312\n",
      "4  Black  Female         40           Cuba   31375\n",
      "6  Black  Female         16        Jamaica   27656\n"
     ]
    }
   ],
   "source": [
    "solve()"
   ]
  },
  {
   "cell_type": "code",
   "execution_count": 109,
   "id": "67795d74",
   "metadata": {},
   "outputs": [],
   "source": [
    "def solve():\n",
    "    selected =df[df['salary'] >=150000]\n",
    "    min = selected['age'].min()\n",
    "    max = selected['age'].max()\n",
    "    mean = selected['age'].mean()\n",
    "    result = pd.Series({'min':round(min,1),'max':round(max,1),'mean':round(mean,1)},name = 'age')\n",
    "    print(result)"
   ]
  },
  {
   "cell_type": "code",
   "execution_count": 110,
   "id": "3f02799d",
   "metadata": {},
   "outputs": [
    {
     "name": "stdout",
     "output_type": "stream",
     "text": [
      "min     28.0\n",
      "max     88.0\n",
      "mean    47.5\n",
      "Name: age, dtype: float64\n"
     ]
    }
   ],
   "source": [
    "solve()"
   ]
  },
  {
   "cell_type": "code",
   "execution_count": 116,
   "id": "3f36ac7e",
   "metadata": {},
   "outputs": [],
   "source": [
    "df = pd.read_csv('adult1.csv', sep=';',parse_dates=['birthday'])"
   ]
  },
  {
   "cell_type": "code",
   "execution_count": 117,
   "id": "fa7e1fd2",
   "metadata": {},
   "outputs": [],
   "source": [
    "def solve():\n",
    "    con = (df['sex'] == 'Male') & (df['age'] >=45)\n",
    "    \n",
    "    df.drop(df.loc[con].index,inplace=True)"
   ]
  },
  {
   "cell_type": "code",
   "execution_count": 118,
   "id": "604af870",
   "metadata": {},
   "outputs": [
    {
     "name": "stdout",
     "output_type": "stream",
     "text": [
      "(10853, 12)\n",
      "(8790, 12)\n"
     ]
    }
   ],
   "source": [
    "print(df.shape)\n",
    "solve()\n",
    "print(df.shape)"
   ]
  },
  {
   "cell_type": "code",
   "execution_count": 130,
   "id": "2cb862c0",
   "metadata": {},
   "outputs": [],
   "source": [
    "df = pd.read_csv('adult1.csv', sep=';',parse_dates=['birthday'])"
   ]
  },
  {
   "cell_type": "code",
   "execution_count": 141,
   "id": "14bbe55c",
   "metadata": {},
   "outputs": [],
   "source": [
    "def solve():\n",
    "    selected = df[df['salary'] >= 150000]\n",
    "    \n",
    "    married = selected[selected['status'].str.startswith('Married')].shape[0]\n",
    "    percentage = round((married/len(selected)) *100,1)\n",
    "    print(percentage)"
   ]
  },
  {
   "cell_type": "code",
   "execution_count": 142,
   "id": "4c621bcf",
   "metadata": {},
   "outputs": [
    {
     "name": "stdout",
     "output_type": "stream",
     "text": [
      "83.9\n"
     ]
    }
   ],
   "source": [
    "solve()"
   ]
  },
  {
   "cell_type": "code",
   "execution_count": 152,
   "id": "68ff514c",
   "metadata": {},
   "outputs": [],
   "source": [
    "def solve():\n",
    "    min_age = df['age'].min()\n",
    "    avg = df[df['age'] == min_age]\n",
    "    avvf = round(avg['salary'].mean(),1)\n",
    "    print(min_age)\n",
    "    print(avvf)"
   ]
  },
  {
   "cell_type": "code",
   "execution_count": 153,
   "id": "5758c81b",
   "metadata": {},
   "outputs": [
    {
     "name": "stdout",
     "output_type": "stream",
     "text": [
      "15\n",
      "23585.4\n"
     ]
    }
   ],
   "source": [
    "solve()"
   ]
  },
  {
   "cell_type": "code",
   "execution_count": 157,
   "id": "a9b2b237",
   "metadata": {},
   "outputs": [],
   "source": [
    "def solve():\n",
    "    a = df[df['salary'] >150000]\n",
    "    tot = a.shape[0]\n",
    "    b = a[a['education'] >=13].shape[0]\n",
    "    \n",
    "    print(tot)\n",
    "    print(b)\n",
    "    \n",
    "    "
   ]
  },
  {
   "cell_type": "code",
   "execution_count": 158,
   "id": "46645ca0",
   "metadata": {},
   "outputs": [
    {
     "name": "stdout",
     "output_type": "stream",
     "text": [
      "1358\n",
      "991\n"
     ]
    }
   ],
   "source": [
    "solve()"
   ]
  },
  {
   "cell_type": "code",
   "execution_count": 159,
   "id": "e4b1f374",
   "metadata": {},
   "outputs": [],
   "source": [
    "def hif_und(name):\n",
    "    return name.replace('-','_')\n",
    "\n",
    "def solve():\n",
    "    df['status'] = df['status'].apply(hif_und)"
   ]
  },
  {
   "cell_type": "code",
   "execution_count": 161,
   "id": "52e7d87a",
   "metadata": {},
   "outputs": [
    {
     "name": "stdout",
     "output_type": "stream",
     "text": [
      "very_high\n",
      "   age         workclass  education              status\n",
      "0   37         State-gov         13       Never_married\n",
      "1   48  Self-emp-not-inc         13  Married_civ_spouse\n",
      "2   36           Private          9            Divorced\n"
     ]
    }
   ],
   "source": [
    "print(hif_und('very-high'))\n",
    "solve()\n",
    "print(df.loc[:,'age':'status'].head(3))"
   ]
  },
  {
   "cell_type": "code",
   "execution_count": 164,
   "id": "7095bf16",
   "metadata": {},
   "outputs": [],
   "source": [
    "def solve():\n",
    "    df['year'] = df['birthday'].dt.year\n",
    "    bs = df['year'].value_counts()\n",
    "    bottom = bs.nsmallest(3)\n",
    "    bottom.name = 'birthday'\n",
    "    print(bottom)"
   ]
  },
  {
   "cell_type": "code",
   "execution_count": 165,
   "id": "e17d3a9c",
   "metadata": {},
   "outputs": [
    {
     "name": "stdout",
     "output_type": "stream",
     "text": [
      "year\n",
      "1934    1\n",
      "1937    1\n",
      "1940    2\n",
      "Name: birthday, dtype: int64\n"
     ]
    }
   ],
   "source": [
    "solve()"
   ]
  },
  {
   "cell_type": "code",
   "execution_count": 171,
   "id": "686452be",
   "metadata": {},
   "outputs": [],
   "source": [
    "df = pd.read_csv('adult1.csv', sep=';',parse_dates=['birthday'])\n"
   ]
  },
  {
   "cell_type": "code",
   "execution_count": 172,
   "id": "74c967f1",
   "metadata": {},
   "outputs": [],
   "source": [
    "def solve():\n",
    "    retirement_age = 66\n",
    "    ret= df['birthday'] + pd.DateOffset(years=retirement_age)\n",
    "    df.insert(11,'retirementdate',ret)\n",
    "\n",
    "    "
   ]
  },
  {
   "cell_type": "code",
   "execution_count": 173,
   "id": "e1da6d02",
   "metadata": {},
   "outputs": [
    {
     "name": "stdout",
     "output_type": "stream",
     "text": [
      "   salary retirementdate   birthday\n",
      "0   35843     2049-07-13 1983-07-13\n",
      "1   40312     2038-02-04 1972-02-04\n",
      "2   30687     2050-12-16 1984-12-16\n"
     ]
    }
   ],
   "source": [
    "solve()\n",
    "print(df.loc[:,'salary':'birthday'].head(3))\n"
   ]
  },
  {
   "cell_type": "code",
   "execution_count": 182,
   "id": "43f5791a",
   "metadata": {},
   "outputs": [],
   "source": [
    "def solve():\n",
    "    tot = df.shape[0]\n",
    "    percentage = round((df['status'].value_counts() / tot) *100,1)\n",
    "    percentage = percentage.sort_values(ascending = False)\n",
    "    percentage.name = 'status'\n",
    "    print(percentage)"
   ]
  },
  {
   "cell_type": "code",
   "execution_count": 183,
   "id": "61b23ba1",
   "metadata": {},
   "outputs": [
    {
     "name": "stdout",
     "output_type": "stream",
     "text": [
      "status\n",
      "Married-civ-spouse       45.7\n",
      "Never-married            33.0\n",
      "Divorced                 13.7\n",
      "Separated                 3.3\n",
      "Widowed                   2.9\n",
      "Married-spouse-absent     1.3\n",
      "Married-AF-spouse         0.1\n",
      "Name: status, dtype: float64\n"
     ]
    }
   ],
   "source": [
    "solve()"
   ]
  },
  {
   "cell_type": "code",
   "execution_count": 184,
   "id": "b5d767f9",
   "metadata": {},
   "outputs": [],
   "source": [
    "def solve():\n",
    "    selected = df[(df['salary'] > 240000) & (df['race'] == 'Black')]\n",
    "    print(df.loc[selected.index,'race':'salary'])"
   ]
  },
  {
   "cell_type": "code",
   "execution_count": 185,
   "id": "4ee863ba",
   "metadata": {},
   "outputs": [
    {
     "name": "stdout",
     "output_type": "stream",
     "text": [
      "       race   sex  weekhours        country  salary\n",
      "2578  Black  Male         40  United-States  245416\n",
      "5406  Black  Male         50  United-States  312500\n",
      "6359  Black  Male         20  United-States  300000\n"
     ]
    }
   ],
   "source": [
    "solve()"
   ]
  },
  {
   "cell_type": "code",
   "execution_count": 186,
   "id": "07c3187b",
   "metadata": {},
   "outputs": [],
   "source": [
    "df = pd.read_csv('adult1.csv', sep=';',parse_dates=['birthday'])\n"
   ]
  },
  {
   "cell_type": "code",
   "execution_count": 197,
   "id": "64f0a9e0",
   "metadata": {},
   "outputs": [],
   "source": [
    "def solve():\n",
    "    bins = [0,20,40,60,80,100]\n",
    "    labels = ['very_young', 'young', 'middle_age', 'old', 'very_old']\n",
    "    df['c'] = pd.cut(df['age'],bins=bins,labels=labels,right=False)\n",
    "    cnt = df['c'].value_counts()\n",
    "    a = cnt.sort_index()\n",
    "    a.name = 'age'\n",
    "    print(a)"
   ]
  },
  {
   "cell_type": "code",
   "execution_count": 198,
   "id": "ffc5e3dc",
   "metadata": {},
   "outputs": [
    {
     "name": "stdout",
     "output_type": "stream",
     "text": [
      "c\n",
      "very_young    1055\n",
      "young         5627\n",
      "middle_age    3514\n",
      "old            630\n",
      "very_old        27\n",
      "Name: age, dtype: int64\n"
     ]
    }
   ],
   "source": [
    "solve()"
   ]
  },
  {
   "cell_type": "code",
   "execution_count": 203,
   "id": "050f8b7f",
   "metadata": {},
   "outputs": [],
   "source": [
    "def solve():\n",
    "    print(round(df.groupby(['status','sex'])['age'].mean(),1).unstack())\n",
    "    "
   ]
  },
  {
   "cell_type": "code",
   "execution_count": 204,
   "id": "704c48a6",
   "metadata": {},
   "outputs": [
    {
     "name": "stdout",
     "output_type": "stream",
     "text": [
      "sex                    Female  Male\n",
      "status                             \n",
      "Divorced                 41.1  39.8\n",
      "Married-AF-spouse        22.0  32.3\n",
      "Married-civ-spouse       37.5  41.6\n",
      "Married-spouse-absent    37.5  39.4\n",
      "Never-married            26.2  26.3\n",
      "Separated                37.2  36.8\n",
      "Widowed                  57.0  58.8\n"
     ]
    }
   ],
   "source": [
    "solve()"
   ]
  },
  {
   "cell_type": "code",
   "execution_count": 206,
   "id": "fdc28b91",
   "metadata": {},
   "outputs": [],
   "source": [
    "def solve():\n",
    "    s = df.groupby(['status', 'race'])['age'].mean()\n",
    "    s_idx = s.idxmax()\n",
    "    status,race = s_idx\n",
    "    \n",
    "    mean_avg = s.loc[s_idx].round(1)\n",
    "    print(status, race, mean_avg)\n"
   ]
  },
  {
   "cell_type": "code",
   "execution_count": 207,
   "id": "87dabc98",
   "metadata": {},
   "outputs": [
    {
     "name": "stdout",
     "output_type": "stream",
     "text": [
      "Widowed White 57.6\n"
     ]
    }
   ],
   "source": [
    "solve()"
   ]
  },
  {
   "cell_type": "code",
   "execution_count": 208,
   "id": "7a153d83",
   "metadata": {},
   "outputs": [],
   "source": [
    "def solve():\n",
    "    filtered_df = df[(df['status'].isin(['Never-married', 'Married-civ-spouse'])) & (df['race'] == 'White')]\n",
    "    average_salary = filtered_df['salary'].mean().round(1)\n",
    "    print(average_salary)"
   ]
  },
  {
   "cell_type": "code",
   "execution_count": 209,
   "id": "3b144b9b",
   "metadata": {},
   "outputs": [
    {
     "name": "stdout",
     "output_type": "stream",
     "text": [
      "67032.3\n"
     ]
    }
   ],
   "source": [
    "solve()"
   ]
  },
  {
   "cell_type": "code",
   "execution_count": 211,
   "id": "6df77829",
   "metadata": {},
   "outputs": [],
   "source": [
    "def solve():\n",
    "    filtered_df = df[((df['education'] > 15) & (df['salary'] < 35000)) | ((df['education'] < 5) & (df['salary'] > 100000))]\n",
    "    \n",
    "    print(filtered_df.loc[:,'education':'salary'])"
   ]
  },
  {
   "cell_type": "code",
   "execution_count": 212,
   "id": "19bd5985",
   "metadata": {},
   "outputs": [
    {
     "name": "stdout",
     "output_type": "stream",
     "text": [
      "      education                 status      occupation   relationship  \\\n",
      "541          16          Never-married  Prof-specialty      Own-child   \n",
      "574          16          Never-married  Prof-specialty  Not-in-family   \n",
      "2284         16          Never-married  Prof-specialty  Not-in-family   \n",
      "5072          4     Married-civ-spouse           Sales        Husband   \n",
      "6590          4  Married-spouse-absent    Adm-clerical  Not-in-family   \n",
      "6964         16     Married-civ-spouse  Prof-specialty        Husband   \n",
      "7220         16          Never-married    Adm-clerical      Own-child   \n",
      "8126         16          Never-married  Prof-specialty  Not-in-family   \n",
      "8795          4     Married-civ-spouse               ?        Husband   \n",
      "\n",
      "                    race     sex  weekhours        country  salary  \n",
      "541                White    Male         40  United-States   34500  \n",
      "574                White  Female         70  United-States   33500  \n",
      "2284               White    Male         40         Canada   34500  \n",
      "5072               White    Male         50  United-States  100833  \n",
      "6590               White    Male         20          Italy  114166  \n",
      "6964  Asian-Pac-Islander    Male         60          India   34500  \n",
      "7220               White  Female         40  United-States   33500  \n",
      "8126               White    Male         52  United-States   33500  \n",
      "8795               White    Male         40  United-States  100833  \n"
     ]
    }
   ],
   "source": [
    "solve()"
   ]
  },
  {
   "cell_type": "code",
   "execution_count": 213,
   "id": "9b71aedd",
   "metadata": {},
   "outputs": [],
   "source": [
    "import pandas as pd\n",
    "df = pd.read_csv('usa_real_estate1.csv', sep=';',parse_dates=['sold_date'])"
   ]
  },
  {
   "cell_type": "code",
   "execution_count": 214,
   "id": "58ceadc8",
   "metadata": {},
   "outputs": [],
   "source": [
    "def solve():\n",
    "    print(df.loc[2:5,['price','city','house_size']])"
   ]
  },
  {
   "cell_type": "code",
   "execution_count": 215,
   "id": "e237c24e",
   "metadata": {},
   "outputs": [
    {
     "name": "stdout",
     "output_type": "stream",
     "text": [
      "    price           city  house_size\n",
      "2   67000     Juana Diaz       748.0\n",
      "3  145000          Ponce      1800.0\n",
      "4   65000       Mayaguez         NaN\n",
      "5  179000  San Sebastian      2520.0\n"
     ]
    }
   ],
   "source": [
    "solve()"
   ]
  },
  {
   "cell_type": "code",
   "execution_count": 216,
   "id": "c167e815",
   "metadata": {},
   "outputs": [],
   "source": [
    "def solve():\n",
    "    df.drop(columns=['bed','bath','acre_lot'],inplace=True)"
   ]
  },
  {
   "cell_type": "code",
   "execution_count": 217,
   "id": "f07d8305",
   "metadata": {},
   "outputs": [
    {
     "name": "stdout",
     "output_type": "stream",
     "text": [
      "     status   price        city        state  zip_code  house_size sold_date\n",
      "0  for_sale  105000    Adjuntas  Puerto Rico     601.0       920.0       NaT\n",
      "1  for_sale   80000    Adjuntas  Puerto Rico     601.0      1527.0       NaT\n",
      "2  for_sale   67000  Juana Diaz  Puerto Rico     795.0       748.0       NaT\n"
     ]
    }
   ],
   "source": [
    "solve()\n",
    "print(df.head(3))"
   ]
  },
  {
   "cell_type": "code",
   "execution_count": 218,
   "id": "e2897936",
   "metadata": {},
   "outputs": [],
   "source": [
    "df = pd.read_csv('usa_real_estate1.csv', sep=';',parse_dates=['sold_date'])"
   ]
  },
  {
   "cell_type": "code",
   "execution_count": 219,
   "id": "d096010a",
   "metadata": {},
   "outputs": [],
   "source": [
    "def solve():\n",
    "    df.loc[2,'status'] = 'sold'\n",
    "    df.loc[2,'price'] = '60000'"
   ]
  },
  {
   "cell_type": "code",
   "execution_count": 221,
   "id": "e96f859e",
   "metadata": {},
   "outputs": [
    {
     "name": "stdout",
     "output_type": "stream",
     "text": [
      "     status   price  bed  bath  acre_lot        city        state  zip_code  \\\n",
      "0  for_sale  105000  3.0   2.0      0.12    Adjuntas  Puerto Rico     601.0   \n",
      "1  for_sale   80000  4.0   2.0      0.08    Adjuntas  Puerto Rico     601.0   \n",
      "2      sold   60000  2.0   1.0      0.15  Juana Diaz  Puerto Rico     795.0   \n",
      "\n",
      "   house_size sold_date  \n",
      "0       920.0       NaT  \n",
      "1      1527.0       NaT  \n",
      "2       748.0       NaT  \n"
     ]
    }
   ],
   "source": [
    "solve()\n",
    "print(df.head(3))"
   ]
  },
  {
   "cell_type": "code",
   "execution_count": 230,
   "id": "37efc121",
   "metadata": {},
   "outputs": [],
   "source": [
    "def solve():\n",
    "    a = df[df['house_size'] > 2000].shape[0]\n",
    "    n = len(df)\n",
    "    percentage = round((a / n)*100,1)\n",
    "    print(percentage)"
   ]
  },
  {
   "cell_type": "code",
   "execution_count": 231,
   "id": "f74f4ff2",
   "metadata": {},
   "outputs": [
    {
     "name": "stdout",
     "output_type": "stream",
     "text": [
      "2977\n",
      "28.9\n"
     ]
    }
   ],
   "source": [
    "solve()"
   ]
  },
  {
   "cell_type": "code",
   "execution_count": 232,
   "id": "c96fd5b8",
   "metadata": {},
   "outputs": [],
   "source": [
    "def solve():\n",
    "    filter = df['house_size'].describe()\n",
    "    print(filter)"
   ]
  },
  {
   "cell_type": "code",
   "execution_count": 233,
   "id": "3729a6f3",
   "metadata": {},
   "outputs": [
    {
     "name": "stdout",
     "output_type": "stream",
     "text": [
      "count    7.487000e+03\n",
      "mean     2.432521e+03\n",
      "std      1.689467e+04\n",
      "min      1.000000e+02\n",
      "25%      1.204500e+03\n",
      "50%      1.720000e+03\n",
      "75%      2.600000e+03\n",
      "max      1.450112e+06\n",
      "Name: house_size, dtype: float64\n"
     ]
    }
   ],
   "source": [
    "solve()"
   ]
  },
  {
   "cell_type": "code",
   "execution_count": 236,
   "id": "9a3abd88",
   "metadata": {},
   "outputs": [],
   "source": [
    "df = pd.read_csv('usa_real_estate1.csv', sep=';',parse_dates=['sold_date'])"
   ]
  },
  {
   "cell_type": "code",
   "execution_count": 237,
   "id": "3f446783",
   "metadata": {},
   "outputs": [],
   "source": [
    "def solve():\n",
    "    filter = df[df['price'] > 800000]\n",
    "    df.drop(filter.index,inplace = True)\n",
    "    "
   ]
  },
  {
   "cell_type": "code",
   "execution_count": 238,
   "id": "a6434030",
   "metadata": {},
   "outputs": [
    {
     "name": "stdout",
     "output_type": "stream",
     "text": [
      "(10315, 10)\n",
      "(9216, 10)\n"
     ]
    }
   ],
   "source": [
    "print(df.shape)\n",
    "solve()\n",
    "print(df.shape)"
   ]
  },
  {
   "cell_type": "code",
   "execution_count": 239,
   "id": "ba517558",
   "metadata": {},
   "outputs": [],
   "source": [
    "def solve():\n",
    "    price = df['price'] * 0.95\n",
    "    df.insert(df.columns.get_loc('bed'),'price_euros',price)"
   ]
  },
  {
   "cell_type": "code",
   "execution_count": 240,
   "id": "29f13ca2",
   "metadata": {},
   "outputs": [
    {
     "name": "stdout",
     "output_type": "stream",
     "text": [
      "     status   price  price_euros  bed  bath  acre_lot        city  \\\n",
      "0  for_sale  105000      99750.0  3.0   2.0      0.12    Adjuntas   \n",
      "1  for_sale   80000      76000.0  4.0   2.0      0.08    Adjuntas   \n",
      "2  for_sale   67000      63650.0  2.0   1.0      0.15  Juana Diaz   \n",
      "\n",
      "         state  zip_code  house_size sold_date  \n",
      "0  Puerto Rico     601.0       920.0       NaT  \n",
      "1  Puerto Rico     601.0      1527.0       NaT  \n",
      "2  Puerto Rico     795.0       748.0       NaT  \n"
     ]
    }
   ],
   "source": [
    "solve()\n",
    "print(df.head(3))"
   ]
  },
  {
   "cell_type": "code",
   "execution_count": 241,
   "id": "d3fa63a2",
   "metadata": {},
   "outputs": [],
   "source": [
    "def solve():\n",
    "    print( df['status'].value_counts())\n",
    "    "
   ]
  },
  {
   "cell_type": "code",
   "execution_count": 242,
   "id": "92975ea2",
   "metadata": {},
   "outputs": [
    {
     "name": "stdout",
     "output_type": "stream",
     "text": [
      "status\n",
      "for_sale    6098\n",
      "sold        3118\n",
      "Name: count, dtype: int64\n"
     ]
    }
   ],
   "source": [
    "solve()"
   ]
  },
  {
   "cell_type": "code",
   "execution_count": 243,
   "id": "2acad845",
   "metadata": {},
   "outputs": [],
   "source": [
    "def solve():\n",
    "    n = df.sort_values(by='price',ascending=False)\n",
    "    top =  n.head(3)\n",
    "    print(top)"
   ]
  },
  {
   "cell_type": "code",
   "execution_count": 244,
   "id": "e0982eea",
   "metadata": {},
   "outputs": [
    {
     "name": "stdout",
     "output_type": "stream",
     "text": [
      "        status   price  price_euros  bed  bath  acre_lot         city  \\\n",
      "6844  for_sale  800000     760000.0  NaN   NaN    172.90  Phillipston   \n",
      "2047  for_sale  800000     760000.0  2.0   3.0      0.06   Rio Grande   \n",
      "622   for_sale  800000     760000.0  4.0   4.0       NaN       Dorado   \n",
      "\n",
      "              state  zip_code  house_size sold_date  \n",
      "6844  Massachusetts    1331.0         NaN       NaT  \n",
      "2047    Puerto Rico     721.0      1900.0       NaT  \n",
      "622     Puerto Rico     646.0       882.0       NaT  \n"
     ]
    }
   ],
   "source": [
    "solve()"
   ]
  },
  {
   "cell_type": "code",
   "execution_count": 257,
   "id": "de25572d",
   "metadata": {},
   "outputs": [],
   "source": [
    "df = pd.read_csv('usa_real_estate1.csv', sep=';',parse_dates=['sold_date'])\n"
   ]
  },
  {
   "cell_type": "code",
   "execution_count": 258,
   "id": "827b0023",
   "metadata": {},
   "outputs": [],
   "source": [
    "def solve():\n",
    "    n = df[df['house_size'] > 40000]\n",
    "    print(df.loc[n.index,'city':'house_size'])"
   ]
  },
  {
   "cell_type": "code",
   "execution_count": 259,
   "id": "f70cb17c",
   "metadata": {},
   "outputs": [
    {
     "name": "stdout",
     "output_type": "stream",
     "text": [
      "              city           state  zip_code  house_size\n",
      "42            Moca     Puerto Rico     676.0     43082.0\n",
      "2241       Culebra     Puerto Rico     775.0   1450112.0\n",
      "2898  Frederiksted  Virgin Islands     840.0     49658.0\n",
      "9045    Middletown     Connecticut    6457.0     99999.0\n"
     ]
    }
   ],
   "source": [
    "solve()"
   ]
  },
  {
   "cell_type": "code",
   "execution_count": 278,
   "id": "88b744ff",
   "metadata": {},
   "outputs": [],
   "source": [
    "def solve():\n",
    "    sorted = df.sort_values(by='price',ascending=False)\n",
    "    index =  sorted.head(1).index\n",
    "    city = df.loc[index,'city']\n",
    "    print(city)"
   ]
  },
  {
   "cell_type": "code",
   "execution_count": 279,
   "id": "e1031098",
   "metadata": {},
   "outputs": [
    {
     "name": "stdout",
     "output_type": "stream",
     "text": [
      "6953    Woodstock\n",
      "Name: city, dtype: object\n"
     ]
    }
   ],
   "source": [
    "solve()"
   ]
  },
  {
   "cell_type": "code",
   "execution_count": 280,
   "id": "9310b33c",
   "metadata": {},
   "outputs": [],
   "source": [
    "def solve():\n",
    "\n",
    "    filtered_rows = df[(df['price'] > 2000000) & (df['house_size'] <= 1000)]\n",
    "\n",
    "    print(filtered_rows)\n",
    "\n"
   ]
  },
  {
   "cell_type": "code",
   "execution_count": 281,
   "id": "9d03409a",
   "metadata": {},
   "outputs": [
    {
     "name": "stdout",
     "output_type": "stream",
     "text": [
      "        status    price  bed  bath  acre_lot         city          state  \\\n",
      "8176  for_sale  2500000  NaN   NaN      1.34  Stockbridge  Massachusetts   \n",
      "\n",
      "      zip_code  house_size sold_date  \n",
      "8176    1262.0       500.0       NaT  \n"
     ]
    }
   ],
   "source": [
    "solve()"
   ]
  },
  {
   "cell_type": "code",
   "execution_count": 284,
   "id": "d4164e27",
   "metadata": {},
   "outputs": [],
   "source": [
    "def solve():\n",
    "    avg = df.groupby(['state','status'])['price'].mean().round(1).unstack()\n",
    "    print(avg)"
   ]
  },
  {
   "cell_type": "code",
   "execution_count": 285,
   "id": "5fbaec8d",
   "metadata": {},
   "outputs": [
    {
     "name": "stdout",
     "output_type": "stream",
     "text": [
      "status          for_sale       sold\n",
      "state                              \n",
      "Connecticut     427973.5   409905.1\n",
      "Massachusetts   345654.1   450403.9\n",
      "New Hampshire   318908.7   154112.9\n",
      "New Jersey      333490.0        NaN\n",
      "New York        556409.1   817443.7\n",
      "Puerto Rico     678351.3   428471.4\n",
      "South Carolina   18950.0        NaN\n",
      "Vermont         321860.0   303546.2\n",
      "Virgin Islands  828440.9  1646800.0\n"
     ]
    }
   ],
   "source": [
    "solve()"
   ]
  },
  {
   "cell_type": "code",
   "execution_count": 293,
   "id": "49af3de3",
   "metadata": {},
   "outputs": [],
   "source": [
    "def solve():\n",
    "    sorted = df.sort_values(by='price',ascending=False)\n",
    "    unique_max_price = sorted.drop_duplicates(subset='state',keep='first')\n",
    "    \n",
    "    unique_max_price = unique_max_price.rename(columns={'city':'City'})\n",
    "    result = unique_max_price.set_index('state')[['City', 'price']]\n",
    "    \n",
    "    result['price'] = result['price'].round(1)\n",
    "\n",
    "    \n",
    "    result = result.sort_index()\n",
    "    \n",
    "\n",
    "\n",
    "    print(result)\n",
    "        \n",
    "    "
   ]
  },
  {
   "cell_type": "code",
   "execution_count": 294,
   "id": "ad200878",
   "metadata": {},
   "outputs": [
    {
     "name": "stdout",
     "output_type": "stream",
     "text": [
      "                         City     price\n",
      "state                                  \n",
      "Connecticut         Woodstock  60000000\n",
      "Massachusetts     Sandisfield  18000000\n",
      "New Hampshire      Winchester   1743772\n",
      "New Jersey         Burlington    333490\n",
      "New York              Chatham  15000000\n",
      "Puerto Rico           Isabela  25000000\n",
      "South Carolina      McCormick     18950\n",
      "Vermont               Halifax   3500000\n",
      "Virgin Islands  Christiansted  24500000\n",
      "NaN                       NaN     50000\n"
     ]
    }
   ],
   "source": [
    "solve()"
   ]
  },
  {
   "cell_type": "code",
   "execution_count": 298,
   "id": "83cd62c7",
   "metadata": {},
   "outputs": [],
   "source": [
    "def solve():\n",
    "    bins = [0, 1000, 2000, 3000, 5000, 10000]\n",
    "    labels = ['very_small', 'small', 'medium', 'large', 'very_large']\n",
    "    df['classs'] = pd.cut(df['house_size'],bins=bins,labels=labels,right=False)\n",
    "    cnt = df['classs'].value_counts()\n",
    "    cnt = cnt.sort_index()\n",
    "    print(cnt)"
   ]
  },
  {
   "cell_type": "code",
   "execution_count": 299,
   "id": "a4c5b766",
   "metadata": {},
   "outputs": [
    {
     "name": "stdout",
     "output_type": "stream",
     "text": [
      "classs\n",
      "very_small     947\n",
      "small         3507\n",
      "medium        1620\n",
      "large         1031\n",
      "very_large     316\n",
      "Name: count, dtype: int64\n"
     ]
    }
   ],
   "source": [
    "solve()"
   ]
  },
  {
   "cell_type": "code",
   "execution_count": null,
   "id": "fdf8c2da",
   "metadata": {},
   "outputs": [],
   "source": []
  }
 ],
 "metadata": {
  "kernelspec": {
   "display_name": "Python 3 (ipykernel)",
   "language": "python",
   "name": "python3"
  },
  "language_info": {
   "codemirror_mode": {
    "name": "ipython",
    "version": 3
   },
   "file_extension": ".py",
   "mimetype": "text/x-python",
   "name": "python",
   "nbconvert_exporter": "python",
   "pygments_lexer": "ipython3",
   "version": "3.11.5"
  }
 },
 "nbformat": 4,
 "nbformat_minor": 5
}
