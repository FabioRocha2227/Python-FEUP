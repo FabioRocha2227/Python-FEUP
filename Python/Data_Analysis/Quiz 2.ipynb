{
 "cells": [
  {
   "cell_type": "code",
   "execution_count": 1,
   "id": "b9ed5c4b",
   "metadata": {},
   "outputs": [],
   "source": [
    "import numpy as np"
   ]
  },
  {
   "cell_type": "markdown",
   "id": "f9cb51a5",
   "metadata": {},
   "source": [
    "#### Given a matrix calculate the transpose matrix using NumPy library."
   ]
  },
  {
   "cell_type": "code",
   "execution_count": null,
   "id": "9e389385",
   "metadata": {},
   "outputs": [],
   "source": [
    "a = int(input(\"Number of rows =\"))\n",
    "b = int(input(\"Number of columns =\"))\n",
    "\n",
    "matrix = []\n",
    "\n",
    "for i in range(a):\n",
    "    a_values=[]\n",
    "    for j in range(b):\n",
    "        values = float(input(f\"a[{i},{j}]=\"))\n",
    "        a_values.append(values)\n",
    "    matrix.append(a_values)\n",
    "matrix = np.array(matrix)\n",
    "\n",
    "transpose = np.transpose(matrix)\n",
    "print(\"Matrix transpose:\")\n",
    "\n",
    "for a in transpose:\n",
    "    print(f\"{a}\")\n",
    "        "
   ]
  },
  {
   "cell_type": "markdown",
   "id": "f571db8d",
   "metadata": {},
   "source": [
    "#### Given the initial, final, and the number of values (all floats) generate an array with n elements between initial and final values equally spaced, square the values and calculate the sum (rounded to two decimal places), using NumPy library."
   ]
  },
  {
   "cell_type": "code",
   "execution_count": null,
   "id": "664594e7",
   "metadata": {},
   "outputs": [],
   "source": [
    "a = float(input(\"Initial value:\"))\n",
    "b = float(input(\"Final value:\"))\n",
    "c = int(input(\"Number of values:\"))\n",
    "\n",
    "arr = np.linspace(a,b,c)\n",
    "\n",
    "sqr_arr = np.square(arr)\n",
    "\n",
    "sum_sqr_arr = round(np.sum(sqr_arr),2)\n",
    "\n",
    "\n",
    "\n",
    "print(f\"Sum of the array:\",sum_sqr_arr)\n"
   ]
  },
  {
   "cell_type": "markdown",
   "id": "13c922ca",
   "metadata": {},
   "source": [
    "#### Calculate the scalar product of two vectors using NumPy library."
   ]
  },
  {
   "cell_type": "code",
   "execution_count": null,
   "id": "6fbab5e1",
   "metadata": {},
   "outputs": [],
   "source": [
    "a = int(input(\"Number of elements:\"))\n",
    "\n",
    "matrix1 = []\n",
    "matrix2 = []\n",
    "\n",
    "for i in range(a):\n",
    "    element_a = float(input(f\"a[{i}]:\"))\n",
    "    matrix1.append(element_a)\n",
    "    \n",
    "for j in range(a):\n",
    "    element_b = float(input(f\"b[{j}]:\"))\n",
    "    matrix2.append(element_b)\n",
    "    \n",
    "vector1 = np.array(matrix1)\n",
    "vector2 = np.array(matrix2)\n",
    "\n",
    "scalar = np.dot(vector1, vector2)\n",
    "\n",
    "print(\"Scalar product =\", scalar)\n",
    "\n"
   ]
  }
 ],
 "metadata": {
  "kernelspec": {
   "display_name": "Python 3 (ipykernel)",
   "language": "python",
   "name": "python3"
  },
  "language_info": {
   "codemirror_mode": {
    "name": "ipython",
    "version": 3
   },
   "file_extension": ".py",
   "mimetype": "text/x-python",
   "name": "python",
   "nbconvert_exporter": "python",
   "pygments_lexer": "ipython3",
   "version": "3.11.5"
  }
 },
 "nbformat": 4,
 "nbformat_minor": 5
}
