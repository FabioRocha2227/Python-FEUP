{
 "cells": [
  {
   "cell_type": "code",
   "execution_count": 3,
   "id": "f74e1769",
   "metadata": {},
   "outputs": [],
   "source": [
    "import pandas as pd\n",
    "df = pd.read_csv('adult1.csv', sep=';',parse_dates=['birthday'])"
   ]
  },
  {
   "cell_type": "markdown",
   "id": "7ac736ed",
   "metadata": {},
   "source": [
    "### Print the values from columns 'race' to 'salary' from rows 1, 4, and 6."
   ]
  },
  {
   "cell_type": "code",
   "execution_count": 3,
   "id": "c762b03c",
   "metadata": {},
   "outputs": [],
   "source": [
    "def solve():\n",
    "    selected_data = df.loc[[1,4,6],'race':'salary']\n",
    "    print(selected_data)"
   ]
  },
  {
   "cell_type": "code",
   "execution_count": 4,
   "id": "93555382",
   "metadata": {},
   "outputs": [
    {
     "name": "stdout",
     "output_type": "stream",
     "text": [
      "    race     sex  weekhours        country  salary\n",
      "1  White    Male         13  United-States   40312\n",
      "4  Black  Female         40           Cuba   31375\n",
      "6  Black  Female         16        Jamaica   27656\n"
     ]
    }
   ],
   "source": [
    "solve()"
   ]
  },
  {
   "cell_type": "markdown",
   "id": "1da5d574",
   "metadata": {},
   "source": [
    "### Calculate the minimum, maximum and the median of the 'age' for the persons with a 'salary' greater than or equal 150000 (rounded to one decimal place)"
   ]
  },
  {
   "cell_type": "code",
   "execution_count": 11,
   "id": "01d1034a",
   "metadata": {},
   "outputs": [],
   "source": [
    "def solve():\n",
    "    selected_data = df[df['salary'] >= 150000]\n",
    "    \n",
    "    min_age = selected_data['age'].min()\n",
    "    max_age = selected_data['age'].max()\n",
    "    median_age = selected_data['age'].median()\n",
    "    result_series = pd.Series({'min':round(min_age, 1),\n",
    "                               'max':round(max_age, 1),\n",
    "                               'median': round(median_age, 1)},\n",
    "                              name='age')\n",
    "    print(result_series)"
   ]
  },
  {
   "cell_type": "code",
   "execution_count": 12,
   "id": "5457ef42",
   "metadata": {},
   "outputs": [
    {
     "name": "stdout",
     "output_type": "stream",
     "text": [
      "min       28.0\n",
      "max       88.0\n",
      "median    47.0\n",
      "Name: age, dtype: float64\n"
     ]
    }
   ],
   "source": [
    "solve()"
   ]
  },
  {
   "cell_type": "markdown",
   "id": "3ef4a5d1",
   "metadata": {},
   "source": [
    "### Delete the rows from the dataframe where 'sex' is equal to 'Male' and 'age' greater than or equal 45."
   ]
  },
  {
   "cell_type": "code",
   "execution_count": 28,
   "id": "619ad9d4",
   "metadata": {},
   "outputs": [],
   "source": [
    "df = pd.read_csv('adult1.csv', sep=';',parse_dates=['birthday'])"
   ]
  },
  {
   "cell_type": "code",
   "execution_count": 29,
   "id": "9e3982d0",
   "metadata": {},
   "outputs": [],
   "source": [
    "def solve():\n",
    "    condition = (df['sex'] == 'Male') & (df['age'] >= 45)\n",
    "    indexes_to_delete = df.loc[condition].index\n",
    "    df.drop(indexes_to_delete,inplace=True)"
   ]
  },
  {
   "cell_type": "code",
   "execution_count": 30,
   "id": "c202297c",
   "metadata": {},
   "outputs": [
    {
     "name": "stdout",
     "output_type": "stream",
     "text": [
      "(10853, 12)\n",
      "(8790, 12)\n"
     ]
    }
   ],
   "source": [
    "print(df.shape)\n",
    "solve()\n",
    "print(df.shape)"
   ]
  },
  {
   "cell_type": "markdown",
   "id": "7f14d397",
   "metadata": {},
   "source": [
    "### From the adults having a 'salary' greater than or equal 150000 what is the percentage of married people. Consider as married those who have a 'status' starting with 'Married'. (rounded to one decimal place)"
   ]
  },
  {
   "cell_type": "code",
   "execution_count": 4,
   "id": "665c64e8",
   "metadata": {},
   "outputs": [],
   "source": [
    "df = pd.read_csv('adult1.csv', sep=';',parse_dates=['birthday'])"
   ]
  },
  {
   "cell_type": "code",
   "execution_count": 5,
   "id": "9431a5df",
   "metadata": {},
   "outputs": [],
   "source": [
    "def solve():\n",
    "    selected_data = df[df['salary'] >= 150000]\n",
    "    married_count = selected_data[selected_data['status'].str.startswith('Married')]['status'].count()\n",
    "    \n",
    "    tot_adults = selected_data.shape[0]\n",
    "    \n",
    "    percentage = ((married_count/tot_adults)*100).round(1)\n",
    "    print(married_count)\n",
    "    print(f\"{percentage}%\")\n"
   ]
  },
  {
   "cell_type": "code",
   "execution_count": 6,
   "id": "ca8df89f",
   "metadata": {},
   "outputs": [
    {
     "name": "stdout",
     "output_type": "stream",
     "text": [
      "1159\n",
      "83.9%\n"
     ]
    }
   ],
   "source": [
    "solve()"
   ]
  },
  {
   "cell_type": "markdown",
   "id": "1665bbab",
   "metadata": {},
   "source": [
    "### What is the minimum 'age' and what is the average 'salary' for people with that 'age'. (rounded to one decimal place)"
   ]
  },
  {
   "cell_type": "code",
   "execution_count": 67,
   "id": "0069be04",
   "metadata": {},
   "outputs": [],
   "source": [
    "def solve():\n",
    "    min_age = df['age'].min()\n",
    "    selected_data = df[df['age'] == min_age]\n",
    "    \n",
    "    avg = selected_data['salary'].mean()\n",
    "    print(f\"Minimum age: {min_age}\")\n",
    "    print(f\"Average salary for people with that age: {round(avg,1)}\")\n",
    "    "
   ]
  },
  {
   "cell_type": "code",
   "execution_count": 68,
   "id": "51f9bc5b",
   "metadata": {},
   "outputs": [
    {
     "name": "stdout",
     "output_type": "stream",
     "text": [
      "Minimum age: 15\n",
      "Average salary for people with that age: 23585.4\n"
     ]
    }
   ],
   "source": [
    "solve()"
   ]
  },
  {
   "cell_type": "markdown",
   "id": "57e17a9f",
   "metadata": {},
   "source": [
    "### How many people earn more than 150000. Of those people how many have an 'education' greater than or equal to 13."
   ]
  },
  {
   "cell_type": "code",
   "execution_count": 75,
   "id": "076279e9",
   "metadata": {},
   "outputs": [],
   "source": [
    "def solve():\n",
    "    selected_data = df[df['salary'] > 150000]['salary'].count()\n",
    "    high_edu = df[(df['salary'] > 150000) & (df['education'] >= 13)]['salary'].count()\n",
    "    print(selected_data)\n",
    "    print(high_edu)"
   ]
  },
  {
   "cell_type": "code",
   "execution_count": 76,
   "id": "62f66326",
   "metadata": {},
   "outputs": [
    {
     "name": "stdout",
     "output_type": "stream",
     "text": [
      "1358\n",
      "991\n"
     ]
    }
   ],
   "source": [
    "solve()"
   ]
  },
  {
   "cell_type": "markdown",
   "id": "0babaea0",
   "metadata": {},
   "source": [
    "### Create a function 'hif_und(name)' that given a string returns a new string replacing the '-' by '_'. Using the 'hif_und(name)' function update the column 'status' replacing the '-' by '_'"
   ]
  },
  {
   "cell_type": "code",
   "execution_count": 83,
   "id": "0cc83037",
   "metadata": {},
   "outputs": [],
   "source": [
    "df = pd.read_csv('adult1.csv', sep=';',parse_dates=['birthday'])\n"
   ]
  },
  {
   "cell_type": "code",
   "execution_count": 84,
   "id": "f40ee846",
   "metadata": {},
   "outputs": [],
   "source": [
    "def hif_und(name):\n",
    "    return name.replace('-','_')\n",
    "\n",
    "def solve():\n",
    "    df['status'] = df['status'].apply(hif_und)"
   ]
  },
  {
   "cell_type": "code",
   "execution_count": 85,
   "id": "74b28f46",
   "metadata": {},
   "outputs": [
    {
     "name": "stdout",
     "output_type": "stream",
     "text": [
      "very_high\n",
      "   age         workclass  education              status\n",
      "0   37         State-gov         13       Never_married\n",
      "1   48  Self-emp-not-inc         13  Married_civ_spouse\n",
      "2   36           Private          9            Divorced\n"
     ]
    }
   ],
   "source": [
    "print(hif_und('very-high'))\n",
    "solve()\n",
    "print(df.loc[:,'age':'status'].head(3))"
   ]
  },
  {
   "cell_type": "code",
   "execution_count": 98,
   "id": "901200cc",
   "metadata": {},
   "outputs": [],
   "source": [
    "df = pd.read_csv('adult1.csv', sep=';',parse_dates=['birthday'])\n"
   ]
  },
  {
   "cell_type": "markdown",
   "id": "637457b9",
   "metadata": {},
   "source": [
    "### Print the bottom three values of the number of birthdays per year.\n"
   ]
  },
  {
   "cell_type": "code",
   "execution_count": 99,
   "id": "5367fda8",
   "metadata": {},
   "outputs": [],
   "source": [
    "def solve():\n",
    "    df['birth_year'] = df['birthday'].dt.year\n",
    "    birthday_Series = df['birth_year'].value_counts()\n",
    "    bottom = birthday_Series.nsmallest(3)\n",
    "    \n",
    "    bottom.name = 'birthday'\n",
    "    \n",
    "    print(bottom)"
   ]
  },
  {
   "cell_type": "code",
   "execution_count": 100,
   "id": "0c3cac1d",
   "metadata": {},
   "outputs": [
    {
     "name": "stdout",
     "output_type": "stream",
     "text": [
      "birth_year\n",
      "1934    1\n",
      "1937    1\n",
      "1940    2\n",
      "Name: birthday, dtype: int64\n"
     ]
    }
   ],
   "source": [
    "solve()"
   ]
  },
  {
   "cell_type": "markdown",
   "id": "21bb5c41",
   "metadata": {},
   "source": [
    "### Insert a column named 'retirementdate' before column 'birthday' equal to the retirement date defined as the day the person turns 66 years old."
   ]
  },
  {
   "cell_type": "code",
   "execution_count": 112,
   "id": "0e28f0bb",
   "metadata": {},
   "outputs": [],
   "source": [
    "df = pd.read_csv('adult1.csv', sep=';',parse_dates=['birthday'])\n"
   ]
  },
  {
   "cell_type": "code",
   "execution_count": 113,
   "id": "f25e61fd",
   "metadata": {},
   "outputs": [],
   "source": [
    "def solve():\n",
    "    retirement_age = 66\n",
    "    ret =  df['birthday'] + pd.DateOffset(years=retirement_age)\n",
    "    df.insert(df.columns.get_loc('birthday'),'retirementdate',ret)"
   ]
  },
  {
   "cell_type": "code",
   "execution_count": 114,
   "id": "690a2e65",
   "metadata": {},
   "outputs": [
    {
     "name": "stdout",
     "output_type": "stream",
     "text": [
      "   salary retirementdate   birthday\n",
      "0   35843     2049-07-13 1983-07-13\n",
      "1   40312     2038-02-04 1972-02-04\n",
      "2   30687     2050-12-16 1984-12-16\n"
     ]
    }
   ],
   "source": [
    "solve()\n",
    "print(df.loc[:,'salary':'birthday'].head(3))\n"
   ]
  },
  {
   "cell_type": "code",
   "execution_count": 115,
   "id": "9b8576fd",
   "metadata": {},
   "outputs": [],
   "source": [
    "df = pd.read_csv('adult1.csv', sep=';',parse_dates=['birthday'])\n"
   ]
  },
  {
   "cell_type": "markdown",
   "id": "4ac5e97d",
   "metadata": {},
   "source": [
    "### Calculate the percentage of adults by 'status' (rounded to one decimal place) sorted in descending order."
   ]
  },
  {
   "cell_type": "code",
   "execution_count": 118,
   "id": "b3a73fc6",
   "metadata": {},
   "outputs": [],
   "source": [
    "def solve():\n",
    "    tot_adults = df.shape[0]\n",
    "    \n",
    "    percentage_status = (df['status'].value_counts() / tot_adults) * 100\n",
    "    percentage_status_sorted = percentage_status.sort_values(ascending=False)\n",
    "    percentage_status_sorted.name = 'status'\n",
    "    print(percentage_status_sorted.round(1))"
   ]
  },
  {
   "cell_type": "code",
   "execution_count": 119,
   "id": "1d6f2991",
   "metadata": {},
   "outputs": [
    {
     "name": "stdout",
     "output_type": "stream",
     "text": [
      "status\n",
      "Married-civ-spouse       45.7\n",
      "Never-married            33.0\n",
      "Divorced                 13.7\n",
      "Separated                 3.3\n",
      "Widowed                   2.9\n",
      "Married-spouse-absent     1.3\n",
      "Married-AF-spouse         0.1\n",
      "Name: status, dtype: float64\n"
     ]
    }
   ],
   "source": [
    "solve()"
   ]
  },
  {
   "cell_type": "markdown",
   "id": "36b2af30",
   "metadata": {},
   "source": [
    "### Print the columns 'race' to 'salary' for the rows where the 'salary' is greater than 240000 and race is 'Black'."
   ]
  },
  {
   "cell_type": "code",
   "execution_count": 120,
   "id": "2c018d91",
   "metadata": {},
   "outputs": [],
   "source": [
    "def solve():\n",
    "    selected_data = df[(df['salary'] > 240000) & (df['race'] == 'Black')]\n",
    "    selected_rows = selected_data.loc[:,'race':'salary']\n",
    "    print(selected_rows)"
   ]
  },
  {
   "cell_type": "code",
   "execution_count": 121,
   "id": "bd04328c",
   "metadata": {},
   "outputs": [
    {
     "name": "stdout",
     "output_type": "stream",
     "text": [
      "       race   sex  weekhours        country  salary\n",
      "2578  Black  Male         40  United-States  245416\n",
      "5406  Black  Male         50  United-States  312500\n",
      "6359  Black  Male         20  United-States  300000\n"
     ]
    }
   ],
   "source": [
    "solve()"
   ]
  },
  {
   "cell_type": "markdown",
   "id": "a792f868",
   "metadata": {},
   "source": [
    "### Calculate the number of persons in each of the following 'age' classes:\n",
    "[0, 20[ - very_young\n",
    "[20, 40[ - young\n",
    "[40, 60[ - middle_age\n",
    "[60, 80[ - old\n",
    "[80, 100[ - very_old"
   ]
  },
  {
   "cell_type": "code",
   "execution_count": 133,
   "id": "50f4a959",
   "metadata": {},
   "outputs": [],
   "source": [
    "df = pd.read_csv('adult1.csv', sep=';',parse_dates=['birthday'])\n"
   ]
  },
  {
   "cell_type": "code",
   "execution_count": 134,
   "id": "9e468f94",
   "metadata": {},
   "outputs": [],
   "source": [
    "def solve():\n",
    "    age_bins = [0,20,40,60,80,100]\n",
    "    age_labels = ['very_young', 'young', 'middle_age', 'old', 'very_old']\n",
    "    \n",
    "    df['age_class'] = pd.cut(df['age'],bins = age_bins, labels = age_labels, right=False)\n",
    "    \n",
    "    class_cnt = df['age_class'].value_counts()\n",
    "    class_cnt.name = 'age'\n",
    "    class_cnt = class_cnt.sort_index()\n",
    "    print(class_cnt)\n"
   ]
  },
  {
   "cell_type": "code",
   "execution_count": 135,
   "id": "7a8496e6",
   "metadata": {},
   "outputs": [
    {
     "name": "stdout",
     "output_type": "stream",
     "text": [
      "age_class\n",
      "very_young    1055\n",
      "young         5627\n",
      "middle_age    3514\n",
      "old            630\n",
      "very_old        27\n",
      "Name: age, dtype: int64\n"
     ]
    }
   ],
   "source": [
    "solve()\n",
    "df = pd.read_csv('adult1.csv', sep=';',parse_dates=['birthday'])\n"
   ]
  },
  {
   "cell_type": "markdown",
   "id": "75a06932",
   "metadata": {},
   "source": [
    "### Calculate the average age by 'status' and 'sex' (rounded to one decimal place)."
   ]
  },
  {
   "cell_type": "code",
   "execution_count": 152,
   "id": "30d59e21",
   "metadata": {},
   "outputs": [],
   "source": [
    "def solve():\n",
    "    avg = df.groupby(['status', 'sex'])['age'].mean().round(1)\n",
    "    avg_table = avg.unstack()\n",
    "    print(avg_table)"
   ]
  },
  {
   "cell_type": "code",
   "execution_count": 153,
   "id": "24910bdf",
   "metadata": {
    "scrolled": true
   },
   "outputs": [
    {
     "name": "stdout",
     "output_type": "stream",
     "text": [
      "sex                    Female  Male\n",
      "status                             \n",
      "Divorced                 41.1  39.8\n",
      "Married-AF-spouse        22.0  32.3\n",
      "Married-civ-spouse       37.5  41.6\n",
      "Married-spouse-absent    37.5  39.4\n",
      "Never-married            26.2  26.3\n",
      "Separated                37.2  36.8\n",
      "Widowed                  57.0  58.8\n"
     ]
    }
   ],
   "source": [
    "solve()"
   ]
  },
  {
   "cell_type": "markdown",
   "id": "a8bdc13b",
   "metadata": {},
   "source": [
    "### Print the 'status', the 'race' and the value corresponding to the highest mean 'age' (rounded to one decimal place) by 'status' and 'race'."
   ]
  },
  {
   "cell_type": "code",
   "execution_count": 166,
   "id": "01a906ab",
   "metadata": {},
   "outputs": [],
   "source": [
    "def solve():\n",
    "\n",
    "    mean_age_by_status_race = df.groupby(['status', 'race'])['age'].mean()\n",
    "    highest_mean_age_index = mean_age_by_status_race.idxmax()\n",
    "\n",
    "    status, race = highest_mean_age_index\n",
    "    mean_age_value = mean_age_by_status_race.loc[highest_mean_age_index].round(1)\n",
    "\n",
    "    print(f\"{status}, {race}, {mean_age_value}\")\n"
   ]
  },
  {
   "cell_type": "code",
   "execution_count": 167,
   "id": "0d41eac6",
   "metadata": {},
   "outputs": [
    {
     "name": "stdout",
     "output_type": "stream",
     "text": [
      "Widowed, White, 57.6\n"
     ]
    }
   ],
   "source": [
    "solve()"
   ]
  },
  {
   "cell_type": "markdown",
   "id": "baf81fba",
   "metadata": {},
   "source": [
    "### Calculate the average salary for 'status': 'Never-married' and 'Married-civ-spouse' for 'race' 'White' (rounded to one decimal place)."
   ]
  },
  {
   "cell_type": "code",
   "execution_count": 168,
   "id": "a284d99c",
   "metadata": {},
   "outputs": [],
   "source": [
    "def solve():\n",
    "    filtered_df = df[(df['status'].isin(['Never-married', 'Married-civ-spouse'])) & (df['race'] == 'White')]\n",
    "    average_salary = filtered_df['salary'].mean().round(1)\n",
    "    print(average_salary)"
   ]
  },
  {
   "cell_type": "code",
   "execution_count": 169,
   "id": "62856602",
   "metadata": {},
   "outputs": [
    {
     "name": "stdout",
     "output_type": "stream",
     "text": [
      "67032.3\n"
     ]
    }
   ],
   "source": [
    "solve()"
   ]
  },
  {
   "cell_type": "markdown",
   "id": "139833f8",
   "metadata": {},
   "source": [
    "### Print the columns 'education' to 'salary' of the rows where the 'education' is greater than 15 and the 'salary' is less than 35000 or the 'education' is less than 5 and the 'salary' is greater than 100000."
   ]
  },
  {
   "cell_type": "code",
   "execution_count": 171,
   "id": "ec80e8f6",
   "metadata": {},
   "outputs": [],
   "source": [
    "def solve():\n",
    "    filtered_df = df[((df['education'] > 15) & (df['salary'] < 35000)) | ((df['education'] < 5) & (df['salary'] > 100000))]\n",
    "    \n",
    "    print(filtered_df.loc[:,'education':'salary'])"
   ]
  },
  {
   "cell_type": "code",
   "execution_count": 172,
   "id": "5b976520",
   "metadata": {},
   "outputs": [
    {
     "name": "stdout",
     "output_type": "stream",
     "text": [
      "      education                 status      occupation   relationship  \\\n",
      "541          16          Never-married  Prof-specialty      Own-child   \n",
      "574          16          Never-married  Prof-specialty  Not-in-family   \n",
      "2284         16          Never-married  Prof-specialty  Not-in-family   \n",
      "5072          4     Married-civ-spouse           Sales        Husband   \n",
      "6590          4  Married-spouse-absent    Adm-clerical  Not-in-family   \n",
      "6964         16     Married-civ-spouse  Prof-specialty        Husband   \n",
      "7220         16          Never-married    Adm-clerical      Own-child   \n",
      "8126         16          Never-married  Prof-specialty  Not-in-family   \n",
      "8795          4     Married-civ-spouse               ?        Husband   \n",
      "\n",
      "                    race     sex  weekhours        country  salary  \n",
      "541                White    Male         40  United-States   34500  \n",
      "574                White  Female         70  United-States   33500  \n",
      "2284               White    Male         40         Canada   34500  \n",
      "5072               White    Male         50  United-States  100833  \n",
      "6590               White    Male         20          Italy  114166  \n",
      "6964  Asian-Pac-Islander    Male         60          India   34500  \n",
      "7220               White  Female         40  United-States   33500  \n",
      "8126               White    Male         52  United-States   33500  \n",
      "8795               White    Male         40  United-States  100833  \n"
     ]
    }
   ],
   "source": [
    "solve()"
   ]
  },
  {
   "cell_type": "code",
   "execution_count": null,
   "id": "02adcd62",
   "metadata": {},
   "outputs": [],
   "source": []
  }
 ],
 "metadata": {
  "kernelspec": {
   "display_name": "Python 3 (ipykernel)",
   "language": "python",
   "name": "python3"
  },
  "language_info": {
   "codemirror_mode": {
    "name": "ipython",
    "version": 3
   },
   "file_extension": ".py",
   "mimetype": "text/x-python",
   "name": "python",
   "nbconvert_exporter": "python",
   "pygments_lexer": "ipython3",
   "version": "3.11.5"
  }
 },
 "nbformat": 4,
 "nbformat_minor": 5
}
