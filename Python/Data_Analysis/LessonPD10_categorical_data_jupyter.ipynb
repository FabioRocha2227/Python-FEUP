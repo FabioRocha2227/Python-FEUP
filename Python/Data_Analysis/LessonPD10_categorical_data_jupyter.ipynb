{
 "cells": [
  {
   "cell_type": "code",
   "execution_count": 1,
   "id": "0ac64c9a",
   "metadata": {},
   "outputs": [],
   "source": [
    "import numpy as np\n",
    "import pandas as pd"
   ]
  },
  {
   "cell_type": "markdown",
   "id": "c2106fa2",
   "metadata": {},
   "source": [
    "**Creating a series with categorical data using dtype**"
   ]
  },
  {
   "cell_type": "code",
   "execution_count": 2,
   "id": "6371ad4d",
   "metadata": {},
   "outputs": [
    {
     "data": {
      "text/plain": [
       "0    a\n",
       "1    b\n",
       "2    c\n",
       "3    a\n",
       "dtype: category\n",
       "Categories (3, object): ['a', 'b', 'c']"
      ]
     },
     "execution_count": 2,
     "metadata": {},
     "output_type": "execute_result"
    }
   ],
   "source": [
    "s = pd.Series([\"a\", \"b\", \"c\", \"a\"], dtype=\"category\")\n",
    "s"
   ]
  },
  {
   "cell_type": "markdown",
   "id": "23eb2a6b",
   "metadata": {},
   "source": [
    "**Converting a series to a category dtype**"
   ]
  },
  {
   "cell_type": "code",
   "execution_count": 3,
   "id": "74b5f051",
   "metadata": {},
   "outputs": [
    {
     "data": {
      "text/plain": [
       "A      object\n",
       "B    category\n",
       "dtype: object"
      ]
     },
     "execution_count": 3,
     "metadata": {},
     "output_type": "execute_result"
    }
   ],
   "source": [
    "df = pd.DataFrame({\"A\": [\"a\", \"b\", \"c\", \"a\"]})\n",
    "df[\"B\"] = df[\"A\"].astype(\"category\")\n",
    "df.dtypes"
   ]
  },
  {
   "cell_type": "markdown",
   "id": "0b9615c9",
   "metadata": {},
   "source": [
    "**Using function cut() to group into discrete bins**"
   ]
  },
  {
   "cell_type": "code",
   "execution_count": 4,
   "id": "e544dae0",
   "metadata": {},
   "outputs": [
    {
     "data": {
      "text/html": [
       "<div>\n",
       "<style scoped>\n",
       "    .dataframe tbody tr th:only-of-type {\n",
       "        vertical-align: middle;\n",
       "    }\n",
       "\n",
       "    .dataframe tbody tr th {\n",
       "        vertical-align: top;\n",
       "    }\n",
       "\n",
       "    .dataframe thead th {\n",
       "        text-align: right;\n",
       "    }\n",
       "</style>\n",
       "<table border=\"1\" class=\"dataframe\">\n",
       "  <thead>\n",
       "    <tr style=\"text-align: right;\">\n",
       "      <th></th>\n",
       "      <th>value</th>\n",
       "      <th>group</th>\n",
       "    </tr>\n",
       "  </thead>\n",
       "  <tbody>\n",
       "    <tr>\n",
       "      <th>0</th>\n",
       "      <td>52</td>\n",
       "      <td>50 - 59</td>\n",
       "    </tr>\n",
       "    <tr>\n",
       "      <th>1</th>\n",
       "      <td>27</td>\n",
       "      <td>20 - 29</td>\n",
       "    </tr>\n",
       "    <tr>\n",
       "      <th>2</th>\n",
       "      <td>77</td>\n",
       "      <td>70 - 79</td>\n",
       "    </tr>\n",
       "    <tr>\n",
       "      <th>3</th>\n",
       "      <td>60</td>\n",
       "      <td>60 - 69</td>\n",
       "    </tr>\n",
       "    <tr>\n",
       "      <th>4</th>\n",
       "      <td>82</td>\n",
       "      <td>80 - 89</td>\n",
       "    </tr>\n",
       "  </tbody>\n",
       "</table>\n",
       "</div>"
      ],
      "text/plain": [
       "   value    group\n",
       "0     52  50 - 59\n",
       "1     27  20 - 29\n",
       "2     77  70 - 79\n",
       "3     60  60 - 69\n",
       "4     82  80 - 89"
      ]
     },
     "execution_count": 4,
     "metadata": {},
     "output_type": "execute_result"
    }
   ],
   "source": [
    "df = pd.DataFrame({\"value\": np.random.randint(0, 100, 20)})\n",
    "labels = [f\"{i} - {i+9}\" for i in range(0, 100, 10)]\n",
    "df[\"group\"] = pd.cut(df.value, range(0, 105, 10), right=False, labels=labels)\n",
    "df.head(5)"
   ]
  },
  {
   "cell_type": "markdown",
   "id": "ab129049",
   "metadata": {},
   "source": [
    "**Passing a pandas.Categorical object to a Series**"
   ]
  },
  {
   "cell_type": "code",
   "execution_count": 5,
   "id": "0fff3148",
   "metadata": {},
   "outputs": [
    {
     "data": {
      "text/plain": [
       "0    NaN\n",
       "1      b\n",
       "2      c\n",
       "3      d\n",
       "dtype: category\n",
       "Categories (3, object): ['b', 'c', 'd']"
      ]
     },
     "execution_count": 5,
     "metadata": {},
     "output_type": "execute_result"
    }
   ],
   "source": [
    "raw_cat = pd.Categorical(\n",
    "    [\"a\",\"b\",\"c\",\"d\"], categories=[\"b\", \"c\", \"d\"], ordered=False)\n",
    "s = pd.Series(raw_cat)\n",
    "s"
   ]
  },
  {
   "cell_type": "code",
   "execution_count": null,
   "id": "c5f804b1",
   "metadata": {},
   "outputs": [],
   "source": []
  }
 ],
 "metadata": {
  "kernelspec": {
   "display_name": "Python 3 (ipykernel)",
   "language": "python",
   "name": "python3"
  },
  "language_info": {
   "codemirror_mode": {
    "name": "ipython",
    "version": 3
   },
   "file_extension": ".py",
   "mimetype": "text/x-python",
   "name": "python",
   "nbconvert_exporter": "python",
   "pygments_lexer": "ipython3",
   "version": "3.11.5"
  }
 },
 "nbformat": 4,
 "nbformat_minor": 5
}
